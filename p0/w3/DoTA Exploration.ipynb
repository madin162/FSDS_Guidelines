{
 "cells": [
  {
   "cell_type": "code",
   "execution_count": 36,
   "metadata": {},
   "outputs": [],
   "source": [
    "import pandas as pd\n",
    "import numpy as np\n",
    "\n",
    "import matplotlib.pyplot as plt\n",
    "%matplotlib inline\n",
    "\n",
    "import seaborn as sns"
   ]
  },
  {
   "cell_type": "code",
   "execution_count": null,
   "metadata": {},
   "outputs": [],
   "source": [
    "sns.boxplot\n",
    "np.corrcoef(x,y1)\n",
    "sns.distplot(dist_data)\n",
    "df.describe()"
   ]
  },
  {
   "cell_type": "code",
   "execution_count": 37,
   "metadata": {},
   "outputs": [],
   "source": [
    "df = pd.read_csv('data/train_features.csv')"
   ]
  },
  {
   "cell_type": "code",
   "execution_count": 93,
   "metadata": {},
   "outputs": [
    {
     "name": "stdout",
     "output_type": "stream",
     "text": [
      "Index(['match_id_hash', 'game_time', 'game_mode', 'lobby_type',\n",
      "       'objectives_len', 'chat_len', 'r1_hero_id', 'r1_kills', 'r1_deaths',\n",
      "       'r1_assists', 'r1_denies', 'r1_gold', 'r1_lh', 'r1_xp', 'r1_health',\n",
      "       'r1_max_health', 'r1_max_mana', 'r1_level', 'r1_x', 'r1_y', 'r1_stuns',\n",
      "       'r1_creeps_stacked', 'r1_camps_stacked', 'r1_rune_pickups',\n",
      "       'r1_firstblood_claimed', 'r1_teamfight_participation',\n",
      "       'r1_towers_killed', 'r1_roshans_killed', 'r1_obs_placed',\n",
      "       'r1_sen_placed', 'r2_hero_id', 'r2_kills', 'r2_deaths', 'r2_assists',\n",
      "       'r2_denies', 'r2_gold', 'r2_lh', 'r2_xp', 'r2_health', 'r2_max_health',\n",
      "       'r2_max_mana', 'r2_level', 'r2_x', 'r2_y', 'r2_stuns',\n",
      "       'r2_creeps_stacked', 'r2_camps_stacked', 'r2_rune_pickups',\n",
      "       'r2_firstblood_claimed', 'r2_teamfight_participation'],\n",
      "      dtype='object')\n"
     ]
    }
   ],
   "source": [
    "print(df.columns[0:50])"
   ]
  },
  {
   "cell_type": "code",
   "execution_count": 39,
   "metadata": {},
   "outputs": [
    {
     "data": {
      "text/html": [
       "<div>\n",
       "<style scoped>\n",
       "    .dataframe tbody tr th:only-of-type {\n",
       "        vertical-align: middle;\n",
       "    }\n",
       "\n",
       "    .dataframe tbody tr th {\n",
       "        vertical-align: top;\n",
       "    }\n",
       "\n",
       "    .dataframe thead th {\n",
       "        text-align: right;\n",
       "    }\n",
       "</style>\n",
       "<table border=\"1\" class=\"dataframe\">\n",
       "  <thead>\n",
       "    <tr style=\"text-align: right;\">\n",
       "      <th></th>\n",
       "      <th>match_id_hash</th>\n",
       "      <th>game_time</th>\n",
       "      <th>game_mode</th>\n",
       "      <th>lobby_type</th>\n",
       "      <th>objectives_len</th>\n",
       "      <th>chat_len</th>\n",
       "      <th>r1_hero_id</th>\n",
       "      <th>r1_kills</th>\n",
       "      <th>r1_deaths</th>\n",
       "      <th>r1_assists</th>\n",
       "      <th>...</th>\n",
       "      <th>d5_stuns</th>\n",
       "      <th>d5_creeps_stacked</th>\n",
       "      <th>d5_camps_stacked</th>\n",
       "      <th>d5_rune_pickups</th>\n",
       "      <th>d5_firstblood_claimed</th>\n",
       "      <th>d5_teamfight_participation</th>\n",
       "      <th>d5_towers_killed</th>\n",
       "      <th>d5_roshans_killed</th>\n",
       "      <th>d5_obs_placed</th>\n",
       "      <th>d5_sen_placed</th>\n",
       "    </tr>\n",
       "  </thead>\n",
       "  <tbody>\n",
       "    <tr>\n",
       "      <th>0</th>\n",
       "      <td>a400b8f29dece5f4d266f49f1ae2e98a</td>\n",
       "      <td>155</td>\n",
       "      <td>22</td>\n",
       "      <td>7</td>\n",
       "      <td>1</td>\n",
       "      <td>11</td>\n",
       "      <td>11</td>\n",
       "      <td>0</td>\n",
       "      <td>0</td>\n",
       "      <td>0</td>\n",
       "      <td>...</td>\n",
       "      <td>0.000000</td>\n",
       "      <td>0</td>\n",
       "      <td>0</td>\n",
       "      <td>0</td>\n",
       "      <td>0</td>\n",
       "      <td>0.0000</td>\n",
       "      <td>0</td>\n",
       "      <td>0</td>\n",
       "      <td>0</td>\n",
       "      <td>0</td>\n",
       "    </tr>\n",
       "    <tr>\n",
       "      <th>1</th>\n",
       "      <td>b9c57c450ce74a2af79c9ce96fac144d</td>\n",
       "      <td>658</td>\n",
       "      <td>4</td>\n",
       "      <td>0</td>\n",
       "      <td>3</td>\n",
       "      <td>10</td>\n",
       "      <td>15</td>\n",
       "      <td>7</td>\n",
       "      <td>2</td>\n",
       "      <td>0</td>\n",
       "      <td>...</td>\n",
       "      <td>0.000000</td>\n",
       "      <td>0</td>\n",
       "      <td>0</td>\n",
       "      <td>0</td>\n",
       "      <td>0</td>\n",
       "      <td>0.0000</td>\n",
       "      <td>0</td>\n",
       "      <td>0</td>\n",
       "      <td>0</td>\n",
       "      <td>0</td>\n",
       "    </tr>\n",
       "    <tr>\n",
       "      <th>2</th>\n",
       "      <td>6db558535151ea18ca70a6892197db41</td>\n",
       "      <td>21</td>\n",
       "      <td>23</td>\n",
       "      <td>0</td>\n",
       "      <td>0</td>\n",
       "      <td>0</td>\n",
       "      <td>101</td>\n",
       "      <td>0</td>\n",
       "      <td>0</td>\n",
       "      <td>0</td>\n",
       "      <td>...</td>\n",
       "      <td>0.000000</td>\n",
       "      <td>0</td>\n",
       "      <td>0</td>\n",
       "      <td>0</td>\n",
       "      <td>0</td>\n",
       "      <td>0.0000</td>\n",
       "      <td>0</td>\n",
       "      <td>0</td>\n",
       "      <td>0</td>\n",
       "      <td>0</td>\n",
       "    </tr>\n",
       "    <tr>\n",
       "      <th>3</th>\n",
       "      <td>46a0ddce8f7ed2a8d9bd5edcbb925682</td>\n",
       "      <td>576</td>\n",
       "      <td>22</td>\n",
       "      <td>7</td>\n",
       "      <td>1</td>\n",
       "      <td>4</td>\n",
       "      <td>14</td>\n",
       "      <td>1</td>\n",
       "      <td>0</td>\n",
       "      <td>3</td>\n",
       "      <td>...</td>\n",
       "      <td>8.664527</td>\n",
       "      <td>3</td>\n",
       "      <td>1</td>\n",
       "      <td>3</td>\n",
       "      <td>0</td>\n",
       "      <td>0.0000</td>\n",
       "      <td>0</td>\n",
       "      <td>0</td>\n",
       "      <td>2</td>\n",
       "      <td>0</td>\n",
       "    </tr>\n",
       "    <tr>\n",
       "      <th>4</th>\n",
       "      <td>b1b35ff97723d9b7ade1c9c3cf48f770</td>\n",
       "      <td>453</td>\n",
       "      <td>22</td>\n",
       "      <td>7</td>\n",
       "      <td>1</td>\n",
       "      <td>3</td>\n",
       "      <td>42</td>\n",
       "      <td>0</td>\n",
       "      <td>1</td>\n",
       "      <td>1</td>\n",
       "      <td>...</td>\n",
       "      <td>0.000000</td>\n",
       "      <td>2</td>\n",
       "      <td>1</td>\n",
       "      <td>2</td>\n",
       "      <td>0</td>\n",
       "      <td>0.2500</td>\n",
       "      <td>0</td>\n",
       "      <td>0</td>\n",
       "      <td>0</td>\n",
       "      <td>0</td>\n",
       "    </tr>\n",
       "    <tr>\n",
       "      <th>...</th>\n",
       "      <td>...</td>\n",
       "      <td>...</td>\n",
       "      <td>...</td>\n",
       "      <td>...</td>\n",
       "      <td>...</td>\n",
       "      <td>...</td>\n",
       "      <td>...</td>\n",
       "      <td>...</td>\n",
       "      <td>...</td>\n",
       "      <td>...</td>\n",
       "      <td>...</td>\n",
       "      <td>...</td>\n",
       "      <td>...</td>\n",
       "      <td>...</td>\n",
       "      <td>...</td>\n",
       "      <td>...</td>\n",
       "      <td>...</td>\n",
       "      <td>...</td>\n",
       "      <td>...</td>\n",
       "      <td>...</td>\n",
       "      <td>...</td>\n",
       "    </tr>\n",
       "    <tr>\n",
       "      <th>39670</th>\n",
       "      <td>defd0caeed6ea83d7d5fbdec013fe7d1</td>\n",
       "      <td>1783</td>\n",
       "      <td>22</td>\n",
       "      <td>0</td>\n",
       "      <td>8</td>\n",
       "      <td>23</td>\n",
       "      <td>3</td>\n",
       "      <td>1</td>\n",
       "      <td>9</td>\n",
       "      <td>9</td>\n",
       "      <td>...</td>\n",
       "      <td>26.493834</td>\n",
       "      <td>6</td>\n",
       "      <td>2</td>\n",
       "      <td>3</td>\n",
       "      <td>0</td>\n",
       "      <td>0.5625</td>\n",
       "      <td>0</td>\n",
       "      <td>0</td>\n",
       "      <td>7</td>\n",
       "      <td>2</td>\n",
       "    </tr>\n",
       "    <tr>\n",
       "      <th>39671</th>\n",
       "      <td>bc7a87ed5f9c2bca55f9f7a93da0b0c5</td>\n",
       "      <td>377</td>\n",
       "      <td>22</td>\n",
       "      <td>7</td>\n",
       "      <td>1</td>\n",
       "      <td>0</td>\n",
       "      <td>14</td>\n",
       "      <td>0</td>\n",
       "      <td>2</td>\n",
       "      <td>1</td>\n",
       "      <td>...</td>\n",
       "      <td>0.000000</td>\n",
       "      <td>0</td>\n",
       "      <td>0</td>\n",
       "      <td>1</td>\n",
       "      <td>0</td>\n",
       "      <td>0.0000</td>\n",
       "      <td>0</td>\n",
       "      <td>0</td>\n",
       "      <td>0</td>\n",
       "      <td>0</td>\n",
       "    </tr>\n",
       "    <tr>\n",
       "      <th>39672</th>\n",
       "      <td>e2ca68ac1a6847f4a37f6c9c8ee8695b</td>\n",
       "      <td>643</td>\n",
       "      <td>22</td>\n",
       "      <td>7</td>\n",
       "      <td>1</td>\n",
       "      <td>23</td>\n",
       "      <td>63</td>\n",
       "      <td>1</td>\n",
       "      <td>4</td>\n",
       "      <td>0</td>\n",
       "      <td>...</td>\n",
       "      <td>2.532715</td>\n",
       "      <td>0</td>\n",
       "      <td>0</td>\n",
       "      <td>3</td>\n",
       "      <td>1</td>\n",
       "      <td>0.5000</td>\n",
       "      <td>0</td>\n",
       "      <td>0</td>\n",
       "      <td>1</td>\n",
       "      <td>0</td>\n",
       "    </tr>\n",
       "    <tr>\n",
       "      <th>39673</th>\n",
       "      <td>47ad6454ede66c1c78fdaa9391dfc556</td>\n",
       "      <td>2405</td>\n",
       "      <td>22</td>\n",
       "      <td>7</td>\n",
       "      <td>12</td>\n",
       "      <td>4</td>\n",
       "      <td>22</td>\n",
       "      <td>3</td>\n",
       "      <td>8</td>\n",
       "      <td>14</td>\n",
       "      <td>...</td>\n",
       "      <td>17.583984</td>\n",
       "      <td>3</td>\n",
       "      <td>1</td>\n",
       "      <td>4</td>\n",
       "      <td>0</td>\n",
       "      <td>0.6250</td>\n",
       "      <td>0</td>\n",
       "      <td>0</td>\n",
       "      <td>0</td>\n",
       "      <td>0</td>\n",
       "    </tr>\n",
       "    <tr>\n",
       "      <th>39674</th>\n",
       "      <td>9928dfde50efcbdb2055da23dcdbc101</td>\n",
       "      <td>1775</td>\n",
       "      <td>22</td>\n",
       "      <td>0</td>\n",
       "      <td>10</td>\n",
       "      <td>13</td>\n",
       "      <td>32</td>\n",
       "      <td>3</td>\n",
       "      <td>4</td>\n",
       "      <td>15</td>\n",
       "      <td>...</td>\n",
       "      <td>8.331238</td>\n",
       "      <td>0</td>\n",
       "      <td>0</td>\n",
       "      <td>1</td>\n",
       "      <td>0</td>\n",
       "      <td>0.5500</td>\n",
       "      <td>1</td>\n",
       "      <td>0</td>\n",
       "      <td>0</td>\n",
       "      <td>0</td>\n",
       "    </tr>\n",
       "  </tbody>\n",
       "</table>\n",
       "<p>39675 rows × 246 columns</p>\n",
       "</div>"
      ],
      "text/plain": [
       "                          match_id_hash  game_time  game_mode  lobby_type  \\\n",
       "0      a400b8f29dece5f4d266f49f1ae2e98a        155         22           7   \n",
       "1      b9c57c450ce74a2af79c9ce96fac144d        658          4           0   \n",
       "2      6db558535151ea18ca70a6892197db41         21         23           0   \n",
       "3      46a0ddce8f7ed2a8d9bd5edcbb925682        576         22           7   \n",
       "4      b1b35ff97723d9b7ade1c9c3cf48f770        453         22           7   \n",
       "...                                 ...        ...        ...         ...   \n",
       "39670  defd0caeed6ea83d7d5fbdec013fe7d1       1783         22           0   \n",
       "39671  bc7a87ed5f9c2bca55f9f7a93da0b0c5        377         22           7   \n",
       "39672  e2ca68ac1a6847f4a37f6c9c8ee8695b        643         22           7   \n",
       "39673  47ad6454ede66c1c78fdaa9391dfc556       2405         22           7   \n",
       "39674  9928dfde50efcbdb2055da23dcdbc101       1775         22           0   \n",
       "\n",
       "       objectives_len  chat_len  r1_hero_id  r1_kills  r1_deaths  r1_assists  \\\n",
       "0                   1        11          11         0          0           0   \n",
       "1                   3        10          15         7          2           0   \n",
       "2                   0         0         101         0          0           0   \n",
       "3                   1         4          14         1          0           3   \n",
       "4                   1         3          42         0          1           1   \n",
       "...               ...       ...         ...       ...        ...         ...   \n",
       "39670               8        23           3         1          9           9   \n",
       "39671               1         0          14         0          2           1   \n",
       "39672               1        23          63         1          4           0   \n",
       "39673              12         4          22         3          8          14   \n",
       "39674              10        13          32         3          4          15   \n",
       "\n",
       "       ...   d5_stuns  d5_creeps_stacked  d5_camps_stacked  d5_rune_pickups  \\\n",
       "0      ...   0.000000                  0                 0                0   \n",
       "1      ...   0.000000                  0                 0                0   \n",
       "2      ...   0.000000                  0                 0                0   \n",
       "3      ...   8.664527                  3                 1                3   \n",
       "4      ...   0.000000                  2                 1                2   \n",
       "...    ...        ...                ...               ...              ...   \n",
       "39670  ...  26.493834                  6                 2                3   \n",
       "39671  ...   0.000000                  0                 0                1   \n",
       "39672  ...   2.532715                  0                 0                3   \n",
       "39673  ...  17.583984                  3                 1                4   \n",
       "39674  ...   8.331238                  0                 0                1   \n",
       "\n",
       "       d5_firstblood_claimed  d5_teamfight_participation  d5_towers_killed  \\\n",
       "0                          0                      0.0000                 0   \n",
       "1                          0                      0.0000                 0   \n",
       "2                          0                      0.0000                 0   \n",
       "3                          0                      0.0000                 0   \n",
       "4                          0                      0.2500                 0   \n",
       "...                      ...                         ...               ...   \n",
       "39670                      0                      0.5625                 0   \n",
       "39671                      0                      0.0000                 0   \n",
       "39672                      1                      0.5000                 0   \n",
       "39673                      0                      0.6250                 0   \n",
       "39674                      0                      0.5500                 1   \n",
       "\n",
       "       d5_roshans_killed  d5_obs_placed  d5_sen_placed  \n",
       "0                      0              0              0  \n",
       "1                      0              0              0  \n",
       "2                      0              0              0  \n",
       "3                      0              2              0  \n",
       "4                      0              0              0  \n",
       "...                  ...            ...            ...  \n",
       "39670                  0              7              2  \n",
       "39671                  0              0              0  \n",
       "39672                  0              1              0  \n",
       "39673                  0              0              0  \n",
       "39674                  0              0              0  \n",
       "\n",
       "[39675 rows x 246 columns]"
      ]
     },
     "execution_count": 39,
     "metadata": {},
     "output_type": "execute_result"
    }
   ],
   "source": [
    "df"
   ]
  },
  {
   "cell_type": "code",
   "execution_count": 89,
   "metadata": {},
   "outputs": [
    {
     "data": {
      "text/plain": [
       "<AxesSubplot:xlabel='r1_deaths', ylabel='Density'>"
      ]
     },
     "execution_count": 89,
     "metadata": {},
     "output_type": "execute_result"
    },
    {
     "data": {
      "image/png": "[encoded data removed]",
      "text/plain": [
       "<Figure size 432x288 with 1 Axes>"
      ]
     },
     "metadata": {
      "needs_background": "light"
     },
     "output_type": "display_data"
    }
   ],
   "source": [
    "col1=df['r1_deaths']\n",
    "sns.kdeplot(col1)"
   ]
  },
  {
   "cell_type": "code",
   "execution_count": 91,
   "metadata": {},
   "outputs": [
    {
     "data": {
      "text/plain": [
       "<AxesSubplot:xlabel='r1_deaths', ylabel='Density'>"
      ]
     },
     "execution_count": 91,
     "metadata": {},
     "output_type": "execute_result"
    },
    {
     "data": {
      "image/png": "[encoded data removed]",
      "text/plain": [
       "<Figure size 432x288 with 1 Axes>"
      ]
     },
     "metadata": {
      "needs_background": "light"
     },
     "output_type": "display_data"
    }
   ],
   "source": [
    "col2=df['r1_gold']\n",
    "sns.kdeplot(col1)"
   ]
  },
  {
   "cell_type": "code",
   "execution_count": 59,
   "metadata": {},
   "outputs": [
    {
     "data": {
      "text/html": [
       "<div>\n",
       "<style scoped>\n",
       "    .dataframe tbody tr th:only-of-type {\n",
       "        vertical-align: middle;\n",
       "    }\n",
       "\n",
       "    .dataframe tbody tr th {\n",
       "        vertical-align: top;\n",
       "    }\n",
       "\n",
       "    .dataframe thead th {\n",
       "        text-align: right;\n",
       "    }\n",
       "</style>\n",
       "<table border=\"1\" class=\"dataframe\">\n",
       "  <thead>\n",
       "    <tr style=\"text-align: right;\">\n",
       "      <th></th>\n",
       "      <th>r1_gold</th>\n",
       "      <th>r1_xp</th>\n",
       "      <th>r1_kills</th>\n",
       "      <th>r1_deaths</th>\n",
       "    </tr>\n",
       "  </thead>\n",
       "  <tbody>\n",
       "    <tr>\n",
       "      <th>r1_gold</th>\n",
       "      <td>1.000000</td>\n",
       "      <td>0.952656</td>\n",
       "      <td>0.758894</td>\n",
       "      <td>0.561036</td>\n",
       "    </tr>\n",
       "    <tr>\n",
       "      <th>r1_xp</th>\n",
       "      <td>0.952656</td>\n",
       "      <td>1.000000</td>\n",
       "      <td>0.729435</td>\n",
       "      <td>0.592440</td>\n",
       "    </tr>\n",
       "    <tr>\n",
       "      <th>r1_kills</th>\n",
       "      <td>0.758894</td>\n",
       "      <td>0.729435</td>\n",
       "      <td>1.000000</td>\n",
       "      <td>0.400849</td>\n",
       "    </tr>\n",
       "    <tr>\n",
       "      <th>r1_deaths</th>\n",
       "      <td>0.561036</td>\n",
       "      <td>0.592440</td>\n",
       "      <td>0.400849</td>\n",
       "      <td>1.000000</td>\n",
       "    </tr>\n",
       "  </tbody>\n",
       "</table>\n",
       "</div>"
      ],
      "text/plain": [
       "            r1_gold     r1_xp  r1_kills  r1_deaths\n",
       "r1_gold    1.000000  0.952656  0.758894   0.561036\n",
       "r1_xp      0.952656  1.000000  0.729435   0.592440\n",
       "r1_kills   0.758894  0.729435  1.000000   0.400849\n",
       "r1_deaths  0.561036  0.592440  0.400849   1.000000"
      ]
     },
     "execution_count": 59,
     "metadata": {},
     "output_type": "execute_result"
    }
   ],
   "source": [
    "df[['r1_gold','r1_xp','r1_kills','r1_deaths']].corr()"
   ]
  },
  {
   "cell_type": "code",
   "execution_count": 96,
   "metadata": {},
   "outputs": [
    {
     "data": {
      "text/html": [
       "<div>\n",
       "<style scoped>\n",
       "    .dataframe tbody tr th:only-of-type {\n",
       "        vertical-align: middle;\n",
       "    }\n",
       "\n",
       "    .dataframe tbody tr th {\n",
       "        vertical-align: top;\n",
       "    }\n",
       "\n",
       "    .dataframe thead th {\n",
       "        text-align: right;\n",
       "    }\n",
       "</style>\n",
       "<table border=\"1\" class=\"dataframe\">\n",
       "  <thead>\n",
       "    <tr style=\"text-align: right;\">\n",
       "      <th></th>\n",
       "      <th>r1_a_k_ratio</th>\n",
       "      <th>r1_assists</th>\n",
       "      <th>r1_xp</th>\n",
       "      <th>r1_kills</th>\n",
       "      <th>r1_deaths</th>\n",
       "      <th>r1_obs_placed</th>\n",
       "    </tr>\n",
       "  </thead>\n",
       "  <tbody>\n",
       "    <tr>\n",
       "      <th>r1_a_k_ratio</th>\n",
       "      <td>1.000000</td>\n",
       "      <td>0.528449</td>\n",
       "      <td>0.089048</td>\n",
       "      <td>-0.277716</td>\n",
       "      <td>0.280358</td>\n",
       "      <td>0.356277</td>\n",
       "    </tr>\n",
       "    <tr>\n",
       "      <th>r1_assists</th>\n",
       "      <td>0.528449</td>\n",
       "      <td>1.000000</td>\n",
       "      <td>0.684261</td>\n",
       "      <td>0.499452</td>\n",
       "      <td>0.614884</td>\n",
       "      <td>0.405076</td>\n",
       "    </tr>\n",
       "    <tr>\n",
       "      <th>r1_xp</th>\n",
       "      <td>0.089048</td>\n",
       "      <td>0.684261</td>\n",
       "      <td>1.000000</td>\n",
       "      <td>0.729435</td>\n",
       "      <td>0.592440</td>\n",
       "      <td>0.142625</td>\n",
       "    </tr>\n",
       "    <tr>\n",
       "      <th>r1_kills</th>\n",
       "      <td>-0.277716</td>\n",
       "      <td>0.499452</td>\n",
       "      <td>0.729435</td>\n",
       "      <td>1.000000</td>\n",
       "      <td>0.400849</td>\n",
       "      <td>0.041918</td>\n",
       "    </tr>\n",
       "    <tr>\n",
       "      <th>r1_deaths</th>\n",
       "      <td>0.280358</td>\n",
       "      <td>0.614884</td>\n",
       "      <td>0.592440</td>\n",
       "      <td>0.400849</td>\n",
       "      <td>1.000000</td>\n",
       "      <td>0.314767</td>\n",
       "    </tr>\n",
       "    <tr>\n",
       "      <th>r1_obs_placed</th>\n",
       "      <td>0.356277</td>\n",
       "      <td>0.405076</td>\n",
       "      <td>0.142625</td>\n",
       "      <td>0.041918</td>\n",
       "      <td>0.314767</td>\n",
       "      <td>1.000000</td>\n",
       "    </tr>\n",
       "  </tbody>\n",
       "</table>\n",
       "</div>"
      ],
      "text/plain": [
       "               r1_a_k_ratio  r1_assists     r1_xp  r1_kills  r1_deaths  \\\n",
       "r1_a_k_ratio       1.000000    0.528449  0.089048 -0.277716   0.280358   \n",
       "r1_assists         0.528449    1.000000  0.684261  0.499452   0.614884   \n",
       "r1_xp              0.089048    0.684261  1.000000  0.729435   0.592440   \n",
       "r1_kills          -0.277716    0.499452  0.729435  1.000000   0.400849   \n",
       "r1_deaths          0.280358    0.614884  0.592440  0.400849   1.000000   \n",
       "r1_obs_placed      0.356277    0.405076  0.142625  0.041918   0.314767   \n",
       "\n",
       "               r1_obs_placed  \n",
       "r1_a_k_ratio        0.356277  \n",
       "r1_assists          0.405076  \n",
       "r1_xp               0.142625  \n",
       "r1_kills            0.041918  \n",
       "r1_deaths           0.314767  \n",
       "r1_obs_placed       1.000000  "
      ]
     },
     "execution_count": 96,
     "metadata": {},
     "output_type": "execute_result"
    }
   ],
   "source": [
    "df2=df.copy()\n",
    "df2['r1_a_k_ratio']=df2['r1_assists']/df2['r1_kills']\n",
    "df2[['r1_a_k_ratio','r1_assists','r1_xp','r1_kills','r1_deaths','r1_obs_placed']].corr()"
   ]
  },
  {
   "cell_type": "code",
   "execution_count": 97,
   "metadata": {},
   "outputs": [
    {
     "data": {
      "text/plain": [
       "<matplotlib.collections.PathCollection at 0x1c597c1c220>"
      ]
     },
     "execution_count": 97,
     "metadata": {},
     "output_type": "execute_result"
    },
    {
     "data": {
      "image/png": "[encoded data removed]",
      "text/plain": [
       "<Figure size 432x288 with 1 Axes>"
      ]
     },
     "metadata": {
      "needs_background": "light"
     },
     "output_type": "display_data"
    }
   ],
   "source": [
    "plt.scatter(df2['r1_a_k_ratio'],df2['r1_kills'])"
   ]
  },
  {
   "cell_type": "code",
   "execution_count": 90,
   "metadata": {},
   "outputs": [
    {
     "data": {
      "text/plain": [
       "<AxesSubplot:>"
      ]
     },
     "execution_count": 90,
     "metadata": {},
     "output_type": "execute_result"
    },
    {
     "data": {
      "image/png": "[encoded data removed]",
      "text/plain": [
       "<Figure size 432x288 with 2 Axes>"
      ]
     },
     "metadata": {
      "needs_background": "light"
     },
     "output_type": "display_data"
    }
   ],
   "source": [
    "sns.heatmap(df[['r1_gold','r1_xp','r1_kills','r1_deaths']].corr())"
   ]
  },
  {
   "cell_type": "code",
   "execution_count": 64,
   "metadata": {},
   "outputs": [
    {
     "data": {
      "text/html": [
       "<div>\n",
       "<style scoped>\n",
       "    .dataframe tbody tr th:only-of-type {\n",
       "        vertical-align: middle;\n",
       "    }\n",
       "\n",
       "    .dataframe tbody tr th {\n",
       "        vertical-align: top;\n",
       "    }\n",
       "\n",
       "    .dataframe thead th {\n",
       "        text-align: right;\n",
       "    }\n",
       "</style>\n",
       "<table border=\"1\" class=\"dataframe\">\n",
       "  <thead>\n",
       "    <tr style=\"text-align: right;\">\n",
       "      <th></th>\n",
       "      <th>r1_gold</th>\n",
       "      <th>r1_xp</th>\n",
       "      <th>r1_kills</th>\n",
       "      <th>r1_deaths</th>\n",
       "    </tr>\n",
       "  </thead>\n",
       "  <tbody>\n",
       "    <tr>\n",
       "      <th>count</th>\n",
       "      <td>39675.000000</td>\n",
       "      <td>39675.000000</td>\n",
       "      <td>39675.000000</td>\n",
       "      <td>39675.000000</td>\n",
       "    </tr>\n",
       "    <tr>\n",
       "      <th>mean</th>\n",
       "      <td>7193.676673</td>\n",
       "      <td>8292.432313</td>\n",
       "      <td>3.147876</td>\n",
       "      <td>3.268809</td>\n",
       "    </tr>\n",
       "    <tr>\n",
       "      <th>std</th>\n",
       "      <td>6507.500421</td>\n",
       "      <td>7483.974613</td>\n",
       "      <td>3.724282</td>\n",
       "      <td>3.283323</td>\n",
       "    </tr>\n",
       "    <tr>\n",
       "      <th>min</th>\n",
       "      <td>2.000000</td>\n",
       "      <td>0.000000</td>\n",
       "      <td>0.000000</td>\n",
       "      <td>0.000000</td>\n",
       "    </tr>\n",
       "    <tr>\n",
       "      <th>25%</th>\n",
       "      <td>2201.000000</td>\n",
       "      <td>2289.500000</td>\n",
       "      <td>0.000000</td>\n",
       "      <td>1.000000</td>\n",
       "    </tr>\n",
       "    <tr>\n",
       "      <th>50%</th>\n",
       "      <td>5422.000000</td>\n",
       "      <td>6005.000000</td>\n",
       "      <td>2.000000</td>\n",
       "      <td>2.000000</td>\n",
       "    </tr>\n",
       "    <tr>\n",
       "      <th>75%</th>\n",
       "      <td>10368.500000</td>\n",
       "      <td>12370.000000</td>\n",
       "      <td>5.000000</td>\n",
       "      <td>5.000000</td>\n",
       "    </tr>\n",
       "    <tr>\n",
       "      <th>max</th>\n",
       "      <td>58437.000000</td>\n",
       "      <td>31004.000000</td>\n",
       "      <td>32.000000</td>\n",
       "      <td>27.000000</td>\n",
       "    </tr>\n",
       "  </tbody>\n",
       "</table>\n",
       "</div>"
      ],
      "text/plain": [
       "            r1_gold         r1_xp      r1_kills     r1_deaths\n",
       "count  39675.000000  39675.000000  39675.000000  39675.000000\n",
       "mean    7193.676673   8292.432313      3.147876      3.268809\n",
       "std     6507.500421   7483.974613      3.724282      3.283323\n",
       "min        2.000000      0.000000      0.000000      0.000000\n",
       "25%     2201.000000   2289.500000      0.000000      1.000000\n",
       "50%     5422.000000   6005.000000      2.000000      2.000000\n",
       "75%    10368.500000  12370.000000      5.000000      5.000000\n",
       "max    58437.000000  31004.000000     32.000000     27.000000"
      ]
     },
     "execution_count": 64,
     "metadata": {},
     "output_type": "execute_result"
    }
   ],
   "source": [
    "df[['r1_gold','r1_xp','r1_kills','r1_deaths']].describe()"
   ]
  },
  {
   "cell_type": "code",
   "execution_count": null,
   "metadata": {},
   "outputs": [],
   "source": [
    "df['']"
   ]
  },
  {
   "cell_type": "code",
   "execution_count": 78,
   "metadata": {},
   "outputs": [
    {
     "data": {
      "text/plain": [
       "r1_gold      5422.0\n",
       "r1_xp        6005.0\n",
       "r1_kills        2.0\n",
       "r1_deaths       2.0\n",
       "dtype: float64"
      ]
     },
     "execution_count": 78,
     "metadata": {},
     "output_type": "execute_result"
    }
   ],
   "source": [
    "df[['r1_gold','r1_xp','r1_kills','r1_deaths']].median()"
   ]
  },
  {
   "cell_type": "code",
   "execution_count": 66,
   "metadata": {},
   "outputs": [
    {
     "data": {
      "text/html": [
       "<div>\n",
       "<style scoped>\n",
       "    .dataframe tbody tr th:only-of-type {\n",
       "        vertical-align: middle;\n",
       "    }\n",
       "\n",
       "    .dataframe tbody tr th {\n",
       "        vertical-align: top;\n",
       "    }\n",
       "\n",
       "    .dataframe thead th {\n",
       "        text-align: right;\n",
       "    }\n",
       "</style>\n",
       "<table border=\"1\" class=\"dataframe\">\n",
       "  <thead>\n",
       "    <tr style=\"text-align: right;\">\n",
       "      <th></th>\n",
       "      <th>match_id_hash</th>\n",
       "      <th>game_time</th>\n",
       "      <th>game_mode</th>\n",
       "      <th>lobby_type</th>\n",
       "      <th>objectives_len</th>\n",
       "      <th>chat_len</th>\n",
       "      <th>r1_hero_id</th>\n",
       "      <th>r1_kills</th>\n",
       "      <th>r1_deaths</th>\n",
       "      <th>r1_assists</th>\n",
       "      <th>...</th>\n",
       "      <th>d5_stuns</th>\n",
       "      <th>d5_creeps_stacked</th>\n",
       "      <th>d5_camps_stacked</th>\n",
       "      <th>d5_rune_pickups</th>\n",
       "      <th>d5_firstblood_claimed</th>\n",
       "      <th>d5_teamfight_participation</th>\n",
       "      <th>d5_towers_killed</th>\n",
       "      <th>d5_roshans_killed</th>\n",
       "      <th>d5_obs_placed</th>\n",
       "      <th>d5_sen_placed</th>\n",
       "    </tr>\n",
       "  </thead>\n",
       "  <tbody>\n",
       "    <tr>\n",
       "      <th>0</th>\n",
       "      <td>a400b8f29dece5f4d266f49f1ae2e98a</td>\n",
       "      <td>155</td>\n",
       "      <td>22</td>\n",
       "      <td>7</td>\n",
       "      <td>1</td>\n",
       "      <td>11</td>\n",
       "      <td>11</td>\n",
       "      <td>0</td>\n",
       "      <td>0</td>\n",
       "      <td>0</td>\n",
       "      <td>...</td>\n",
       "      <td>0.000000</td>\n",
       "      <td>0</td>\n",
       "      <td>0</td>\n",
       "      <td>0</td>\n",
       "      <td>0</td>\n",
       "      <td>0.0000</td>\n",
       "      <td>0</td>\n",
       "      <td>0</td>\n",
       "      <td>0</td>\n",
       "      <td>0</td>\n",
       "    </tr>\n",
       "    <tr>\n",
       "      <th>1</th>\n",
       "      <td>b9c57c450ce74a2af79c9ce96fac144d</td>\n",
       "      <td>658</td>\n",
       "      <td>4</td>\n",
       "      <td>0</td>\n",
       "      <td>3</td>\n",
       "      <td>10</td>\n",
       "      <td>15</td>\n",
       "      <td>7</td>\n",
       "      <td>2</td>\n",
       "      <td>0</td>\n",
       "      <td>...</td>\n",
       "      <td>0.000000</td>\n",
       "      <td>0</td>\n",
       "      <td>0</td>\n",
       "      <td>0</td>\n",
       "      <td>0</td>\n",
       "      <td>0.0000</td>\n",
       "      <td>0</td>\n",
       "      <td>0</td>\n",
       "      <td>0</td>\n",
       "      <td>0</td>\n",
       "    </tr>\n",
       "    <tr>\n",
       "      <th>2</th>\n",
       "      <td>6db558535151ea18ca70a6892197db41</td>\n",
       "      <td>21</td>\n",
       "      <td>23</td>\n",
       "      <td>0</td>\n",
       "      <td>0</td>\n",
       "      <td>0</td>\n",
       "      <td>101</td>\n",
       "      <td>0</td>\n",
       "      <td>0</td>\n",
       "      <td>0</td>\n",
       "      <td>...</td>\n",
       "      <td>0.000000</td>\n",
       "      <td>0</td>\n",
       "      <td>0</td>\n",
       "      <td>0</td>\n",
       "      <td>0</td>\n",
       "      <td>0.0000</td>\n",
       "      <td>0</td>\n",
       "      <td>0</td>\n",
       "      <td>0</td>\n",
       "      <td>0</td>\n",
       "    </tr>\n",
       "    <tr>\n",
       "      <th>3</th>\n",
       "      <td>46a0ddce8f7ed2a8d9bd5edcbb925682</td>\n",
       "      <td>576</td>\n",
       "      <td>22</td>\n",
       "      <td>7</td>\n",
       "      <td>1</td>\n",
       "      <td>4</td>\n",
       "      <td>14</td>\n",
       "      <td>1</td>\n",
       "      <td>0</td>\n",
       "      <td>3</td>\n",
       "      <td>...</td>\n",
       "      <td>8.664527</td>\n",
       "      <td>3</td>\n",
       "      <td>1</td>\n",
       "      <td>3</td>\n",
       "      <td>0</td>\n",
       "      <td>0.0000</td>\n",
       "      <td>0</td>\n",
       "      <td>0</td>\n",
       "      <td>2</td>\n",
       "      <td>0</td>\n",
       "    </tr>\n",
       "    <tr>\n",
       "      <th>4</th>\n",
       "      <td>b1b35ff97723d9b7ade1c9c3cf48f770</td>\n",
       "      <td>453</td>\n",
       "      <td>22</td>\n",
       "      <td>7</td>\n",
       "      <td>1</td>\n",
       "      <td>3</td>\n",
       "      <td>42</td>\n",
       "      <td>0</td>\n",
       "      <td>1</td>\n",
       "      <td>1</td>\n",
       "      <td>...</td>\n",
       "      <td>0.000000</td>\n",
       "      <td>2</td>\n",
       "      <td>1</td>\n",
       "      <td>2</td>\n",
       "      <td>0</td>\n",
       "      <td>0.2500</td>\n",
       "      <td>0</td>\n",
       "      <td>0</td>\n",
       "      <td>0</td>\n",
       "      <td>0</td>\n",
       "    </tr>\n",
       "    <tr>\n",
       "      <th>...</th>\n",
       "      <td>...</td>\n",
       "      <td>...</td>\n",
       "      <td>...</td>\n",
       "      <td>...</td>\n",
       "      <td>...</td>\n",
       "      <td>...</td>\n",
       "      <td>...</td>\n",
       "      <td>...</td>\n",
       "      <td>...</td>\n",
       "      <td>...</td>\n",
       "      <td>...</td>\n",
       "      <td>...</td>\n",
       "      <td>...</td>\n",
       "      <td>...</td>\n",
       "      <td>...</td>\n",
       "      <td>...</td>\n",
       "      <td>...</td>\n",
       "      <td>...</td>\n",
       "      <td>...</td>\n",
       "      <td>...</td>\n",
       "      <td>...</td>\n",
       "    </tr>\n",
       "    <tr>\n",
       "      <th>39670</th>\n",
       "      <td>defd0caeed6ea83d7d5fbdec013fe7d1</td>\n",
       "      <td>1783</td>\n",
       "      <td>22</td>\n",
       "      <td>0</td>\n",
       "      <td>8</td>\n",
       "      <td>23</td>\n",
       "      <td>3</td>\n",
       "      <td>1</td>\n",
       "      <td>9</td>\n",
       "      <td>9</td>\n",
       "      <td>...</td>\n",
       "      <td>26.493834</td>\n",
       "      <td>6</td>\n",
       "      <td>2</td>\n",
       "      <td>3</td>\n",
       "      <td>0</td>\n",
       "      <td>0.5625</td>\n",
       "      <td>0</td>\n",
       "      <td>0</td>\n",
       "      <td>7</td>\n",
       "      <td>2</td>\n",
       "    </tr>\n",
       "    <tr>\n",
       "      <th>39671</th>\n",
       "      <td>bc7a87ed5f9c2bca55f9f7a93da0b0c5</td>\n",
       "      <td>377</td>\n",
       "      <td>22</td>\n",
       "      <td>7</td>\n",
       "      <td>1</td>\n",
       "      <td>0</td>\n",
       "      <td>14</td>\n",
       "      <td>0</td>\n",
       "      <td>2</td>\n",
       "      <td>1</td>\n",
       "      <td>...</td>\n",
       "      <td>0.000000</td>\n",
       "      <td>0</td>\n",
       "      <td>0</td>\n",
       "      <td>1</td>\n",
       "      <td>0</td>\n",
       "      <td>0.0000</td>\n",
       "      <td>0</td>\n",
       "      <td>0</td>\n",
       "      <td>0</td>\n",
       "      <td>0</td>\n",
       "    </tr>\n",
       "    <tr>\n",
       "      <th>39672</th>\n",
       "      <td>e2ca68ac1a6847f4a37f6c9c8ee8695b</td>\n",
       "      <td>643</td>\n",
       "      <td>22</td>\n",
       "      <td>7</td>\n",
       "      <td>1</td>\n",
       "      <td>23</td>\n",
       "      <td>63</td>\n",
       "      <td>1</td>\n",
       "      <td>4</td>\n",
       "      <td>0</td>\n",
       "      <td>...</td>\n",
       "      <td>2.532715</td>\n",
       "      <td>0</td>\n",
       "      <td>0</td>\n",
       "      <td>3</td>\n",
       "      <td>1</td>\n",
       "      <td>0.5000</td>\n",
       "      <td>0</td>\n",
       "      <td>0</td>\n",
       "      <td>1</td>\n",
       "      <td>0</td>\n",
       "    </tr>\n",
       "    <tr>\n",
       "      <th>39673</th>\n",
       "      <td>47ad6454ede66c1c78fdaa9391dfc556</td>\n",
       "      <td>2405</td>\n",
       "      <td>22</td>\n",
       "      <td>7</td>\n",
       "      <td>12</td>\n",
       "      <td>4</td>\n",
       "      <td>22</td>\n",
       "      <td>3</td>\n",
       "      <td>8</td>\n",
       "      <td>14</td>\n",
       "      <td>...</td>\n",
       "      <td>17.583984</td>\n",
       "      <td>3</td>\n",
       "      <td>1</td>\n",
       "      <td>4</td>\n",
       "      <td>0</td>\n",
       "      <td>0.6250</td>\n",
       "      <td>0</td>\n",
       "      <td>0</td>\n",
       "      <td>0</td>\n",
       "      <td>0</td>\n",
       "    </tr>\n",
       "    <tr>\n",
       "      <th>39674</th>\n",
       "      <td>9928dfde50efcbdb2055da23dcdbc101</td>\n",
       "      <td>1775</td>\n",
       "      <td>22</td>\n",
       "      <td>0</td>\n",
       "      <td>10</td>\n",
       "      <td>13</td>\n",
       "      <td>32</td>\n",
       "      <td>3</td>\n",
       "      <td>4</td>\n",
       "      <td>15</td>\n",
       "      <td>...</td>\n",
       "      <td>8.331238</td>\n",
       "      <td>0</td>\n",
       "      <td>0</td>\n",
       "      <td>1</td>\n",
       "      <td>0</td>\n",
       "      <td>0.5500</td>\n",
       "      <td>1</td>\n",
       "      <td>0</td>\n",
       "      <td>0</td>\n",
       "      <td>0</td>\n",
       "    </tr>\n",
       "  </tbody>\n",
       "</table>\n",
       "<p>39671 rows × 246 columns</p>\n",
       "</div>"
      ],
      "text/plain": [
       "                          match_id_hash  game_time  game_mode  lobby_type  \\\n",
       "0      a400b8f29dece5f4d266f49f1ae2e98a        155         22           7   \n",
       "1      b9c57c450ce74a2af79c9ce96fac144d        658          4           0   \n",
       "2      6db558535151ea18ca70a6892197db41         21         23           0   \n",
       "3      46a0ddce8f7ed2a8d9bd5edcbb925682        576         22           7   \n",
       "4      b1b35ff97723d9b7ade1c9c3cf48f770        453         22           7   \n",
       "...                                 ...        ...        ...         ...   \n",
       "39670  defd0caeed6ea83d7d5fbdec013fe7d1       1783         22           0   \n",
       "39671  bc7a87ed5f9c2bca55f9f7a93da0b0c5        377         22           7   \n",
       "39672  e2ca68ac1a6847f4a37f6c9c8ee8695b        643         22           7   \n",
       "39673  47ad6454ede66c1c78fdaa9391dfc556       2405         22           7   \n",
       "39674  9928dfde50efcbdb2055da23dcdbc101       1775         22           0   \n",
       "\n",
       "       objectives_len  chat_len  r1_hero_id  r1_kills  r1_deaths  r1_assists  \\\n",
       "0                   1        11          11         0          0           0   \n",
       "1                   3        10          15         7          2           0   \n",
       "2                   0         0         101         0          0           0   \n",
       "3                   1         4          14         1          0           3   \n",
       "4                   1         3          42         0          1           1   \n",
       "...               ...       ...         ...       ...        ...         ...   \n",
       "39670               8        23           3         1          9           9   \n",
       "39671               1         0          14         0          2           1   \n",
       "39672               1        23          63         1          4           0   \n",
       "39673              12         4          22         3          8          14   \n",
       "39674              10        13          32         3          4          15   \n",
       "\n",
       "       ...   d5_stuns  d5_creeps_stacked  d5_camps_stacked  d5_rune_pickups  \\\n",
       "0      ...   0.000000                  0                 0                0   \n",
       "1      ...   0.000000                  0                 0                0   \n",
       "2      ...   0.000000                  0                 0                0   \n",
       "3      ...   8.664527                  3                 1                3   \n",
       "4      ...   0.000000                  2                 1                2   \n",
       "...    ...        ...                ...               ...              ...   \n",
       "39670  ...  26.493834                  6                 2                3   \n",
       "39671  ...   0.000000                  0                 0                1   \n",
       "39672  ...   2.532715                  0                 0                3   \n",
       "39673  ...  17.583984                  3                 1                4   \n",
       "39674  ...   8.331238                  0                 0                1   \n",
       "\n",
       "       d5_firstblood_claimed  d5_teamfight_participation  d5_towers_killed  \\\n",
       "0                          0                      0.0000                 0   \n",
       "1                          0                      0.0000                 0   \n",
       "2                          0                      0.0000                 0   \n",
       "3                          0                      0.0000                 0   \n",
       "4                          0                      0.2500                 0   \n",
       "...                      ...                         ...               ...   \n",
       "39670                      0                      0.5625                 0   \n",
       "39671                      0                      0.0000                 0   \n",
       "39672                      1                      0.5000                 0   \n",
       "39673                      0                      0.6250                 0   \n",
       "39674                      0                      0.5500                 1   \n",
       "\n",
       "       d5_roshans_killed  d5_obs_placed  d5_sen_placed  \n",
       "0                      0              0              0  \n",
       "1                      0              0              0  \n",
       "2                      0              0              0  \n",
       "3                      0              2              0  \n",
       "4                      0              0              0  \n",
       "...                  ...            ...            ...  \n",
       "39670                  0              7              2  \n",
       "39671                  0              0              0  \n",
       "39672                  0              1              0  \n",
       "39673                  0              0              0  \n",
       "39674                  0              0              0  \n",
       "\n",
       "[39671 rows x 246 columns]"
      ]
     },
     "execution_count": 66,
     "metadata": {},
     "output_type": "execute_result"
    }
   ],
   "source": [
    "df[df['r1_gold']<50000]"
   ]
  },
  {
   "cell_type": "code",
   "execution_count": 69,
   "metadata": {},
   "outputs": [
    {
     "data": {
      "text/plain": [
       "<matplotlib.collections.PathCollection at 0x1c598862640>"
      ]
     },
     "execution_count": 69,
     "metadata": {},
     "output_type": "execute_result"
    },
    {
     "data": {
      "image/png": "[encoded data removed]",
      "text/plain": [
       "<Figure size 432x288 with 1 Axes>"
      ]
     },
     "metadata": {
      "needs_background": "light"
     },
     "output_type": "display_data"
    }
   ],
   "source": [
    "plt.scatter(df['r1_gold'],df['r1_kills'])"
   ]
  },
  {
   "cell_type": "markdown",
   "metadata": {},
   "source": [
    "Semakin banyak gold, semakin besar kemungkinan jumlah kill"
   ]
  },
  {
   "cell_type": "code",
   "execution_count": 63,
   "metadata": {},
   "outputs": [
    {
     "data": {
      "text/plain": [
       "<matplotlib.collections.PathCollection at 0x1c59882fd90>"
      ]
     },
     "execution_count": 63,
     "metadata": {},
     "output_type": "execute_result"
    },
    {
     "data": {
      "image/png": "[encoded data removed]",
      "text/plain": [
       "<Figure size 432x288 with 1 Axes>"
      ]
     },
     "metadata": {
      "needs_background": "light"
     },
     "output_type": "display_data"
    }
   ],
   "source": [
    "plt.scatter(df['r1_gold'],df['r1_deaths'])"
   ]
  },
  {
   "cell_type": "markdown",
   "metadata": {},
   "source": [
    "## Central Limit Theorem"
   ]
  },
  {
   "cell_type": "code",
   "execution_count": 72,
   "metadata": {},
   "outputs": [],
   "source": [
    "means = []\n",
    "cols = ['r1_gold','r2_gold','r3_gold','r4_gold','r5_gold','d1_gold','d2_gold','d3_gold','d4_gold','d5_gold']\n",
    "for col in cols:\n",
    "    means.append(df[col].mean())"
   ]
  },
  {
   "cell_type": "code",
   "execution_count": 75,
   "metadata": {},
   "outputs": [
    {
     "data": {
      "text/plain": [
       "(array([1., 1., 0., 1., 1., 4., 0., 0., 0., 2.]),\n",
       " array([7072.35347196, 7085.22783113, 7098.1021903 , 7110.97654946,\n",
       "        7123.85090863, 7136.7252678 , 7149.59962697, 7162.47398614,\n",
       "        7175.34834531, 7188.22270447, 7201.09706364]),\n",
       " <BarContainer object of 10 artists>)"
      ]
     },
     "execution_count": 75,
     "metadata": {},
     "output_type": "execute_result"
    },
    {
     "data": {
      "image/png": "[encoded data removed]",
      "text/plain": [
       "<Figure size 432x288 with 1 Axes>"
      ]
     },
     "metadata": {
      "needs_background": "light"
     },
     "output_type": "display_data"
    }
   ],
   "source": [
    "plt.hist(means)"
   ]
  },
  {
   "cell_type": "code",
   "execution_count": 77,
   "metadata": {},
   "outputs": [
    {
     "data": {
      "text/plain": [
       "<AxesSubplot:ylabel='Density'>"
      ]
     },
     "execution_count": 77,
     "metadata": {},
     "output_type": "execute_result"
    },
    {
     "data": {
      "image/png": "[encoded data removed]",
      "text/plain": [
       "<Figure size 432x288 with 1 Axes>"
      ]
     },
     "metadata": {
      "needs_background": "light"
     },
     "output_type": "display_data"
    }
   ],
   "source": [
    "sns.kdeplot(means)"
   ]
  },
  {
   "cell_type": "code",
   "execution_count": 80,
   "metadata": {},
   "outputs": [
    {
     "data": {
      "text/plain": [
       "0    14\n",
       "dtype: int64"
      ]
     },
     "execution_count": 80,
     "metadata": {},
     "output_type": "execute_result"
    }
   ],
   "source": [
    "df['r1_hero_id'].mode()"
   ]
  },
  {
   "cell_type": "code",
   "execution_count": 81,
   "metadata": {},
   "outputs": [
    {
     "data": {
      "text/plain": [
       "0    14\n",
       "dtype: int64"
      ]
     },
     "execution_count": 81,
     "metadata": {},
     "output_type": "execute_result"
    }
   ],
   "source": [
    "df['r2_hero_id'].mode()"
   ]
  },
  {
   "cell_type": "code",
   "execution_count": 82,
   "metadata": {},
   "outputs": [
    {
     "data": {
      "text/plain": [
       "0    14\n",
       "dtype: int64"
      ]
     },
     "execution_count": 82,
     "metadata": {},
     "output_type": "execute_result"
    }
   ],
   "source": [
    "df['r3_hero_id'].mode()"
   ]
  },
  {
   "cell_type": "code",
   "execution_count": 83,
   "metadata": {},
   "outputs": [
    {
     "data": {
      "text/plain": [
       "0    14\n",
       "dtype: int64"
      ]
     },
     "execution_count": 83,
     "metadata": {},
     "output_type": "execute_result"
    }
   ],
   "source": [
    "df['d4_hero_id'].mode()"
   ]
  },
  {
   "cell_type": "code",
   "execution_count": 84,
   "metadata": {},
   "outputs": [],
   "source": [
    "gold1=df['r1_gold']"
   ]
  },
  {
   "cell_type": "code",
   "execution_count": 85,
   "metadata": {},
   "outputs": [
    {
     "data": {
      "text/plain": [
       "0          543\n",
       "1         5257\n",
       "2          176\n",
       "3         1613\n",
       "4         1404\n",
       "         ...  \n",
       "39670     6283\n",
       "39671      809\n",
       "39672     1747\n",
       "39673    14375\n",
       "39674     8847\n",
       "Name: r1_gold, Length: 39675, dtype: int64"
      ]
     },
     "execution_count": 85,
     "metadata": {},
     "output_type": "execute_result"
    }
   ],
   "source": [
    "gold1"
   ]
  },
  {
   "cell_type": "code",
   "execution_count": 87,
   "metadata": {},
   "outputs": [
    {
     "data": {
      "text/plain": [
       "0       -1.022002\n",
       "1       -0.297607\n",
       "2       -1.078398\n",
       "3       -0.857576\n",
       "4       -0.889693\n",
       "           ...   \n",
       "39670   -0.139943\n",
       "39671   -0.981126\n",
       "39672   -0.836984\n",
       "39673    1.103546\n",
       "39674    0.254064\n",
       "Name: r1_gold, Length: 39675, dtype: float64"
      ]
     },
     "execution_count": 87,
     "metadata": {},
     "output_type": "execute_result"
    }
   ],
   "source": [
    "(gold1-gold1.mean())/gold1.std()"
   ]
  },
  {
   "cell_type": "markdown",
   "metadata": {},
   "source": [
    "1. Korelasi antara team gold dengan win percentage\n",
    "2. Korelasi antara Gold per Minute dengan K/D percentage"
   ]
  },
  {
   "cell_type": "code",
   "execution_count": null,
   "metadata": {},
   "outputs": [],
   "source": []
  }
 ],
 "metadata": {
  "kernelspec": {
   "display_name": "Python 3",
   "language": "python",
   "name": "python3"
  },
  "language_info": {
   "codemirror_mode": {
    "name": "ipython",
    "version": 3
   },
   "file_extension": ".py",
   "mimetype": "text/x-python",
   "name": "python",
   "nbconvert_exporter": "python",
   "pygments_lexer": "ipython3",
   "version": "3.8.5"
  }
 },
 "nbformat": 4,
 "nbformat_minor": 4
}
