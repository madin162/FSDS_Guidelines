{
 "cells": [
  {
   "cell_type": "markdown",
   "metadata": {
    "id": "V6seTWYNxYT8"
   },
   "source": [
    "# Week 3: Day 4 PM // Practical Statistics: Inferential"
   ]
  },
  {
   "cell_type": "markdown",
   "metadata": {
    "id": "QRgVn75VxYT_"
   },
   "source": [
    "Import required Python packages."
   ]
  },
  {
   "cell_type": "code",
   "execution_count": 1,
   "metadata": {
    "colab": {
     "base_uri": "https://localhost:8080/"
    },
    "execution": {
     "iopub.execute_input": "2021-04-25T16:39:24.621513Z",
     "iopub.status.busy": "2021-04-25T16:39:24.620920Z",
     "iopub.status.idle": "2021-04-25T16:39:26.200519Z",
     "shell.execute_reply": "2021-04-25T16:39:26.200944Z"
    },
    "id": "33JG0i2exYT_",
    "outputId": "f079c8d7-2306-4328-95b5-b87471d97d16"
   },
   "outputs": [],
   "source": [
    "%matplotlib inline\n",
    "\n",
    "from pathlib import Path\n",
    "import random\n",
    "\n",
    "import pandas as pd\n",
    "import numpy as np\n",
    "\n",
    "from scipy import stats\n",
    "import statsmodels.api as sm\n",
    "import statsmodels.formula.api as smf\n",
    "from statsmodels.stats import power\n",
    "\n",
    "import matplotlib.pylab as plt"
   ]
  },
  {
   "cell_type": "code",
   "execution_count": 2,
   "metadata": {
    "execution": {
     "iopub.execute_input": "2021-04-25T16:39:26.205774Z",
     "iopub.status.busy": "2021-04-25T16:39:26.204662Z",
     "iopub.status.idle": "2021-04-25T16:39:26.709601Z",
     "shell.execute_reply": "2021-04-25T16:39:26.709026Z"
    },
    "id": "9U2ECF9AxYUA"
   },
   "outputs": [],
   "source": [
    "try:\n",
    "    import common\n",
    "    DATA = common.dataDirectory()\n",
    "except ImportError:\n",
    "    DATA = Path().resolve() / 'data'"
   ]
  },
  {
   "cell_type": "markdown",
   "metadata": {
    "id": "Dc5nG4StxYUA"
   },
   "source": [
    "Define paths to data sets. If you don't keep your data in the same directory as the code, adapt the path names."
   ]
  },
  {
   "cell_type": "code",
   "execution_count": 3,
   "metadata": {
    "execution": {
     "iopub.execute_input": "2021-04-25T16:39:26.713046Z",
     "iopub.status.busy": "2021-04-25T16:39:26.712569Z",
     "iopub.status.idle": "2021-04-25T16:39:26.715092Z",
     "shell.execute_reply": "2021-04-25T16:39:26.714593Z"
    },
    "id": "MH6bekfPxYUB"
   },
   "outputs": [],
   "source": [
    "WEB_PAGE_DATA_CSV = DATA / 'web_page_data.csv'\n",
    "FOUR_SESSIONS_CSV = DATA / 'four_sessions.csv'\n",
    "CLICK_RATE_CSV = DATA / 'click_rates.csv'\n",
    "IMANISHI_CSV = DATA / 'imanishi_data.csv'"
   ]
  },
  {
   "cell_type": "markdown",
   "metadata": {
    "id": "vzHD9WqGxYUB"
   },
   "source": [
    "## Resampling"
   ]
  },
  {
   "cell_type": "markdown",
   "metadata": {
    "id": "i6sOnYZfxdn1"
   },
   "source": [
    "Resampling in statistics means to repeatedly sample values from observed data, with a\n",
    "general goal of assessing random variability in a statistic."
   ]
  },
  {
   "cell_type": "markdown",
   "metadata": {},
   "source": [
    "### Permutation Test"
   ]
  },
  {
   "cell_type": "markdown",
   "metadata": {},
   "source": [
    "In a permutation procedure, two or more samples are involved, typically the groups\n",
    "in an A/B or other hypothesis test. Permute means to change the order of a set of values. The first step in a permutation test of a hypothesis is to combine the results from\n",
    "groups A and B (and, if used, C, D,…). This is the logical embodiment of the null\n",
    "hypothesis that the treatments to which the groups were exposed do not differ. We\n",
    "then test that hypothesis by randomly drawing groups from this combined set and\n",
    "seeing how much they differ from one another. The permutation procedure is as\n",
    "follows:\n",
    "1. Combine the results from the different groups into a single data set.\n",
    "2. Shuffle the combined data and then randomly draw (without replacement) a\n",
    "resample of the same size as group A (clearly it will contain some data from the\n",
    "other groups).\n",
    "3. From the remaining data, randomly draw (without replacement) a resample of\n",
    "the same size as group B.\n",
    "4. Do the same for groups C, D, and so on. You have now collected one set of\n",
    "resamples that mirror the sizes of the original samples.\n",
    "5. Whatever statistic or estimate was calculated for the original samples (e.g., differ‐\n",
    "ence in group proportions), calculate it now for the resamples, and record; this\n",
    "constitutes one permutation iteration.\n",
    "6. Repeat the previous steps R times to yield a permutation distribution of the test\n",
    "statistic"
   ]
  },
  {
   "cell_type": "markdown",
   "metadata": {},
   "source": [
    "Another type of permutation is bootstrap permutation test, wgere the draws outlined in steps 2 and 3 of the random\n",
    "permutation test are made with replacement instead of without replacement. In this\n",
    "way the resampling procedure models not just the random element in the assignment\n",
    "of treatment to subject but also the random element in the selection of subjects from\n",
    "a population. Both procedures are encountered in statistics, and the distinction\n",
    "between them is somewhat convoluted and not of consequence in the practice of data\n",
    "science."
   ]
  },
  {
   "cell_type": "markdown",
   "metadata": {},
   "source": [
    "On this example, we want to compare average session time between page A to page B."
   ]
  },
  {
   "cell_type": "code",
   "execution_count": 4,
   "metadata": {
    "colab": {
     "base_uri": "https://localhost:8080/",
     "height": 387
    },
    "execution": {
     "iopub.execute_input": "2021-04-25T16:39:26.718626Z",
     "iopub.status.busy": "2021-04-25T16:39:26.718186Z",
     "iopub.status.idle": "2021-04-25T16:39:26.727290Z",
     "shell.execute_reply": "2021-04-25T16:39:26.726897Z"
    },
    "id": "cz2qy8oRxYUB",
    "outputId": "0a86e7aa-c61b-42d9-b6a0-f4cb224b107e"
   },
   "outputs": [],
   "source": [
    "session_times = pd.read_csv(WEB_PAGE_DATA_CSV)\n",
    "session_times.Time = 100 * session_times.Time"
   ]
  },
  {
   "cell_type": "code",
   "execution_count": 5,
   "metadata": {
    "execution": {
     "iopub.execute_input": "2021-04-25T16:39:26.730605Z",
     "iopub.status.busy": "2021-04-25T16:39:26.730150Z",
     "iopub.status.idle": "2021-04-25T16:39:26.839677Z",
     "shell.execute_reply": "2021-04-25T16:39:26.839213Z"
    },
    "id": "vd3oTZqZxYUC",
    "outputId": "69375e71-86a2-496e-f0a9-f5c83e5a97da"
   },
   "outputs": [
    {
     "data": {
      "image/png": "[encoded data removed]",
      "text/plain": [
       "<Figure size 288x288 with 1 Axes>"
      ]
     },
     "metadata": {
      "needs_background": "light"
     },
     "output_type": "display_data"
    }
   ],
   "source": [
    "ax = session_times.boxplot(by='Page', column='Time',\n",
    "                           figsize=(4, 4))\n",
    "ax.set_xlabel('')\n",
    "ax.set_ylabel('Time (in seconds)')\n",
    "plt.suptitle('')\n",
    "\n",
    "plt.tight_layout()\n",
    "plt.show()"
   ]
  },
  {
   "cell_type": "code",
   "execution_count": 6,
   "metadata": {
    "execution": {
     "iopub.execute_input": "2021-04-25T16:39:26.844780Z",
     "iopub.status.busy": "2021-04-25T16:39:26.844192Z",
     "iopub.status.idle": "2021-04-25T16:39:26.848823Z",
     "shell.execute_reply": "2021-04-25T16:39:26.848268Z"
    },
    "id": "zRJoS4rqxYUD",
    "outputId": "98fade33-bb39-4f39-87de-8f2359deb4b6"
   },
   "outputs": [
    {
     "name": "stdout",
     "output_type": "stream",
     "text": [
      "35.66666666666667\n"
     ]
    }
   ],
   "source": [
    "mean_a = session_times[session_times.Page == 'Page A'].Time.mean()\n",
    "mean_b = session_times[session_times.Page == 'Page B'].Time.mean()\n",
    "print(mean_b - mean_a)"
   ]
  },
  {
   "cell_type": "markdown",
   "metadata": {
    "id": "1rPiEXG-xYUD"
   },
   "source": [
    "Page B has session times that are greater than those of page A by 35.67 seconds, on average. The question is whether this difference is within the range of what random chance might produce, i.e., is statistically significant. One way to answer this is to apply a permutation test—combine all the session times together and then repeatedly shuffle and divide them into groups of 21 (recall that nA = 21 for page A) and 15 (nB = 15 for page B).\n",
    "\n",
    "The key is to **combine** both data into one mix and randomly splitting them back into groups."
   ]
  },
  {
   "cell_type": "code",
   "execution_count": 7,
   "metadata": {
    "execution": {
     "iopub.execute_input": "2021-04-25T16:39:26.856046Z",
     "iopub.status.busy": "2021-04-25T16:39:26.855434Z",
     "iopub.status.idle": "2021-04-25T16:39:26.858231Z",
     "shell.execute_reply": "2021-04-25T16:39:26.857529Z"
    },
    "id": "nTB4ARcbxYUE",
    "outputId": "2623bd5b-696c-4738-9a59-c0e215ff0a04"
   },
   "outputs": [
    {
     "name": "stdout",
     "output_type": "stream",
     "text": [
      "27.2095238095238\n",
      "{0, 1, 2, 3, 5, 7, 11, 12, 13, 15, 16, 18, 24, 25, 26, 27, 29, 31, 32, 33, 35}\n",
      "{34, 4, 6, 8, 9, 10, 14, 17, 19, 20, 21, 22, 23, 28, 30}\n"
     ]
    }
   ],
   "source": [
    "# Permutation test example with stickiness\n",
    "def perm_fun(x, nA, nB):\n",
    "    n = nA + nB\n",
    "    idx_B = set(random.sample(range(n), nB))\n",
    "    idx_A = set(range(n)) - idx_B\n",
    "    return x.loc[idx_B].mean() - x.loc[idx_A].mean(),idx_A,idx_B\n",
    "    \n",
    "nA = session_times[session_times.Page == 'Page A'].shape[0]\n",
    "nB = session_times[session_times.Page == 'Page B'].shape[0]\n",
    "diff_mean,idx_A,idx_B = perm_fun(session_times.Time, nA, nB)\n",
    "print(perm_fun(session_times.Time, nA, nB)[0])\n",
    "print(idx_A)\n",
    "print(idx_B)"
   ]
  },
  {
   "cell_type": "code",
   "execution_count": 9,
   "metadata": {
    "execution": {
     "iopub.execute_input": "2021-04-25T16:39:27.279711Z",
     "iopub.status.busy": "2021-04-25T16:39:27.227840Z",
     "iopub.status.idle": "2021-04-25T16:39:27.727513Z",
     "shell.execute_reply": "2021-04-25T16:39:27.726978Z"
    },
    "id": "KiZUA19NxYUE",
    "outputId": "bdb1cebe-e069-4877-895b-6887d1023cd1",
    "scrolled": false
   },
   "outputs": [
    {
     "data": {
      "image/png": "[encoded data removed]",
      "text/plain": [
       "<Figure size 360x360 with 1 Axes>"
      ]
     },
     "metadata": {
      "needs_background": "light"
     },
     "output_type": "display_data"
    }
   ],
   "source": [
    "random.seed(1)\n",
    "perm_diffs = [perm_fun(session_times.Time, nA, nB)[0] for _ in range(1000)]\n",
    "\n",
    "fig, ax = plt.subplots(figsize=(5, 5))\n",
    "ax.hist(perm_diffs, bins=11, rwidth=0.9)\n",
    "ax.axvline(x = mean_b - mean_a, color='black', lw=2)\n",
    "ax.text(50, 190, 'Observed\\ndifference', bbox={'facecolor':'white'})\n",
    "ax.set_xlabel('Session time differences (in seconds)')\n",
    "ax.set_ylabel('Frequency')\n",
    "\n",
    "plt.tight_layout()\n",
    "plt.show()"
   ]
  },
  {
   "cell_type": "code",
   "execution_count": 10,
   "metadata": {
    "execution": {
     "iopub.execute_input": "2021-04-25T16:39:27.731049Z",
     "iopub.status.busy": "2021-04-25T16:39:27.730572Z",
     "iopub.status.idle": "2021-04-25T16:39:27.732692Z",
     "shell.execute_reply": "2021-04-25T16:39:27.733133Z"
    },
    "id": "iaIh0_a6xYUE",
    "outputId": "f3d642ed-ed61-4a56-cb0f-fdd6e6a1fe90"
   },
   "outputs": [
    {
     "name": "stdout",
     "output_type": "stream",
     "text": [
      "0.121\n"
     ]
    }
   ],
   "source": [
    "print(np.mean(np.greater(perm_diffs,(mean_b - mean_a))))"
   ]
  },
  {
   "cell_type": "markdown",
   "metadata": {},
   "source": [
    "This suggests that the observed difference in session time between page A and page B\n",
    "is well within the range of chance variation and thus is not statistically significant."
   ]
  },
  {
   "cell_type": "markdown",
   "metadata": {
    "id": "m-JwSEfGxYUF"
   },
   "source": [
    "## Statistical Significance and P-Values"
   ]
  },
  {
   "cell_type": "code",
   "execution_count": 12,
   "metadata": {
    "colab": {
     "base_uri": "https://localhost:8080/",
     "height": 363
    },
    "execution": {
     "iopub.execute_input": "2021-04-25T16:39:27.751218Z",
     "iopub.status.busy": "2021-04-25T16:39:27.746021Z",
     "iopub.status.idle": "2021-04-25T16:39:45.063484Z",
     "shell.execute_reply": "2021-04-25T16:39:45.063176Z"
    },
    "id": "2TacQAPWxYUF",
    "outputId": "35ef6ac5-6130-4561-af39-96e9af845079"
   },
   "outputs": [
    {
     "name": "stdout",
     "output_type": "stream",
     "text": [
      "Observed difference: 0.0368%\n"
     ]
    },
    {
     "data": {
      "image/png": "[encoded data removed]",
      "text/plain": [
       "<Figure size 360x360 with 1 Axes>"
      ]
     },
     "metadata": {
      "needs_background": "light"
     },
     "output_type": "display_data"
    }
   ],
   "source": [
    "random.seed(1)\n",
    "obs_pct_diff = 100 * (200 / 23739 - 182 / 22588)\n",
    "print(f'Observed difference: {obs_pct_diff:.4f}%')\n",
    "conversion = [0] * 45945\n",
    "conversion.extend([1] * 382)\n",
    "conversion = pd.Series(conversion)\n",
    "\n",
    "perm_diffs = [100 * perm_fun(conversion, 23739, 22588)[0] \n",
    "              for _ in range(1000)]\n",
    "\n",
    "fig, ax = plt.subplots(figsize=(5, 5))\n",
    "ax.hist(perm_diffs, bins=11, rwidth=0.9)\n",
    "ax.axvline(x=obs_pct_diff, color='black', lw=2)\n",
    "ax.text(0.06, 200, 'Observed\\ndifference', bbox={'facecolor':'white'})\n",
    "ax.set_xlabel('Conversion rate (percent)')\n",
    "ax.set_ylabel('Frequency')\n",
    "\n",
    "plt.tight_layout()\n",
    "plt.show()"
   ]
  },
  {
   "cell_type": "markdown",
   "metadata": {
    "id": "4O_0Pt3LxYUG"
   },
   "source": [
    "### P-Value\n",
    "If `np.mean` is applied to a list of booleans, it gives the percentage of how often True was found in the list (#True / #Total)."
   ]
  },
  {
   "cell_type": "code",
   "execution_count": 13,
   "metadata": {
    "execution": {
     "iopub.execute_input": "2021-04-25T16:39:45.067618Z",
     "iopub.status.busy": "2021-04-25T16:39:45.067130Z",
     "iopub.status.idle": "2021-04-25T16:39:45.069893Z",
     "shell.execute_reply": "2021-04-25T16:39:45.069546Z"
    },
    "id": "AYW1yEO5xYUG",
    "outputId": "d41a99a1-aebc-44e6-ee9e-1e47269f6b6e"
   },
   "outputs": [
    {
     "name": "stdout",
     "output_type": "stream",
     "text": [
      "0.332\n"
     ]
    }
   ],
   "source": [
    "print(np.mean([diff > obs_pct_diff for diff in perm_diffs]))"
   ]
  },
  {
   "cell_type": "code",
   "execution_count": 14,
   "metadata": {
    "execution": {
     "iopub.execute_input": "2021-04-25T16:39:45.074701Z",
     "iopub.status.busy": "2021-04-25T16:39:45.074096Z",
     "iopub.status.idle": "2021-04-25T16:39:45.077650Z",
     "shell.execute_reply": "2021-04-25T16:39:45.077168Z"
    },
    "id": "0SbwU0qVxYUG",
    "outputId": "8e2b8580-4161-44da-d927-8b98606a7ca0"
   },
   "outputs": [
    {
     "name": "stdout",
     "output_type": "stream",
     "text": [
      "p-value for single sided test: 0.3498\n"
     ]
    }
   ],
   "source": [
    "survivors = np.array([[200, 23739 - 200], [182, 22588 - 182]])\n",
    "chi2, p_value, df, _ = stats.chi2_contingency(survivors)\n",
    "\n",
    "print(f'p-value for single sided test: {p_value / 2:.4f}')"
   ]
  },
  {
   "cell_type": "markdown",
   "metadata": {
    "id": "6PprlzyfxYUH"
   },
   "source": [
    "## t-Tests"
   ]
  },
  {
   "cell_type": "code",
   "execution_count": 15,
   "metadata": {
    "execution": {
     "iopub.execute_input": "2021-04-25T16:39:45.083617Z",
     "iopub.status.busy": "2021-04-25T16:39:45.082924Z",
     "iopub.status.idle": "2021-04-25T16:39:45.086948Z",
     "shell.execute_reply": "2021-04-25T16:39:45.086491Z"
    },
    "id": "Ct3mKV7hxYUH",
    "outputId": "2e02b260-4666-458b-9e77-9b801a3e0c48"
   },
   "outputs": [
    {
     "name": "stdout",
     "output_type": "stream",
     "text": [
      "p-value for single sided test: 0.1408\n"
     ]
    }
   ],
   "source": [
    "res = stats.ttest_ind(session_times[session_times.Page == 'Page A'].Time, \n",
    "                      session_times[session_times.Page == 'Page B'].Time,\n",
    "                      equal_var=False)\n",
    "print(f'p-value for single sided test: {res.pvalue / 2:.4f}')"
   ]
  },
  {
   "cell_type": "code",
   "execution_count": 16,
   "metadata": {
    "execution": {
     "iopub.execute_input": "2021-04-25T16:39:45.093030Z",
     "iopub.status.busy": "2021-04-25T16:39:45.092532Z",
     "iopub.status.idle": "2021-04-25T16:39:45.095691Z",
     "shell.execute_reply": "2021-04-25T16:39:45.096121Z"
    },
    "id": "UT9-vBX1xYUH",
    "outputId": "df0d8779-a0ec-4244-b27d-88410dff0c8b"
   },
   "outputs": [
    {
     "name": "stdout",
     "output_type": "stream",
     "text": [
      "p-value: 0.1408\n"
     ]
    }
   ],
   "source": [
    "tstat, pvalue, df = sm.stats.ttest_ind(\n",
    "    session_times[session_times.Page == 'Page A'].Time, \n",
    "    session_times[session_times.Page == 'Page B'].Time,\n",
    "    usevar='unequal', alternative='smaller')\n",
    "print(f'p-value: {pvalue:.4f}')"
   ]
  },
  {
   "cell_type": "markdown",
   "metadata": {},
   "source": [
    "We can use t-Table to determine p-value"
   ]
  },
  {
   "cell_type": "markdown",
   "metadata": {},
   "source": [
    "![image info](pics/t_table.jpg)"
   ]
  },
  {
   "cell_type": "markdown",
   "metadata": {
    "id": "KNzmkVf9xYUI"
   },
   "source": [
    "## ANOVA"
   ]
  },
  {
   "cell_type": "markdown",
   "metadata": {},
   "source": [
    "The one-way analysis of variance (ANOVA) is used to determine whether there are any statistically significant differences between the means of three or more independent (unrelated) groups. ANOVA can be used for comparison between multiple groups"
   ]
  },
  {
   "cell_type": "code",
   "execution_count": 17,
   "metadata": {
    "execution": {
     "iopub.execute_input": "2021-04-25T16:39:45.101804Z",
     "iopub.status.busy": "2021-04-25T16:39:45.100576Z",
     "iopub.status.idle": "2021-04-25T16:39:45.212794Z",
     "shell.execute_reply": "2021-04-25T16:39:45.212262Z"
    },
    "id": "11sqi6bfxYUI",
    "outputId": "b6ddc4a9-7fec-442d-9df7-46d5f2789540"
   },
   "outputs": [
    {
     "data": {
      "image/png": "[encoded data removed]",
      "text/plain": [
       "<Figure size 288x288 with 1 Axes>"
      ]
     },
     "metadata": {
      "needs_background": "light"
     },
     "output_type": "display_data"
    }
   ],
   "source": [
    "four_sessions = pd.read_csv(FOUR_SESSIONS_CSV)\n",
    "\n",
    "ax = four_sessions.boxplot(by='Page', column='Time',\n",
    "                           figsize=(4, 4))\n",
    "ax.set_xlabel('Page')\n",
    "ax.set_ylabel('Time (in seconds)')\n",
    "plt.suptitle('')\n",
    "plt.title('')\n",
    "\n",
    "plt.tight_layout()\n",
    "plt.show()"
   ]
  },
  {
   "cell_type": "code",
   "execution_count": 18,
   "metadata": {
    "execution": {
     "iopub.execute_input": "2021-04-25T16:39:45.218093Z",
     "iopub.status.busy": "2021-04-25T16:39:45.217318Z",
     "iopub.status.idle": "2021-04-25T16:39:45.226109Z",
     "shell.execute_reply": "2021-04-25T16:39:45.225644Z"
    },
    "id": "j_vprFIOxYUI",
    "outputId": "14185fa6-8a57-4cca-eb2d-d3af430f161a"
   },
   "outputs": [
    {
     "name": "stdout",
     "output_type": "stream",
     "text": [
      "     Page  Time\n",
      "0  Page 1   164\n",
      "1  Page 2   178\n",
      "2  Page 3   175\n",
      "3  Page 4   155\n",
      "4  Page 1   172\n"
     ]
    }
   ],
   "source": [
    "print(pd.read_csv(FOUR_SESSIONS_CSV).head())"
   ]
  },
  {
   "cell_type": "markdown",
   "metadata": {},
   "source": [
    "### Permutation Approach\n",
    "\n",
    "1. Combine all the data together in a single box.\n",
    "2. Shuffle and draw out four resamples of five values each.\n",
    "3. Record the mean of each of the four groups.\n",
    "4. Record the variance among the four group means.\n",
    "5. Repeat steps 2–4 many (say, 1,000) times."
   ]
  },
  {
   "cell_type": "code",
   "execution_count": 19,
   "metadata": {
    "execution": {
     "iopub.execute_input": "2021-04-25T16:39:45.236164Z",
     "iopub.status.busy": "2021-04-25T16:39:45.232270Z",
     "iopub.status.idle": "2021-04-25T16:39:45.238995Z",
     "shell.execute_reply": "2021-04-25T16:39:45.238690Z"
    },
    "id": "VisPEmvtxYUJ",
    "outputId": "02ffb89f-1b84-4700-e6b2-c9b785030d38"
   },
   "outputs": [
    {
     "name": "stdout",
     "output_type": "stream",
     "text": [
      "Observed means: [172.8 182.6 175.6 164.6]\n",
      "Variance: 55.426666666666655\n",
      "7.000000000000039\n"
     ]
    }
   ],
   "source": [
    "observed_variance = four_sessions.groupby('Page').mean().var()[0]\n",
    "print('Observed means:', four_sessions.groupby('Page').mean().values.ravel())\n",
    "print('Variance:', observed_variance)\n",
    "# Permutation test example with stickiness\n",
    "def perm_test(df):\n",
    "    df = df.copy()\n",
    "    df['Time'] = np.random.permutation(df['Time'].values)\n",
    "    return df.groupby('Page').mean().var()[0]\n",
    "    \n",
    "print(perm_test(four_sessions))"
   ]
  },
  {
   "cell_type": "code",
   "execution_count": 20,
   "metadata": {
    "execution": {
     "iopub.execute_input": "2021-04-25T16:39:45.364480Z",
     "iopub.status.busy": "2021-04-25T16:39:45.364047Z",
     "iopub.status.idle": "2021-04-25T16:39:49.989005Z",
     "shell.execute_reply": "2021-04-25T16:39:49.988421Z"
    },
    "id": "sP-g0C3uxYUJ",
    "outputId": "989705e3-3650-4f2e-f366-c9651c15e8d3"
   },
   "outputs": [
    {
     "name": "stdout",
     "output_type": "stream",
     "text": [
      "Pr(Prob) 0.07933333333333334\n"
     ]
    },
    {
     "data": {
      "image/png": "[encoded data removed]",
      "text/plain": [
       "<Figure size 360x360 with 1 Axes>"
      ]
     },
     "metadata": {
      "needs_background": "light"
     },
     "output_type": "display_data"
    }
   ],
   "source": [
    "random.seed(1)\n",
    "perm_variance = [perm_test(four_sessions) for _ in range(3000)]\n",
    "print('Pr(Prob)', np.mean([var > observed_variance for var in perm_variance]))\n",
    "\n",
    "fig, ax = plt.subplots(figsize=(5, 5))\n",
    "ax.hist(perm_variance, bins=11, rwidth=0.9)\n",
    "ax.axvline(x = observed_variance, color='black', lw=2)\n",
    "ax.text(60, 200, 'Observed\\nvariance', bbox={'facecolor':'white'})\n",
    "ax.set_xlabel('Variance')\n",
    "ax.set_ylabel('Frequency')\n",
    "\n",
    "plt.tight_layout()\n",
    "plt.show()"
   ]
  },
  {
   "cell_type": "markdown",
   "metadata": {
    "id": "NqYVBGauxYUJ"
   },
   "source": [
    "### F-Statistic\n",
    "We can compute an ANOVA table using statsmodel."
   ]
  },
  {
   "cell_type": "code",
   "execution_count": 21,
   "metadata": {
    "execution": {
     "iopub.execute_input": "2021-04-25T16:39:49.999317Z",
     "iopub.status.busy": "2021-04-25T16:39:49.998902Z",
     "iopub.status.idle": "2021-04-25T16:39:50.005403Z",
     "shell.execute_reply": "2021-04-25T16:39:50.004993Z"
    },
    "id": "dZCtnFPnxYUK",
    "outputId": "1cbed0f3-019c-47af-b9e6-4ed2eebf31d5"
   },
   "outputs": [
    {
     "name": "stdout",
     "output_type": "stream",
     "text": [
      "            df  sum_sq     mean_sq         F    PR(>F)\n",
      "Page       3.0   831.4  277.133333  2.739825  0.077586\n",
      "Residual  16.0  1618.4  101.150000       NaN       NaN\n"
     ]
    }
   ],
   "source": [
    "model = smf.ols('Time ~ Page', data=four_sessions).fit()\n",
    "                \n",
    "aov_table = sm.stats.anova_lm(model)\n",
    "print(aov_table)"
   ]
  },
  {
   "cell_type": "code",
   "execution_count": 22,
   "metadata": {
    "execution": {
     "iopub.execute_input": "2021-04-25T16:39:50.011994Z",
     "iopub.status.busy": "2021-04-25T16:39:50.011456Z",
     "iopub.status.idle": "2021-04-25T16:39:50.014271Z",
     "shell.execute_reply": "2021-04-25T16:39:50.013968Z"
    },
    "id": "doCuzKsdxYUK",
    "outputId": "a22fe27f-eb16-4bbf-f404-64e7a3e82e38"
   },
   "outputs": [
    {
     "name": "stdout",
     "output_type": "stream",
     "text": [
      "F-Statistic: 1.3699\n",
      "p-value: 0.0388\n"
     ]
    }
   ],
   "source": [
    "res = stats.f_oneway(four_sessions[four_sessions.Page == 'Page 1'].Time, \n",
    "                     four_sessions[four_sessions.Page == 'Page 2'].Time,\n",
    "                     four_sessions[four_sessions.Page == 'Page 3'].Time,\n",
    "                     four_sessions[four_sessions.Page == 'Page 4'].Time)\n",
    "print(f'F-Statistic: {res.statistic / 2:.4f}')\n",
    "print(f'p-value: {res.pvalue / 2:.4f}')"
   ]
  },
  {
   "cell_type": "markdown",
   "metadata": {},
   "source": [
    "F statistic is based on the ratio of the variance across group means (i.e., the treatment effect) to the variance due to residual error. \n",
    "\n",
    "The higher this ratio, the more statistically significant the result. \n",
    "\n",
    "If the data follows a normal distribution, then statistical theory dictates that the statistic should have a certain distribution. Based on this, it is possible to compute a p-value"
   ]
  },
  {
   "cell_type": "markdown",
   "metadata": {
    "id": "Zfutsb1ixYUK"
   },
   "source": [
    "### Two-way anova only available with statsmodels\n",
    "```\n",
    "formula = 'len ~ C(supp) + C(dose) + C(supp):C(dose)'\n",
    "model = ols(formula, data).fit()\n",
    "aov_table = anova_lm(model, typ=2)\n",
    "```"
   ]
  },
  {
   "cell_type": "markdown",
   "metadata": {
    "id": "DNbmz5v-xYUK"
   },
   "source": [
    "## Chi-Square Test"
   ]
  },
  {
   "cell_type": "markdown",
   "metadata": {},
   "source": [
    "The chi-square test, or Fisher’s exact test, is used when you want to know whether an\n",
    "effect is for real or might be the product of chance. A chi-square test for independence compares two variables in a contingency table to see if they are related. In a more general sense, it tests to see whether distributions of categorical variables differ from each another."
   ]
  },
  {
   "cell_type": "markdown",
   "metadata": {},
   "source": [
    "$ H_{0} $: In the population, the two categorical variables are unrelated\n",
    "\n",
    "$ H_{a} $: In the population, the two categorical variables are related"
   ]
  },
  {
   "cell_type": "markdown",
   "metadata": {},
   "source": [
    "### Chi-Square Test: A Resampling Approach"
   ]
  },
  {
   "cell_type": "code",
   "execution_count": 45,
   "metadata": {},
   "outputs": [
    {
     "data": {
      "text/html": [
       "<div>\n",
       "<style scoped>\n",
       "    .dataframe tbody tr th:only-of-type {\n",
       "        vertical-align: middle;\n",
       "    }\n",
       "\n",
       "    .dataframe tbody tr th {\n",
       "        vertical-align: top;\n",
       "    }\n",
       "\n",
       "    .dataframe thead th {\n",
       "        text-align: right;\n",
       "    }\n",
       "</style>\n",
       "<table border=\"1\" class=\"dataframe\">\n",
       "  <thead>\n",
       "    <tr style=\"text-align: right;\">\n",
       "      <th></th>\n",
       "      <th>Headline</th>\n",
       "      <th>Click</th>\n",
       "      <th>Rate</th>\n",
       "    </tr>\n",
       "  </thead>\n",
       "  <tbody>\n",
       "    <tr>\n",
       "      <th>0</th>\n",
       "      <td>Headline A</td>\n",
       "      <td>Click</td>\n",
       "      <td>14</td>\n",
       "    </tr>\n",
       "    <tr>\n",
       "      <th>1</th>\n",
       "      <td>Headline A</td>\n",
       "      <td>No-click</td>\n",
       "      <td>986</td>\n",
       "    </tr>\n",
       "    <tr>\n",
       "      <th>2</th>\n",
       "      <td>Headline B</td>\n",
       "      <td>Click</td>\n",
       "      <td>8</td>\n",
       "    </tr>\n",
       "    <tr>\n",
       "      <th>3</th>\n",
       "      <td>Headline B</td>\n",
       "      <td>No-click</td>\n",
       "      <td>992</td>\n",
       "    </tr>\n",
       "    <tr>\n",
       "      <th>4</th>\n",
       "      <td>Headline C</td>\n",
       "      <td>Click</td>\n",
       "      <td>12</td>\n",
       "    </tr>\n",
       "  </tbody>\n",
       "</table>\n",
       "</div>"
      ],
      "text/plain": [
       "     Headline     Click  Rate\n",
       "0  Headline A     Click    14\n",
       "1  Headline A  No-click   986\n",
       "2  Headline B     Click     8\n",
       "3  Headline B  No-click   992\n",
       "4  Headline C     Click    12"
      ]
     },
     "execution_count": 45,
     "metadata": {},
     "output_type": "execute_result"
    }
   ],
   "source": [
    "click_rate.head(5)"
   ]
  },
  {
   "cell_type": "code",
   "execution_count": 23,
   "metadata": {
    "execution": {
     "iopub.execute_input": "2021-04-25T16:39:50.019426Z",
     "iopub.status.busy": "2021-04-25T16:39:50.018421Z",
     "iopub.status.idle": "2021-04-25T16:39:50.029277Z",
     "shell.execute_reply": "2021-04-25T16:39:50.028958Z"
    },
    "id": "yeUPLzXIxYUL",
    "outputId": "511c4203-3a55-485e-e71f-b0cf44cf075d"
   },
   "outputs": [
    {
     "name": "stdout",
     "output_type": "stream",
     "text": [
      "Headline  Headline A  Headline B  Headline C\n",
      "Click                                       \n",
      "Click             14           8          12\n",
      "No-click         986         992         988\n"
     ]
    }
   ],
   "source": [
    "click_rate = pd.read_csv(CLICK_RATE_CSV)\n",
    "clicks = click_rate.pivot(index='Click', columns='Headline', values='Rate')\n",
    "print(clicks)"
   ]
  },
  {
   "cell_type": "code",
   "execution_count": 48,
   "metadata": {},
   "outputs": [
    {
     "data": {
      "text/html": [
       "<div>\n",
       "<style scoped>\n",
       "    .dataframe tbody tr th:only-of-type {\n",
       "        vertical-align: middle;\n",
       "    }\n",
       "\n",
       "    .dataframe tbody tr th {\n",
       "        vertical-align: top;\n",
       "    }\n",
       "\n",
       "    .dataframe thead th {\n",
       "        text-align: right;\n",
       "    }\n",
       "</style>\n",
       "<table border=\"1\" class=\"dataframe\">\n",
       "  <thead>\n",
       "    <tr style=\"text-align: right;\">\n",
       "      <th>Headline</th>\n",
       "      <th>Headline A</th>\n",
       "      <th>Headline B</th>\n",
       "      <th>Headline C</th>\n",
       "    </tr>\n",
       "    <tr>\n",
       "      <th>Click</th>\n",
       "      <th></th>\n",
       "      <th></th>\n",
       "      <th></th>\n",
       "    </tr>\n",
       "  </thead>\n",
       "  <tbody>\n",
       "    <tr>\n",
       "      <th>Click</th>\n",
       "      <td>14</td>\n",
       "      <td>8</td>\n",
       "      <td>12</td>\n",
       "    </tr>\n",
       "    <tr>\n",
       "      <th>No-click</th>\n",
       "      <td>986</td>\n",
       "      <td>992</td>\n",
       "      <td>988</td>\n",
       "    </tr>\n",
       "  </tbody>\n",
       "</table>\n",
       "</div>"
      ],
      "text/plain": [
       "Headline  Headline A  Headline B  Headline C\n",
       "Click                                       \n",
       "Click             14           8          12\n",
       "No-click         986         992         988"
      ]
     },
     "execution_count": 48,
     "metadata": {},
     "output_type": "execute_result"
    }
   ],
   "source": [
    "clicks"
   ]
  },
  {
   "cell_type": "code",
   "execution_count": 49,
   "metadata": {
    "execution": {
     "iopub.execute_input": "2021-04-25T16:39:50.034819Z",
     "iopub.status.busy": "2021-04-25T16:39:50.034365Z",
     "iopub.status.idle": "2021-04-25T16:39:50.040431Z",
     "shell.execute_reply": "2021-04-25T16:39:50.040080Z"
    },
    "id": "0b92ejMPxYUL",
    "outputId": "b555f604-4d5c-47b9-aaa2-577d18bd6c37"
   },
   "outputs": [
    {
     "data": {
      "text/html": [
       "<div>\n",
       "<style scoped>\n",
       "    .dataframe tbody tr th:only-of-type {\n",
       "        vertical-align: middle;\n",
       "    }\n",
       "\n",
       "    .dataframe tbody tr th {\n",
       "        vertical-align: top;\n",
       "    }\n",
       "\n",
       "    .dataframe thead th {\n",
       "        text-align: right;\n",
       "    }\n",
       "</style>\n",
       "<table border=\"1\" class=\"dataframe\">\n",
       "  <thead>\n",
       "    <tr style=\"text-align: right;\">\n",
       "      <th></th>\n",
       "      <th>Headline A</th>\n",
       "      <th>Headline B</th>\n",
       "      <th>Headline C</th>\n",
       "    </tr>\n",
       "    <tr>\n",
       "      <th>Click</th>\n",
       "      <th></th>\n",
       "      <th></th>\n",
       "      <th></th>\n",
       "    </tr>\n",
       "  </thead>\n",
       "  <tbody>\n",
       "    <tr>\n",
       "      <th>Click</th>\n",
       "      <td>11.333333</td>\n",
       "      <td>11.333333</td>\n",
       "      <td>11.333333</td>\n",
       "    </tr>\n",
       "    <tr>\n",
       "      <th>No-click</th>\n",
       "      <td>988.666667</td>\n",
       "      <td>988.666667</td>\n",
       "      <td>988.666667</td>\n",
       "    </tr>\n",
       "  </tbody>\n",
       "</table>\n",
       "</div>"
      ],
      "text/plain": [
       "          Headline A  Headline B  Headline C\n",
       "Click                                       \n",
       "Click      11.333333   11.333333   11.333333\n",
       "No-click  988.666667  988.666667  988.666667"
      ]
     },
     "execution_count": 49,
     "metadata": {},
     "output_type": "execute_result"
    }
   ],
   "source": [
    "row_average = clicks.mean(axis=1)\n",
    "pd.DataFrame({\n",
    "    'Headline A': row_average,\n",
    "    'Headline B': row_average,\n",
    "    'Headline C': row_average,\n",
    "})"
   ]
  },
  {
   "cell_type": "code",
   "execution_count": 25,
   "metadata": {
    "execution": {
     "iopub.execute_input": "2021-04-25T16:39:50.053108Z",
     "iopub.status.busy": "2021-04-25T16:39:50.047825Z",
     "iopub.status.idle": "2021-04-25T16:39:51.848224Z",
     "shell.execute_reply": "2021-04-25T16:39:51.847936Z"
    },
    "id": "CuHxXgfcxYUL",
    "outputId": "af0233c9-29b7-4b42-94e9-52bc363fe80c"
   },
   "outputs": [
    {
     "name": "stdout",
     "output_type": "stream",
     "text": [
      "Observed chi2: 1.6659\n",
      "Resampled p-value: 0.4820\n"
     ]
    }
   ],
   "source": [
    "# Resampling approach\n",
    "box = [1] * 34\n",
    "box.extend([0] * 2966)\n",
    "random.shuffle(box)\n",
    "\n",
    "def chi2(observed, expected):\n",
    "    pearson_residuals = []\n",
    "    for row, expect in zip(observed, expected):\n",
    "        pearson_residuals.append([(observe - expect) ** 2 / expect\n",
    "                                  for observe in row])\n",
    "    # return sum of squares\n",
    "    return np.sum(pearson_residuals)\n",
    "\n",
    "expected_clicks = 34 / 3\n",
    "expected_noclicks = 1000 - expected_clicks\n",
    "expected = [34 / 3, 1000 - 34 / 3]\n",
    "chi2observed = chi2(clicks.values, expected)\n",
    "\n",
    "def perm_fun(box):\n",
    "    sample_clicks = [sum(random.sample(box, 1000)),\n",
    "                     sum(random.sample(box, 1000)),\n",
    "                     sum(random.sample(box, 1000))]\n",
    "    sample_noclicks = [1000 - n for n in sample_clicks]\n",
    "    return chi2([sample_clicks, sample_noclicks], expected)\n",
    "\n",
    "perm_chi2 = [perm_fun(box) for _ in range(2000)]\n",
    "\n",
    "resampled_p_value = sum(perm_chi2 > chi2observed) / len(perm_chi2)\n",
    "print(f'Observed chi2: {chi2observed:.4f}')\n",
    "print(f'Resampled p-value: {resampled_p_value:.4f}')"
   ]
  },
  {
   "cell_type": "markdown",
   "metadata": {},
   "source": [
    "$$ \\chi{2} = \\Sigma\\frac{(O_i-E_i)^2}{E_i} $$"
   ]
  },
  {
   "cell_type": "markdown",
   "metadata": {},
   "source": [
    "$$ E = \\frac{\\text{(row_total)(column_total)}}{\\text{total_sample_size}} $$"
   ]
  },
  {
   "cell_type": "markdown",
   "metadata": {},
   "source": [
    "O is observed count for each cell amd E denote the respective expected counts for each cell."
   ]
  },
  {
   "cell_type": "code",
   "execution_count": 50,
   "metadata": {},
   "outputs": [
    {
     "data": {
      "text/html": [
       "<div>\n",
       "<style scoped>\n",
       "    .dataframe tbody tr th:only-of-type {\n",
       "        vertical-align: middle;\n",
       "    }\n",
       "\n",
       "    .dataframe tbody tr th {\n",
       "        vertical-align: top;\n",
       "    }\n",
       "\n",
       "    .dataframe thead th {\n",
       "        text-align: right;\n",
       "    }\n",
       "</style>\n",
       "<table border=\"1\" class=\"dataframe\">\n",
       "  <thead>\n",
       "    <tr style=\"text-align: right;\">\n",
       "      <th>Headline</th>\n",
       "      <th>Headline A</th>\n",
       "      <th>Headline B</th>\n",
       "      <th>Headline C</th>\n",
       "    </tr>\n",
       "    <tr>\n",
       "      <th>Click</th>\n",
       "      <th></th>\n",
       "      <th></th>\n",
       "      <th></th>\n",
       "    </tr>\n",
       "  </thead>\n",
       "  <tbody>\n",
       "    <tr>\n",
       "      <th>Click</th>\n",
       "      <td>14</td>\n",
       "      <td>8</td>\n",
       "      <td>12</td>\n",
       "    </tr>\n",
       "    <tr>\n",
       "      <th>No-click</th>\n",
       "      <td>986</td>\n",
       "      <td>992</td>\n",
       "      <td>988</td>\n",
       "    </tr>\n",
       "  </tbody>\n",
       "</table>\n",
       "</div>"
      ],
      "text/plain": [
       "Headline  Headline A  Headline B  Headline C\n",
       "Click                                       \n",
       "Click             14           8          12\n",
       "No-click         986         992         988"
      ]
     },
     "execution_count": 50,
     "metadata": {},
     "output_type": "execute_result"
    }
   ],
   "source": [
    "clicks"
   ]
  },
  {
   "cell_type": "code",
   "execution_count": 51,
   "metadata": {
    "execution": {
     "iopub.execute_input": "2021-04-25T16:39:51.852755Z",
     "iopub.status.busy": "2021-04-25T16:39:51.851956Z",
     "iopub.status.idle": "2021-04-25T16:39:51.855879Z",
     "shell.execute_reply": "2021-04-25T16:39:51.855314Z"
    },
    "id": "Cye2-8VzxYUL",
    "outputId": "abc76274-d7d1-4769-a842-b45476a8c906"
   },
   "outputs": [
    {
     "name": "stdout",
     "output_type": "stream",
     "text": [
      "Observed chi2: 1.6659\n",
      "p-value: 0.4348\n"
     ]
    }
   ],
   "source": [
    "chisq, pvalue, df, expected = stats.chi2_contingency(clicks)\n",
    "print(f'Observed chi2: {chisq:.4f}')\n",
    "print(f'p-value: {pvalue:.4f}')"
   ]
  },
  {
   "cell_type": "code",
   "execution_count": 53,
   "metadata": {},
   "outputs": [
    {
     "data": {
      "text/plain": [
       "array([[ 11.33333333,  11.33333333,  11.33333333],\n",
       "       [988.66666667, 988.66666667, 988.66666667]])"
      ]
     },
     "execution_count": 53,
     "metadata": {},
     "output_type": "execute_result"
    }
   ],
   "source": [
    "expected"
   ]
  },
  {
   "cell_type": "code",
   "execution_count": null,
   "metadata": {},
   "outputs": [],
   "source": []
  },
  {
   "cell_type": "code",
   "execution_count": 56,
   "metadata": {},
   "outputs": [],
   "source": [
    "import pandas as pd\n",
    "import scipy.stats as stats\n",
    "\n",
    "# To load a sample dataset for this demonstration\n",
    "import statsmodels.api as sm\n",
    "\n",
    "df = sm.datasets.webuse(\"citytemp2\")"
   ]
  },
  {
   "cell_type": "code",
   "execution_count": 57,
   "metadata": {},
   "outputs": [
    {
     "data": {
      "text/plain": [
       "956"
      ]
     },
     "execution_count": 57,
     "metadata": {},
     "output_type": "execute_result"
    }
   ],
   "source": [
    "df.head(5)\n",
    "len(df)"
   ]
  },
  {
   "cell_type": "code",
   "execution_count": 58,
   "metadata": {},
   "outputs": [
    {
     "data": {
      "text/html": [
       "<div>\n",
       "<style scoped>\n",
       "    .dataframe tbody tr th:only-of-type {\n",
       "        vertical-align: middle;\n",
       "    }\n",
       "\n",
       "    .dataframe tbody tr th {\n",
       "        vertical-align: top;\n",
       "    }\n",
       "\n",
       "    .dataframe thead th {\n",
       "        text-align: right;\n",
       "    }\n",
       "</style>\n",
       "<table border=\"1\" class=\"dataframe\">\n",
       "  <thead>\n",
       "    <tr style=\"text-align: right;\">\n",
       "      <th>agecat</th>\n",
       "      <th>19-29</th>\n",
       "      <th>30-34</th>\n",
       "      <th>35+</th>\n",
       "    </tr>\n",
       "    <tr>\n",
       "      <th>region</th>\n",
       "      <th></th>\n",
       "      <th></th>\n",
       "      <th></th>\n",
       "    </tr>\n",
       "  </thead>\n",
       "  <tbody>\n",
       "    <tr>\n",
       "      <th>NE</th>\n",
       "      <td>46</td>\n",
       "      <td>83</td>\n",
       "      <td>37</td>\n",
       "    </tr>\n",
       "    <tr>\n",
       "      <th>N Cntrl</th>\n",
       "      <td>162</td>\n",
       "      <td>92</td>\n",
       "      <td>30</td>\n",
       "    </tr>\n",
       "    <tr>\n",
       "      <th>South</th>\n",
       "      <td>139</td>\n",
       "      <td>68</td>\n",
       "      <td>43</td>\n",
       "    </tr>\n",
       "    <tr>\n",
       "      <th>West</th>\n",
       "      <td>160</td>\n",
       "      <td>73</td>\n",
       "      <td>23</td>\n",
       "    </tr>\n",
       "  </tbody>\n",
       "</table>\n",
       "</div>"
      ],
      "text/plain": [
       "agecat   19-29  30-34  35+\n",
       "region                    \n",
       "NE          46     83   37\n",
       "N Cntrl    162     92   30\n",
       "South      139     68   43\n",
       "West       160     73   23"
      ]
     },
     "execution_count": 58,
     "metadata": {},
     "output_type": "execute_result"
    }
   ],
   "source": [
    "crosstab=pd.crosstab(df[\"region\"], df[\"agecat\"])\n",
    "crosstab"
   ]
  },
  {
   "cell_type": "code",
   "execution_count": 60,
   "metadata": {},
   "outputs": [
    {
     "data": {
      "text/plain": [
       "(4, 3)"
      ]
     },
     "execution_count": 60,
     "metadata": {},
     "output_type": "execute_result"
    }
   ],
   "source": [
    "crosstab.shape"
   ]
  },
  {
   "cell_type": "code",
   "execution_count": 59,
   "metadata": {},
   "outputs": [
    {
     "data": {
      "text/plain": [
       "(61.28767688406036,\n",
       " 2.463382670201326e-11,\n",
       " 6,\n",
       " array([[ 88.03556485,  54.87029289,  23.09414226],\n",
       "        [150.61506276,  93.87447699,  39.51046025],\n",
       "        [132.58368201,  82.63598326,  34.78033473],\n",
       "        [135.76569038,  84.61924686,  35.61506276]]))"
      ]
     },
     "execution_count": 59,
     "metadata": {},
     "output_type": "execute_result"
    }
   ],
   "source": [
    "stats.chi2_contingency(crosstab)"
   ]
  },
  {
   "cell_type": "markdown",
   "metadata": {},
   "source": [
    "There is a relationship between region and the age distribution, $\\chi^{2}$(6) = 61.29, p< 0.0001."
   ]
  },
  {
   "cell_type": "markdown",
   "metadata": {
    "id": "xoHOZq_qxYUL"
   },
   "source": [
    "### Figure chi-sq distribution"
   ]
  },
  {
   "cell_type": "code",
   "execution_count": 31,
   "metadata": {
    "execution": {
     "iopub.execute_input": "2021-04-25T16:39:51.861698Z",
     "iopub.status.busy": "2021-04-25T16:39:51.861109Z",
     "iopub.status.idle": "2021-04-25T16:39:51.971516Z",
     "shell.execute_reply": "2021-04-25T16:39:51.971075Z"
    },
    "id": "-HdzVIKvxYUM",
    "outputId": "ac052476-9cc3-40d4-a78c-5aa98703f5f5"
   },
   "outputs": [
    {
     "data": {
      "image/png": "[encoded data removed]",
      "text/plain": [
       "<Figure size 288x180 with 1 Axes>"
      ]
     },
     "metadata": {
      "needs_background": "light"
     },
     "output_type": "display_data"
    }
   ],
   "source": [
    "x = [1 + i * (30 - 1) / 99 for i in range(100)]\n",
    "\n",
    "chi = pd.DataFrame({\n",
    "    'x': x,\n",
    "    'chi_1': stats.chi2.pdf(x, df=1),\n",
    "    'chi_2': stats.chi2.pdf(x, df=2),\n",
    "    'chi_5': stats.chi2.pdf(x, df=5),\n",
    "    'chi_10': stats.chi2.pdf(x, df=10),\n",
    "    'chi_20': stats.chi2.pdf(x, df=20),\n",
    "})\n",
    "fig, ax = plt.subplots(figsize=(4, 2.5))\n",
    "ax.plot(chi.x, chi.chi_1, color='black', linestyle='-', label='1')\n",
    "ax.plot(chi.x, chi.chi_2, color='black', linestyle=(0, (1, 1)), label='2')\n",
    "ax.plot(chi.x, chi.chi_5, color='black', linestyle=(0, (2, 1)), label='5')\n",
    "ax.plot(chi.x, chi.chi_10, color='black', linestyle=(0, (3, 1)), label='10')\n",
    "ax.plot(chi.x, chi.chi_20, color='black', linestyle=(0, (4, 1)), label='20')\n",
    "ax.legend(title='df')\n",
    "\n",
    "plt.tight_layout()\n",
    "plt.show()"
   ]
  },
  {
   "cell_type": "markdown",
   "metadata": {},
   "source": [
    "![image info](pics/Chi-Square.png)"
   ]
  },
  {
   "cell_type": "markdown",
   "metadata": {
    "id": "F7H_zdYWxYUM"
   },
   "source": [
    "### Fisher's Exact Test\n",
    "Fisher's exact test is a statistical significance test used in the analysis of contingency tables.\n",
    "\n",
    "Scipy has only an implementation of Fisher's Exact test for 2x2 matrices. There is a github repository that provides a Python implementation that uses the same code as the R version. Installing this requires a Fortran compiler. \n",
    "```\n",
    "stats.fisher_exact(clicks)\n",
    "```"
   ]
  },
  {
   "cell_type": "code",
   "execution_count": 32,
   "metadata": {
    "execution": {
     "iopub.execute_input": "2021-04-25T16:39:51.975368Z",
     "iopub.status.busy": "2021-04-25T16:39:51.974696Z",
     "iopub.status.idle": "2021-04-25T16:39:51.978850Z",
     "shell.execute_reply": "2021-04-25T16:39:51.978330Z"
    },
    "id": "xWTgzVOlxYUM"
   },
   "outputs": [],
   "source": [
    "# stats.fisher_exact(clicks.values)"
   ]
  },
  {
   "cell_type": "markdown",
   "metadata": {
    "id": "46ZLJ__hxYUN"
   },
   "source": [
    "#### Example: Scientific Fraud"
   ]
  },
  {
   "cell_type": "markdown",
   "metadata": {},
   "source": [
    "An interesting example is provided by the case of Tufts University researcher Thereza\n",
    "Imanishi-Kari, who was accused in 1991 of fabricating data in her research. Congress‐\n",
    "man John Dingell became involved, and the case eventually led to the resignation of\n",
    "her colleague, David Baltimore, from the presidency of Rockefeller University.\n",
    "One element in the case rested on statistical evidence regarding the expected distribu‐\n",
    "tion of digits in her laboratory data, where each observation had many digits. Investi‐\n",
    "gators focused on the interior digits (ignoring the first digit and last digit of a\n",
    "number), which would be expected to follow a uniform random distribution. That is,\n",
    "they would occur randomly, with each digit having equal probability of occurring (the\n",
    "lead digit might be predominantly one value, and the final digits might be affected by\n",
    "rounding). Table 3-7 lists the frequencies of interior digits from the actual data in the\n",
    "case.\n"
   ]
  },
  {
   "cell_type": "code",
   "execution_count": 33,
   "metadata": {
    "execution": {
     "iopub.execute_input": "2021-04-25T16:39:51.985067Z",
     "iopub.status.busy": "2021-04-25T16:39:51.983755Z",
     "iopub.status.idle": "2021-04-25T16:39:52.092967Z",
     "shell.execute_reply": "2021-04-25T16:39:52.092651Z"
    },
    "id": "-TWmPgH3xYUN",
    "outputId": "3fec7031-8f57-4118-963d-00e381c43e86"
   },
   "outputs": [
    {
     "data": {
      "image/png": "[encoded data removed]",
      "text/plain": [
       "<Figure size 288x288 with 1 Axes>"
      ]
     },
     "metadata": {
      "needs_background": "light"
     },
     "output_type": "display_data"
    }
   ],
   "source": [
    "imanishi = pd.read_csv(IMANISHI_CSV)\n",
    "imanishi.columns = [c.strip() for c in imanishi.columns]\n",
    "ax = imanishi.plot.bar(x='Digit', y=['Frequency'], legend=False,\n",
    "                      figsize=(4, 4))\n",
    "ax.set_xlabel('Digit')\n",
    "ax.set_ylabel('Frequency')\n",
    "\n",
    "plt.tight_layout()\n",
    "plt.show()"
   ]
  },
  {
   "cell_type": "markdown",
   "metadata": {},
   "source": [
    "The distribution of the 315 digits, certainly looks nonrandom.\n",
    "Investigators calculated the departure from expectation (31.5—that’s how often each\n",
    "digit would occur in a strictly uniform distribution) and used a chi-square test (a\n",
    "resampling procedure could equally have been used) to show that the actual distribu‐\n",
    "tion was well beyond the range of normal chance variation, indicating the data might\n",
    "have been fabricated. (Note: Imanishi-Kari was ultimately exonerated after a lengthy\n",
    "proceeding."
   ]
  },
  {
   "cell_type": "markdown",
   "metadata": {
    "id": "Myi20o16xYUN"
   },
   "source": [
    "## Power and Sample Size\n",
    "\n",
    "Key Terms for Power and Sample Size\n",
    "- Effect size:\n",
    "The minimum size of the effect that you hope to be able to detect in a statistical\n",
    "test, such as “a 20% improvement in click rates.”\n",
    "- Power:\n",
    "The probability of detecting a given effect size with a given sample size.\n",
    "- Significance level:\n",
    "The statistical significance level at which the test will be conducted\n",
    "\n",
    "statsmodels has a number of methods for power calculation\n",
    "\n",
    "see e.g.: https://machinelearningmastery.com/statistical-power-and-power-analysis-in-python/"
   ]
  },
  {
   "cell_type": "code",
   "execution_count": 61,
   "metadata": {},
   "outputs": [],
   "source": [
    "sm.stats.proportion_effectsize?"
   ]
  },
  {
   "cell_type": "code",
   "execution_count": 34,
   "metadata": {
    "execution": {
     "iopub.execute_input": "2021-04-25T16:39:52.097867Z",
     "iopub.status.busy": "2021-04-25T16:39:52.096595Z",
     "iopub.status.idle": "2021-04-25T16:39:52.102491Z",
     "shell.execute_reply": "2021-04-25T16:39:52.102182Z"
    },
    "id": "NiSa2d9bxYUN",
    "outputId": "84bb0f59-9cd9-4ab0-9445-552448aa6a0b"
   },
   "outputs": [
    {
     "name": "stdout",
     "output_type": "stream",
     "text": [
      "Sample Size: 116602.393\n"
     ]
    }
   ],
   "source": [
    "effect_size = sm.stats.proportion_effectsize(0.0121, 0.011)\n",
    "analysis = sm.stats.TTestIndPower()\n",
    "result = analysis.solve_power(effect_size=effect_size, \n",
    "                              alpha=0.05, power=0.8, alternative='larger')\n",
    "print('Sample Size: %.3f' % result)"
   ]
  },
  {
   "cell_type": "code",
   "execution_count": 35,
   "metadata": {
    "execution": {
     "iopub.execute_input": "2021-04-25T16:39:52.106735Z",
     "iopub.status.busy": "2021-04-25T16:39:52.106256Z",
     "iopub.status.idle": "2021-04-25T16:39:52.111165Z",
     "shell.execute_reply": "2021-04-25T16:39:52.110859Z"
    },
    "id": "oTKL9X6KxYUN",
    "outputId": "e9d6fde7-3948-4e4a-fb10-32e19a41310c"
   },
   "outputs": [
    {
     "name": "stdout",
     "output_type": "stream",
     "text": [
      "Sample Size: 5488.408\n"
     ]
    }
   ],
   "source": [
    "effect_size = sm.stats.proportion_effectsize(0.0165, 0.011)\n",
    "analysis = sm.stats.TTestIndPower()\n",
    "result = analysis.solve_power(effect_size=effect_size, \n",
    "                              alpha=0.05, power=0.8, alternative='larger')\n",
    "print('Sample Size: %.3f' % result)"
   ]
  },
  {
   "cell_type": "code",
   "execution_count": 64,
   "metadata": {},
   "outputs": [
    {
     "name": "stdout",
     "output_type": "stream",
     "text": [
      "Sample Size: 140498.254\n"
     ]
    }
   ],
   "source": [
    "effect_size = sm.stats.proportion_effectsize(0.012, 0.011)\n",
    "analysis = sm.stats.TTestIndPower()\n",
    "result = analysis.solve_power(effect_size=effect_size, \n",
    "                              alpha=0.05, power=0.8, alternative='larger')\n",
    "print('Sample Size: %.3f' % result)"
   ]
  },
  {
   "cell_type": "markdown",
   "metadata": {},
   "source": [
    "We see that if we want a power of 80%, we require a sample size of almost 120,000 impressions. If we are seeking a 50% boost\n",
    "(p1=0.0165), the sample size is reduced to 5,500 impressions."
   ]
  },
  {
   "cell_type": "code",
   "execution_count": null,
   "metadata": {},
   "outputs": [],
   "source": []
  }
 ],
 "metadata": {
  "colab": {
   "name": "d4pm.ipynb",
   "provenance": []
  },
  "kernelspec": {
   "display_name": "Python 3",
   "language": "python",
   "name": "python3"
  },
  "language_info": {
   "codemirror_mode": {
    "name": "ipython",
    "version": 3
   },
   "file_extension": ".py",
   "mimetype": "text/x-python",
   "name": "python",
   "nbconvert_exporter": "python",
   "pygments_lexer": "ipython3",
   "version": "3.8.5"
  }
 },
 "nbformat": 4,
 "nbformat_minor": 1
}
