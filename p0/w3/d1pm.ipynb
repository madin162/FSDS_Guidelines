{
 "cells": [
  {
   "cell_type": "markdown",
   "metadata": {
    "id": "XJ9vgCCIcg_V"
   },
   "source": [
    "Hi All, welcome to PM session of Week 3 Day 1 - Phase 0. Today we will learn about:\n",
    "\n",
    "\n",
    "1. Basic of Probability\n",
    "2. Conditional Events\n",
    "3. Random Variables\n",
    "\n",
    "Please enjoy the material and let's dig in!\n",
    "\n"
   ]
  },
  {
   "cell_type": "markdown",
   "metadata": {
    "id": "R5UdmZBXelR3"
   },
   "source": [
    "# Week 3: Day 1 PM // Probability"
   ]
  },
  {
   "cell_type": "markdown",
   "metadata": {
    "id": "A61Fz4wChbB5"
   },
   "source": [
    "Many of the problems we try to solve using statistics have something to do with *probability*. For example, what's the probable salary for a graduate who scored a given score in their final exam at school? Or, what's the likely height of a child given the height of his or her parents?\n",
    "\n",
    "It is therefore makes sense to learn some basic principles of probability as we study statistics."
   ]
  },
  {
   "cell_type": "markdown",
   "metadata": {
    "id": "9hz9D0uYc6Yb"
   },
   "source": [
    "## Probability Basics"
   ]
  },
  {
   "cell_type": "markdown",
   "metadata": {
    "id": "1a03ouWQeop4"
   },
   "source": [
    "### Basic Definitions and Principles"
   ]
  },
  {
   "cell_type": "markdown",
   "metadata": {
    "id": "IF0-vcxNhles"
   },
   "source": [
    "Let's start with some basic definitions and principles."
   ]
  },
  {
   "cell_type": "markdown",
   "metadata": {
    "id": "wst_3cLzhh0F"
   },
   "source": [
    "### Definitions"
   ]
  },
  {
   "cell_type": "markdown",
   "metadata": {
    "id": "cLq1eSFdZyaj"
   },
   "source": [
    "- An ***experiment*** or ***trial*** is an action with an uncertain outcome, such as tossing a coin.\n",
    "- A ***sample space*** is the set of all possible outcomes of an experiment. In a coin toss, there's a set of two possible oucomes (*heads* and *tails*).\n",
    "- A ***sample point*** is a single possible outcome - for example, *heads*)\n",
    "- An ***event*** is a specific outome of single instance of an experiment - for example, tossing a coin and getting *tails*.\n",
    "- ***Probability*** is a value between 0 and 1 that indicates the likelihood of a particular event, with 0 meaning that the event is impossible, and 1 meaning that the event is inevitable. In general terms, it's calculated like this:\n",
    "\n",
    "$\\begin{equation}\\text{probability of an event} = \\frac{\\text{Number of sample points that produce the event}}{\\text{Total number of sample points in the sample space}} \\end{equation}$\n",
    "\n",
    "For example, the probability of getting *heads* when tossing as coin is <sup>1</sup>/<sub>2</sub> - there is only one side of the coin that is designated *heads*. and there are two possible outcomes in the sample space (*heads* and *tails*). So the probability of getting *heads* in a single coin toss is 0.5 (or 50% when expressed as a percentage).\n",
    "\n",
    "Let's look at another example. Suppose you throw two dice, hoping to get 7.\n",
    "\n",
    "The dice throw itself is an *experiment* - you don't know the outome until the dice have landed and settled.\n",
    "\n",
    "The *sample space* of all possible outcomes is every combination of two dice - 36 *sample points*:\n",
    "<table style='font-size:36px;'>\n",
    "<tr><td>&#9856;+&#9856;</td><td>&#9856;+&#9857;</td><td>&#9856;+&#9858;</td><td>&#9856;+&#9859;</td><td>&#9856;+&#9860;</td><td>&#9856;+&#9861;</td></tr>\n",
    "<tr><td>&#9857;+&#9856;</td><td>&#9857;+&#9857;</td><td>&#9857;+&#9858;</td><td>&#9857;+&#9859;</td><td>&#9857;+&#9860;</td><td>&#9857;+&#9861;</td></tr>\n",
    "<tr><td>&#9858;+&#9856;</td><td>&#9858;+&#9857;</td><td>&#9858;+&#9858;</td><td>&#9858;+&#9859;</td><td>&#9858;+&#9860;</td><td>&#9858;+&#9861;</td></tr>\n",
    "<tr><td>&#9859;+&#9856;</td><td>&#9859;+&#9857;</td><td>&#9859;+&#9858;</td><td>&#9859;+&#9859;</td><td>&#9859;+&#9860;</td><td>&#9859;+&#9861;</td></tr>\n",
    "<tr><td>&#9860;+&#9856;</td><td>&#9860;+&#9857;</td><td>&#9860;+&#9858;</td><td>&#9860;+&#9859;</td><td>&#9860;+&#9860;</td><td>&#9860;+&#9861;</td></tr>\n",
    "<tr><td>&#9861;+&#9856;</td><td>&#9861;+&#9857;</td><td>&#9861;+&#9858;</td><td>&#9861;+&#9859;</td><td>&#9861;+&#9860;</td><td>&#9861;+&#9861;</td></tr>\n",
    "</table>\n",
    "\n",
    "The *event* you want to happen is throwing a 7. There are 6 *sample points* that could produce this event:\n",
    "\n",
    "<table style='font-size:36px;'>\n",
    "<tr><td style='color:lightgrey;'>&#9856;+&#9856;</td><td style='color:lightgrey;'>&#9856;+&#9857;</td><td style='color:lightgrey;'>&#9856;+&#9858;</td><td style='color:lightgrey;'>&#9856;+&#9859;</td><td style='color:lightgrey;'>&#9856;+&#9860;</td><td>&#9856;+&#9861;</td></tr>\n",
    "<tr><td style='color:lightgrey;'>&#9857;+&#9856;</td><td style='color:lightgrey;'>&#9857;+&#9857;</td><td style='color:lightgrey;'>&#9857;+&#9858;</td><td style='color:lightgrey;'>&#9857;+&#9859;</td><td>&#9857;+&#9860;</td><td style='color:lightgrey;'>&#9857;+&#9861;</td></tr>\n",
    "<tr><td style='color:lightgrey;'>&#9858;+&#9856;</td><td style='color:lightgrey;'>&#9858;+&#9857;</td><td style='color:lightgrey;'>&#9858;+&#9858;</td><td>&#9858;+&#9859;</td><td style='color:lightgrey;'>&#9858;+&#9860;</td><td style='color:lightgrey;'>&#9858;+&#9861;</td></tr>\n",
    "<tr><td style='color:lightgrey;'>&#9859;+&#9856;</td><td style='color:lightgrey;'>&#9859;+&#9857;</td><td>&#9859;+&#9858;</td><td style='color:lightgrey;'>&#9859;+&#9859;</td><td style='color:lightgrey;'>&#9859;+&#9860;</td><td style='color:lightgrey;'>&#9859;+&#9861;</td></tr>\n",
    "<tr><td style='color:lightgrey;'>&#9860;+&#9856;</td><td>&#9860;+&#9857;</td><td style='color:lightgrey;'>&#9860;+&#9858;</td><td style='color:lightgrey;'>&#9860;+&#9859;</td><td style='color:lightgrey;'>&#9860;+&#9860;</td><td style='color:lightgrey;'>&#9860;+&#9861;</td></tr>\n",
    "<tr><td>&#9861;+&#9856;</td><td style='color:lightgrey;'>&#9861;+&#9857;</td><td style='color:lightgrey;'>&#9861;+&#9858;</td><td style='color:lightgrey;'>&#9861;+&#9859;</td><td style='color:lightgrey;'>&#9861;+&#9860;</td><td style='color:lightgrey;'>&#9861;+&#9861;</td></tr>\n",
    "</table>\n",
    "\n",
    "The *probability* of throwing a 7 is therefore <sup>6</sup>/<sub>36</sub> which can be simplified to <sup>1</sup>/<sub>6</sub> or approximately 0.167 (16.7%)."
   ]
  },
  {
   "cell_type": "markdown",
   "metadata": {
    "id": "lrsIzeFHfCqQ"
   },
   "source": [
    "### Probability Notation"
   ]
  },
  {
   "cell_type": "markdown",
   "metadata": {
    "id": "vXQJOo8ufHPo"
   },
   "source": [
    "When we express probability, we use an upper-case **P** to indicate *probability* and an upper-case letter to represent the event. So to express the probability of throwing a 7 as an event valled ***A***, we could write:\n",
    "\n",
    "$$\n",
    "\\begin{equation}P(A) = 0.167 \\end{equation}\n",
    "$$\n"
   ]
  },
  {
   "cell_type": "markdown",
   "metadata": {
    "id": "L3udx5aPfLHQ"
   },
   "source": [
    "## The Complement of an Event"
   ]
  },
  {
   "cell_type": "markdown",
   "metadata": {
    "id": "7d3bs6zGfAek"
   },
   "source": [
    "The *complement* of an event is the set of *sample points* that do ***not*** result in the event.\n",
    "\n",
    "For example, suppose you have a standard deck of playing cards, and you draw one card, hoping for a *spade*. In this case, the drawing of a card is the *experiment*, and the *event* is drawing a spade. There are 13 cards of each suit in the deck. So the *sample space* contains 52 *sample points*:\n",
    "\n",
    "<table>\n",
    "<tr><td>13 x <span style='font-size:32px;color:red;'>&hearts;</span></td><td>13 x <span style='font-size:32px;color:black;'>&spades;</span></td><td>13 x <span style='font-size:32px;color:black;'>&clubs;</span></td><td>13 x <span style='font-size:32px;color:red;'>&diams;</span></td></tr>\n",
    "</table>\n",
    "\n",
    "There are 13 *sample points* that would satisfy the requirements of the event:\n",
    "\n",
    "<table>\n",
    "<tr><td style='color:lightgrey;'>13 x <span style='font-size:32px;'>&hearts;</span></td><td>13 x <span style='font-size:32px;'>&spades;</span></td><td style='color:lightgrey;'>13 x <span style='font-size:32px;'>&clubs;</span></td><td style='color:lightgrey;'>13 x <span style='font-size:32px'>&diams;</span></td></tr>\n",
    "</table>\n",
    "\n",
    "So the *probability* of the event (drawing a spade) is <sup>13</sup>/<sub>52</sub> which is <sup>1</sup>/<sub>4</sub> or 0.25 (25%).\n",
    "\n",
    "The *complement* of the event is all of the possible outcomes that *don't* result in drawing a spade:\n",
    "\n",
    "<table>\n",
    "<tr><td>13 x <span style='font-size:32px;color:red;'>&hearts;</span></td><td style='color:lightgrey;'>13 x <span style='font-size:32px;'>&spades;</span></td><td>13 x <span style='font-size:32px;color:black;'>&clubs;</span></td><td>13 x <span style='font-size:32px;color:red;'>&diams;</span></td></tr>\n",
    "</table>\n",
    "\n",
    "There are 39 sample points in the complement (3 x 13), so the probability of the complement is <sup>39</sup>/<sub>52</sub> which is <sup>3</sup>/<sub>4</sub> or 0.75 (75%).\n",
    "\n",
    "Note that the probability of an event and the probability of its complement ***always add up to 1***.\n",
    "\n",
    "This fact can be useful in some cases. For example, suppose you throw two dice and want to know the probability of throwing more than 4. You *could* count all of the outcomes that would produce this result, but there are a lot of them. It might be easier to identify the ones that *do not* produce this result (in other words, the complement):\n",
    "\n",
    "<table style='font-size:36px;'>\n",
    "<tr><td>&#9856;+&#9856;</td><td>&#9856;+&#9857;</td><td>&#9856;+&#9858;</td><td style='color:lightgrey;'>&#9856;+&#9859;</td><td style='color:lightgrey;'>&#9856;+&#9860;</td><td style='color:lightgrey;'>&#9856;+&#9861;</td></tr>\n",
    "<tr><td>&#9857;+&#9856;</td><td>&#9857;+&#9857;</td><td style='color:lightgrey;'>&#9857;+&#9858;</td><td style='color:lightgrey;'>&#9857;+&#9859;</td><td style='color:lightgrey;'>&#9857;+&#9860;</td><td style='color:lightgrey;'>&#9857;+&#9861;</td></tr>\n",
    "<tr><td>&#9858;+&#9856;</td><td style='color:lightgrey;'>&#9858;+&#9857;</td><td style='color:lightgrey;'>&#9858;+&#9858;</td><td style='color:lightgrey;'>&#9858;+&#9859;</td><td style='color:lightgrey;'>&#9858;+&#9860;</td><td style='color:lightgrey;'>&#9858;+&#9861;</td></tr>\n",
    "<tr><td style='color:lightgrey;'>&#9859;+&#9856;</td><td style='color:lightgrey;'>&#9859;+&#9857;</td><td style='color:lightgrey;'>&#9859;+&#9858;</td><td style='color:lightgrey;'>&#9859;+&#9859;</td><td style='color:lightgrey;'>&#9859;+&#9860;</td><td style='color:lightgrey;'>&#9859;+&#9861;</td></tr>\n",
    "<tr><td style='color:lightgrey;'>&#9860;+&#9856;</td><td style='color:lightgrey;'>&#9860;+&#9857;</td><td style='color:lightgrey;'>&#9860;+&#9858;</td><td style='color:lightgrey;'>&#9860;+&#9859;</td><td style='color:lightgrey;'>&#9860;+&#9860;</td><td style='color:lightgrey;'>&#9860;+&#9861;</td></tr>\n",
    "<tr><td style='color:lightgrey;'>&#9861;+&#9856;</td><td style='color:lightgrey;'>&#9861;+&#9857;</td><td style='color:lightgrey;'>&#9861;+&#9858;</td><td style='color:lightgrey;'>&#9861;+&#9859;</td><td style='color:lightgrey;'>&#9861;+&#9860;</td><td style='color:lightgrey;'>&#9861;+&#9861;</td></tr>\n",
    "</table>\n",
    "\n",
    "Out of a total of 36 sample points in the sample space, there are 6 sample points where you throw a 4 or less (1+1, 1+2, 1+3, 2+1, 2+2, and 3+1); so the probability of the complement is <sup>6</sup>/<sub>36</sub> which is <sup>1</sup>/<sub>6</sub> or approximately 0.167 (16.7%).\n",
    "\n",
    "Now, here's the clever bit. Since the probability of the complement and the event itself must add up to 1, the probability of the event must be **<sup>5</sup>/<sub>6</sub>** or **0.833** (**83.3%**).\n",
    "\n",
    "We indicate the complement of an event by adding a **'** to the letter assigned to it, so:\n",
    "\n",
    "$$\n",
    "\\begin{equation}P(A) = 1 - P(A') \\end{equation}\n",
    "$$"
   ]
  },
  {
   "cell_type": "markdown",
   "metadata": {
    "id": "Oaq9Uh-vfYHe"
   },
   "source": [
    "## Bias"
   ]
  },
  {
   "cell_type": "markdown",
   "metadata": {
    "id": "PylmQhpJfSvx"
   },
   "source": [
    "Often, the sample points in the sample space do not have the same probability, so there is a *bias* that makes one outcome more likely than another. For example, suppose your local weather forecaster indicates the predominant weather for each day of the week like this:\n",
    "\n",
    "<table>\n",
    "<tr><td style='text-align:center'>Mon</td><td style='text-align:center'>Tue</td><td style='text-align:center'>Wed</td><td style='text-align:center'>Thu</td><td style='text-align:center'>Fri</td><td style='text-align:center'>Sat</td><td style='text-align:center'>Sun</td></tr>\n",
    "<tr style='font-size:32px'><td>&#9729;</td><td>&#9730;</td><td>&#9728;</td><td>&#9728;</td><td>&#9728;</td><td>&#9729;</td><td>&#9728;</td></tr>\n",
    "</table>\n",
    "\n",
    "This forceast is pretty typical for your area at this time of the year. In fact, historically the weather is sunny on 60% of days, cloudy on 30% of days, and rainy on only 10% of days. On any given day, the sample space for the weather contains 3 sample points (*sunny*, *cloudy*, and *rainy*); but the probabities for these sample points are not the same.\n",
    "\n",
    "If we assign the letter **A** to a sunny day event, **B** to a cloudy day event, and **C** to a rainy day event then we can write these probabilities like this:\n",
    "\n",
    "$$\n",
    "\\begin{equation}P(A)=0.6\\;\\;\\;\\; P(B)=0.3\\;\\;\\;\\; P(C)=0.1 \\end{equation}\n",
    "$$\n",
    "\n",
    "The complement of **A** (a sunny day) is any day where it is not sunny - it is either cloudy or rainy. We can work out the probability for this in two ways: we can subtract the probablity of **A** from 1:\n",
    "\n",
    "$$\n",
    "\\begin{equation}P(A') = 1 - P(A) = 1 - 0.6 = 0.4 \\end{equation}\n",
    "$$\n",
    "\n",
    "Or we can add together the probabilities for all events that do *not* result in a sunny day:\n",
    "\n",
    "$$\n",
    "\\begin{equation}P(A') = P(B) + P(C) = 0.3 + 0.1 = 0.4 \\end{equation}\n",
    "$$\n",
    "\n",
    "Either way, there's a 40% chance of it not being sunny!\n"
   ]
  },
  {
   "cell_type": "markdown",
   "metadata": {},
   "source": [
    "# Counting"
   ]
  },
  {
   "cell_type": "code",
   "execution_count": 1,
   "metadata": {},
   "outputs": [],
   "source": [
    "import itertools"
   ]
  },
  {
   "cell_type": "markdown",
   "metadata": {},
   "source": [
    "## Permutation"
   ]
  },
  {
   "cell_type": "code",
   "execution_count": 45,
   "metadata": {},
   "outputs": [
    {
     "name": "stdout",
     "output_type": "stream",
     "text": [
      "[('a', 'b'), ('a', 'c'), ('a', 'd'), ('a', 'e'), ('b', 'a'), ('b', 'c'), ('b', 'd'), ('b', 'e'), ('c', 'a'), ('c', 'b'), ('c', 'd'), ('c', 'e'), ('d', 'a'), ('d', 'b'), ('d', 'c'), ('d', 'e'), ('e', 'a'), ('e', 'b'), ('e', 'c'), ('e', 'd')]\n",
      "20\n"
     ]
    }
   ],
   "source": [
    "list_item = ['a','b','c','d','e']\n",
    "perm = list(itertools.permutations(list_item, 2))\n",
    "print(perm)\n",
    "print(len(perm))"
   ]
  },
  {
   "cell_type": "markdown",
   "metadata": {},
   "source": [
    "## Combination"
   ]
  },
  {
   "cell_type": "code",
   "execution_count": 17,
   "metadata": {},
   "outputs": [
    {
     "name": "stdout",
     "output_type": "stream",
     "text": [
      "[('a', 'b', 'c', 'd', 'e')]\n",
      "1\n"
     ]
    }
   ],
   "source": [
    "list_item = ['a','b','c','d','e']\n",
    "comb = list(itertools.combinations(list_item, 5))\n",
    "print(comb)\n",
    "print(len(comb))"
   ]
  },
  {
   "cell_type": "markdown",
   "metadata": {},
   "source": [
    "Probability Counting"
   ]
  },
  {
   "cell_type": "code",
   "execution_count": 46,
   "metadata": {},
   "outputs": [
    {
     "name": "stdout",
     "output_type": "stream",
     "text": [
      "8\n"
     ]
    }
   ],
   "source": [
    "counter=0\n",
    "# Iterate over list of permutation\n",
    "for perm_elem in perm:\n",
    "    #Iterate over permutation result element\n",
    "    for i in perm_elem:\n",
    "        #Event = List contain A\n",
    "        if i == 'a':\n",
    "            counter=counter+1\n",
    "            break\n",
    "\n",
    "print(counter)\n"
   ]
  },
  {
   "cell_type": "code",
   "execution_count": 47,
   "metadata": {},
   "outputs": [
    {
     "name": "stdout",
     "output_type": "stream",
     "text": [
      "0.6\n"
     ]
    }
   ],
   "source": [
    "print(1-counter/len(perm))"
   ]
  },
  {
   "cell_type": "code",
   "execution_count": 48,
   "metadata": {},
   "outputs": [],
   "source": [
    "# Iterate over list of permutation\n",
    "counter_b = 0\n",
    "for perm_elem in perm:\n",
    "    #Iterate over permutation result element\n",
    "    for i in perm_elem:\n",
    "        #Event = List contain A\n",
    "        if i == 'b':\n",
    "            counter_b=counter_b+1\n",
    "            break"
   ]
  },
  {
   "cell_type": "code",
   "execution_count": 49,
   "metadata": {},
   "outputs": [
    {
     "data": {
      "text/plain": [
       "8"
      ]
     },
     "execution_count": 49,
     "metadata": {},
     "output_type": "execute_result"
    }
   ],
   "source": [
    "counter_b"
   ]
  },
  {
   "cell_type": "code",
   "execution_count": 50,
   "metadata": {},
   "outputs": [],
   "source": [
    "prob_a = counter/len(perm)\n",
    "prob_b = counter_b/len(perm)"
   ]
  },
  {
   "cell_type": "code",
   "execution_count": 51,
   "metadata": {},
   "outputs": [
    {
     "name": "stdout",
     "output_type": "stream",
     "text": [
      "0.4\n",
      "0.4\n"
     ]
    }
   ],
   "source": [
    "print(prob_a)\n",
    "print(prob_b)"
   ]
  },
  {
   "cell_type": "code",
   "execution_count": 52,
   "metadata": {},
   "outputs": [
    {
     "data": {
      "text/plain": [
       "0.16000000000000003"
      ]
     },
     "execution_count": 52,
     "metadata": {},
     "output_type": "execute_result"
    }
   ],
   "source": [
    "prob_a*prob_b"
   ]
  },
  {
   "cell_type": "markdown",
   "metadata": {
    "id": "26bw630XcW3S"
   },
   "source": [
    "## Conditional Probability and Dependence"
   ]
  },
  {
   "cell_type": "markdown",
   "metadata": {
    "id": "vSQuDyP_Zyay"
   },
   "source": [
    "Events can be:\n",
    "- *Independent* (events that are not affected by other events)\n",
    "- *Dependent* (events that are conditional on other events)\n",
    "- *Mutually Exclusive* (events that can't occur together)"
   ]
  },
  {
   "cell_type": "markdown",
   "metadata": {
    "id": "vCN4r5beiW2k"
   },
   "source": [
    "### Independent Events"
   ]
  },
  {
   "cell_type": "markdown",
   "metadata": {
    "id": "zgwoSAKsi2WM"
   },
   "source": [
    "#### Basic Principle"
   ]
  },
  {
   "cell_type": "markdown",
   "metadata": {
    "id": "LT2Cu4BaieLw"
   },
   "source": [
    "Imagine you toss a coin. The sample space contains two possible outomes: heads (<span style='font-size:42px;color:gold;'><sub>&#10050;</sub></span>) or tails (<span style='font-size:42px;color:gold;'><sub>&#9854;</sub></span>).\n",
    "\n",
    "The probability of getting *heads* is <sup>1</sup>/<sub>2</sub>, and the probability of getting *tails* is also <sup>1</sup>/<sub>2</sub>. Let's toss a coin...\n",
    "\n",
    "<span style='font-size:48px;color:gold;'>&#10050;</span>\n",
    "\n",
    "OK, so we got *heads*. Now, let's toss the coin again:\n",
    "\n",
    "<span style='font-size:48px;color:gold;'>&#10050;</span>\n",
    "\n",
    "It looks like we got *heads* again. If we were to toss the coin a third time, what's the probability that we'd get *heads*?\n",
    "\n",
    "Although you might be tempted to think that a *tail* is overdue, the fact is that each coin toss is an independent event. The outcome of the first coin toss does not affect the second coin toss (or the third, or any number of other coin tosses). For each independent coin toss, the probability of getting *heads* (or *tails*) remains <sup>1</sup>/<sub>2</sub>, or 50%."
   ]
  },
  {
   "cell_type": "markdown",
   "metadata": {
    "id": "OMsiKO0iaH3l"
   },
   "source": [
    "#### Simulation with Python"
   ]
  },
  {
   "cell_type": "markdown",
   "metadata": {
    "id": "2bZBRauYaT2s"
   },
   "source": [
    "Run the following Python code to simulate 10,000 coin tosses by assigning a random value of 0 or 1 to *heads* and *tails*. Each time the coin is tossed, the probability of getting *heads* or *tails* is 50%, so you should expect approximately half of the results to be *heads* and half to be *tails* (it won't be exactly half, due to a little random variation; but it should be close)"
   ]
  },
  {
   "cell_type": "code",
   "execution_count": 35,
   "metadata": {
    "id": "s_FujKa-Zya1"
   },
   "outputs": [
    {
     "name": "stdout",
     "output_type": "stream",
     "text": [
      "[5018, 4982]\n"
     ]
    },
    {
     "data": {
      "image/png": "[encoded data removed]",
      "text/plain": [
       "<Figure size 360x360 with 1 Axes>"
      ]
     },
     "metadata": {},
     "output_type": "display_data"
    }
   ],
   "source": [
    "%matplotlib inline\n",
    "import random\n",
    "\n",
    "# Create a list with 2 element (for heads and tails)\n",
    "heads_tails = [0,0]\n",
    "\n",
    "# loop through 10000 trials\n",
    "trials = 10000\n",
    "trial = 0\n",
    "while trial < trials:\n",
    "    trial = trial + 1\n",
    "    # Get a random 0 or 1\n",
    "    toss = random.randint(0,1)\n",
    "    # Increment the list element corresponding to the toss result\n",
    "    heads_tails[toss] = heads_tails[toss] + 1\n",
    "\n",
    "print (heads_tails)\n",
    "\n",
    "# Show a pie chart of the results\n",
    "from matplotlib import pyplot as plt\n",
    "plt.figure(figsize=(5,5))\n",
    "plt.pie(heads_tails, labels=['heads', 'tails'])\n",
    "plt.legend()\n",
    "plt.show()"
   ]
  },
  {
   "cell_type": "code",
   "execution_count": 36,
   "metadata": {},
   "outputs": [
    {
     "data": {
      "text/plain": [
       "[5018, 4982]"
      ]
     },
     "execution_count": 36,
     "metadata": {},
     "output_type": "execute_result"
    }
   ],
   "source": [
    "heads_tails"
   ]
  },
  {
   "cell_type": "markdown",
   "metadata": {
    "id": "1vInc9PRf33f"
   },
   "source": [
    "#### Combining Independent Events"
   ]
  },
  {
   "cell_type": "markdown",
   "metadata": {
    "id": "-YMdhza9Zya3"
   },
   "source": [
    "Now, let's ask a slightly different question. What is the probability of getting three *heads* in a row? Since the probability of a heads on each independent toss is <sup>1</sup>/<sub>2</sub>, you might be tempted to think that the same probability applies to getting three *heads* in a row; but actually, we need to treat getting three *heads* as it's own event, which is the combination of three independent events. To combine independent events like this, we need to multiply the probability of each event. So:\n",
    "\n",
    "<span style='font-size:48px;color:gold;'><sub>&#10050;</sub></span> = <sup>1</sup>/<sub>2</sub>\n",
    "\n",
    "<span style='font-size:48px;color:gold;'><sub>&#10050;&#10050;</sub></span> = <sup>1</sup>/<sub>2</sub> x <sup>1</sup>/<sub>2</sub>\n",
    "\n",
    "<span style='font-size:48px;color:gold;'><sub>&#10050;&#10050;&#10050;</sub></span> = <sup>1</sup>/<sub>2</sub> x <sup>1</sup>/<sub>2</sub> x <sup>1</sup>/<sub>2</sub>\n",
    "\n",
    "So the probability of tossing three *heads* in a row is 0.5 x 0.5 x 0.5, which is 0.125 (or 12.5%)."
   ]
  },
  {
   "cell_type": "markdown",
   "metadata": {
    "id": "epJ5hPD5jBOR"
   },
   "source": [
    "#### Python Simulation"
   ]
  },
  {
   "cell_type": "markdown",
   "metadata": {
    "id": "y9N3iEwxjE6V"
   },
   "source": [
    "Run the code below to simulate 10,000 trials of flipping a coin three times:"
   ]
  },
  {
   "cell_type": "code",
   "execution_count": 37,
   "metadata": {
    "id": "-tEMyJo2Zya4"
   },
   "outputs": [
    {
     "name": "stdout",
     "output_type": "stream",
     "text": [
      "12.69%\n",
      "[['T', 'H', 'H'], ['H', 'T', 'T'], ['H', 'H', 'H'], ['T', 'T', 'T'], ['T', 'H', 'T'], ['T', 'T', 'H'], ['T', 'T', 'H'], ['H', 'T', 'T'], ['H', 'T', 'H'], ['H', 'H', 'T'], ['H', 'T', 'H'], ['H', 'H', 'T'], ['H', 'H', 'H'], ['T', 'T', 'T'], ['T', 'T', 'H'], ['H', 'H', 'T'], ['T', 'T', 'H'], ['H', 'H', 'T'], ['T', 'T', 'H'], ['H', 'H', 'T'], ['H', 'T', 'H'], ['T', 'H', 'T'], ['H', 'T', 'H'], ['H', 'T', 'T'], ['H', 'T', 'H'], ['T', 'H', 'T'], ['H', 'H', 'H'], ['T', 'H', 'T'], ['H', 'H', 'T'], ['H', 'T', 'H'], ['H', 'H', 'H'], ['H', 'H', 'H'], ['H', 'T', 'H'], ['H', 'H', 'T'], ['H', 'T', 'H'], ['T', 'T', 'T'], ['T', 'T', 'H'], ['H', 'T', 'H'], ['H', 'T', 'T'], ['T', 'H', 'T'], ['H', 'H', 'H'], ['T', 'H', 'T'], ['T', 'T', 'H'], ['T', 'T', 'T'], ['T', 'T', 'H'], ['H', 'T', 'H'], ['H', 'H', 'T'], ['T', 'T', 'H'], ['H', 'T', 'T'], ['H', 'T', 'T'], ['T', 'T', 'H'], ['T', 'T', 'T'], ['H', 'T', 'T'], ['T', 'H', 'T'], ['T', 'T', 'H'], ['H', 'T', 'T'], ['H', 'H', 'T'], ['T', 'H', 'H'], ['T', 'H', 'H'], ['T', 'T', 'T'], ['T', 'H', 'T'], ['T', 'H', 'T'], ['T', 'T', 'H'], ['H', 'H', 'T'], ['H', 'T', 'T'], ['T', 'T', 'T'], ['T', 'H', 'T'], ['H', 'H', 'T'], ['H', 'T', 'H'], ['T', 'H', 'T'], ['T', 'T', 'H'], ['H', 'T', 'H'], ['H', 'T', 'H'], ['T', 'H', 'T'], ['H', 'T', 'H'], ['T', 'T', 'T'], ['H', 'H', 'T'], ['H', 'T', 'T'], ['T', 'T', 'T'], ['T', 'T', 'H'], ['H', 'H', 'T'], ['T', 'T', 'T'], ['H', 'T', 'T'], ['H', 'T', 'T'], ['H', 'T', 'H'], ['H', 'H', 'T'], ['T', 'H', 'H'], ['T', 'H', 'H'], ['H', 'T', 'T'], ['T', 'H', 'H'], ['T', 'T', 'H'], ['T', 'T', 'H'], ['H', 'H', 'T'], ['T', 'T', 'T'], ['T', 'H', 'H'], ['H', 'T', 'H'], ['T', 'H', 'T'], ['H', 'H', 'T'], ['H', 'H', 'H'], ['H', 'H', 'H'], ['H', 'H', 'H'], ['T', 'T', 'H'], ['T', 'H', 'H'], ['T', 'H', 'T'], ['T', 'T', 'T'], ['T', 'T', 'H'], ['T', 'T', 'T'], ['T', 'H', 'H'], ['H', 'T', 'T'], ['T', 'T', 'H'], ['H', 'T', 'H'], ['T', 'T', 'T'], ['T', 'T', 'H'], ['H', 'H', 'T'], ['H', 'T', 'H'], ['T', 'T', 'H'], ['H', 'H', 'H'], ['T', 'T', 'T'], ['T', 'H', 'T'], ['T', 'T', 'T'], ['H', 'H', 'T'], ['H', 'T', 'T'], ['T', 'H', 'T'], ['T', 'T', 'T'], ['H', 'T', 'H'], ['H', 'H', 'H'], ['T', 'T', 'T'], ['T', 'T', 'H'], ['T', 'T', 'H'], ['T', 'H', 'H'], ['T', 'T', 'H'], ['T', 'T', 'T'], ['H', 'T', 'T'], ['T', 'H', 'T'], ['T', 'T', 'H'], ['T', 'H', 'H'], ['T', 'H', 'T'], ['H', 'H', 'H'], ['H', 'T', 'H'], ['H', 'T', 'H'], ['T', 'H', 'H'], ['H', 'H', 'H'], ['T', 'T', 'H'], ['T', 'T', 'T'], ['T', 'T', 'H'], ['H', 'H', 'T'], ['H', 'H', 'H'], ['T', 'H', 'H'], ['T', 'T', 'T'], ['H', 'H', 'T'], ['T', 'H', 'H'], ['T', 'H', 'T'], ['H', 'H', 'H'], ['T', 'T', 'H'], ['H', 'T', 'T'], ['T', 'T', 'H'], ['T', 'T', 'T'], ['H', 'H', 'T'], ['T', 'H', 'T'], ['H', 'T', 'H'], ['H', 'H', 'H'], ['T', 'T', 'H'], ['T', 'T', 'H'], ['H', 'H', 'H'], ['T', 'H', 'H'], ['T', 'T', 'H'], ['T', 'H', 'H'], ['H', 'H', 'T'], ['T', 'H', 'T'], ['T', 'T', 'T'], ['H', 'T', 'T'], ['H', 'T', 'T'], ['H', 'H', 'T'], ['H', 'H', 'H'], ['H', 'T', 'H'], ['H', 'T', 'T'], ['H', 'T', 'T'], ['H', 'H', 'T'], ['T', 'T', 'T'], ['T', 'H', 'H'], ['T', 'H', 'T'], ['H', 'T', 'T'], ['H', 'T', 'H'], ['T', 'T', 'T'], ['H', 'H', 'T'], ['T', 'T', 'H'], ['T', 'T', 'H'], ['T', 'T', 'T'], ['T', 'H', 'H'], ['T', 'T', 'T'], ['H', 'T', 'T'], ['H', 'H', 'H'], ['H', 'H', 'H'], ['H', 'T', 'H'], ['T', 'H', 'T'], ['T', 'T', 'T'], ['T', 'H', 'T'], ['H', 'H', 'T'], ['T', 'H', 'H'], ['H', 'H', 'H'], ['H', 'H', 'T'], ['T', 'H', 'H'], ['T', 'T', 'H'], ['T', 'H', 'H'], ['T', 'H', 'H'], ['H', 'H', 'T'], ['H', 'T', 'T'], ['T', 'H', 'T'], ['T', 'H', 'T'], ['T', 'H', 'T'], ['T', 'H', 'T'], ['H', 'T', 'H'], ['T', 'H', 'T'], ['T', 'H', 'T'], ['H', 'H', 'T'], ['T', 'T', 'H'], ['H', 'T', 'T'], ['T', 'T', 'H'], ['T', 'T', 'H'], ['H', 'T', 'H'], ['T', 'H', 'H'], ['H', 'H', 'T'], ['H', 'T', 'H'], ['H', 'T', 'H'], ['H', 'T', 'H'], ['H', 'H', 'H'], ['H', 'H', 'H'], ['T', 'T', 'H'], ['H', 'H', 'T'], ['T', 'H', 'H'], ['H', 'T', 'T'], ['T', 'H', 'T'], ['H', 'T', 'T'], ['T', 'H', 'H'], ['H', 'T', 'H'], ['H', 'T', 'H'], ['H', 'H', 'H'], ['H', 'H', 'H'], ['H', 'T', 'T'], ['T', 'H', 'T'], ['H', 'T', 'T'], ['H', 'H', 'H'], ['T', 'H', 'H'], ['H', 'T', 'T'], ['H', 'H', 'H'], ['H', 'T', 'H'], ['H', 'T', 'H'], ['H', 'T', 'T'], ['H', 'H', 'T'], ['H', 'T', 'H'], ['H', 'T', 'T'], ['T', 'T', 'H'], ['T', 'T', 'T'], ['T', 'T', 'T'], ['T', 'H', 'H'], ['T', 'T', 'T'], ['T', 'H', 'H'], ['T', 'H', 'T'], ['H', 'H', 'T'], ['H', 'T', 'H'], ['H', 'H', 'H'], ['H', 'H', 'T'], ['H', 'T', 'T'], ['T', 'T', 'T'], ['T', 'T', 'H'], ['H', 'T', 'H'], ['H', 'H', 'H'], ['H', 'H', 'H'], ['T', 'T', 'H'], ['H', 'T', 'H'], ['T', 'T', 'H'], ['T', 'H', 'T'], ['H', 'H', 'H'], ['T', 'H', 'H'], ['T', 'H', 'H'], ['T', 'H', 'H'], ['T', 'T', 'T'], ['T', 'T', 'T'], ['T', 'T', 'T'], ['H', 'T', 'H'], ['H', 'H', 'H'], ['T', 'T', 'H'], ['T', 'T', 'H'], ['H', 'T', 'T'], ['T', 'T', 'H'], ['T', 'T', 'H'], ['T', 'T', 'H'], ['T', 'T', 'T'], ['H', 'H', 'T'], ['T', 'H', 'T'], ['H', 'H', 'T'], ['H', 'T', 'T'], ['T', 'T', 'T'], ['T', 'T', 'T'], ['H', 'H', 'T'], ['T', 'H', 'H'], ['H', 'T', 'H'], ['H', 'T', 'T'], ['T', 'H', 'H'], ['H', 'H', 'H'], ['H', 'T', 'T'], ['T', 'T', 'H'], ['H', 'H', 'T'], ['H', 'H', 'H'], ['H', 'T', 'H'], ['H', 'H', 'T'], ['T', 'T', 'T'], ['T', 'T', 'T'], ['H', 'H', 'T'], ['T', 'H', 'H'], ['H', 'T', 'H'], ['H', 'H', 'H'], ['H', 'H', 'T'], ['H', 'T', 'H'], ['H', 'T', 'T'], ['H', 'H', 'H'], ['T', 'T', 'H'], ['T', 'H', 'H'], ['T', 'T', 'T'], ['T', 'T', 'T'], ['T', 'H', 'H'], ['H', 'H', 'T'], ['H', 'T', 'T'], ['H', 'H', 'T'], ['H', 'T', 'T'], ['H', 'H', 'T'], ['T', 'T', 'H'], ['H', 'T', 'T'], ['T', 'T', 'H'], ['T', 'H', 'T'], ['H', 'H', 'T'], ['H', 'T', 'T'], ['H', 'T', 'H'], ['H', 'T', 'T'], ['H', 'T', 'H'], ['H', 'T', 'T'], ['H', 'T', 'H'], ['T', 'T', 'T'], ['H', 'H', 'H'], ['T', 'T', 'T'], ['T', 'H', 'H'], ['H', 'H', 'H'], ['T', 'H', 'T'], ['T', 'T', 'H'], ['T', 'T', 'T'], ['H', 'T', 'T'], ['T', 'H', 'T'], ['T', 'H', 'T'], ['T', 'H', 'T'], ['T', 'T', 'T'], ['H', 'T', 'H'], ['T', 'H', 'H'], ['T', 'H', 'T'], ['T', 'T', 'H'], ['T', 'T', 'T'], ['T', 'H', 'H'], ['T', 'T', 'H'], ['T', 'H', 'T'], ['H', 'H', 'H'], ['H', 'H', 'T'], ['H', 'H', 'T'], ['T', 'T', 'T'], ['T', 'H', 'T'], ['H', 'T', 'H'], ['T', 'H', 'H'], ['H', 'H', 'H'], ['T', 'T', 'H'], ['T', 'H', 'T'], ['H', 'H', 'T'], ['T', 'H', 'H'], ['T', 'T', 'H'], ['T', 'T', 'H'], ['H', 'H', 'H'], ['H', 'H', 'T'], ['T', 'H', 'T'], ['T', 'H', 'T'], ['T', 'H', 'T'], ['H', 'T', 'H'], ['H', 'H', 'T'], ['T', 'T', 'T'], ['T', 'T', 'T'], ['H', 'H', 'T'], ['H', 'H', 'H'], ['H', 'H', 'T'], ['H', 'T', 'T'], ['T', 'H', 'T'], ['H', 'H', 'H'], ['T', 'H', 'H'], ['T', 'T', 'H'], ['T', 'T', 'H'], ['H', 'H', 'H'], ['T', 'H', 'H'], ['T', 'T', 'H'], ['H', 'T', 'H'], ['H', 'H', 'T'], ['H', 'H', 'T'], ['T', 'H', 'T'], ['T', 'T', 'T'], ['H', 'T', 'T'], ['H', 'H', 'T'], ['T', 'T', 'T'], ['H', 'T', 'H'], ['T', 'H', 'T'], ['H', 'H', 'H'], ['T', 'T', 'H'], ['T', 'H', 'H'], ['H', 'T', 'T'], ['H', 'H', 'T'], ['T', 'H', 'T'], ['T', 'T', 'T'], ['H', 'H', 'H'], ['T', 'T', 'H'], ['T', 'T', 'H'], ['T', 'T', 'H'], ['T', 'T', 'T'], ['H', 'H', 'T'], ['T', 'H', 'H'], ['T', 'T', 'T'], ['T', 'T', 'H'], ['H', 'T', 'T'], ['T', 'T', 'H'], ['H', 'H', 'T'], ['H', 'T', 'H'], ['H', 'T', 'H'], ['H', 'T', 'T'], ['H', 'T', 'T'], ['H', 'H', 'T'], ['T', 'T', 'H'], ['H', 'H', 'H'], ['T', 'T', 'H'], ['H', 'T', 'H'], ['H', 'H', 'H'], ['T', 'H', 'T'], ['T', 'T', 'H'], ['H', 'H', 'H'], ['T', 'H', 'H'], ['T', 'H', 'H'], ['H', 'T', 'T'], ['T', 'H', 'H'], ['H', 'T', 'T'], ['T', 'T', 'T'], ['T', 'H', 'T'], ['T', 'H', 'H'], ['H', 'H', 'T'], ['H', 'T', 'T'], ['T', 'H', 'H'], ['T', 'H', 'T'], ['T', 'H', 'H'], ['T', 'H', 'T'], ['H', 'H', 'H'], ['T', 'T', 'T'], ['H', 'H', 'H'], ['H', 'H', 'T'], ['T', 'T', 'T'], ['T', 'H', 'H'], ['T', 'T', 'T'], ['T', 'H', 'H'], ['T', 'H', 'H'], ['H', 'H', 'T'], ['H', 'H', 'H'], ['H', 'T', 'T'], ['T', 'H', 'T'], ['T', 'T', 'T'], ['T', 'T', 'T'], ['H', 'T', 'T'], ['T', 'H', 'T'], ['H', 'H', 'H'], ['T', 'H', 'T'], ['T', 'H', 'T'], ['H', 'H', 'T'], ['T', 'H', 'H'], ['T', 'H', 'H'], ['T', 'T', 'H'], ['H', 'T', 'H'], ['T', 'T', 'H'], ['T', 'T', 'T'], ['H', 'H', 'H'], ['T', 'T', 'T'], ['T', 'H', 'T'], ['H', 'H', 'T'], ['T', 'T', 'H'], ['H', 'H', 'T'], ['T', 'T', 'T'], ['T', 'H', 'H'], ['H', 'H', 'T'], ['H', 'H', 'T'], ['H', 'T', 'T'], ['T', 'H', 'H'], ['H', 'T', 'T'], ['H', 'H', 'T'], ['H', 'T', 'T'], ['H', 'T', 'T'], ['T', 'T', 'T'], ['T', 'H', 'T'], ['T', 'H', 'T'], ['H', 'T', 'T'], ['H', 'H', 'H'], ['T', 'H', 'H'], ['H', 'T', 'T'], ['H', 'H', 'T'], ['H', 'H', 'H'], ['T', 'T', 'H'], ['T', 'H', 'T'], ['H', 'T', 'T'], ['H', 'T', 'H'], ['H', 'T', 'T'], ['T', 'H', 'T'], ['T', 'T', 'T'], ['T', 'T', 'T'], ['H', 'H', 'H'], ['T', 'T', 'T'], ['H', 'T', 'H'], ['H', 'T', 'H'], ['H', 'T', 'H'], ['H', 'H', 'H'], ['T', 'H', 'T'], ['T', 'T', 'H'], ['H', 'T', 'T'], ['T', 'T', 'H'], ['H', 'T', 'H'], ['H', 'H', 'T'], ['H', 'T', 'T'], ['H', 'H', 'T'], ['T', 'T', 'H'], ['H', 'T', 'T'], ['T', 'H', 'T'], ['H', 'H', 'H'], ['T', 'H', 'H'], ['H', 'T', 'T'], ['H', 'T', 'T'], ['H', 'T', 'H'], ['T', 'H', 'T'], ['T', 'H', 'T'], ['H', 'T', 'H'], ['T', 'T', 'H'], ['T', 'H', 'T'], ['T', 'H', 'H'], ['T', 'T', 'H'], ['T', 'H', 'T'], ['H', 'T', 'T'], ['H', 'T', 'T'], ['T', 'T', 'T'], ['T', 'H', 'H'], ['H', 'T', 'T'], ['T', 'H', 'H'], ['H', 'H', 'T'], ['H', 'H', 'T'], ['T', 'T', 'H'], ['T', 'H', 'H'], ['H', 'T', 'H'], ['H', 'T', 'H'], ['T', 'T', 'H'], ['H', 'T', 'T'], ['H', 'H', 'T'], ['T', 'H', 'H'], ['T', 'T', 'H'], ['T', 'T', 'H'], ['T', 'T', 'H'], ['T', 'T', 'T'], ['T', 'T', 'T'], ['H', 'H', 'T'], ['T', 'H', 'T'], ['T', 'H', 'H'], ['H', 'H', 'H'], ['H', 'T', 'H'], ['T', 'H', 'H'], ['H', 'T', 'T'], ['T', 'T', 'T'], ['H', 'H', 'T'], ['H', 'T', 'H'], ['T', 'T', 'T'], ['H', 'H', 'T'], ['H', 'T', 'H'], ['H', 'T', 'H'], ['H', 'T', 'H'], ['T', 'H', 'H'], ['T', 'H', 'H'], ['H', 'H', 'H'], ['T', 'T', 'H'], ['H', 'T', 'H'], ['H', 'H', 'H'], ['H', 'H', 'T'], ['T', 'T', 'H'], ['T', 'T', 'T'], ['T', 'H', 'T'], ['H', 'T', 'H'], ['H', 'H', 'H'], ['T', 'H', 'T'], ['T', 'T', 'T'], ['T', 'T', 'H'], ['T', 'H', 'H'], ['H', 'H', 'H'], ['T', 'T', 'T'], ['T', 'H', 'H'], ['T', 'T', 'T'], ['H', 'H', 'T'], ['H', 'H', 'H'], ['H', 'T', 'H'], ['T', 'H', 'T'], ['H', 'H', 'H'], ['H', 'T', 'H'], ['H', 'T', 'H'], ['H', 'H', 'T'], ['T', 'H', 'H'], ['H', 'T', 'H'], ['T', 'T', 'H'], ['T', 'T', 'T'], ['H', 'T', 'H'], ['H', 'T', 'H'], ['H', 'H', 'H'], ['T', 'H', 'H'], ['T', 'T', 'H'], ['H', 'H', 'T'], ['H', 'T', 'T'], ['H', 'T', 'H'], ['T', 'H', 'T'], ['T', 'T', 'T'], ['H', 'T', 'T'], ['T', 'T', 'H'], ['T', 'T', 'H'], ['H', 'H', 'T'], ['H', 'H', 'T'], ['T', 'H', 'H'], ['H', 'H', 'H'], ['H', 'T', 'H'], ['H', 'H', 'H'], ['H', 'H', 'T'], ['H', 'T', 'H'], ['T', 'H', 'T'], ['H', 'T', 'T'], ['H', 'T', 'T'], ['H', 'H', 'T'], ['T', 'H', 'T'], ['T', 'T', 'H'], ['T', 'H', 'T'], ['H', 'H', 'H'], ['T', 'H', 'T'], ['H', 'T', 'T'], ['T', 'T', 'T'], ['H', 'T', 'H'], ['T', 'H', 'H'], ['H', 'T', 'T'], ['T', 'H', 'H'], ['T', 'H', 'T'], ['H', 'T', 'T'], ['T', 'H', 'H'], ['H', 'H', 'H'], ['T', 'H', 'T'], ['T', 'T', 'H'], ['T', 'H', 'T'], ['T', 'T', 'H'], ['T', 'H', 'H'], ['T', 'H', 'T'], ['T', 'H', 'H'], ['T', 'H', 'T'], ['T', 'T', 'H'], ['T', 'T', 'T'], ['H', 'H', 'T'], ['H', 'T', 'H'], ['T', 'T', 'T'], ['T', 'H', 'T'], ['H', 'H', 'H'], ['H', 'T', 'T'], ['H', 'T', 'T'], ['T', 'H', 'T'], ['T', 'H', 'T'], ['T', 'T', 'T'], ['T', 'H', 'T'], ['T', 'H', 'H'], ['H', 'H', 'T'], ['T', 'H', 'T'], ['T', 'T', 'T'], ['T', 'H', 'T'], ['H', 'H', 'T'], ['H', 'H', 'H'], ['H', 'T', 'H'], ['H', 'T', 'H'], ['H', 'H', 'H'], ['H', 'T', 'T'], ['T', 'H', 'T'], ['H', 'T', 'H'], ['H', 'H', 'H'], ['H', 'H', 'H'], ['T', 'H', 'T'], ['T', 'H', 'H'], ['H', 'T', 'H'], ['T', 'H', 'T'], ['T', 'H', 'H'], ['H', 'H', 'H'], ['T', 'T', 'T'], ['T', 'H', 'T'], ['H', 'H', 'H'], ['H', 'T', 'T'], ['H', 'H', 'T'], ['H', 'T', 'T'], ['H', 'T', 'T'], ['H', 'T', 'T'], ['T', 'T', 'T'], ['T', 'T', 'T'], ['T', 'T', 'H'], ['T', 'H', 'T'], ['H', 'T', 'H'], ['H', 'T', 'H'], ['T', 'H', 'H'], ['H', 'T', 'H'], ['T', 'T', 'H'], ['H', 'H', 'H'], ['T', 'T', 'T'], ['H', 'T', 'T'], ['H', 'H', 'T'], ['H', 'T', 'T'], ['H', 'H', 'H'], ['T', 'H', 'T'], ['H', 'H', 'H'], ['H', 'T', 'T'], ['T', 'H', 'H'], ['T', 'T', 'T'], ['T', 'H', 'T'], ['H', 'H', 'H'], ['T', 'T', 'H'], ['T', 'H', 'T'], ['H', 'H', 'T'], ['H', 'H', 'H'], ['T', 'T', 'T'], ['H', 'H', 'T'], ['T', 'H', 'T'], ['H', 'T', 'H'], ['T', 'T', 'H'], ['T', 'T', 'H'], ['H', 'T', 'T'], ['H', 'H', 'H'], ['T', 'H', 'T'], ['H', 'T', 'T'], ['H', 'T', 'H'], ['T', 'T', 'T'], ['T', 'T', 'H'], ['T', 'H', 'H'], ['T', 'T', 'H'], ['H', 'T', 'H'], ['H', 'H', 'T'], ['H', 'T', 'H'], ['H', 'T', 'T'], ['H', 'T', 'H'], ['T', 'H', 'T'], ['T', 'H', 'T'], ['T', 'H', 'H'], ['T', 'H', 'H'], ['T', 'H', 'T'], ['H', 'H', 'H'], ['H', 'H', 'H'], ['T', 'H', 'T'], ['H', 'H', 'T'], ['T', 'H', 'T'], ['H', 'H', 'T'], ['T', 'H', 'H'], ['H', 'H', 'T'], ['H', 'H', 'T'], ['H', 'H', 'H'], ['H', 'H', 'T'], ['T', 'T', 'H'], ['T', 'H', 'T'], ['H', 'H', 'T'], ['H', 'T', 'H'], ['T', 'H', 'T'], ['T', 'T', 'H'], ['H', 'H', 'T'], ['H', 'H', 'T'], ['H', 'H', 'T'], ['T', 'H', 'T'], ['H', 'H', 'H'], ['H', 'H', 'T'], ['T', 'T', 'T'], ['H', 'H', 'T'], ['H', 'T', 'T'], ['H', 'T', 'T'], ['H', 'H', 'H'], ['T', 'H', 'T'], ['H', 'H', 'H'], ['H', 'T', 'H'], ['H', 'T', 'T'], ['H', 'H', 'H'], ['H', 'T', 'T'], ['T', 'H', 'H'], ['H', 'H', 'T'], ['T', 'H', 'H'], ['H', 'H', 'T'], ['T', 'H', 'H'], ['H', 'H', 'T'], ['T', 'T', 'H'], ['H', 'H', 'T'], ['T', 'H', 'H'], ['H', 'H', 'H'], ['H', 'H', 'T'], ['T', 'H', 'T'], ['H', 'H', 'T'], ['H', 'H', 'T'], ['H', 'H', 'T'], ['H', 'T', 'T'], ['T', 'H', 'T'], ['H', 'T', 'H'], ['T', 'H', 'T'], ['T', 'T', 'H'], ['T', 'T', 'T'], ['H', 'H', 'H'], ['T', 'H', 'T'], ['T', 'H', 'H'], ['H', 'T', 'T'], ['H', 'H', 'H'], ['H', 'H', 'T'], ['T', 'T', 'H'], ['T', 'H', 'H'], ['H', 'T', 'H'], ['T', 'H', 'H'], ['T', 'T', 'H'], ['T', 'H', 'H'], ['H', 'T', 'T'], ['T', 'H', 'T'], ['T', 'H', 'T'], ['H', 'H', 'H'], ['T', 'T', 'T'], ['H', 'H', 'T'], ['T', 'T', 'T'], ['T', 'T', 'H'], ['T', 'H', 'H'], ['T', 'H', 'H'], ['T', 'T', 'H'], ['H', 'H', 'H'], ['H', 'H', 'T'], ['T', 'T', 'H'], ['H', 'H', 'H'], ['H', 'T', 'H'], ['T', 'T', 'T'], ['T', 'T', 'T'], ['H', 'T', 'T'], ['H', 'H', 'T'], ['T', 'H', 'H'], ['T', 'H', 'H'], ['T', 'T', 'H'], ['T', 'H', 'T'], ['H', 'H', 'H'], ['H', 'T', 'H'], ['T', 'T', 'H'], ['H', 'T', 'H'], ['H', 'H', 'H'], ['T', 'H', 'T'], ['H', 'H', 'H'], ['T', 'H', 'H'], ['T', 'T', 'H'], ['H', 'T', 'T'], ['T', 'T', 'H'], ['T', 'T', 'T'], ['H', 'H', 'T'], ['T', 'H', 'T'], ['H', 'T', 'H'], ['H', 'H', 'H'], ['H', 'T', 'T'], ['H', 'H', 'T'], ['H', 'H', 'H'], ['T', 'H', 'T'], ['T', 'T', 'T'], ['H', 'T', 'T'], ['H', 'H', 'H'], ['H', 'H', 'H'], ['H', 'H', 'H'], ['T', 'T', 'T'], ['T', 'H', 'T'], ['T', 'T', 'H'], ['H', 'H', 'H'], ['T', 'T', 'H'], ['H', 'T', 'T'], ['H', 'H', 'T'], ['T', 'T', 'T'], ['T', 'H', 'T'], ['H', 'H', 'T'], ['H', 'H', 'H'], ['H', 'T', 'H'], ['T', 'H', 'T'], ['H', 'T', 'T'], ['T', 'H', 'H'], ['H', 'T', 'T'], ['H', 'H', 'T'], ['T', 'H', 'H'], ['H', 'H', 'T'], ['H', 'H', 'T'], ['T', 'H', 'H'], ['H', 'T', 'T'], ['H', 'H', 'H'], ['H', 'H', 'H'], ['T', 'H', 'T'], ['T', 'H', 'T'], ['H', 'H', 'T'], ['H', 'H', 'T'], ['H', 'T', 'H'], ['T', 'H', 'T'], ['T', 'H', 'H'], ['T', 'H', 'H'], ['H', 'T', 'T'], ['T', 'H', 'H'], ['T', 'T', 'T'], ['T', 'T', 'H'], ['H', 'H', 'H'], ['H', 'T', 'H'], ['H', 'T', 'T'], ['H', 'T', 'H'], ['H', 'H', 'T'], ['H', 'H', 'T'], ['H', 'T', 'H'], ['T', 'H', 'H'], ['T', 'H', 'H'], ['H', 'T', 'T'], ['T', 'T', 'T'], ['T', 'H', 'T'], ['T', 'T', 'T'], ['T', 'H', 'H'], ['H', 'T', 'T'], ['T', 'H', 'T'], ['T', 'H', 'T'], ['H', 'H', 'T'], ['H', 'H', 'T'], ['H', 'H', 'T'], ['H', 'H', 'H'], ['T', 'T', 'H'], ['T', 'H', 'H'], ['T', 'T', 'T'], ['T', 'H', 'H'], ['H', 'H', 'H'], ['H', 'T', 'T'], ['H', 'T', 'H'], ['T', 'T', 'T'], ['T', 'T', 'H'], ['H', 'T', 'T'], ['T', 'T', 'H'], ['H', 'T', 'H'], ['T', 'H', 'T'], ['H', 'H', 'T'], ['T', 'T', 'T'], ['H', 'T', 'H'], ['T', 'T', 'T'], ['T', 'T', 'H'], ['H', 'H', 'H'], ['T', 'T', 'H'], ['T', 'T', 'H'], ['T', 'T', 'H'], ['T', 'H', 'T'], ['H', 'H', 'H'], ['H', 'H', 'T'], ['T', 'T', 'H'], ['T', 'H', 'H'], ['T', 'T', 'H'], ['H', 'H', 'T'], ['T', 'T', 'T'], ['H', 'T', 'T'], ['T', 'T', 'H'], ['H', 'T', 'H'], ['H', 'T', 'H'], ['H', 'H', 'T'], ['H', 'H', 'H'], ['H', 'T', 'H'], ['H', 'H', 'H'], ['T', 'H', 'H'], ['T', 'T', 'H'], ['H', 'T', 'H'], ['T', 'T', 'T'], ['H', 'T', 'H'], ['H', 'T', 'T'], ['H', 'T', 'H'], ['T', 'H', 'T'], ['H', 'T', 'T'], ['T', 'H', 'H'], ['T', 'T', 'T'], ['H', 'H', 'H'], ['H', 'H', 'T'], ['H', 'T', 'T'], ['T', 'T', 'T'], ['H', 'H', 'T'], ['T', 'T', 'H'], ['H', 'T', 'H'], ['H', 'T', 'T'], ['T', 'H', 'T'], ['T', 'T', 'T'], ['T', 'T', 'T'], ['T', 'T', 'T'], ['H', 'T', 'H'], ['T', 'T', 'T'], ['H', 'H', 'T'], ['H', 'T', 'H'], ['H', 'T', 'H'], ['H', 'H', 'T'], ['T', 'H', 'T'], ['T', 'H', 'T'], ['H', 'T', 'T'], ['H', 'H', 'T'], ['H', 'H', 'T'], ['T', 'H', 'T'], ['H', 'T', 'T'], ['H', 'H', 'H'], ['T', 'T', 'H'], ['H', 'H', 'T'], ['H', 'H', 'T'], ['T', 'T', 'T'], ['T', 'T', 'T'], ['H', 'H', 'H'], ['H', 'H', 'T'], ['T', 'T', 'H'], ['H', 'T', 'T'], ['H', 'T', 'T'], ['T', 'H', 'T'], ['T', 'H', 'H'], ['T', 'H', 'T'], ['H', 'H', 'H'], ['H', 'H', 'H'], ['H', 'H', 'H'], ['T', 'T', 'T'], ['T', 'H', 'H'], ['T', 'T', 'H'], ['T', 'T', 'T'], ['T', 'H', 'H'], ['T', 'T', 'T'], ['T', 'H', 'H'], ['T', 'T', 'T'], ['T', 'T', 'T'], ['T', 'H', 'T'], ['H', 'H', 'T'], ['H', 'H', 'H'], ['H', 'H', 'T'], ['H', 'T', 'H'], ['T', 'H', 'H'], ['H', 'H', 'H'], ['H', 'H', 'T'], ['T', 'T', 'H'], ['T', 'H', 'H'], ['H', 'H', 'H'], ['H', 'H', 'H'], ['H', 'H', 'H'], ['H', 'T', 'H'], ['T', 'H', 'T'], ['H', 'H', 'H'], ['H', 'T', 'T'], ['T', 'H', 'H'], ['T', 'T', 'H'], ['H', 'T', 'H'], ['T', 'T', 'H'], ['T', 'H', 'T'], ['T', 'H', 'T'], ['H', 'T', 'H'], ['H', 'H', 'H'], ['T', 'H', 'T'], ['T', 'H', 'H'], ['T', 'H', 'T'], ['T', 'T', 'H'], ['T', 'H', 'T'], ['T', 'T', 'H'], ['H', 'H', 'T'], ['H', 'H', 'H'], ['T', 'T', 'T'], ['T', 'T', 'T'], ['T', 'T', 'H'], ['T', 'T', 'T'], ['H', 'H', 'T'], ['H', 'T', 'H'], ['T', 'H', 'H'], ['T', 'T', 'H'], ['H', 'T', 'T'], ['H', 'T', 'T'], ['T', 'H', 'H'], ['T', 'H', 'H'], ['H', 'H', 'T'], ['H', 'H', 'T'], ['T', 'H', 'H'], ['H', 'T', 'H'], ['T', 'H', 'H'], ['H', 'T', 'H'], ['T', 'H', 'H'], ['H', 'H', 'T'], ['H', 'H', 'T'], ['H', 'T', 'H'], ['T', 'H', 'T'], ['H', 'H', 'T'], ['H', 'H', 'H'], ['T', 'T', 'H'], ['H', 'H', 'T'], ['T', 'H', 'T'], ['H', 'T', 'H'], ['H', 'T', 'T'], ['T', 'T', 'H'], ['T', 'T', 'T'], ['T', 'H', 'T'], ['T', 'H', 'T'], ['H', 'T', 'T'], ['H', 'H', 'H'], ['T', 'H', 'T'], ['T', 'H', 'T'], ['T', 'T', 'H'], ['H', 'T', 'H'], ['H', 'T', 'T'], ['T', 'T', 'H'], ['T', 'T', 'T'], ['T', 'T', 'T'], ['T', 'H', 'H'], ['H', 'T', 'T'], ['H', 'H', 'H'], ['H', 'H', 'T'], ['H', 'H', 'T'], ['T', 'H', 'T'], ['T', 'T', 'T'], ['T', 'T', 'H'], ['T', 'H', 'T'], ['T', 'T', 'H'], ['H', 'T', 'T'], ['T', 'T', 'T'], ['T', 'T', 'H'], ['H', 'H', 'H'], ['T', 'T', 'T'], ['H', 'T', 'H'], ['H', 'T', 'H'], ['T', 'T', 'H'], ['H', 'T', 'H'], ['H', 'T', 'T'], ['H', 'H', 'H'], ['T', 'T', 'H'], ['H', 'H', 'H'], ['T', 'H', 'H'], ['T', 'H', 'H'], ['T', 'H', 'H'], ['H', 'T', 'H'], ['T', 'T', 'H'], ['T', 'T', 'H'], ['H', 'H', 'T'], ['T', 'H', 'H'], ['H', 'T', 'T'], ['H', 'H', 'T'], ['H', 'T', 'H'], ['T', 'H', 'T'], ['T', 'H', 'H'], ['H', 'H', 'T'], ['T', 'T', 'H'], ['H', 'T', 'T'], ['H', 'T', 'H'], ['T', 'H', 'H'], ['T', 'H', 'T'], ['T', 'T', 'T'], ['H', 'H', 'T'], ['T', 'H', 'H'], ['H', 'T', 'T'], ['T', 'T', 'H'], ['H', 'T', 'T'], ['T', 'T', 'H'], ['T', 'T', 'H'], ['T', 'H', 'T'], ['T', 'H', 'T'], ['T', 'T', 'T'], ['T', 'H', 'T'], ['T', 'H', 'H'], ['H', 'T', 'H'], ['H', 'H', 'H'], ['T', 'T', 'H'], ['H', 'T', 'T'], ['T', 'H', 'H'], ['T', 'H', 'H'], ['T', 'H', 'T'], ['H', 'H', 'T'], ['H', 'T', 'T'], ['T', 'H', 'T'], ['T', 'H', 'H'], ['T', 'T', 'T'], ['T', 'T', 'T'], ['H', 'T', 'H'], ['T', 'H', 'H'], ['T', 'H', 'T'], ['H', 'H', 'T'], ['H', 'T', 'H'], ['H', 'H', 'T'], ['T', 'T', 'H'], ['H', 'T', 'H'], ['H', 'H', 'H'], ['T', 'H', 'H'], ['T', 'H', 'T'], ['H', 'T', 'H'], ['T', 'H', 'H'], ['T', 'T', 'T'], ['H', 'T', 'H'], ['T', 'T', 'T'], ['T', 'H', 'T'], ['H', 'T', 'T'], ['T', 'H', 'T'], ['H', 'H', 'T'], ['T', 'T', 'H'], ['T', 'T', 'H'], ['T', 'T', 'T'], ['T', 'T', 'T'], ['H', 'T', 'T'], ['H', 'H', 'T'], ['H', 'T', 'H'], ['T', 'T', 'H'], ['H', 'T', 'T'], ['T', 'H', 'T'], ['H', 'H', 'T'], ['H', 'H', 'H'], ['T', 'H', 'H'], ['T', 'T', 'T'], ['H', 'H', 'H'], ['T', 'T', 'H'], ['T', 'H', 'H'], ['H', 'T', 'H'], ['T', 'H', 'T'], ['T', 'T', 'T'], ['T', 'T', 'H'], ['T', 'H', 'H'], ['T', 'T', 'T'], ['H', 'H', 'H'], ['T', 'H', 'T'], ['H', 'H', 'T'], ['H', 'H', 'T'], ['H', 'H', 'T'], ['T', 'T', 'H'], ['H', 'H', 'T'], ['H', 'T', 'H'], ['H', 'H', 'T'], ['H', 'T', 'H'], ['T', 'H', 'T'], ['H', 'T', 'H'], ['T', 'H', 'H'], ['H', 'T', 'T'], ['H', 'T', 'T'], ['H', 'T', 'H'], ['H', 'T', 'H'], ['H', 'H', 'T'], ['H', 'H', 'T'], ['T', 'T', 'T'], ['T', 'T', 'H'], ['T', 'H', 'H'], ['H', 'T', 'H'], ['T', 'T', 'H'], ['T', 'T', 'T'], ['T', 'T', 'H'], ['T', 'T', 'H'], ['H', 'H', 'H'], ['T', 'T', 'H'], ['T', 'H', 'T'], ['T', 'H', 'T'], ['H', 'H', 'H'], ['H', 'H', 'T'], ['H', 'T', 'H'], ['T', 'H', 'H'], ['T', 'T', 'T'], ['T', 'H', 'H'], ['T', 'T', 'H'], ['H', 'H', 'T'], ['T', 'T', 'H'], ['H', 'T', 'T'], ['T', 'H', 'H'], ['H', 'H', 'T'], ['H', 'T', 'H'], ['T', 'H', 'H'], ['H', 'H', 'H'], ['H', 'T', 'T'], ['T', 'T', 'T'], ['T', 'T', 'T'], ['H', 'H', 'H'], ['T', 'H', 'H'], ['H', 'T', 'H'], ['H', 'T', 'T'], ['H', 'H', 'T'], ['T', 'T', 'T'], ['T', 'H', 'H'], ['H', 'H', 'T'], ['H', 'T', 'T'], ['T', 'T', 'H'], ['H', 'H', 'H'], ['T', 'H', 'T'], ['T', 'T', 'T'], ['T', 'H', 'H'], ['T', 'T', 'T'], ['T', 'H', 'H'], ['T', 'H', 'H'], ['H', 'H', 'T'], ['T', 'H', 'T'], ['T', 'T', 'T'], ['H', 'H', 'T'], ['T', 'T', 'T'], ['T', 'T', 'T'], ['H', 'H', 'T'], ['T', 'H', 'T'], ['H', 'T', 'H'], ['T', 'T', 'T'], ['T', 'H', 'T'], ['T', 'H', 'T'], ['H', 'T', 'T'], ['T', 'H', 'T'], ['T', 'T', 'T'], ['H', 'H', 'H'], ['H', 'T', 'T'], ['H', 'H', 'T'], ['H', 'T', 'H'], ['T', 'T', 'T'], ['H', 'T', 'T'], ['T', 'T', 'H'], ['H', 'H', 'H'], ['H', 'T', 'T'], ['H', 'H', 'H'], ['T', 'T', 'T'], ['T', 'H', 'T'], ['H', 'T', 'T'], ['T', 'H', 'H'], ['T', 'T', 'T'], ['T', 'T', 'T'], ['H', 'H', 'T'], ['H', 'H', 'H'], ['T', 'H', 'T'], ['H', 'T', 'H'], ['T', 'T', 'T'], ['T', 'T', 'T'], ['T', 'H', 'T'], ['H', 'T', 'T'], ['H', 'T', 'T'], ['T', 'T', 'H'], ['H', 'T', 'H'], ['H', 'H', 'T'], ['T', 'T', 'H'], ['H', 'T', 'H'], ['T', 'H', 'T'], ['H', 'H', 'T'], ['H', 'T', 'H'], ['T', 'H', 'H'], ['H', 'T', 'T'], ['H', 'T', 'T'], ['H', 'H', 'T'], ['H', 'T', 'T'], ['T', 'H', 'H'], ['T', 'H', 'H'], ['H', 'T', 'T'], ['T', 'T', 'H'], ['T', 'H', 'T'], ['H', 'T', 'H'], ['T', 'T', 'T'], ['H', 'H', 'T'], ['H', 'H', 'T'], ['T', 'H', 'T'], ['H', 'H', 'T'], ['H', 'H', 'H'], ['H', 'T', 'T'], ['H', 'T', 'T'], ['T', 'T', 'T'], ['T', 'T', 'T'], ['T', 'T', 'H'], ['T', 'T', 'H'], ['T', 'T', 'H'], ['T', 'T', 'T'], ['H', 'T', 'H'], ['T', 'H', 'T'], ['H', 'T', 'T'], ['H', 'T', 'H'], ['T', 'H', 'H'], ['H', 'T', 'T'], ['H', 'T', 'T'], ['H', 'T', 'H'], ['T', 'T', 'H'], ['T', 'T', 'H'], ['H', 'H', 'H'], ['T', 'H', 'H'], ['T', 'T', 'T'], ['H', 'T', 'T'], ['H', 'T', 'T'], ['T', 'H', 'H'], ['T', 'T', 'H'], ['T', 'H', 'H'], ['T', 'T', 'T'], ['T', 'T', 'H'], ['H', 'T', 'T'], ['H', 'T', 'H'], ['H', 'H', 'H'], ['T', 'T', 'H'], ['H', 'T', 'H'], ['T', 'T', 'T'], ['H', 'H', 'H'], ['H', 'T', 'T'], ['T', 'T', 'H'], ['H', 'T', 'T'], ['H', 'T', 'H'], ['T', 'T', 'H'], ['H', 'T', 'T'], ['T', 'T', 'T'], ['T', 'T', 'T'], ['T', 'H', 'H'], ['T', 'T', 'T'], ['H', 'H', 'T'], ['H', 'H', 'H'], ['H', 'H', 'T'], ['T', 'H', 'H'], ['H', 'T', 'T'], ['T', 'H', 'H'], ['T', 'T', 'H'], ['T', 'T', 'H'], ['H', 'T', 'H'], ['H', 'H', 'T'], ['T', 'T', 'H'], ['T', 'H', 'H'], ['T', 'T', 'H'], ['H', 'T', 'T'], ['T', 'H', 'H'], ['T', 'T', 'H'], ['T', 'H', 'T'], ['T', 'T', 'T'], ['T', 'H', 'T'], ['T', 'H', 'H'], ['H', 'T', 'T'], ['H', 'H', 'T'], ['H', 'T', 'T'], ['H', 'H', 'T'], ['T', 'T', 'T'], ['H', 'T', 'T'], ['H', 'H', 'H'], ['H', 'T', 'H'], ['T', 'H', 'T'], ['H', 'T', 'T'], ['T', 'T', 'H'], ['T', 'H', 'H'], ['H', 'H', 'T'], ['H', 'H', 'H'], ['H', 'H', 'H'], ['T', 'H', 'T'], ['H', 'T', 'H'], ['T', 'T', 'T'], ['H', 'T', 'H'], ['H', 'T', 'T'], ['T', 'H', 'H'], ['T', 'T', 'T'], ['T', 'H', 'T'], ['T', 'T', 'H'], ['H', 'T', 'H'], ['H', 'T', 'T'], ['T', 'T', 'T'], ['H', 'H', 'T'], ['H', 'H', 'T'], ['H', 'T', 'H'], ['T', 'T', 'T'], ['T', 'H', 'T'], ['H', 'T', 'H'], ['T', 'T', 'H'], ['H', 'H', 'H'], ['T', 'T', 'T'], ['H', 'H', 'H'], ['T', 'T', 'T'], ['T', 'T', 'T'], ['H', 'H', 'T'], ['T', 'H', 'T'], ['T', 'T', 'T'], ['T', 'T', 'H'], ['H', 'T', 'H'], ['H', 'T', 'H'], ['T', 'T', 'T'], ['H', 'T', 'T'], ['T', 'H', 'H'], ['T', 'H', 'H'], ['H', 'H', 'T'], ['T', 'T', 'H'], ['T', 'H', 'H'], ['T', 'T', 'T'], ['H', 'T', 'T'], ['H', 'H', 'T'], ['H', 'T', 'T'], ['T', 'T', 'T'], ['T', 'T', 'H'], ['H', 'T', 'H'], ['T', 'H', 'T'], ['T', 'H', 'T'], ['T', 'H', 'H'], ['H', 'T', 'H'], ['H', 'T', 'H'], ['H', 'H', 'T'], ['H', 'T', 'T'], ['T', 'H', 'T'], ['H', 'T', 'T'], ['T', 'H', 'T'], ['T', 'T', 'H'], ['H', 'T', 'T'], ['H', 'T', 'T'], ['T', 'H', 'T'], ['T', 'T', 'H'], ['T', 'T', 'H'], ['T', 'H', 'T'], ['T', 'H', 'T'], ['T', 'T', 'T'], ['H', 'T', 'H'], ['H', 'T', 'T'], ['T', 'H', 'T'], ['T', 'T', 'T'], ['T', 'H', 'H'], ['T', 'H', 'H'], ['H', 'T', 'T'], ['T', 'H', 'T'], ['T', 'T', 'H'], ['T', 'H', 'T'], ['H', 'H', 'T'], ['H', 'H', 'T'], ['T', 'T', 'T'], ['H', 'T', 'T'], ['H', 'T', 'H'], ['T', 'T', 'H'], ['H', 'H', 'H'], ['H', 'H', 'H'], ['H', 'T', 'T'], ['T', 'H', 'T'], ['T', 'H', 'T'], ['H', 'H', 'H'], ['H', 'T', 'T'], ['T', 'H', 'H'], ['T', 'T', 'H'], ['T', 'H', 'T'], ['T', 'T', 'T'], ['H', 'H', 'T'], ['H', 'H', 'T'], ['T', 'H', 'H'], ['T', 'H', 'H'], ['H', 'H', 'H'], ['T', 'T', 'T'], ['H', 'H', 'H'], ['H', 'T', 'T'], ['H', 'H', 'H'], ['H', 'H', 'T'], ['H', 'H', 'H'], ['H', 'H', 'T'], ['T', 'H', 'H'], ['T', 'T', 'T'], ['T', 'T', 'T'], ['T', 'H', 'T'], ['H', 'T', 'T'], ['T', 'H', 'H'], ['T', 'H', 'T'], ['H', 'T', 'H'], ['T', 'H', 'T'], ['T', 'H', 'H'], ['H', 'H', 'H'], ['T', 'T', 'T'], ['T', 'T', 'H'], ['H', 'H', 'T'], ['H', 'H', 'T'], ['T', 'H', 'H'], ['T', 'H', 'H'], ['H', 'H', 'H'], ['T', 'H', 'T'], ['H', 'H', 'H'], ['H', 'H', 'T'], ['T', 'T', 'T'], ['H', 'T', 'H'], ['H', 'H', 'T'], ['T', 'H', 'T'], ['H', 'H', 'H'], ['H', 'H', 'T'], ['T', 'H', 'T'], ['H', 'H', 'T'], ['H', 'T', 'T'], ['H', 'T', 'T'], ['T', 'T', 'H'], ['H', 'T', 'H'], ['T', 'T', 'H'], ['H', 'H', 'T'], ['T', 'H', 'H'], ['T', 'H', 'H'], ['H', 'T', 'T'], ['H', 'T', 'H'], ['H', 'H', 'H'], ['T', 'H', 'H'], ['T', 'T', 'T'], ['T', 'H', 'H'], ['H', 'H', 'H'], ['T', 'H', 'T'], ['T', 'T', 'H'], ['H', 'T', 'H'], ['H', 'H', 'T'], ['T', 'T', 'T'], ['T', 'H', 'T'], ['T', 'H', 'H'], ['T', 'H', 'T'], ['T', 'T', 'T'], ['H', 'H', 'T'], ['H', 'H', 'H'], ['H', 'H', 'T'], ['H', 'H', 'H'], ['H', 'T', 'T'], ['H', 'H', 'H'], ['T', 'T', 'T'], ['T', 'T', 'T'], ['H', 'T', 'T'], ['T', 'T', 'T'], ['H', 'T', 'H'], ['H', 'T', 'H'], ['T', 'T', 'T'], ['T', 'T', 'T'], ['H', 'H', 'T'], ['T', 'T', 'T'], ['H', 'H', 'T'], ['H', 'T', 'H'], ['H', 'H', 'T'], ['T', 'H', 'T'], ['H', 'T', 'H'], ['T', 'H', 'H'], ['H', 'H', 'H'], ['H', 'H', 'H'], ['H', 'T', 'H'], ['H', 'T', 'H'], ['T', 'H', 'T'], ['H', 'H', 'H'], ['H', 'H', 'T'], ['T', 'H', 'T'], ['T', 'H', 'T'], ['T', 'T', 'T'], ['H', 'H', 'H'], ['T', 'T', 'T'], ['T', 'T', 'T'], ['T', 'T', 'T'], ['H', 'H', 'H'], ['T', 'T', 'T'], ['H', 'H', 'H'], ['T', 'T', 'T'], ['T', 'T', 'H'], ['H', 'T', 'H'], ['H', 'H', 'H'], ['H', 'H', 'H'], ['T', 'H', 'T'], ['H', 'T', 'H'], ['H', 'T', 'T'], ['H', 'T', 'T'], ['H', 'T', 'T'], ['H', 'H', 'H'], ['T', 'T', 'T'], ['H', 'H', 'T'], ['H', 'T', 'H'], ['T', 'T', 'T'], ['H', 'H', 'T'], ['T', 'H', 'T'], ['T', 'T', 'T'], ['H', 'H', 'T'], ['T', 'T', 'H'], ['H', 'H', 'H'], ['H', 'T', 'H'], ['T', 'H', 'T'], ['H', 'H', 'T'], ['T', 'T', 'T'], ['H', 'H', 'H'], ['T', 'H', 'T'], ['H', 'H', 'H'], ['T', 'H', 'H'], ['H', 'H', 'H'], ['T', 'H', 'T'], ['T', 'H', 'T'], ['T', 'H', 'T'], ['T', 'H', 'H'], ['T', 'T', 'T'], ['T', 'T', 'T'], ['H', 'H', 'H'], ['T', 'H', 'H'], ['T', 'T', 'T'], ['H', 'T', 'T'], ['T', 'T', 'T'], ['H', 'H', 'T'], ['T', 'H', 'H'], ['T', 'T', 'H'], ['T', 'H', 'H'], ['H', 'H', 'H'], ['T', 'T', 'H'], ['H', 'H', 'T'], ['T', 'H', 'T'], ['H', 'T', 'T'], ['T', 'H', 'T'], ['T', 'H', 'H'], ['H', 'H', 'H'], ['T', 'T', 'T'], ['H', 'T', 'H'], ['H', 'T', 'H'], ['T', 'T', 'T'], ['H', 'H', 'H'], ['T', 'H', 'T'], ['T', 'H', 'T'], ['T', 'H', 'T'], ['T', 'T', 'H'], ['H', 'T', 'H'], ['T', 'T', 'H'], ['H', 'H', 'H'], ['T', 'T', 'T'], ['H', 'T', 'T'], ['H', 'H', 'T'], ['T', 'T', 'T'], ['T', 'T', 'T'], ['H', 'H', 'H'], ['H', 'H', 'H'], ['T', 'T', 'H'], ['H', 'T', 'H'], ['T', 'H', 'H'], ['H', 'H', 'H'], ['H', 'H', 'T'], ['H', 'T', 'T'], ['T', 'T', 'H'], ['H', 'H', 'T'], ['H', 'T', 'H'], ['T', 'T', 'H'], ['T', 'T', 'T'], ['H', 'H', 'T'], ['H', 'T', 'T'], ['H', 'T', 'T'], ['H', 'T', 'T'], ['H', 'T', 'T'], ['T', 'T', 'T'], ['T', 'T', 'H'], ['T', 'T', 'H'], ['T', 'H', 'T'], ['T', 'H', 'H'], ['T', 'H', 'T'], ['H', 'H', 'H'], ['H', 'H', 'T'], ['H', 'T', 'T'], ['H', 'H', 'H'], ['H', 'T', 'H'], ['T', 'H', 'T'], ['T', 'T', 'T'], ['H', 'H', 'H'], ['H', 'T', 'T'], ['H', 'T', 'T'], ['H', 'H', 'T'], ['H', 'H', 'H'], ['T', 'H', 'T'], ['T', 'T', 'H'], ['H', 'T', 'T'], ['H', 'T', 'H'], ['H', 'H', 'T'], ['H', 'T', 'T'], ['H', 'T', 'H'], ['T', 'T', 'H'], ['H', 'H', 'H'], ['H', 'T', 'H'], ['H', 'H', 'T'], ['H', 'T', 'T'], ['H', 'T', 'H'], ['T', 'H', 'T'], ['T', 'T', 'H'], ['T', 'H', 'T'], ['T', 'H', 'H'], ['T', 'H', 'T'], ['H', 'T', 'H'], ['T', 'T', 'T'], ['T', 'H', 'T'], ['H', 'T', 'H'], ['T', 'T', 'H'], ['T', 'T', 'H'], ['T', 'T', 'H'], ['T', 'T', 'H'], ['H', 'T', 'H'], ['T', 'H', 'H'], ['H', 'H', 'T'], ['T', 'T', 'T'], ['H', 'T', 'H'], ['T', 'H', 'T'], ['T', 'T', 'H'], ['H', 'T', 'T'], ['T', 'H', 'H'], ['T', 'T', 'H'], ['H', 'H', 'T'], ['T', 'H', 'T'], ['H', 'T', 'T'], ['T', 'T', 'T'], ['T', 'T', 'T'], ['H', 'T', 'T'], ['T', 'H', 'H'], ['H', 'H', 'H'], ['H', 'T', 'H'], ['H', 'H', 'H'], ['T', 'H', 'T'], ['H', 'T', 'T'], ['T', 'H', 'T'], ['T', 'T', 'T'], ['H', 'H', 'H'], ['H', 'T', 'T'], ['H', 'T', 'T'], ['T', 'H', 'T'], ['H', 'H', 'H'], ['H', 'T', 'T'], ['T', 'T', 'T'], ['T', 'H', 'T'], ['T', 'T', 'T'], ['H', 'H', 'T'], ['H', 'H', 'H'], ['T', 'T', 'H'], ['H', 'H', 'T'], ['H', 'T', 'H'], ['T', 'H', 'T'], ['H', 'H', 'T'], ['T', 'H', 'T'], ['T', 'H', 'H'], ['T', 'T', 'H'], ['H', 'H', 'T'], ['H', 'T', 'H'], ['T', 'T', 'H'], ['H', 'H', 'H'], ['T', 'T', 'T'], ['T', 'T', 'T'], ['H', 'T', 'T'], ['T', 'T', 'T'], ['H', 'H', 'T'], ['T', 'T', 'T'], ['T', 'T', 'T'], ['T', 'H', 'T'], ['T', 'H', 'T'], ['T', 'H', 'H'], ['T', 'T', 'T'], ['H', 'T', 'H'], ['H', 'T', 'T'], ['T', 'H', 'T'], ['H', 'T', 'H'], ['H', 'T', 'H'], ['T', 'T', 'H'], ['H', 'H', 'H'], ['H', 'T', 'T'], ['H', 'H', 'T'], ['H', 'H', 'T'], ['H', 'H', 'T'], ['T', 'T', 'H'], ['T', 'T', 'T'], ['H', 'T', 'T'], ['H', 'T', 'H'], ['H', 'H', 'T'], ['H', 'T', 'T'], ['T', 'T', 'H'], ['H', 'H', 'H'], ['H', 'T', 'H'], ['H', 'H', 'T'], ['H', 'H', 'H'], ['T', 'T', 'H'], ['T', 'T', 'H'], ['T', 'T', 'H'], ['T', 'T', 'H'], ['H', 'H', 'H'], ['H', 'H', 'H'], ['T', 'T', 'T'], ['H', 'T', 'T'], ['T', 'H', 'T'], ['H', 'T', 'H'], ['T', 'T', 'T'], ['H', 'H', 'H'], ['H', 'H', 'T'], ['T', 'T', 'T'], ['T', 'H', 'H'], ['H', 'H', 'T'], ['H', 'H', 'H'], ['H', 'H', 'H'], ['H', 'T', 'H'], ['H', 'H', 'T'], ['T', 'T', 'H'], ['H', 'H', 'H'], ['H', 'T', 'T'], ['H', 'T', 'H'], ['H', 'T', 'H'], ['T', 'H', 'H'], ['H', 'H', 'H'], ['H', 'T', 'H'], ['T', 'H', 'T'], ['H', 'H', 'H'], ['H', 'H', 'H'], ['H', 'T', 'T'], ['H', 'H', 'T'], ['T', 'T', 'T'], ['H', 'T', 'T'], ['T', 'T', 'T'], ['T', 'T', 'H'], ['T', 'H', 'T'], ['T', 'H', 'T'], ['T', 'T', 'H'], ['H', 'H', 'H'], ['T', 'T', 'H'], ['T', 'T', 'T'], ['T', 'T', 'H'], ['T', 'T', 'T'], ['T', 'T', 'H'], ['T', 'T', 'T'], ['T', 'H', 'T'], ['T', 'T', 'T'], ['T', 'T', 'H'], ['H', 'T', 'T'], ['H', 'T', 'T'], ['T', 'T', 'H'], ['H', 'H', 'H'], ['T', 'H', 'T'], ['T', 'H', 'T'], ['T', 'H', 'T'], ['H', 'T', 'H'], ['T', 'T', 'H'], ['T', 'T', 'H'], ['H', 'T', 'H'], ['T', 'H', 'H'], ['H', 'H', 'H'], ['H', 'H', 'T'], ['T', 'H', 'T'], ['T', 'H', 'H'], ['T', 'H', 'H'], ['H', 'H', 'T'], ['T', 'H', 'H'], ['T', 'T', 'H'], ['H', 'T', 'T'], ['T', 'T', 'T'], ['H', 'T', 'H'], ['T', 'H', 'T'], ['H', 'T', 'T'], ['H', 'H', 'T'], ['H', 'T', 'H'], ['H', 'H', 'T'], ['T', 'H', 'H'], ['H', 'T', 'T'], ['H', 'T', 'H'], ['T', 'H', 'H'], ['T', 'H', 'H'], ['T', 'H', 'T'], ['T', 'T', 'T'], ['H', 'H', 'H'], ['T', 'T', 'H'], ['H', 'T', 'T'], ['T', 'T', 'T'], ['H', 'H', 'T'], ['H', 'H', 'T'], ['H', 'H', 'T'], ['H', 'T', 'H'], ['H', 'H', 'H'], ['H', 'T', 'H'], ['T', 'H', 'H'], ['H', 'H', 'H'], ['H', 'T', 'T'], ['T', 'H', 'H'], ['T', 'T', 'H'], ['T', 'T', 'H'], ['T', 'H', 'H'], ['T', 'T', 'T'], ['T', 'H', 'T'], ['T', 'H', 'H'], ['H', 'H', 'T'], ['T', 'T', 'T'], ['T', 'T', 'H'], ['T', 'T', 'H'], ['H', 'T', 'T'], ['H', 'H', 'H'], ['T', 'H', 'H'], ['T', 'H', 'H'], ['T', 'H', 'T'], ['T', 'H', 'H'], ['T', 'T', 'H'], ['T', 'H', 'H'], ['H', 'T', 'H'], ['T', 'H', 'H'], ['H', 'H', 'H'], ['T', 'H', 'H'], ['H', 'H', 'H'], ['T', 'H', 'T'], ['H', 'T', 'T'], ['H', 'T', 'H'], ['H', 'T', 'H'], ['H', 'H', 'T'], ['T', 'T', 'H'], ['H', 'H', 'H'], ['T', 'T', 'T'], ['H', 'T', 'T'], ['T', 'H', 'T'], ['H', 'T', 'H'], ['H', 'H', 'T'], ['T', 'T', 'H'], ['H', 'T', 'T'], ['T', 'T', 'H'], ['T', 'T', 'H'], ['T', 'H', 'H'], ['H', 'T', 'T'], ['T', 'T', 'T'], ['H', 'T', 'H'], ['T', 'T', 'H'], ['T', 'T', 'H'], ['T', 'T', 'T'], ['H', 'T', 'T'], ['T', 'T', 'T'], ['T', 'H', 'T'], ['T', 'H', 'H'], ['T', 'T', 'H'], ['H', 'H', 'T'], ['H', 'H', 'H'], ['T', 'T', 'H'], ['T', 'H', 'T'], ['H', 'H', 'T'], ['T', 'H', 'H'], ['H', 'H', 'H'], ['T', 'H', 'T'], ['H', 'H', 'H'], ['T', 'T', 'H'], ['T', 'H', 'H'], ['T', 'H', 'H'], ['T', 'H', 'T'], ['T', 'T', 'H'], ['H', 'T', 'T'], ['T', 'H', 'T'], ['T', 'T', 'T'], ['H', 'H', 'H'], ['H', 'T', 'H'], ['H', 'H', 'H'], ['T', 'H', 'H'], ['T', 'T', 'T'], ['H', 'H', 'H'], ['H', 'T', 'T'], ['T', 'H', 'T'], ['H', 'T', 'T'], ['H', 'T', 'T'], ['H', 'H', 'T'], ['T', 'H', 'T'], ['T', 'H', 'T'], ['H', 'H', 'T'], ['H', 'H', 'H'], ['H', 'T', 'T'], ['H', 'T', 'T'], ['H', 'H', 'H'], ['H', 'T', 'T'], ['T', 'H', 'H'], ['T', 'T', 'T'], ['T', 'H', 'H'], ['T', 'H', 'T'], ['H', 'T', 'T'], ['H', 'T', 'H'], ['H', 'H', 'H'], ['H', 'T', 'T'], ['T', 'H', 'H'], ['T', 'T', 'H'], ['T', 'H', 'T'], ['T', 'T', 'T'], ['T', 'H', 'H'], ['T', 'H', 'T'], ['T', 'H', 'H'], ['T', 'T', 'T'], ['T', 'H', 'H'], ['H', 'H', 'T'], ['T', 'H', 'H'], ['H', 'T', 'T'], ['H', 'T', 'H'], ['H', 'H', 'H'], ['T', 'T', 'T'], ['T', 'H', 'H'], ['H', 'H', 'T'], ['H', 'H', 'T'], ['T', 'T', 'T'], ['H', 'H', 'H'], ['H', 'H', 'T'], ['T', 'H', 'T'], ['T', 'H', 'T'], ['T', 'T', 'H'], ['H', 'T', 'T'], ['T', 'H', 'H'], ['T', 'T', 'T'], ['T', 'H', 'T'], ['T', 'T', 'T'], ['H', 'T', 'H'], ['T', 'H', 'T'], ['T', 'H', 'H'], ['T', 'T', 'T'], ['H', 'T', 'T'], ['H', 'T', 'T'], ['T', 'H', 'H'], ['T', 'H', 'H'], ['H', 'T', 'H'], ['H', 'H', 'H'], ['H', 'T', 'T'], ['T', 'H', 'H'], ['H', 'T', 'H'], ['T', 'T', 'T'], ['T', 'H', 'T'], ['T', 'T', 'H'], ['T', 'T', 'T'], ['H', 'T', 'T'], ['H', 'T', 'H'], ['H', 'T', 'H'], ['H', 'H', 'T'], ['T', 'H', 'T'], ['H', 'T', 'T'], ['T', 'T', 'H'], ['T', 'H', 'T'], ['H', 'H', 'H'], ['H', 'T', 'H'], ['T', 'H', 'T'], ['T', 'T', 'T'], ['H', 'T', 'T'], ['H', 'T', 'T'], ['H', 'T', 'H'], ['T', 'T', 'H'], ['H', 'H', 'H'], ['H', 'T', 'T'], ['T', 'H', 'H'], ['H', 'H', 'T'], ['H', 'H', 'T'], ['H', 'H', 'T'], ['T', 'T', 'T'], ['T', 'T', 'T'], ['T', 'T', 'H'], ['T', 'H', 'H'], ['T', 'T', 'T'], ['T', 'H', 'T'], ['T', 'T', 'T'], ['T', 'H', 'H'], ['H', 'T', 'H'], ['T', 'T', 'H'], ['H', 'T', 'H'], ['T', 'T', 'T'], ['T', 'T', 'H'], ['T', 'T', 'T'], ['T', 'T', 'T'], ['H', 'T', 'H'], ['T', 'T', 'T'], ['H', 'H', 'T'], ['H', 'H', 'T'], ['T', 'T', 'H'], ['T', 'H', 'T'], ['H', 'H', 'T'], ['T', 'H', 'H'], ['T', 'H', 'T'], ['T', 'T', 'T'], ['T', 'T', 'T'], ['H', 'T', 'T'], ['T', 'T', 'H'], ['T', 'T', 'T'], ['H', 'H', 'T'], ['T', 'T', 'T'], ['H', 'T', 'T'], ['T', 'T', 'H'], ['T', 'H', 'H'], ['T', 'T', 'H'], ['H', 'T', 'H'], ['T', 'H', 'H'], ['T', 'H', 'T'], ['H', 'T', 'H'], ['H', 'H', 'T'], ['T', 'H', 'T'], ['T', 'H', 'T'], ['H', 'T', 'T'], ['H', 'H', 'H'], ['H', 'T', 'H'], ['H', 'T', 'T'], ['T', 'T', 'H'], ['T', 'T', 'T'], ['H', 'H', 'T'], ['H', 'H', 'H'], ['T', 'H', 'H'], ['T', 'H', 'T'], ['H', 'T', 'T'], ['H', 'H', 'H'], ['T', 'T', 'T'], ['T', 'H', 'H'], ['H', 'T', 'H'], ['H', 'H', 'H'], ['T', 'T', 'T'], ['T', 'H', 'T'], ['T', 'H', 'H'], ['H', 'H', 'H'], ['T', 'T', 'T'], ['H', 'H', 'T'], ['T', 'H', 'T'], ['T', 'H', 'T'], ['H', 'H', 'T'], ['T', 'H', 'H'], ['H', 'T', 'H'], ['H', 'T', 'H'], ['H', 'T', 'H'], ['H', 'H', 'T'], ['T', 'H', 'H'], ['T', 'H', 'H'], ['H', 'H', 'T'], ['T', 'H', 'T'], ['H', 'T', 'H'], ['T', 'T', 'T'], ['T', 'H', 'T'], ['T', 'T', 'T'], ['H', 'H', 'H'], ['H', 'T', 'H'], ['H', 'H', 'T'], ['T', 'T', 'T'], ['H', 'H', 'H'], ['T', 'T', 'H'], ['T', 'T', 'H'], ['T', 'T', 'H'], ['H', 'H', 'H'], ['H', 'H', 'T'], ['H', 'T', 'T'], ['T', 'H', 'H'], ['H', 'T', 'H'], ['H', 'T', 'T'], ['H', 'T', 'H'], ['T', 'T', 'T'], ['H', 'T', 'T'], ['H', 'T', 'H'], ['T', 'T', 'H'], ['H', 'T', 'H'], ['H', 'T', 'H'], ['T', 'H', 'T'], ['H', 'T', 'H'], ['T', 'T', 'T'], ['T', 'H', 'H'], ['T', 'T', 'H'], ['T', 'H', 'T'], ['H', 'H', 'H'], ['T', 'H', 'H'], ['T', 'H', 'H'], ['H', 'T', 'T'], ['T', 'H', 'H'], ['T', 'H', 'T'], ['T', 'H', 'T'], ['T', 'T', 'H'], ['H', 'H', 'T'], ['T', 'H', 'T'], ['H', 'T', 'T'], ['H', 'H', 'T'], ['H', 'H', 'T'], ['T', 'H', 'T'], ['T', 'T', 'T'], ['T', 'H', 'H'], ['T', 'H', 'T'], ['T', 'T', 'T'], ['T', 'T', 'T'], ['H', 'T', 'H'], ['H', 'T', 'T'], ['T', 'H', 'T'], ['T', 'T', 'H'], ['H', 'H', 'T'], ['H', 'T', 'H'], ['H', 'T', 'T'], ['H', 'H', 'T'], ['T', 'T', 'H'], ['T', 'H', 'H'], ['T', 'T', 'H'], ['H', 'T', 'T'], ['H', 'H', 'H'], ['H', 'T', 'T'], ['T', 'T', 'H'], ['H', 'H', 'T'], ['H', 'H', 'H'], ['T', 'H', 'T'], ['T', 'H', 'H'], ['T', 'H', 'H'], ['H', 'H', 'H'], ['T', 'H', 'H'], ['T', 'T', 'H'], ['T', 'T', 'T'], ['T', 'T', 'H'], ['H', 'T', 'T'], ['T', 'T', 'T'], ['H', 'H', 'T'], ['T', 'T', 'T'], ['H', 'H', 'H'], ['T', 'T', 'H'], ['T', 'T', 'T'], ['H', 'H', 'H'], ['T', 'T', 'T'], ['H', 'T', 'T'], ['T', 'H', 'H'], ['T', 'T', 'H'], ['H', 'T', 'H'], ['T', 'H', 'T'], ['H', 'H', 'H'], ['H', 'T', 'H'], ['H', 'H', 'T'], ['T', 'T', 'H'], ['T', 'H', 'T'], ['H', 'T', 'H'], ['T', 'H', 'H'], ['T', 'T', 'H'], ['H', 'T', 'H'], ['T', 'T', 'T'], ['H', 'T', 'H'], ['H', 'H', 'T'], ['T', 'T', 'T'], ['T', 'H', 'T'], ['H', 'H', 'H'], ['H', 'T', 'T'], ['T', 'H', 'H'], ['H', 'T', 'T'], ['T', 'H', 'T'], ['H', 'T', 'H'], ['T', 'H', 'H'], ['H', 'H', 'T'], ['H', 'H', 'T'], ['T', 'H', 'T'], ['H', 'T', 'T'], ['T', 'H', 'T'], ['H', 'H', 'H'], ['H', 'T', 'H'], ['T', 'H', 'T'], ['H', 'T', 'H'], ['H', 'T', 'T'], ['H', 'T', 'H'], ['H', 'H', 'T'], ['T', 'T', 'T'], ['T', 'H', 'H'], ['H', 'T', 'H'], ['T', 'H', 'H'], ['H', 'T', 'T'], ['H', 'T', 'T'], ['H', 'T', 'T'], ['H', 'T', 'T'], ['H', 'H', 'H'], ['H', 'H', 'T'], ['T', 'T', 'H'], ['H', 'H', 'T'], ['T', 'T', 'H'], ['T', 'H', 'T'], ['T', 'T', 'H'], ['H', 'T', 'H'], ['H', 'T', 'T'], ['H', 'H', 'H'], ['H', 'T', 'H'], ['T', 'T', 'H'], ['H', 'T', 'T'], ['H', 'T', 'T'], ['H', 'T', 'T'], ['T', 'T', 'T'], ['H', 'T', 'T'], ['T', 'H', 'H'], ['T', 'H', 'T'], ['T', 'H', 'H'], ['H', 'H', 'T'], ['T', 'H', 'T'], ['T', 'H', 'H'], ['T', 'T', 'H'], ['H', 'T', 'T'], ['T', 'H', 'T'], ['T', 'T', 'T'], ['H', 'T', 'T'], ['H', 'H', 'T'], ['T', 'H', 'T'], ['T', 'H', 'T'], ['H', 'H', 'T'], ['H', 'H', 'H'], ['T', 'H', 'T'], ['T', 'T', 'H'], ['H', 'T', 'T'], ['H', 'H', 'T'], ['H', 'T', 'T'], ['H', 'H', 'T'], ['T', 'H', 'H'], ['H', 'T', 'T'], ['T', 'H', 'H'], ['T', 'H', 'H'], ['H', 'H', 'T'], ['T', 'H', 'H'], ['T', 'T', 'H'], ['H', 'H', 'T'], ['T', 'T', 'T'], ['H', 'T', 'H'], ['T', 'T', 'T'], ['H', 'T', 'H'], ['H', 'H', 'H'], ['T', 'H', 'H'], ['T', 'H', 'T'], ['H', 'H', 'T'], ['T', 'T', 'H'], ['H', 'H', 'T'], ['T', 'H', 'H'], ['H', 'H', 'T'], ['T', 'H', 'H'], ['T', 'T', 'H'], ['T', 'T', 'H'], ['T', 'H', 'T'], ['T', 'T', 'T'], ['H', 'H', 'H'], ['H', 'T', 'H'], ['T', 'T', 'T'], ['T', 'T', 'T'], ['T', 'H', 'H'], ['H', 'H', 'T'], ['H', 'T', 'H'], ['T', 'T', 'H'], ['T', 'H', 'H'], ['H', 'H', 'H'], ['T', 'T', 'H'], ['T', 'H', 'T'], ['T', 'H', 'T'], ['H', 'H', 'H'], ['H', 'T', 'T'], ['T', 'H', 'T'], ['H', 'T', 'H'], ['H', 'H', 'H'], ['T', 'H', 'T'], ['T', 'T', 'H'], ['T', 'H', 'H'], ['H', 'T', 'H'], ['T', 'T', 'H'], ['H', 'T', 'T'], ['H', 'T', 'H'], ['H', 'T', 'T'], ['T', 'H', 'T'], ['T', 'T', 'H'], ['H', 'T', 'H'], ['T', 'H', 'T'], ['T', 'T', 'H'], ['T', 'T', 'T'], ['H', 'H', 'T'], ['T', 'H', 'T'], ['T', 'H', 'T'], ['H', 'H', 'H'], ['H', 'H', 'T'], ['H', 'H', 'H'], ['T', 'T', 'H'], ['T', 'T', 'T'], ['H', 'T', 'T'], ['T', 'T', 'H'], ['H', 'T', 'T'], ['T', 'T', 'T'], ['H', 'H', 'H'], ['H', 'H', 'H'], ['T', 'H', 'T'], ['T', 'T', 'H'], ['H', 'T', 'T'], ['H', 'T', 'T'], ['H', 'H', 'H'], ['H', 'H', 'T'], ['H', 'T', 'T'], ['H', 'H', 'T'], ['H', 'T', 'T'], ['T', 'T', 'T'], ['H', 'T', 'T'], ['T', 'H', 'T'], ['H', 'T', 'T'], ['T', 'H', 'T'], ['T', 'H', 'T'], ['T', 'H', 'H'], ['H', 'T', 'H'], ['T', 'H', 'T'], ['T', 'T', 'T'], ['T', 'T', 'T'], ['H', 'T', 'H'], ['H', 'T', 'H'], ['T', 'T', 'H'], ['T', 'H', 'T'], ['H', 'T', 'H'], ['T', 'T', 'T'], ['H', 'T', 'T'], ['T', 'T', 'H'], ['H', 'T', 'H'], ['H', 'H', 'H'], ['H', 'T', 'H'], ['T', 'H', 'T'], ['T', 'T', 'H'], ['T', 'H', 'T'], ['H', 'H', 'H'], ['T', 'T', 'T'], ['H', 'T', 'H'], ['T', 'T', 'T'], ['H', 'H', 'H'], ['T', 'T', 'H'], ['T', 'H', 'T'], ['T', 'H', 'H'], ['T', 'H', 'H'], ['T', 'H', 'H'], ['T', 'T', 'T'], ['T', 'T', 'T'], ['H', 'H', 'H'], ['H', 'T', 'T'], ['H', 'T', 'T'], ['T', 'H', 'T'], ['T', 'T', 'H'], ['H', 'T', 'H'], ['H', 'T', 'H'], ['H', 'H', 'T'], ['H', 'T', 'T'], ['H', 'H', 'H'], ['H', 'H', 'H'], ['T', 'H', 'H'], ['T', 'H', 'T'], ['T', 'H', 'H'], ['H', 'H', 'H'], ['H', 'H', 'T'], ['T', 'H', 'T'], ['H', 'H', 'H'], ['T', 'T', 'T'], ['H', 'H', 'H'], ['T', 'H', 'H'], ['T', 'H', 'H'], ['T', 'T', 'T'], ['H', 'T', 'T'], ['H', 'H', 'H'], ['T', 'H', 'T'], ['T', 'T', 'T'], ['H', 'T', 'H'], ['H', 'T', 'T'], ['H', 'T', 'H'], ['T', 'H', 'H'], ['T', 'H', 'T'], ['H', 'T', 'H'], ['T', 'H', 'H'], ['T', 'T', 'T'], ['T', 'H', 'H'], ['T', 'H', 'H'], ['T', 'T', 'H'], ['T', 'T', 'H'], ['H', 'H', 'H'], ['T', 'T', 'T'], ['T', 'H', 'T'], ['H', 'T', 'T'], ['H', 'H', 'T'], ['H', 'H', 'H'], ['H', 'T', 'H'], ['T', 'H', 'H'], ['H', 'H', 'H'], ['H', 'H', 'T'], ['T', 'H', 'T'], ['H', 'H', 'T'], ['H', 'T', 'H'], ['T', 'T', 'H'], ['H', 'T', 'H'], ['H', 'T', 'T'], ['T', 'T', 'H'], ['T', 'T', 'T'], ['H', 'T', 'T'], ['T', 'T', 'T'], ['H', 'H', 'H'], ['T', 'T', 'T'], ['H', 'H', 'H'], ['H', 'H', 'T'], ['H', 'T', 'H'], ['T', 'T', 'H'], ['H', 'H', 'H'], ['T', 'T', 'T'], ['T', 'H', 'T'], ['T', 'T', 'T'], ['T', 'H', 'T'], ['T', 'T', 'H'], ['T', 'T', 'T'], ['T', 'H', 'H'], ['T', 'T', 'T'], ['H', 'T', 'H'], ['T', 'T', 'T'], ['T', 'H', 'H'], ['T', 'T', 'H'], ['H', 'T', 'T'], ['H', 'H', 'H'], ['H', 'T', 'H'], ['H', 'H', 'T'], ['H', 'H', 'H'], ['H', 'H', 'T'], ['H', 'H', 'H'], ['H', 'T', 'H'], ['T', 'H', 'H'], ['H', 'T', 'T'], ['H', 'H', 'T'], ['H', 'T', 'T'], ['H', 'H', 'T'], ['H', 'H', 'T'], ['T', 'H', 'T'], ['H', 'T', 'H'], ['H', 'H', 'T'], ['H', 'T', 'H'], ['H', 'T', 'H'], ['T', 'T', 'H'], ['H', 'H', 'H'], ['H', 'T', 'T'], ['T', 'H', 'H'], ['T', 'T', 'H'], ['H', 'T', 'T'], ['H', 'H', 'H'], ['T', 'H', 'H'], ['T', 'H', 'H'], ['T', 'H', 'T'], ['H', 'T', 'H'], ['H', 'T', 'T'], ['T', 'T', 'T'], ['T', 'T', 'T'], ['T', 'T', 'T'], ['T', 'H', 'H'], ['T', 'T', 'H'], ['T', 'H', 'T'], ['T', 'T', 'T'], ['H', 'T', 'T'], ['T', 'H', 'T'], ['T', 'H', 'T'], ['H', 'T', 'H'], ['T', 'T', 'H'], ['T', 'T', 'T'], ['H', 'T', 'H'], ['T', 'H', 'H'], ['H', 'H', 'H'], ['T', 'H', 'T'], ['H', 'H', 'H'], ['T', 'T', 'H'], ['T', 'H', 'T'], ['H', 'T', 'H'], ['H', 'H', 'H'], ['H', 'T', 'T'], ['T', 'H', 'H'], ['H', 'H', 'H'], ['H', 'H', 'T'], ['H', 'T', 'T'], ['H', 'T', 'T'], ['T', 'H', 'T'], ['T', 'H', 'H'], ['T', 'T', 'T'], ['H', 'H', 'H'], ['T', 'H', 'H'], ['H', 'T', 'T'], ['T', 'T', 'H'], ['T', 'H', 'T'], ['H', 'H', 'T'], ['H', 'H', 'T'], ['T', 'H', 'H'], ['H', 'H', 'T'], ['T', 'T', 'H'], ['H', 'H', 'T'], ['H', 'H', 'T'], ['T', 'H', 'H'], ['T', 'H', 'H'], ['T', 'T', 'H'], ['T', 'T', 'T'], ['T', 'T', 'H'], ['T', 'H', 'T'], ['T', 'T', 'T'], ['H', 'H', 'H'], ['H', 'H', 'H'], ['T', 'T', 'H'], ['T', 'T', 'H'], ['H', 'T', 'T'], ['H', 'H', 'T'], ['T', 'H', 'H'], ['T', 'T', 'T'], ['T', 'H', 'T'], ['H', 'T', 'H'], ['H', 'T', 'H'], ['H', 'H', 'H'], ['H', 'T', 'T'], ['T', 'H', 'T'], ['H', 'T', 'H'], ['T', 'H', 'H'], ['H', 'H', 'H'], ['T', 'T', 'H'], ['T', 'T', 'H'], ['H', 'T', 'T'], ['T', 'T', 'H'], ['T', 'H', 'T'], ['T', 'H', 'H'], ['T', 'T', 'T'], ['T', 'H', 'T'], ['H', 'T', 'T'], ['H', 'H', 'T'], ['T', 'H', 'T'], ['H', 'H', 'T'], ['T', 'H', 'H'], ['T', 'T', 'H'], ['T', 'T', 'T'], ['H', 'H', 'T'], ['H', 'H', 'H'], ['T', 'H', 'T'], ['T', 'H', 'H'], ['H', 'H', 'T'], ['H', 'H', 'T'], ['T', 'T', 'H'], ['T', 'H', 'T'], ['T', 'T', 'H'], ['H', 'T', 'T'], ['H', 'T', 'H'], ['T', 'T', 'T'], ['T', 'H', 'H'], ['H', 'H', 'T'], ['T', 'T', 'H'], ['H', 'T', 'T'], ['T', 'T', 'T'], ['T', 'H', 'H'], ['T', 'H', 'H'], ['T', 'T', 'T'], ['T', 'T', 'H'], ['T', 'H', 'H'], ['H', 'H', 'H'], ['H', 'H', 'H'], ['T', 'T', 'H'], ['T', 'T', 'H'], ['T', 'T', 'T'], ['T', 'T', 'H'], ['H', 'T', 'T'], ['T', 'H', 'T'], ['H', 'T', 'H'], ['H', 'T', 'H'], ['T', 'H', 'H'], ['H', 'H', 'T'], ['T', 'T', 'H'], ['H', 'T', 'H'], ['T', 'H', 'T'], ['H', 'T', 'T'], ['H', 'T', 'H'], ['H', 'H', 'T'], ['T', 'H', 'H'], ['H', 'H', 'H'], ['H', 'H', 'H'], ['T', 'T', 'H'], ['H', 'H', 'T'], ['H', 'T', 'H'], ['T', 'T', 'H'], ['T', 'H', 'T'], ['T', 'T', 'H'], ['H', 'H', 'H'], ['H', 'H', 'H'], ['T', 'T', 'H'], ['T', 'T', 'T'], ['T', 'T', 'T'], ['H', 'H', 'T'], ['T', 'T', 'T'], ['H', 'T', 'T'], ['T', 'T', 'H'], ['T', 'H', 'T'], ['H', 'H', 'H'], ['H', 'H', 'H'], ['T', 'T', 'H'], ['T', 'T', 'T'], ['T', 'H', 'T'], ['T', 'T', 'T'], ['H', 'H', 'H'], ['H', 'T', 'T'], ['T', 'T', 'H'], ['H', 'H', 'H'], ['T', 'H', 'H'], ['H', 'T', 'H'], ['T', 'H', 'H'], ['T', 'H', 'H'], ['H', 'H', 'H'], ['H', 'H', 'T'], ['T', 'T', 'T'], ['T', 'T', 'H'], ['H', 'H', 'H'], ['H', 'H', 'H'], ['T', 'T', 'T'], ['T', 'H', 'T'], ['H', 'T', 'H'], ['H', 'T', 'H'], ['H', 'T', 'T'], ['H', 'T', 'H'], ['T', 'T', 'T'], ['T', 'H', 'T'], ['T', 'T', 'T'], ['H', 'T', 'H'], ['H', 'H', 'H'], ['T', 'H', 'H'], ['T', 'H', 'T'], ['H', 'T', 'H'], ['H', 'T', 'T'], ['T', 'H', 'T'], ['T', 'T', 'T'], ['T', 'T', 'T'], ['T', 'H', 'T'], ['T', 'H', 'T'], ['H', 'T', 'H'], ['H', 'H', 'T'], ['T', 'T', 'T'], ['T', 'T', 'T'], ['H', 'H', 'T'], ['H', 'H', 'H'], ['T', 'T', 'T'], ['T', 'H', 'T'], ['T', 'T', 'H'], ['T', 'T', 'T'], ['T', 'H', 'H'], ['H', 'H', 'T'], ['H', 'H', 'H'], ['H', 'T', 'T'], ['T', 'T', 'H'], ['T', 'H', 'H'], ['T', 'T', 'H'], ['H', 'H', 'T'], ['H', 'T', 'H'], ['T', 'T', 'H'], ['T', 'H', 'T'], ['T', 'T', 'T'], ['T', 'H', 'T'], ['H', 'T', 'T'], ['T', 'T', 'H'], ['T', 'T', 'H'], ['T', 'H', 'H'], ['H', 'H', 'T'], ['T', 'T', 'H'], ['T', 'T', 'T'], ['H', 'T', 'T'], ['T', 'H', 'T'], ['H', 'H', 'T'], ['H', 'T', 'H'], ['T', 'T', 'T'], ['H', 'H', 'H'], ['T', 'T', 'T'], ['H', 'H', 'H'], ['T', 'H', 'T'], ['T', 'H', 'H'], ['T', 'T', 'T'], ['H', 'H', 'T'], ['T', 'H', 'H'], ['T', 'H', 'T'], ['T', 'H', 'H'], ['T', 'T', 'H'], ['H', 'H', 'H'], ['H', 'H', 'H'], ['T', 'T', 'T'], ['T', 'H', 'T'], ['H', 'H', 'T'], ['T', 'T', 'H'], ['T', 'H', 'T'], ['T', 'T', 'H'], ['T', 'H', 'T'], ['H', 'T', 'T'], ['T', 'T', 'H'], ['H', 'T', 'T'], ['T', 'H', 'T'], ['H', 'T', 'T'], ['H', 'H', 'T'], ['H', 'H', 'T'], ['T', 'T', 'T'], ['H', 'H', 'H'], ['H', 'H', 'H'], ['T', 'T', 'H'], ['T', 'H', 'H'], ['T', 'T', 'T'], ['T', 'H', 'H'], ['T', 'H', 'H'], ['T', 'H', 'H'], ['H', 'T', 'T'], ['H', 'H', 'H'], ['T', 'H', 'H'], ['T', 'T', 'T'], ['T', 'H', 'T'], ['T', 'H', 'T'], ['H', 'H', 'T'], ['H', 'T', 'T'], ['T', 'H', 'T'], ['T', 'T', 'H'], ['H', 'T', 'H'], ['H', 'T', 'H'], ['H', 'H', 'T'], ['H', 'T', 'T'], ['H', 'H', 'T'], ['T', 'H', 'H'], ['T', 'T', 'T'], ['H', 'H', 'T'], ['H', 'H', 'T'], ['T', 'H', 'T'], ['T', 'T', 'T'], ['T', 'H', 'H'], ['H', 'T', 'H'], ['H', 'T', 'T'], ['T', 'T', 'T'], ['T', 'T', 'H'], ['H', 'H', 'T'], ['H', 'T', 'H'], ['T', 'T', 'T'], ['H', 'H', 'H'], ['H', 'H', 'T'], ['T', 'H', 'H'], ['H', 'T', 'T'], ['T', 'T', 'H'], ['H', 'H', 'T'], ['H', 'H', 'T'], ['H', 'H', 'H'], ['H', 'H', 'H'], ['T', 'H', 'H'], ['T', 'H', 'H'], ['T', 'T', 'T'], ['T', 'T', 'H'], ['H', 'T', 'T'], ['T', 'T', 'T'], ['T', 'H', 'T'], ['H', 'H', 'H'], ['T', 'H', 'H'], ['H', 'T', 'T'], ['H', 'T', 'T'], ['H', 'T', 'T'], ['T', 'T', 'T'], ['T', 'H', 'T'], ['H', 'T', 'H'], ['T', 'T', 'T'], ['H', 'H', 'T'], ['H', 'T', 'H'], ['H', 'H', 'T'], ['H', 'T', 'H'], ['H', 'T', 'H'], ['T', 'T', 'H'], ['H', 'T', 'T'], ['T', 'H', 'T'], ['H', 'H', 'T'], ['T', 'H', 'H'], ['T', 'H', 'H'], ['T', 'T', 'T'], ['T', 'T', 'T'], ['H', 'H', 'T'], ['T', 'H', 'T'], ['T', 'H', 'T'], ['H', 'T', 'T'], ['T', 'H', 'H'], ['H', 'T', 'T'], ['T', 'H', 'T'], ['T', 'H', 'T'], ['H', 'T', 'T'], ['H', 'H', 'T'], ['T', 'H', 'T'], ['T', 'T', 'T'], ['T', 'H', 'T'], ['T', 'H', 'H'], ['T', 'H', 'T'], ['T', 'T', 'T'], ['T', 'T', 'H'], ['T', 'H', 'T'], ['T', 'T', 'H'], ['H', 'H', 'H'], ['H', 'H', 'T'], ['H', 'H', 'H'], ['T', 'T', 'T'], ['T', 'H', 'T'], ['T', 'H', 'H'], ['T', 'H', 'T'], ['H', 'T', 'H'], ['H', 'H', 'H'], ['H', 'H', 'H'], ['H', 'H', 'T'], ['T', 'T', 'H'], ['H', 'H', 'T'], ['H', 'H', 'T'], ['T', 'H', 'H'], ['H', 'H', 'H'], ['T', 'T', 'T'], ['H', 'H', 'T'], ['H', 'H', 'T'], ['T', 'T', 'T'], ['T', 'H', 'T'], ['H', 'T', 'T'], ['H', 'T', 'T'], ['H', 'T', 'T'], ['T', 'T', 'H'], ['T', 'H', 'H'], ['T', 'H', 'H'], ['H', 'T', 'T'], ['T', 'T', 'T'], ['H', 'H', 'T'], ['T', 'T', 'H'], ['T', 'T', 'T'], ['T', 'H', 'H'], ['T', 'T', 'H'], ['H', 'H', 'H'], ['T', 'T', 'H'], ['H', 'T', 'T'], ['T', 'T', 'T'], ['H', 'T', 'H'], ['T', 'T', 'T'], ['T', 'T', 'H'], ['T', 'H', 'T'], ['H', 'H', 'T'], ['T', 'T', 'T'], ['H', 'T', 'H'], ['T', 'T', 'T'], ['H', 'H', 'H'], ['T', 'T', 'T'], ['T', 'H', 'T'], ['H', 'H', 'T'], ['T', 'H', 'H'], ['T', 'T', 'H'], ['H', 'H', 'T'], ['H', 'H', 'T'], ['H', 'T', 'T'], ['H', 'H', 'H'], ['H', 'T', 'T'], ['T', 'H', 'H'], ['T', 'H', 'H'], ['H', 'T', 'T'], ['H', 'H', 'T'], ['H', 'T', 'H'], ['T', 'H', 'T'], ['H', 'H', 'H'], ['T', 'H', 'H'], ['T', 'T', 'H'], ['H', 'T', 'H'], ['H', 'H', 'H'], ['H', 'H', 'H'], ['T', 'H', 'H'], ['T', 'T', 'T'], ['H', 'T', 'H'], ['T', 'H', 'H'], ['H', 'H', 'H'], ['T', 'T', 'T'], ['H', 'H', 'H'], ['H', 'H', 'H'], ['T', 'T', 'T'], ['H', 'T', 'H'], ['H', 'H', 'T'], ['H', 'T', 'H'], ['T', 'H', 'T'], ['T', 'T', 'T'], ['H', 'T', 'H'], ['H', 'T', 'H'], ['T', 'T', 'T'], ['H', 'T', 'H'], ['H', 'H', 'T'], ['T', 'H', 'T'], ['H', 'H', 'H'], ['H', 'T', 'T'], ['T', 'T', 'H'], ['H', 'H', 'H'], ['H', 'T', 'H'], ['T', 'T', 'T'], ['T', 'T', 'H'], ['T', 'T', 'T'], ['T', 'T', 'T'], ['H', 'H', 'H'], ['H', 'T', 'H'], ['T', 'T', 'H'], ['H', 'T', 'T'], ['T', 'T', 'H'], ['H', 'H', 'H'], ['H', 'T', 'H'], ['H', 'T', 'T'], ['T', 'T', 'T'], ['H', 'T', 'H'], ['H', 'H', 'T'], ['H', 'H', 'H'], ['T', 'H', 'T'], ['H', 'H', 'T'], ['T', 'T', 'H'], ['T', 'H', 'T'], ['H', 'T', 'T'], ['H', 'T', 'T'], ['H', 'T', 'T'], ['H', 'H', 'H'], ['T', 'H', 'T'], ['T', 'H', 'T'], ['T', 'T', 'H'], ['H', 'H', 'T'], ['T', 'T', 'T'], ['H', 'T', 'H'], ['H', 'H', 'T'], ['H', 'T', 'T'], ['T', 'T', 'H'], ['T', 'T', 'T'], ['T', 'H', 'T'], ['H', 'H', 'T'], ['T', 'T', 'T'], ['H', 'H', 'T'], ['H', 'H', 'H'], ['H', 'T', 'T'], ['T', 'T', 'H'], ['T', 'H', 'H'], ['T', 'T', 'H'], ['H', 'T', 'H'], ['H', 'H', 'H'], ['T', 'T', 'H'], ['T', 'T', 'T'], ['H', 'T', 'T'], ['H', 'T', 'H'], ['T', 'T', 'H'], ['H', 'H', 'T'], ['T', 'H', 'T'], ['H', 'H', 'T'], ['T', 'H', 'T'], ['T', 'T', 'T'], ['T', 'T', 'H'], ['H', 'T', 'T'], ['T', 'T', 'T'], ['H', 'T', 'T'], ['T', 'T', 'H'], ['T', 'T', 'H'], ['H', 'T', 'H'], ['H', 'H', 'T'], ['H', 'T', 'H'], ['T', 'H', 'H'], ['T', 'T', 'T'], ['H', 'T', 'T'], ['T', 'T', 'T'], ['T', 'H', 'H'], ['H', 'H', 'H'], ['H', 'T', 'H'], ['T', 'T', 'H'], ['T', 'T', 'T'], ['H', 'H', 'H'], ['H', 'H', 'T'], ['H', 'T', 'H'], ['T', 'H', 'H'], ['H', 'H', 'H'], ['T', 'T', 'H'], ['T', 'H', 'H'], ['H', 'H', 'H'], ['H', 'H', 'T'], ['T', 'H', 'T'], ['T', 'H', 'H'], ['H', 'H', 'H'], ['H', 'H', 'H'], ['H', 'H', 'T'], ['T', 'T', 'H'], ['H', 'H', 'T'], ['T', 'T', 'T'], ['H', 'H', 'T'], ['T', 'T', 'H'], ['T', 'H', 'T'], ['H', 'H', 'T'], ['H', 'T', 'T'], ['H', 'T', 'T'], ['H', 'H', 'T'], ['T', 'H', 'T'], ['H', 'T', 'T'], ['H', 'T', 'H'], ['H', 'T', 'T'], ['T', 'T', 'T'], ['T', 'H', 'T'], ['H', 'T', 'T'], ['H', 'H', 'T'], ['T', 'T', 'H'], ['T', 'H', 'T'], ['H', 'T', 'H'], ['T', 'T', 'H'], ['T', 'H', 'H'], ['T', 'T', 'H'], ['H', 'H', 'H'], ['T', 'T', 'T'], ['H', 'T', 'H'], ['T', 'H', 'T'], ['H', 'H', 'T'], ['T', 'T', 'H'], ['T', 'T', 'H'], ['T', 'T', 'H'], ['T', 'H', 'H'], ['T', 'H', 'T'], ['T', 'T', 'H'], ['T', 'H', 'T'], ['T', 'T', 'H'], ['T', 'T', 'T'], ['H', 'T', 'H'], ['T', 'H', 'H'], ['T', 'H', 'T'], ['T', 'T', 'T'], ['T', 'T', 'T'], ['H', 'H', 'H'], ['H', 'H', 'T'], ['T', 'H', 'H'], ['T', 'T', 'H'], ['T', 'H', 'T'], ['H', 'H', 'T'], ['H', 'T', 'H'], ['T', 'H', 'T'], ['T', 'H', 'T'], ['T', 'H', 'H'], ['T', 'H', 'T'], ['H', 'T', 'H'], ['T', 'H', 'T'], ['T', 'T', 'T'], ['T', 'T', 'H'], ['T', 'T', 'H'], ['T', 'H', 'H'], ['H', 'T', 'T'], ['T', 'H', 'T'], ['T', 'H', 'T'], ['H', 'T', 'H'], ['T', 'H', 'H'], ['T', 'H', 'T'], ['T', 'T', 'H'], ['T', 'H', 'T'], ['H', 'H', 'H'], ['T', 'T', 'H'], ['H', 'T', 'T'], ['H', 'H', 'T'], ['T', 'T', 'H'], ['H', 'T', 'T'], ['T', 'T', 'H'], ['T', 'T', 'H'], ['H', 'H', 'H'], ['T', 'T', 'H'], ['T', 'T', 'T'], ['H', 'T', 'H'], ['H', 'T', 'T'], ['H', 'H', 'T'], ['H', 'H', 'T'], ['T', 'T', 'T'], ['H', 'H', 'H'], ['H', 'T', 'H'], ['T', 'H', 'T'], ['T', 'T', 'H'], ['H', 'H', 'T'], ['H', 'H', 'H'], ['T', 'T', 'T'], ['H', 'H', 'T'], ['T', 'H', 'H'], ['T', 'H', 'T'], ['T', 'H', 'H'], ['T', 'T', 'H'], ['T', 'T', 'H'], ['T', 'H', 'H'], ['T', 'H', 'T'], ['T', 'T', 'H'], ['T', 'H', 'T'], ['H', 'T', 'T'], ['T', 'H', 'T'], ['H', 'T', 'T'], ['T', 'T', 'T'], ['H', 'H', 'T'], ['T', 'H', 'H'], ['T', 'H', 'T'], ['H', 'T', 'T'], ['T', 'T', 'T'], ['H', 'H', 'T'], ['T', 'H', 'T'], ['T', 'H', 'T'], ['H', 'T', 'T'], ['T', 'H', 'H'], ['T', 'H', 'T'], ['T', 'H', 'T'], ['H', 'T', 'T'], ['T', 'T', 'H'], ['H', 'T', 'T'], ['T', 'T', 'H'], ['T', 'T', 'T'], ['T', 'T', 'H'], ['H', 'T', 'T'], ['H', 'H', 'T'], ['T', 'T', 'H'], ['H', 'T', 'T'], ['T', 'H', 'T'], ['T', 'T', 'H'], ['T', 'T', 'T'], ['T', 'T', 'T'], ['H', 'H', 'T'], ['T', 'H', 'T'], ['H', 'H', 'H'], ['H', 'H', 'T'], ['T', 'T', 'H'], ['H', 'H', 'H'], ['T', 'H', 'H'], ['H', 'T', 'T'], ['T', 'T', 'H'], ['T', 'T', 'T'], ['H', 'H', 'T'], ['T', 'H', 'T'], ['H', 'T', 'T'], ['T', 'H', 'T'], ['H', 'T', 'T'], ['T', 'T', 'T'], ['H', 'H', 'T'], ['H', 'T', 'H'], ['T', 'H', 'T'], ['T', 'T', 'H'], ['H', 'T', 'T'], ['T', 'T', 'H'], ['H', 'T', 'T'], ['H', 'T', 'H'], ['H', 'T', 'H'], ['H', 'H', 'H'], ['H', 'H', 'T'], ['H', 'T', 'H'], ['T', 'H', 'T'], ['H', 'T', 'H'], ['T', 'H', 'H'], ['T', 'H', 'T'], ['H', 'H', 'H'], ['T', 'T', 'T'], ['H', 'H', 'H'], ['T', 'T', 'H'], ['T', 'T', 'H'], ['T', 'H', 'H'], ['T', 'H', 'T'], ['T', 'T', 'H'], ['T', 'T', 'H'], ['T', 'T', 'H'], ['T', 'T', 'H'], ['H', 'T', 'T'], ['H', 'T', 'H'], ['H', 'H', 'T'], ['T', 'T', 'H'], ['T', 'H', 'H'], ['T', 'H', 'H'], ['T', 'H', 'H'], ['H', 'H', 'H'], ['H', 'T', 'T'], ['T', 'T', 'H'], ['T', 'H', 'T'], ['T', 'H', 'H'], ['H', 'H', 'T'], ['T', 'T', 'H'], ['H', 'T', 'T'], ['T', 'H', 'T'], ['H', 'T', 'H'], ['T', 'T', 'H'], ['T', 'T', 'T'], ['H', 'T', 'T'], ['T', 'T', 'T'], ['T', 'H', 'H'], ['H', 'H', 'T'], ['H', 'H', 'T'], ['H', 'H', 'T'], ['H', 'H', 'H'], ['H', 'T', 'T'], ['H', 'T', 'H'], ['H', 'H', 'T'], ['T', 'T', 'H'], ['T', 'T', 'T'], ['H', 'H', 'T'], ['T', 'H', 'T'], ['H', 'T', 'T'], ['T', 'H', 'T'], ['T', 'T', 'T'], ['T', 'T', 'H'], ['H', 'T', 'T'], ['H', 'H', 'T'], ['H', 'H', 'H'], ['H', 'H', 'H'], ['H', 'H', 'T'], ['H', 'T', 'H'], ['H', 'T', 'T'], ['T', 'T', 'T'], ['H', 'H', 'T'], ['H', 'H', 'H'], ['H', 'H', 'H'], ['T', 'H', 'T'], ['T', 'H', 'T'], ['H', 'T', 'H'], ['T', 'H', 'H'], ['H', 'H', 'H'], ['H', 'H', 'T'], ['H', 'T', 'T'], ['H', 'T', 'T'], ['T', 'H', 'H'], ['H', 'T', 'T'], ['T', 'T', 'T'], ['H', 'T', 'H'], ['H', 'T', 'T'], ['H', 'T', 'H'], ['T', 'T', 'T'], ['H', 'H', 'T'], ['H', 'T', 'H'], ['T', 'T', 'T'], ['H', 'H', 'H'], ['H', 'H', 'T'], ['H', 'H', 'H'], ['T', 'T', 'H'], ['H', 'T', 'T'], ['T', 'T', 'H'], ['H', 'T', 'T'], ['T', 'H', 'H'], ['T', 'T', 'T'], ['H', 'H', 'T'], ['T', 'H', 'H'], ['H', 'H', 'H'], ['H', 'H', 'T'], ['T', 'H', 'H'], ['T', 'H', 'H'], ['T', 'T', 'T'], ['T', 'H', 'T'], ['T', 'T', 'H'], ['T', 'H', 'T'], ['T', 'H', 'T'], ['H', 'T', 'H'], ['T', 'T', 'H'], ['T', 'T', 'T'], ['H', 'H', 'H'], ['T', 'H', 'H'], ['T', 'T', 'H'], ['T', 'H', 'T'], ['T', 'T', 'T'], ['H', 'H', 'T'], ['T', 'H', 'H'], ['H', 'T', 'H'], ['T', 'T', 'T'], ['T', 'H', 'T'], ['T', 'T', 'H'], ['T', 'H', 'H'], ['T', 'H', 'T'], ['T', 'T', 'H'], ['H', 'H', 'T'], ['T', 'H', 'H'], ['T', 'H', 'T'], ['H', 'T', 'T'], ['T', 'H', 'T'], ['T', 'T', 'H'], ['H', 'H', 'T'], ['T', 'T', 'T'], ['H', 'T', 'H'], ['T', 'H', 'H'], ['T', 'H', 'H'], ['T', 'T', 'T'], ['H', 'H', 'H'], ['H', 'H', 'H'], ['H', 'T', 'H'], ['T', 'H', 'T'], ['H', 'H', 'T'], ['T', 'H', 'T'], ['T', 'H', 'T'], ['T', 'T', 'T'], ['T', 'H', 'T'], ['H', 'H', 'T'], ['H', 'T', 'T'], ['T', 'H', 'H'], ['T', 'H', 'T'], ['T', 'T', 'T'], ['T', 'H', 'T'], ['T', 'T', 'T'], ['H', 'T', 'H'], ['H', 'H', 'T'], ['H', 'T', 'T'], ['H', 'H', 'H'], ['T', 'T', 'H'], ['T', 'H', 'H'], ['H', 'H', 'H'], ['H', 'H', 'H'], ['H', 'H', 'H'], ['H', 'H', 'H'], ['H', 'T', 'T'], ['T', 'H', 'H'], ['H', 'T', 'H'], ['H', 'H', 'T'], ['T', 'T', 'H'], ['H', 'H', 'H'], ['T', 'T', 'T'], ['T', 'T', 'T'], ['T', 'H', 'T'], ['H', 'H', 'T'], ['T', 'T', 'T'], ['H', 'T', 'T'], ['H', 'H', 'H'], ['T', 'H', 'T'], ['T', 'H', 'T'], ['H', 'H', 'H'], ['T', 'H', 'H'], ['H', 'T', 'T'], ['T', 'T', 'H'], ['T', 'T', 'H'], ['H', 'T', 'T'], ['T', 'T', 'T'], ['T', 'T', 'H'], ['H', 'H', 'H'], ['T', 'T', 'H'], ['H', 'T', 'T'], ['T', 'H', 'H'], ['T', 'T', 'T'], ['H', 'H', 'H'], ['T', 'H', 'T'], ['T', 'T', 'T'], ['H', 'H', 'T'], ['T', 'H', 'T'], ['H', 'H', 'T'], ['H', 'H', 'T'], ['T', 'T', 'H'], ['T', 'T', 'T'], ['T', 'T', 'H'], ['T', 'T', 'T'], ['H', 'H', 'T'], ['T', 'H', 'H'], ['T', 'T', 'T'], ['T', 'T', 'H'], ['T', 'H', 'H'], ['H', 'T', 'H'], ['T', 'T', 'T'], ['H', 'T', 'T'], ['H', 'H', 'H'], ['T', 'T', 'H'], ['H', 'H', 'H'], ['T', 'H', 'H'], ['H', 'T', 'H'], ['H', 'T', 'T'], ['H', 'H', 'H'], ['T', 'T', 'H'], ['T', 'H', 'H'], ['H', 'T', 'H'], ['H', 'T', 'T'], ['H', 'H', 'T'], ['T', 'H', 'H'], ['T', 'T', 'H'], ['H', 'T', 'T'], ['T', 'T', 'T'], ['H', 'H', 'H'], ['T', 'T', 'T'], ['H', 'T', 'H'], ['H', 'T', 'T'], ['T', 'H', 'H'], ['H', 'H', 'T'], ['H', 'T', 'T'], ['T', 'H', 'T'], ['H', 'T', 'T'], ['H', 'T', 'T'], ['H', 'H', 'T'], ['T', 'H', 'T'], ['H', 'H', 'H'], ['H', 'H', 'T'], ['H', 'T', 'H'], ['T', 'T', 'T'], ['H', 'H', 'H'], ['T', 'H', 'T'], ['T', 'T', 'H'], ['H', 'T', 'T'], ['H', 'T', 'H'], ['H', 'T', 'H'], ['H', 'H', 'H'], ['T', 'H', 'H'], ['H', 'T', 'H'], ['T', 'H', 'H'], ['T', 'T', 'T'], ['T', 'T', 'H'], ['H', 'H', 'H'], ['T', 'H', 'T'], ['H', 'T', 'H'], ['H', 'T', 'H'], ['T', 'H', 'T'], ['H', 'H', 'H'], ['T', 'H', 'H'], ['T', 'T', 'H'], ['T', 'T', 'T'], ['T', 'T', 'T'], ['T', 'T', 'T'], ['H', 'H', 'H'], ['T', 'T', 'H'], ['H', 'H', 'T'], ['T', 'H', 'H'], ['T', 'H', 'T'], ['H', 'H', 'H'], ['H', 'T', 'T'], ['T', 'H', 'H'], ['H', 'T', 'H'], ['H', 'T', 'H'], ['T', 'T', 'H'], ['H', 'T', 'H'], ['T', 'H', 'H'], ['T', 'T', 'H'], ['T', 'H', 'H'], ['T', 'T', 'H'], ['H', 'H', 'T'], ['T', 'T', 'T'], ['H', 'T', 'T'], ['H', 'T', 'H'], ['H', 'T', 'H'], ['T', 'T', 'T'], ['T', 'H', 'T'], ['H', 'T', 'T'], ['H', 'T', 'T'], ['T', 'T', 'H'], ['H', 'H', 'H'], ['T', 'H', 'H'], ['T', 'T', 'H'], ['H', 'H', 'T'], ['H', 'H', 'H'], ['H', 'H', 'T'], ['H', 'T', 'T'], ['T', 'H', 'H'], ['T', 'H', 'T'], ['T', 'T', 'T'], ['H', 'H', 'T'], ['H', 'T', 'H'], ['T', 'T', 'T'], ['T', 'T', 'T'], ['H', 'T', 'T'], ['H', 'T', 'T'], ['H', 'T', 'T'], ['H', 'H', 'H'], ['T', 'H', 'H'], ['T', 'T', 'H'], ['H', 'T', 'T'], ['T', 'H', 'T'], ['T', 'T', 'H'], ['T', 'H', 'T'], ['H', 'H', 'H'], ['T', 'H', 'T'], ['T', 'T', 'T'], ['H', 'H', 'T'], ['H', 'T', 'T'], ['H', 'T', 'T'], ['H', 'T', 'T'], ['H', 'T', 'H'], ['H', 'H', 'T'], ['T', 'H', 'T'], ['T', 'T', 'H'], ['H', 'T', 'T'], ['T', 'T', 'H'], ['H', 'H', 'H'], ['T', 'T', 'H'], ['T', 'T', 'H'], ['T', 'T', 'T'], ['T', 'H', 'H'], ['T', 'H', 'H'], ['H', 'H', 'H'], ['T', 'H', 'T'], ['T', 'T', 'H'], ['H', 'T', 'T'], ['H', 'H', 'T'], ['H', 'H', 'H'], ['H', 'H', 'H'], ['H', 'T', 'H'], ['T', 'T', 'T'], ['T', 'T', 'H'], ['T', 'H', 'H'], ['T', 'H', 'T'], ['H', 'H', 'T'], ['T', 'H', 'H'], ['H', 'H', 'H'], ['H', 'H', 'H'], ['H', 'H', 'H'], ['H', 'H', 'H'], ['T', 'T', 'H'], ['T', 'T', 'H'], ['H', 'H', 'H'], ['T', 'T', 'H'], ['H', 'H', 'T'], ['H', 'H', 'H'], ['T', 'T', 'H'], ['T', 'H', 'T'], ['H', 'T', 'T'], ['T', 'H', 'T'], ['T', 'T', 'H'], ['T', 'H', 'T'], ['H', 'H', 'T'], ['H', 'T', 'T'], ['H', 'T', 'H'], ['T', 'H', 'H'], ['H', 'H', 'H'], ['T', 'T', 'T'], ['T', 'H', 'H'], ['T', 'H', 'T'], ['H', 'H', 'T'], ['H', 'H', 'T'], ['H', 'T', 'H'], ['T', 'T', 'H'], ['T', 'H', 'H'], ['H', 'T', 'H'], ['T', 'H', 'H'], ['H', 'T', 'T'], ['H', 'T', 'T'], ['H', 'H', 'H'], ['T', 'T', 'T'], ['H', 'T', 'H'], ['T', 'T', 'T'], ['T', 'T', 'H'], ['H', 'H', 'T'], ['T', 'H', 'T'], ['H', 'H', 'T'], ['T', 'H', 'H'], ['T', 'H', 'T'], ['T', 'T', 'T'], ['H', 'T', 'T'], ['H', 'H', 'H'], ['T', 'T', 'T'], ['H', 'T', 'H'], ['T', 'H', 'T'], ['T', 'T', 'H'], ['H', 'H', 'H'], ['T', 'T', 'T'], ['H', 'T', 'T'], ['T', 'T', 'H'], ['T', 'T', 'H'], ['H', 'H', 'H'], ['T', 'T', 'H'], ['T', 'H', 'H'], ['H', 'H', 'H'], ['T', 'T', 'H'], ['H', 'T', 'H'], ['H', 'T', 'T'], ['H', 'H', 'H'], ['T', 'H', 'T'], ['T', 'H', 'T'], ['H', 'H', 'T'], ['H', 'H', 'T'], ['H', 'H', 'H'], ['H', 'H', 'T'], ['H', 'H', 'H'], ['H', 'T', 'T'], ['H', 'T', 'H'], ['T', 'H', 'T'], ['H', 'H', 'T'], ['T', 'T', 'T'], ['T', 'T', 'T'], ['T', 'H', 'T'], ['H', 'H', 'T'], ['H', 'T', 'H'], ['H', 'H', 'H'], ['T', 'H', 'H'], ['H', 'T', 'T'], ['H', 'T', 'T'], ['T', 'H', 'T'], ['H', 'T', 'H'], ['T', 'T', 'H'], ['T', 'H', 'T'], ['H', 'H', 'H'], ['T', 'T', 'H'], ['H', 'H', 'H'], ['H', 'H', 'T'], ['H', 'H', 'H'], ['T', 'H', 'H'], ['T', 'H', 'T'], ['H', 'H', 'H'], ['H', 'T', 'T'], ['H', 'T', 'T'], ['H', 'H', 'H'], ['T', 'T', 'H'], ['T', 'T', 'T'], ['T', 'H', 'T'], ['T', 'H', 'H'], ['T', 'H', 'H'], ['H', 'H', 'T'], ['T', 'T', 'T'], ['T', 'H', 'H'], ['H', 'H', 'H'], ['T', 'T', 'T'], ['H', 'T', 'H'], ['H', 'H', 'H'], ['T', 'T', 'H'], ['H', 'T', 'H'], ['T', 'T', 'H'], ['T', 'T', 'T'], ['T', 'H', 'H'], ['T', 'H', 'H'], ['T', 'H', 'T'], ['H', 'T', 'T'], ['H', 'H', 'T'], ['T', 'H', 'T'], ['T', 'T', 'H'], ['T', 'T', 'H'], ['H', 'H', 'T'], ['H', 'T', 'T'], ['T', 'H', 'T'], ['H', 'H', 'T'], ['H', 'T', 'T'], ['T', 'T', 'H'], ['H', 'H', 'T'], ['H', 'H', 'H'], ['T', 'H', 'H'], ['H', 'H', 'T'], ['H', 'T', 'H'], ['T', 'T', 'H'], ['H', 'H', 'H'], ['H', 'H', 'H'], ['T', 'H', 'H'], ['T', 'H', 'T'], ['T', 'H', 'T'], ['T', 'H', 'H'], ['T', 'H', 'T'], ['H', 'T', 'T'], ['H', 'H', 'T'], ['T', 'T', 'H'], ['H', 'T', 'H'], ['T', 'H', 'H'], ['T', 'T', 'T'], ['T', 'T', 'T'], ['H', 'T', 'T'], ['T', 'T', 'T'], ['H', 'H', 'H'], ['H', 'H', 'T'], ['T', 'T', 'T'], ['T', 'T', 'H'], ['T', 'T', 'T'], ['T', 'H', 'T'], ['T', 'H', 'T'], ['T', 'H', 'H'], ['H', 'T', 'H'], ['T', 'T', 'T'], ['T', 'T', 'T'], ['T', 'T', 'T'], ['H', 'T', 'T'], ['T', 'H', 'H'], ['T', 'T', 'T'], ['H', 'H', 'H'], ['H', 'H', 'T'], ['H', 'H', 'T'], ['H', 'H', 'H'], ['H', 'T', 'H'], ['H', 'T', 'T'], ['H', 'H', 'H'], ['H', 'T', 'H'], ['T', 'H', 'H'], ['H', 'T', 'T'], ['T', 'H', 'T'], ['H', 'T', 'H'], ['H', 'H', 'T'], ['T', 'H', 'T'], ['H', 'H', 'T'], ['H', 'T', 'T'], ['T', 'H', 'T'], ['T', 'T', 'H'], ['T', 'T', 'H'], ['T', 'H', 'H'], ['T', 'H', 'H'], ['T', 'H', 'T'], ['H', 'T', 'H'], ['T', 'T', 'T'], ['T', 'T', 'H'], ['H', 'T', 'T'], ['H', 'T', 'T'], ['H', 'T', 'H'], ['H', 'H', 'H'], ['T', 'T', 'H'], ['T', 'T', 'T'], ['T', 'H', 'H'], ['H', 'T', 'H'], ['T', 'T', 'H'], ['T', 'T', 'T'], ['T', 'H', 'H'], ['H', 'H', 'T'], ['T', 'T', 'H'], ['T', 'H', 'T'], ['H', 'T', 'H'], ['H', 'T', 'T'], ['H', 'T', 'T'], ['T', 'H', 'T'], ['T', 'T', 'H'], ['H', 'H', 'T'], ['T', 'H', 'H'], ['T', 'H', 'H'], ['H', 'H', 'H'], ['H', 'T', 'T'], ['T', 'H', 'T'], ['H', 'H', 'H'], ['T', 'T', 'T'], ['H', 'T', 'H'], ['T', 'H', 'H'], ['T', 'H', 'T'], ['T', 'H', 'H'], ['H', 'T', 'T'], ['T', 'T', 'T'], ['H', 'H', 'H'], ['T', 'H', 'T'], ['T', 'H', 'T'], ['T', 'H', 'H'], ['H', 'T', 'H'], ['T', 'H', 'H'], ['H', 'H', 'T'], ['T', 'H', 'T'], ['T', 'H', 'H'], ['H', 'H', 'H'], ['H', 'H', 'H'], ['T', 'H', 'T'], ['T', 'T', 'H'], ['T', 'H', 'H'], ['T', 'H', 'T'], ['T', 'H', 'H'], ['T', 'T', 'T'], ['T', 'T', 'T'], ['H', 'H', 'T'], ['T', 'T', 'T'], ['T', 'H', 'T'], ['T', 'T', 'H'], ['T', 'H', 'H'], ['H', 'T', 'H'], ['H', 'H', 'T'], ['T', 'T', 'T'], ['T', 'H', 'H'], ['T', 'H', 'T'], ['T', 'T', 'T'], ['H', 'H', 'T'], ['T', 'T', 'T'], ['H', 'H', 'T'], ['T', 'H', 'H'], ['T', 'H', 'H'], ['H', 'T', 'T'], ['T', 'H', 'H'], ['H', 'T', 'H'], ['T', 'T', 'T'], ['H', 'T', 'T'], ['H', 'H', 'T'], ['T', 'T', 'H'], ['T', 'H', 'T'], ['H', 'T', 'H'], ['H', 'H', 'T'], ['T', 'T', 'T'], ['T', 'H', 'T'], ['T', 'T', 'T'], ['H', 'T', 'H'], ['H', 'H', 'T'], ['H', 'T', 'T'], ['T', 'H', 'H'], ['H', 'T', 'H'], ['H', 'T', 'T'], ['T', 'H', 'T'], ['H', 'H', 'T'], ['H', 'T', 'T'], ['T', 'T', 'H'], ['T', 'H', 'H'], ['H', 'H', 'T'], ['T', 'H', 'T'], ['T', 'T', 'T'], ['H', 'H', 'T'], ['H', 'T', 'H'], ['H', 'H', 'T'], ['H', 'H', 'H'], ['H', 'T', 'H'], ['T', 'T', 'T'], ['H', 'T', 'H'], ['H', 'H', 'T'], ['H', 'T', 'T'], ['T', 'H', 'H'], ['H', 'T', 'T'], ['H', 'H', 'T'], ['T', 'H', 'H'], ['H', 'T', 'T'], ['T', 'T', 'T'], ['T', 'H', 'T'], ['T', 'H', 'H'], ['T', 'T', 'H'], ['T', 'H', 'T'], ['T', 'H', 'H'], ['H', 'H', 'H'], ['T', 'T', 'T'], ['H', 'H', 'H'], ['T', 'H', 'H'], ['T', 'H', 'T'], ['H', 'H', 'T'], ['T', 'T', 'H'], ['T', 'H', 'T'], ['T', 'H', 'H'], ['T', 'T', 'T'], ['H', 'T', 'T'], ['H', 'T', 'T'], ['T', 'H', 'H'], ['H', 'H', 'T'], ['T', 'H', 'T'], ['T', 'T', 'H'], ['H', 'T', 'T'], ['T', 'T', 'H'], ['T', 'H', 'T'], ['H', 'T', 'H'], ['T', 'T', 'H'], ['T', 'T', 'H'], ['T', 'T', 'T'], ['T', 'T', 'H'], ['H', 'H', 'T'], ['H', 'T', 'T'], ['T', 'H', 'T'], ['H', 'T', 'H'], ['T', 'T', 'H'], ['T', 'H', 'H'], ['T', 'T', 'H'], ['H', 'T', 'T'], ['T', 'H', 'H'], ['T', 'H', 'H'], ['H', 'T', 'H'], ['H', 'T', 'H'], ['T', 'T', 'T'], ['T', 'H', 'T'], ['H', 'H', 'H'], ['T', 'T', 'H'], ['T', 'H', 'H'], ['H', 'T', 'H'], ['H', 'H', 'H'], ['H', 'H', 'H'], ['H', 'H', 'H'], ['H', 'H', 'T'], ['T', 'H', 'H'], ['H', 'T', 'T'], ['H', 'H', 'H'], ['H', 'H', 'T'], ['T', 'H', 'H'], ['H', 'T', 'T'], ['T', 'T', 'T'], ['H', 'T', 'T'], ['T', 'T', 'H'], ['H', 'T', 'H'], ['H', 'H', 'T'], ['T', 'T', 'H'], ['T', 'H', 'H'], ['H', 'H', 'T'], ['H', 'H', 'T'], ['T', 'T', 'H'], ['T', 'T', 'T'], ['T', 'T', 'H'], ['H', 'T', 'H'], ['H', 'T', 'T'], ['T', 'T', 'H'], ['T', 'T', 'T'], ['T', 'T', 'H'], ['H', 'T', 'H'], ['T', 'T', 'H'], ['T', 'T', 'H'], ['T', 'H', 'T'], ['T', 'T', 'T'], ['H', 'H', 'T'], ['H', 'H', 'T'], ['H', 'H', 'H'], ['T', 'T', 'H'], ['H', 'H', 'T'], ['H', 'H', 'H'], ['T', 'H', 'T'], ['T', 'T', 'H'], ['T', 'H', 'H'], ['T', 'H', 'T'], ['H', 'T', 'T'], ['T', 'T', 'H'], ['T', 'H', 'H'], ['H', 'H', 'H'], ['T', 'T', 'T'], ['T', 'T', 'H'], ['H', 'H', 'H'], ['H', 'H', 'H'], ['T', 'T', 'T'], ['H', 'T', 'T'], ['H', 'T', 'T'], ['H', 'T', 'H'], ['H', 'H', 'T'], ['H', 'H', 'H'], ['T', 'T', 'T'], ['T', 'H', 'T'], ['T', 'H', 'T'], ['H', 'H', 'T'], ['H', 'H', 'T'], ['T', 'H', 'T'], ['H', 'H', 'T'], ['H', 'T', 'T'], ['H', 'T', 'H'], ['H', 'H', 'H'], ['H', 'T', 'H'], ['T', 'T', 'H'], ['H', 'T', 'T'], ['H', 'T', 'H'], ['H', 'H', 'H'], ['H', 'H', 'H'], ['T', 'T', 'H'], ['H', 'T', 'H'], ['H', 'H', 'T'], ['H', 'H', 'H'], ['T', 'T', 'T'], ['H', 'H', 'T'], ['H', 'H', 'T'], ['T', 'T', 'H'], ['H', 'T', 'H'], ['T', 'H', 'T'], ['T', 'T', 'H'], ['H', 'T', 'T'], ['H', 'T', 'T'], ['T', 'T', 'H'], ['T', 'H', 'T'], ['H', 'H', 'H'], ['T', 'T', 'H'], ['T', 'T', 'H'], ['T', 'T', 'H'], ['T', 'H', 'H'], ['T', 'T', 'H'], ['H', 'T', 'H'], ['H', 'H', 'H'], ['T', 'H', 'H'], ['T', 'T', 'H'], ['T', 'H', 'T'], ['T', 'H', 'H'], ['H', 'T', 'H'], ['H', 'T', 'H'], ['T', 'H', 'H'], ['T', 'H', 'H'], ['H', 'H', 'T'], ['H', 'H', 'H'], ['H', 'H', 'H'], ['T', 'T', 'T'], ['T', 'H', 'T'], ['T', 'H', 'T'], ['H', 'H', 'T'], ['H', 'H', 'H'], ['H', 'H', 'T'], ['H', 'T', 'T'], ['T', 'T', 'H'], ['T', 'H', 'T'], ['H', 'T', 'H'], ['T', 'H', 'T'], ['H', 'H', 'T'], ['T', 'H', 'T'], ['T', 'T', 'H'], ['T', 'T', 'H'], ['T', 'H', 'H'], ['T', 'H', 'T'], ['T', 'T', 'T'], ['T', 'H', 'T'], ['H', 'H', 'H'], ['T', 'T', 'T'], ['T', 'H', 'T'], ['H', 'H', 'T'], ['H', 'T', 'H'], ['T', 'H', 'H'], ['H', 'T', 'H'], ['T', 'T', 'T'], ['H', 'T', 'T'], ['T', 'H', 'T'], ['T', 'H', 'H'], ['H', 'T', 'T'], ['T', 'H', 'H'], ['H', 'H', 'T'], ['H', 'H', 'H'], ['T', 'T', 'T'], ['H', 'H', 'H'], ['T', 'H', 'T'], ['T', 'H', 'H'], ['H', 'T', 'T'], ['H', 'T', 'H'], ['T', 'H', 'T'], ['T', 'T', 'T'], ['T', 'H', 'H'], ['H', 'T', 'H'], ['H', 'H', 'H'], ['T', 'T', 'H'], ['T', 'T', 'T'], ['H', 'H', 'T'], ['H', 'T', 'T'], ['H', 'T', 'H'], ['H', 'H', 'T'], ['H', 'H', 'H'], ['T', 'H', 'T'], ['H', 'H', 'T'], ['T', 'T', 'T'], ['T', 'T', 'H'], ['T', 'H', 'T'], ['H', 'T', 'T'], ['H', 'T', 'T'], ['H', 'H', 'H'], ['H', 'T', 'H'], ['H', 'H', 'T'], ['T', 'T', 'H'], ['H', 'T', 'T'], ['T', 'T', 'T'], ['T', 'H', 'H'], ['T', 'H', 'T'], ['H', 'T', 'T'], ['T', 'T', 'T'], ['T', 'H', 'T'], ['T', 'T', 'T'], ['T', 'H', 'H'], ['T', 'T', 'T'], ['T', 'H', 'T'], ['T', 'T', 'H'], ['H', 'T', 'H'], ['H', 'T', 'H'], ['T', 'H', 'H'], ['H', 'H', 'T'], ['H', 'H', 'T'], ['T', 'T', 'H'], ['T', 'H', 'T'], ['H', 'H', 'H'], ['T', 'H', 'T'], ['T', 'T', 'T'], ['H', 'H', 'T'], ['H', 'H', 'H'], ['H', 'H', 'H'], ['H', 'T', 'H'], ['H', 'T', 'H'], ['H', 'T', 'T'], ['H', 'T', 'T'], ['H', 'T', 'H'], ['T', 'T', 'T'], ['T', 'T', 'T'], ['H', 'H', 'T'], ['T', 'T', 'H'], ['T', 'H', 'H'], ['T', 'T', 'T'], ['H', 'H', 'T'], ['H', 'H', 'T'], ['H', 'H', 'T'], ['H', 'T', 'T'], ['H', 'H', 'T'], ['T', 'T', 'H'], ['T', 'T', 'H'], ['T', 'T', 'H'], ['H', 'H', 'T'], ['T', 'H', 'T'], ['T', 'T', 'H'], ['H', 'H', 'T'], ['H', 'H', 'T'], ['H', 'T', 'H'], ['H', 'T', 'H'], ['H', 'H', 'T'], ['T', 'T', 'H'], ['T', 'T', 'T'], ['T', 'H', 'T'], ['H', 'H', 'H'], ['H', 'T', 'H'], ['T', 'T', 'T'], ['H', 'T', 'H'], ['T', 'T', 'T'], ['H', 'T', 'H'], ['T', 'H', 'T'], ['H', 'T', 'T'], ['T', 'H', 'H'], ['T', 'H', 'H'], ['T', 'H', 'H'], ['H', 'T', 'T'], ['H', 'T', 'T'], ['T', 'T', 'H'], ['T', 'T', 'H'], ['H', 'H', 'T'], ['H', 'H', 'H'], ['T', 'H', 'H'], ['H', 'T', 'T'], ['H', 'H', 'H'], ['H', 'T', 'T'], ['T', 'T', 'T'], ['H', 'H', 'T'], ['H', 'H', 'T'], ['T', 'H', 'T'], ['H', 'T', 'H'], ['T', 'H', 'H'], ['T', 'T', 'T'], ['T', 'H', 'H'], ['H', 'T', 'T'], ['T', 'T', 'H'], ['T', 'H', 'H'], ['H', 'T', 'T'], ['T', 'H', 'T'], ['H', 'H', 'H'], ['H', 'H', 'T'], ['H', 'T', 'T'], ['H', 'T', 'T'], ['T', 'T', 'T'], ['T', 'H', 'H'], ['T', 'H', 'H'], ['H', 'H', 'H'], ['H', 'T', 'T'], ['T', 'H', 'H'], ['T', 'T', 'T'], ['T', 'T', 'H'], ['H', 'T', 'T'], ['H', 'T', 'H'], ['T', 'H', 'H'], ['H', 'T', 'T'], ['T', 'T', 'H'], ['T', 'H', 'T'], ['T', 'H', 'T'], ['H', 'T', 'H'], ['T', 'H', 'H'], ['H', 'T', 'H'], ['H', 'H', 'T'], ['T', 'T', 'T'], ['T', 'T', 'T'], ['H', 'H', 'H'], ['T', 'T', 'T'], ['H', 'H', 'H'], ['H', 'H', 'H'], ['H', 'H', 'H'], ['H', 'T', 'T'], ['H', 'T', 'T'], ['H', 'H', 'T'], ['T', 'T', 'T'], ['T', 'H', 'H'], ['T', 'H', 'H'], ['H', 'H', 'H'], ['H', 'T', 'H'], ['T', 'H', 'T'], ['T', 'T', 'H'], ['H', 'T', 'H'], ['H', 'H', 'H'], ['T', 'H', 'H'], ['T', 'H', 'H'], ['T', 'T', 'H'], ['H', 'T', 'T'], ['H', 'T', 'T'], ['H', 'T', 'T'], ['H', 'T', 'T'], ['H', 'H', 'T'], ['T', 'T', 'H'], ['H', 'T', 'T'], ['T', 'T', 'T'], ['H', 'T', 'T'], ['H', 'H', 'T'], ['H', 'T', 'T'], ['T', 'T', 'T'], ['H', 'T', 'T'], ['H', 'T', 'H'], ['H', 'H', 'H'], ['T', 'H', 'T'], ['T', 'H', 'T'], ['H', 'T', 'T'], ['T', 'T', 'H'], ['T', 'T', 'H'], ['H', 'T', 'T'], ['H', 'H', 'H'], ['T', 'T', 'T'], ['H', 'H', 'H'], ['H', 'T', 'H'], ['T', 'T', 'H'], ['T', 'H', 'T'], ['H', 'T', 'T'], ['T', 'T', 'H'], ['T', 'T', 'H'], ['H', 'H', 'H'], ['H', 'T', 'T'], ['T', 'T', 'T'], ['H', 'H', 'H'], ['T', 'H', 'T'], ['T', 'T', 'H'], ['T', 'H', 'T'], ['H', 'T', 'T'], ['T', 'T', 'T'], ['H', 'T', 'T'], ['T', 'H', 'H'], ['H', 'H', 'T'], ['H', 'H', 'H'], ['H', 'H', 'T'], ['H', 'T', 'H'], ['H', 'T', 'H'], ['H', 'T', 'T'], ['H', 'T', 'T'], ['T', 'T', 'H'], ['T', 'H', 'T'], ['T', 'H', 'H'], ['H', 'H', 'H'], ['T', 'H', 'T'], ['H', 'H', 'H'], ['T', 'T', 'T'], ['T', 'T', 'T'], ['T', 'T', 'T'], ['H', 'T', 'H'], ['H', 'H', 'T'], ['H', 'H', 'T'], ['T', 'H', 'T'], ['T', 'T', 'T'], ['H', 'T', 'H'], ['T', 'H', 'H'], ['T', 'H', 'H'], ['T', 'T', 'T'], ['H', 'H', 'T'], ['H', 'T', 'T'], ['H', 'H', 'H'], ['H', 'H', 'H'], ['T', 'T', 'H'], ['T', 'T', 'T'], ['T', 'H', 'H'], ['H', 'H', 'H'], ['T', 'H', 'T'], ['T', 'H', 'T'], ['H', 'T', 'T'], ['T', 'H', 'T'], ['T', 'T', 'T'], ['T', 'T', 'T'], ['H', 'T', 'H'], ['H', 'H', 'H'], ['H', 'H', 'H'], ['T', 'H', 'H'], ['H', 'H', 'H'], ['H', 'H', 'T'], ['T', 'T', 'T'], ['T', 'T', 'H'], ['H', 'H', 'H'], ['H', 'H', 'T'], ['T', 'H', 'T'], ['H', 'T', 'T'], ['T', 'H', 'T'], ['T', 'T', 'T'], ['T', 'H', 'H'], ['T', 'H', 'H'], ['T', 'T', 'H'], ['H', 'T', 'T'], ['T', 'T', 'T'], ['H', 'T', 'H'], ['T', 'H', 'T'], ['H', 'H', 'H'], ['H', 'H', 'T'], ['T', 'H', 'T'], ['H', 'T', 'T'], ['H', 'H', 'H'], ['H', 'T', 'H'], ['H', 'H', 'T'], ['H', 'H', 'H'], ['H', 'T', 'T'], ['T', 'T', 'H'], ['H', 'H', 'H'], ['H', 'T', 'H'], ['H', 'T', 'H'], ['T', 'T', 'T'], ['H', 'T', 'H'], ['T', 'T', 'H'], ['T', 'H', 'T'], ['H', 'H', 'H'], ['H', 'H', 'H'], ['T', 'H', 'H'], ['H', 'H', 'H'], ['H', 'H', 'T'], ['T', 'T', 'H'], ['T', 'T', 'H'], ['T', 'T', 'H'], ['T', 'T', 'T'], ['H', 'T', 'T'], ['T', 'T', 'T'], ['T', 'T', 'H'], ['T', 'T', 'T'], ['T', 'H', 'H'], ['H', 'T', 'H'], ['H', 'H', 'H'], ['T', 'H', 'H'], ['T', 'H', 'H'], ['H', 'H', 'T'], ['T', 'H', 'T'], ['T', 'T', 'T'], ['H', 'H', 'T'], ['H', 'H', 'H'], ['H', 'H', 'T'], ['H', 'T', 'T'], ['T', 'H', 'T'], ['T', 'H', 'T'], ['T', 'H', 'H'], ['T', 'H', 'T'], ['T', 'H', 'T'], ['H', 'H', 'H'], ['H', 'H', 'H'], ['H', 'T', 'H'], ['T', 'T', 'H'], ['T', 'T', 'H'], ['H', 'H', 'H'], ['T', 'T', 'H'], ['H', 'T', 'T'], ['T', 'T', 'H'], ['H', 'T', 'T'], ['T', 'T', 'H'], ['H', 'H', 'T'], ['T', 'T', 'T'], ['T', 'H', 'H'], ['H', 'H', 'T'], ['H', 'H', 'H'], ['T', 'T', 'H'], ['H', 'H', 'H'], ['T', 'H', 'T'], ['T', 'H', 'T'], ['H', 'T', 'H'], ['H', 'T', 'T'], ['H', 'H', 'T'], ['T', 'H', 'T'], ['T', 'T', 'T'], ['H', 'T', 'T'], ['T', 'T', 'T'], ['H', 'T', 'H'], ['T', 'T', 'T'], ['H', 'T', 'H'], ['H', 'T', 'H'], ['T', 'T', 'T'], ['T', 'H', 'T'], ['T', 'T', 'T'], ['H', 'H', 'H'], ['T', 'H', 'H'], ['H', 'T', 'T'], ['H', 'H', 'H'], ['T', 'H', 'H'], ['T', 'H', 'H'], ['T', 'T', 'T'], ['H', 'T', 'H'], ['H', 'H', 'T'], ['H', 'H', 'T'], ['H', 'T', 'T'], ['H', 'T', 'T'], ['H', 'T', 'T'], ['T', 'H', 'H'], ['T', 'T', 'T'], ['T', 'T', 'H'], ['H', 'H', 'T'], ['T', 'H', 'T'], ['H', 'T', 'H'], ['T', 'T', 'T'], ['H', 'H', 'H'], ['H', 'T', 'H'], ['H', 'T', 'T'], ['H', 'H', 'H'], ['H', 'T', 'H'], ['H', 'T', 'T'], ['H', 'T', 'H'], ['H', 'T', 'H'], ['T', 'T', 'H'], ['H', 'H', 'T'], ['T', 'T', 'H'], ['T', 'H', 'H'], ['T', 'T', 'T'], ['H', 'T', 'T'], ['H', 'T', 'H'], ['T', 'T', 'T'], ['H', 'T', 'H'], ['T', 'T', 'T'], ['T', 'T', 'T'], ['H', 'H', 'H'], ['H', 'T', 'T'], ['T', 'H', 'T'], ['H', 'H', 'T'], ['T', 'H', 'T'], ['T', 'T', 'H'], ['T', 'H', 'T'], ['T', 'H', 'H'], ['T', 'H', 'T'], ['H', 'H', 'H'], ['H', 'H', 'H'], ['H', 'T', 'T'], ['T', 'H', 'H'], ['T', 'T', 'H'], ['H', 'H', 'T'], ['T', 'H', 'T'], ['H', 'H', 'H'], ['H', 'H', 'T'], ['T', 'H', 'T'], ['H', 'T', 'H'], ['T', 'H', 'T'], ['T', 'T', 'H'], ['H', 'T', 'T'], ['H', 'H', 'H'], ['T', 'T', 'T'], ['T', 'H', 'T'], ['H', 'H', 'H'], ['T', 'H', 'T'], ['H', 'T', 'H'], ['H', 'H', 'T'], ['H', 'H', 'T'], ['T', 'T', 'H'], ['H', 'T', 'T'], ['T', 'T', 'H'], ['H', 'T', 'H'], ['H', 'H', 'H'], ['H', 'T', 'H'], ['T', 'T', 'H'], ['T', 'H', 'T'], ['T', 'H', 'T'], ['T', 'T', 'T'], ['T', 'T', 'T'], ['T', 'T', 'T'], ['H', 'H', 'T'], ['T', 'H', 'T'], ['H', 'H', 'T'], ['H', 'T', 'H'], ['H', 'T', 'H'], ['T', 'T', 'H'], ['T', 'H', 'H'], ['T', 'T', 'T'], ['T', 'T', 'T'], ['T', 'T', 'H'], ['H', 'H', 'T'], ['T', 'H', 'H'], ['T', 'H', 'H'], ['H', 'T', 'H'], ['H', 'H', 'T'], ['T', 'H', 'H'], ['T', 'H', 'H'], ['T', 'T', 'T'], ['T', 'T', 'T'], ['T', 'T', 'T'], ['T', 'H', 'H'], ['H', 'H', 'H'], ['T', 'H', 'H'], ['H', 'H', 'T'], ['H', 'T', 'H'], ['T', 'T', 'H'], ['T', 'T', 'H'], ['T', 'H', 'T'], ['H', 'T', 'H'], ['H', 'H', 'H'], ['T', 'H', 'H'], ['H', 'T', 'T'], ['H', 'T', 'T'], ['T', 'T', 'T'], ['H', 'H', 'T'], ['H', 'T', 'T'], ['H', 'T', 'H'], ['T', 'H', 'H'], ['H', 'H', 'H'], ['T', 'H', 'H'], ['H', 'T', 'T'], ['H', 'T', 'T'], ['T', 'T', 'T'], ['T', 'T', 'H'], ['H', 'T', 'T'], ['T', 'T', 'H'], ['T', 'T', 'T'], ['T', 'H', 'T'], ['T', 'T', 'H'], ['H', 'H', 'T'], ['H', 'T', 'H'], ['T', 'T', 'H'], ['H', 'T', 'H'], ['T', 'H', 'T'], ['T', 'H', 'H'], ['H', 'H', 'H'], ['T', 'H', 'T'], ['H', 'H', 'T'], ['H', 'H', 'T'], ['H', 'H', 'H'], ['T', 'T', 'T'], ['T', 'H', 'T'], ['T', 'T', 'H'], ['H', 'H', 'H'], ['T', 'H', 'H'], ['H', 'H', 'H'], ['T', 'H', 'T'], ['T', 'T', 'T'], ['H', 'T', 'H'], ['T', 'H', 'H'], ['T', 'T', 'T'], ['T', 'H', 'H'], ['T', 'T', 'T'], ['H', 'T', 'T'], ['T', 'H', 'T'], ['T', 'H', 'T'], ['T', 'T', 'T'], ['H', 'T', 'H'], ['H', 'H', 'H'], ['H', 'H', 'H'], ['H', 'T', 'T'], ['T', 'H', 'T'], ['H', 'T', 'H'], ['T', 'T', 'H'], ['T', 'H', 'H'], ['H', 'H', 'H'], ['T', 'H', 'H'], ['T', 'T', 'H'], ['H', 'T', 'H'], ['T', 'H', 'T'], ['H', 'H', 'T'], ['H', 'H', 'H'], ['T', 'T', 'T'], ['H', 'T', 'T'], ['H', 'T', 'H'], ['T', 'T', 'H'], ['H', 'T', 'H'], ['H', 'H', 'T'], ['H', 'T', 'T'], ['T', 'H', 'T'], ['T', 'H', 'H'], ['H', 'T', 'H'], ['H', 'H', 'H'], ['T', 'H', 'H'], ['T', 'H', 'H'], ['H', 'H', 'T'], ['H', 'H', 'H'], ['H', 'H', 'H'], ['T', 'H', 'H'], ['H', 'T', 'T'], ['T', 'H', 'H'], ['H', 'T', 'H'], ['T', 'T', 'T'], ['T', 'T', 'H'], ['T', 'T', 'H'], ['H', 'T', 'H'], ['T', 'H', 'T'], ['H', 'T', 'T'], ['H', 'T', 'T'], ['T', 'H', 'H'], ['T', 'H', 'T'], ['T', 'H', 'T'], ['H', 'T', 'T'], ['T', 'H', 'T'], ['H', 'T', 'H'], ['T', 'T', 'T'], ['T', 'H', 'T'], ['H', 'T', 'T'], ['H', 'T', 'H'], ['H', 'T', 'H'], ['T', 'T', 'H'], ['H', 'T', 'T'], ['T', 'T', 'T'], ['H', 'T', 'T'], ['T', 'H', 'H'], ['T', 'T', 'T'], ['H', 'T', 'H'], ['H', 'H', 'H'], ['T', 'T', 'T'], ['T', 'T', 'H'], ['H', 'H', 'H'], ['H', 'H', 'T'], ['H', 'H', 'T'], ['H', 'T', 'H'], ['T', 'T', 'H'], ['T', 'T', 'T'], ['T', 'H', 'H'], ['T', 'T', 'T'], ['H', 'H', 'H'], ['H', 'T', 'T'], ['H', 'T', 'H'], ['H', 'H', 'T'], ['T', 'T', 'H'], ['H', 'H', 'H'], ['H', 'H', 'T'], ['H', 'T', 'T'], ['T', 'H', 'H'], ['H', 'H', 'H'], ['H', 'H', 'T'], ['T', 'H', 'H'], ['T', 'T', 'H'], ['H', 'T', 'H'], ['H', 'T', 'T'], ['T', 'T', 'H'], ['H', 'T', 'H'], ['T', 'T', 'H'], ['H', 'H', 'T'], ['H', 'H', 'H'], ['T', 'T', 'H'], ['H', 'H', 'T'], ['T', 'T', 'T'], ['H', 'T', 'T'], ['H', 'H', 'H'], ['H', 'H', 'T'], ['T', 'T', 'T'], ['H', 'H', 'H'], ['H', 'H', 'T'], ['H', 'T', 'H'], ['H', 'T', 'T'], ['H', 'H', 'H'], ['T', 'H', 'T'], ['T', 'T', 'H'], ['T', 'H', 'T'], ['H', 'T', 'H'], ['H', 'T', 'T'], ['H', 'T', 'T'], ['H', 'H', 'T'], ['T', 'H', 'T'], ['T', 'T', 'H'], ['T', 'T', 'H'], ['H', 'H', 'H'], ['H', 'H', 'T'], ['H', 'H', 'T'], ['T', 'H', 'H'], ['H', 'H', 'T'], ['T', 'T', 'T'], ['H', 'T', 'H'], ['H', 'T', 'H'], ['H', 'T', 'T'], ['T', 'T', 'T'], ['T', 'T', 'T'], ['H', 'T', 'T'], ['T', 'T', 'H'], ['T', 'T', 'T'], ['T', 'H', 'H'], ['T', 'T', 'T'], ['T', 'H', 'T'], ['H', 'H', 'T'], ['H', 'H', 'T'], ['T', 'T', 'T'], ['T', 'T', 'T'], ['H', 'T', 'H'], ['T', 'T', 'T'], ['T', 'T', 'T'], ['H', 'H', 'H'], ['H', 'H', 'H'], ['T', 'T', 'T'], ['T', 'H', 'T'], ['H', 'T', 'T'], ['H', 'H', 'H'], ['T', 'T', 'T'], ['H', 'T', 'T'], ['T', 'T', 'T'], ['H', 'H', 'T'], ['T', 'H', 'T'], ['T', 'H', 'H'], ['T', 'H', 'T'], ['T', 'T', 'H'], ['H', 'H', 'T'], ['H', 'T', 'T'], ['T', 'T', 'T'], ['H', 'H', 'H'], ['T', 'T', 'H'], ['H', 'H', 'T'], ['H', 'T', 'T'], ['H', 'H', 'T'], ['H', 'H', 'T'], ['T', 'H', 'T'], ['T', 'H', 'H'], ['H', 'T', 'H'], ['T', 'T', 'T'], ['H', 'T', 'H'], ['H', 'H', 'T'], ['T', 'H', 'T'], ['T', 'H', 'H'], ['T', 'T', 'H'], ['H', 'T', 'H'], ['T', 'H', 'T'], ['H', 'H', 'H'], ['H', 'H', 'T'], ['H', 'H', 'T'], ['H', 'H', 'T'], ['T', 'H', 'T'], ['H', 'H', 'T'], ['T', 'T', 'T'], ['T', 'T', 'H'], ['H', 'T', 'T'], ['T', 'T', 'T'], ['T', 'H', 'H'], ['H', 'H', 'H'], ['T', 'T', 'H'], ['T', 'T', 'H'], ['T', 'T', 'T'], ['H', 'T', 'H'], ['H', 'T', 'H'], ['T', 'H', 'T'], ['H', 'H', 'H'], ['H', 'H', 'T'], ['T', 'T', 'H'], ['T', 'T', 'H'], ['H', 'T', 'H'], ['H', 'T', 'H'], ['H', 'T', 'T'], ['H', 'T', 'H'], ['H', 'H', 'T'], ['H', 'H', 'T'], ['T', 'H', 'T'], ['T', 'H', 'T'], ['T', 'H', 'T'], ['H', 'T', 'T'], ['H', 'H', 'T'], ['H', 'T', 'H'], ['H', 'H', 'H'], ['H', 'H', 'H'], ['H', 'H', 'T'], ['T', 'H', 'T'], ['T', 'T', 'T'], ['H', 'T', 'H'], ['H', 'T', 'H'], ['H', 'T', 'T'], ['T', 'T', 'H'], ['H', 'T', 'H'], ['T', 'H', 'H'], ['H', 'H', 'T'], ['H', 'T', 'T'], ['H', 'H', 'H'], ['H', 'T', 'H'], ['T', 'T', 'H'], ['H', 'H', 'T'], ['H', 'H', 'H'], ['H', 'H', 'T'], ['H', 'T', 'T'], ['H', 'T', 'T'], ['H', 'T', 'T'], ['H', 'H', 'H'], ['H', 'H', 'H'], ['T', 'T', 'H'], ['H', 'H', 'T'], ['T', 'H', 'H'], ['T', 'H', 'T'], ['T', 'H', 'H'], ['T', 'H', 'H'], ['T', 'T', 'T'], ['H', 'H', 'T'], ['H', 'H', 'H'], ['T', 'T', 'T'], ['T', 'T', 'H'], ['H', 'H', 'H'], ['H', 'T', 'H'], ['H', 'H', 'H'], ['T', 'T', 'H'], ['H', 'T', 'T'], ['H', 'T', 'H'], ['T', 'H', 'T'], ['T', 'T', 'T'], ['T', 'T', 'T'], ['H', 'T', 'T'], ['T', 'T', 'H'], ['T', 'T', 'H'], ['H', 'H', 'H'], ['H', 'T', 'T'], ['H', 'T', 'H'], ['T', 'T', 'T'], ['T', 'H', 'H'], ['H', 'H', 'H'], ['H', 'H', 'H'], ['T', 'H', 'H'], ['T', 'H', 'T'], ['T', 'H', 'T'], ['H', 'H', 'H'], ['T', 'T', 'T'], ['H', 'H', 'T'], ['T', 'T', 'T'], ['T', 'T', 'T'], ['H', 'T', 'T'], ['H', 'T', 'H'], ['H', 'T', 'H'], ['H', 'H', 'H'], ['T', 'H', 'T'], ['H', 'H', 'T'], ['H', 'T', 'T'], ['T', 'T', 'T'], ['T', 'T', 'H'], ['T', 'H', 'T'], ['H', 'T', 'H'], ['T', 'T', 'T'], ['H', 'H', 'T'], ['T', 'H', 'H'], ['T', 'T', 'T'], ['T', 'T', 'T'], ['T', 'T', 'T'], ['H', 'H', 'H'], ['H', 'T', 'H'], ['T', 'T', 'H'], ['T', 'T', 'T'], ['H', 'H', 'T'], ['T', 'T', 'T'], ['H', 'H', 'H'], ['H', 'H', 'H'], ['T', 'T', 'T'], ['H', 'T', 'H'], ['H', 'T', 'T'], ['T', 'T', 'H'], ['H', 'H', 'T'], ['T', 'T', 'T'], ['H', 'T', 'T'], ['H', 'T', 'T'], ['T', 'H', 'T'], ['T', 'T', 'H'], ['T', 'H', 'H'], ['T', 'H', 'H'], ['H', 'T', 'T'], ['H', 'T', 'T'], ['T', 'H', 'H'], ['H', 'T', 'T'], ['T', 'T', 'H'], ['H', 'H', 'H'], ['H', 'H', 'T'], ['H', 'H', 'T'], ['T', 'H', 'H'], ['H', 'H', 'H'], ['H', 'T', 'H'], ['T', 'T', 'H'], ['H', 'T', 'T'], ['H', 'T', 'H'], ['H', 'H', 'T'], ['H', 'H', 'H'], ['H', 'T', 'T'], ['T', 'T', 'H'], ['T', 'T', 'T'], ['H', 'T', 'H'], ['T', 'H', 'T'], ['H', 'T', 'T'], ['H', 'H', 'T'], ['T', 'H', 'T'], ['T', 'T', 'H'], ['T', 'T', 'T'], ['T', 'T', 'H'], ['T', 'H', 'T'], ['H', 'H', 'T'], ['T', 'H', 'H'], ['H', 'T', 'T'], ['H', 'H', 'H'], ['H', 'T', 'T'], ['H', 'H', 'H'], ['H', 'H', 'H'], ['H', 'H', 'H'], ['H', 'H', 'H'], ['T', 'H', 'H'], ['T', 'H', 'H'], ['H', 'H', 'T'], ['H', 'H', 'H'], ['H', 'H', 'T'], ['T', 'T', 'H'], ['H', 'H', 'T'], ['T', 'H', 'H'], ['H', 'H', 'T'], ['H', 'T', 'T'], ['T', 'T', 'T'], ['T', 'T', 'H'], ['H', 'H', 'T'], ['H', 'T', 'T'], ['T', 'T', 'H'], ['H', 'H', 'H'], ['T', 'H', 'H'], ['T', 'H', 'H'], ['H', 'H', 'H'], ['T', 'H', 'T'], ['H', 'T', 'H'], ['T', 'H', 'H'], ['H', 'T', 'H'], ['T', 'T', 'T'], ['H', 'H', 'T'], ['H', 'H', 'H'], ['T', 'T', 'T'], ['H', 'H', 'T'], ['T', 'T', 'H'], ['H', 'T', 'T'], ['T', 'T', 'T'], ['T', 'H', 'T'], ['H', 'T', 'H'], ['H', 'H', 'H'], ['H', 'T', 'H'], ['T', 'T', 'H'], ['H', 'H', 'T'], ['T', 'H', 'T'], ['H', 'H', 'H'], ['T', 'H', 'H'], ['T', 'T', 'H'], ['T', 'H', 'T'], ['H', 'T', 'T'], ['H', 'H', 'H'], ['T', 'H', 'T'], ['T', 'T', 'H'], ['T', 'T', 'H'], ['H', 'T', 'H'], ['H', 'H', 'H'], ['H', 'H', 'T'], ['H', 'T', 'T'], ['H', 'H', 'H'], ['T', 'H', 'H'], ['H', 'T', 'H'], ['H', 'T', 'T'], ['T', 'H', 'H'], ['H', 'T', 'T'], ['T', 'H', 'H'], ['T', 'T', 'H'], ['H', 'H', 'H'], ['T', 'T', 'H'], ['H', 'H', 'T'], ['T', 'T', 'T'], ['T', 'T', 'T'], ['T', 'T', 'T'], ['T', 'T', 'T'], ['T', 'T', 'T'], ['T', 'H', 'T'], ['T', 'H', 'H'], ['H', 'T', 'H'], ['T', 'T', 'T'], ['T', 'H', 'T'], ['H', 'T', 'T'], ['H', 'H', 'H'], ['H', 'H', 'H'], ['H', 'T', 'H'], ['T', 'T', 'T'], ['T', 'T', 'H'], ['T', 'T', 'T'], ['H', 'T', 'T'], ['H', 'H', 'H'], ['T', 'H', 'T'], ['H', 'T', 'H'], ['H', 'T', 'T'], ['T', 'H', 'H'], ['H', 'T', 'T'], ['T', 'T', 'H'], ['H', 'H', 'H'], ['H', 'T', 'H'], ['T', 'H', 'T'], ['T', 'T', 'T'], ['T', 'T', 'H'], ['H', 'T', 'H'], ['H', 'H', 'H'], ['T', 'T', 'T'], ['T', 'T', 'H'], ['H', 'H', 'H'], ['T', 'T', 'T'], ['H', 'H', 'T'], ['H', 'H', 'H'], ['T', 'H', 'H'], ['H', 'T', 'T'], ['T', 'T', 'H'], ['H', 'H', 'H'], ['T', 'H', 'T'], ['T', 'T', 'T'], ['T', 'T', 'H'], ['T', 'H', 'T'], ['T', 'H', 'T'], ['T', 'H', 'T'], ['T', 'T', 'H'], ['T', 'T', 'H'], ['H', 'T', 'H'], ['H', 'T', 'T'], ['T', 'T', 'H'], ['H', 'T', 'T'], ['H', 'H', 'T'], ['T', 'H', 'T'], ['H', 'H', 'T'], ['T', 'H', 'T'], ['T', 'H', 'H'], ['H', 'H', 'T'], ['H', 'H', 'H'], ['H', 'T', 'T'], ['H', 'H', 'H'], ['T', 'H', 'H'], ['T', 'H', 'T'], ['H', 'H', 'T'], ['T', 'H', 'H'], ['H', 'T', 'T'], ['H', 'H', 'H'], ['T', 'H', 'H'], ['T', 'H', 'T'], ['H', 'H', 'T'], ['H', 'H', 'T'], ['T', 'H', 'T'], ['T', 'H', 'T'], ['T', 'T', 'H'], ['T', 'H', 'T'], ['H', 'T', 'H'], ['H', 'T', 'T'], ['T', 'T', 'T'], ['H', 'T', 'T'], ['T', 'T', 'H'], ['T', 'H', 'H'], ['T', 'H', 'H'], ['H', 'H', 'H'], ['T', 'H', 'T'], ['H', 'H', 'T'], ['T', 'H', 'T'], ['T', 'T', 'T'], ['H', 'H', 'H'], ['T', 'T', 'H'], ['T', 'H', 'T'], ['H', 'H', 'H'], ['H', 'T', 'T'], ['T', 'H', 'T'], ['H', 'H', 'T'], ['T', 'T', 'T'], ['H', 'H', 'H'], ['T', 'T', 'H'], ['H', 'H', 'H'], ['T', 'T', 'T'], ['T', 'T', 'T'], ['T', 'T', 'T'], ['T', 'H', 'T'], ['H', 'H', 'T'], ['H', 'T', 'H'], ['H', 'T', 'H'], ['H', 'H', 'H'], ['H', 'T', 'H'], ['T', 'T', 'H'], ['T', 'T', 'T'], ['T', 'T', 'T'], ['H', 'T', 'H'], ['T', 'T', 'T'], ['T', 'T', 'H'], ['T', 'T', 'H'], ['T', 'H', 'T'], ['T', 'T', 'T'], ['H', 'T', 'T'], ['T', 'T', 'H'], ['T', 'T', 'H'], ['T', 'H', 'T'], ['H', 'H', 'H'], ['H', 'T', 'H'], ['H', 'T', 'T'], ['H', 'H', 'H'], ['T', 'H', 'H'], ['H', 'T', 'T'], ['H', 'T', 'T'], ['H', 'T', 'H'], ['T', 'H', 'T'], ['T', 'H', 'T'], ['T', 'T', 'T'], ['T', 'T', 'T'], ['H', 'T', 'T'], ['H', 'H', 'T'], ['T', 'H', 'H'], ['T', 'H', 'H'], ['T', 'T', 'H'], ['T', 'H', 'T'], ['T', 'T', 'H'], ['T', 'T', 'H'], ['T', 'T', 'H'], ['H', 'H', 'T'], ['H', 'T', 'H'], ['H', 'T', 'H'], ['T', 'T', 'T'], ['H', 'H', 'T'], ['H', 'H', 'H'], ['T', 'H', 'H'], ['H', 'T', 'T'], ['T', 'T', 'H'], ['H', 'H', 'H'], ['H', 'H', 'T'], ['H', 'T', 'T'], ['H', 'T', 'T'], ['T', 'T', 'T'], ['H', 'T', 'T'], ['H', 'T', 'H'], ['T', 'H', 'T'], ['T', 'T', 'H'], ['H', 'T', 'H'], ['T', 'H', 'H'], ['H', 'H', 'T'], ['H', 'T', 'T'], ['H', 'H', 'T'], ['H', 'T', 'T'], ['T', 'H', 'H'], ['T', 'T', 'T'], ['H', 'T', 'H'], ['T', 'H', 'T'], ['H', 'H', 'T'], ['H', 'T', 'T'], ['T', 'T', 'H'], ['T', 'H', 'T'], ['H', 'H', 'H'], ['H', 'H', 'T'], ['H', 'T', 'H'], ['H', 'T', 'T'], ['H', 'H', 'T'], ['H', 'T', 'T'], ['T', 'H', 'H'], ['T', 'T', 'T'], ['H', 'H', 'H'], ['H', 'H', 'H'], ['T', 'H', 'T'], ['H', 'T', 'T'], ['T', 'T', 'H'], ['H', 'T', 'T'], ['T', 'T', 'T'], ['H', 'T', 'H'], ['H', 'T', 'H'], ['H', 'H', 'H'], ['T', 'H', 'H'], ['T', 'H', 'T'], ['H', 'T', 'T'], ['T', 'T', 'H'], ['H', 'H', 'T'], ['T', 'T', 'H'], ['H', 'T', 'H'], ['H', 'H', 'H'], ['H', 'H', 'H'], ['T', 'H', 'H'], ['T', 'H', 'H'], ['H', 'H', 'H'], ['H', 'T', 'H'], ['T', 'H', 'T'], ['T', 'T', 'H'], ['H', 'T', 'H'], ['T', 'T', 'T'], ['T', 'H', 'T'], ['H', 'H', 'T'], ['T', 'H', 'H'], ['H', 'T', 'T'], ['H', 'T', 'H'], ['H', 'H', 'T'], ['T', 'T', 'T'], ['T', 'T', 'H'], ['H', 'T', 'T'], ['H', 'H', 'H'], ['H', 'T', 'H'], ['T', 'H', 'H'], ['H', 'H', 'H'], ['H', 'T', 'T'], ['T', 'H', 'H'], ['T', 'H', 'T'], ['H', 'H', 'H'], ['H', 'H', 'T'], ['H', 'T', 'H'], ['H', 'H', 'T'], ['H', 'T', 'T'], ['T', 'H', 'T'], ['H', 'H', 'H'], ['H', 'H', 'T'], ['T', 'T', 'H'], ['T', 'T', 'H'], ['T', 'T', 'H'], ['H', 'T', 'T'], ['T', 'H', 'H'], ['H', 'H', 'T'], ['H', 'T', 'H'], ['T', 'T', 'T'], ['T', 'H', 'H'], ['H', 'T', 'H'], ['H', 'H', 'T'], ['T', 'T', 'H'], ['H', 'T', 'T'], ['H', 'T', 'H'], ['T', 'T', 'H'], ['H', 'T', 'T'], ['T', 'T', 'T'], ['T', 'H', 'H'], ['H', 'H', 'T'], ['T', 'H', 'T'], ['T', 'T', 'H'], ['T', 'H', 'T'], ['H', 'H', 'H'], ['T', 'H', 'H'], ['H', 'H', 'H'], ['T', 'T', 'H'], ['H', 'H', 'H'], ['T', 'T', 'H'], ['T', 'T', 'H'], ['T', 'T', 'H'], ['T', 'H', 'T'], ['T', 'T', 'T'], ['T', 'T', 'T'], ['H', 'H', 'T'], ['H', 'H', 'H'], ['T', 'H', 'T'], ['T', 'T', 'T'], ['T', 'H', 'H'], ['T', 'T', 'H'], ['H', 'H', 'T'], ['T', 'T', 'H'], ['H', 'T', 'T'], ['T', 'T', 'H'], ['T', 'T', 'T'], ['T', 'H', 'H'], ['T', 'H', 'T'], ['H', 'T', 'T'], ['T', 'H', 'T'], ['H', 'T', 'T'], ['H', 'T', 'H'], ['H', 'H', 'H'], ['T', 'T', 'H'], ['T', 'H', 'H'], ['H', 'H', 'T'], ['T', 'T', 'H'], ['H', 'T', 'H'], ['H', 'T', 'H'], ['H', 'T', 'H'], ['H', 'T', 'H'], ['H', 'T', 'T'], ['H', 'H', 'T'], ['H', 'T', 'H'], ['T', 'H', 'H'], ['T', 'T', 'T'], ['H', 'H', 'H'], ['H', 'T', 'H'], ['H', 'T', 'H'], ['H', 'H', 'H'], ['H', 'T', 'H'], ['H', 'H', 'T'], ['T', 'H', 'T'], ['T', 'H', 'T'], ['H', 'H', 'H'], ['H', 'T', 'T'], ['T', 'H', 'T'], ['T', 'T', 'H'], ['H', 'T', 'T'], ['H', 'T', 'H'], ['H', 'T', 'H'], ['H', 'H', 'T'], ['T', 'H', 'H'], ['H', 'T', 'T'], ['H', 'H', 'H'], ['T', 'H', 'T'], ['H', 'H', 'H'], ['T', 'T', 'H'], ['H', 'T', 'T'], ['H', 'T', 'T'], ['T', 'T', 'T'], ['T', 'H', 'H'], ['T', 'T', 'T'], ['T', 'H', 'T'], ['H', 'H', 'H'], ['H', 'T', 'H'], ['H', 'T', 'H'], ['T', 'H', 'T'], ['T', 'H', 'H'], ['T', 'H', 'T'], ['H', 'H', 'T'], ['H', 'H', 'H'], ['T', 'H', 'H'], ['H', 'H', 'T'], ['T', 'H', 'T'], ['H', 'T', 'T'], ['T', 'T', 'T'], ['T', 'H', 'T'], ['T', 'T', 'H'], ['T', 'T', 'H'], ['H', 'T', 'H'], ['H', 'H', 'H'], ['T', 'H', 'H'], ['T', 'H', 'H'], ['H', 'T', 'H'], ['T', 'T', 'T'], ['T', 'T', 'T'], ['H', 'H', 'T'], ['T', 'H', 'H'], ['T', 'H', 'T'], ['T', 'T', 'T'], ['H', 'H', 'T'], ['H', 'T', 'T'], ['H', 'T', 'H'], ['T', 'H', 'H'], ['T', 'T', 'H'], ['T', 'T', 'T'], ['T', 'H', 'H'], ['T', 'T', 'T'], ['T', 'T', 'T'], ['H', 'T', 'H'], ['H', 'H', 'T'], ['H', 'H', 'T'], ['T', 'H', 'H'], ['H', 'T', 'T'], ['H', 'H', 'T'], ['T', 'H', 'H'], ['H', 'H', 'H'], ['H', 'H', 'T'], ['T', 'T', 'T'], ['T', 'H', 'H'], ['T', 'H', 'H'], ['T', 'H', 'H'], ['T', 'H', 'T'], ['T', 'T', 'H'], ['H', 'T', 'H'], ['T', 'H', 'T'], ['H', 'H', 'H'], ['T', 'H', 'T'], ['H', 'H', 'H'], ['T', 'T', 'H'], ['T', 'H', 'T'], ['H', 'T', 'H'], ['H', 'T', 'T'], ['T', 'T', 'T'], ['T', 'H', 'H'], ['H', 'H', 'T'], ['H', 'T', 'H'], ['H', 'T', 'T'], ['H', 'H', 'T'], ['T', 'H', 'T'], ['T', 'H', 'H'], ['H', 'T', 'H'], ['T', 'H', 'T'], ['H', 'T', 'H'], ['H', 'H', 'T'], ['T', 'H', 'T'], ['T', 'H', 'T'], ['H', 'H', 'T'], ['H', 'T', 'T'], ['T', 'H', 'T'], ['H', 'H', 'H'], ['H', 'T', 'H'], ['H', 'H', 'T'], ['T', 'H', 'H'], ['T', 'H', 'T'], ['T', 'H', 'T'], ['H', 'T', 'T'], ['T', 'H', 'T'], ['T', 'H', 'H'], ['H', 'H', 'T'], ['T', 'H', 'T'], ['T', 'H', 'T'], ['H', 'T', 'H'], ['H', 'H', 'T'], ['T', 'T', 'T'], ['H', 'T', 'T'], ['H', 'T', 'T'], ['T', 'H', 'T'], ['H', 'T', 'T'], ['T', 'T', 'H'], ['T', 'H', 'T'], ['H', 'H', 'H'], ['T', 'H', 'H'], ['T', 'T', 'H'], ['T', 'H', 'T'], ['T', 'H', 'T'], ['H', 'H', 'T'], ['H', 'H', 'T'], ['H', 'T', 'T'], ['H', 'T', 'H'], ['T', 'H', 'T'], ['H', 'T', 'T'], ['H', 'T', 'H'], ['H', 'H', 'T'], ['T', 'T', 'T'], ['H', 'T', 'T'], ['T', 'T', 'H'], ['H', 'T', 'T'], ['T', 'T', 'H'], ['H', 'T', 'H'], ['H', 'H', 'H'], ['H', 'T', 'H'], ['H', 'H', 'T'], ['H', 'T', 'H'], ['T', 'T', 'T'], ['T', 'T', 'H'], ['T', 'T', 'T'], ['H', 'T', 'T'], ['T', 'H', 'H'], ['T', 'H', 'H'], ['H', 'T', 'H'], ['T', 'H', 'H'], ['T', 'T', 'T'], ['H', 'H', 'T'], ['T', 'H', 'H'], ['H', 'T', 'H'], ['H', 'H', 'H'], ['H', 'H', 'H'], ['T', 'H', 'T'], ['H', 'T', 'T'], ['H', 'T', 'H'], ['T', 'T', 'H'], ['T', 'H', 'H'], ['H', 'H', 'H'], ['H', 'H', 'T'], ['T', 'H', 'H'], ['T', 'H', 'H'], ['T', 'H', 'H'], ['T', 'H', 'T'], ['H', 'H', 'T'], ['T', 'T', 'H'], ['H', 'H', 'H'], ['T', 'T', 'H'], ['T', 'T', 'T'], ['H', 'T', 'T'], ['T', 'T', 'H'], ['T', 'H', 'H'], ['H', 'T', 'T'], ['T', 'H', 'H'], ['T', 'T', 'T'], ['T', 'T', 'H'], ['H', 'T', 'T'], ['T', 'H', 'T'], ['H', 'H', 'H'], ['T', 'T', 'T'], ['H', 'T', 'H'], ['T', 'T', 'H'], ['T', 'H', 'H'], ['H', 'T', 'H'], ['H', 'T', 'H'], ['H', 'T', 'H'], ['H', 'H', 'H'], ['T', 'H', 'T'], ['H', 'H', 'H'], ['H', 'H', 'H'], ['T', 'H', 'T'], ['H', 'H', 'T'], ['T', 'T', 'H'], ['H', 'H', 'T'], ['T', 'T', 'H'], ['T', 'H', 'T'], ['H', 'H', 'T'], ['H', 'T', 'H'], ['T', 'T', 'H'], ['T', 'T', 'T'], ['H', 'T', 'T'], ['T', 'H', 'T'], ['H', 'H', 'H'], ['H', 'H', 'H'], ['T', 'T', 'T'], ['T', 'H', 'T'], ['H', 'T', 'H'], ['T', 'T', 'T'], ['H', 'T', 'H'], ['T', 'T', 'H'], ['H', 'T', 'T'], ['H', 'H', 'T'], ['H', 'T', 'H'], ['T', 'H', 'H'], ['T', 'H', 'T'], ['H', 'H', 'H'], ['T', 'T', 'H'], ['T', 'T', 'T'], ['T', 'H', 'T'], ['T', 'T', 'T'], ['H', 'T', 'T'], ['T', 'H', 'T'], ['H', 'H', 'H'], ['H', 'H', 'H'], ['T', 'H', 'H'], ['H', 'H', 'T'], ['H', 'H', 'T'], ['T', 'H', 'T'], ['H', 'H', 'T'], ['H', 'T', 'T'], ['T', 'T', 'T'], ['H', 'T', 'T'], ['H', 'T', 'H'], ['T', 'T', 'H'], ['T', 'T', 'H'], ['H', 'H', 'T'], ['H', 'H', 'H'], ['H', 'T', 'H'], ['T', 'T', 'T'], ['H', 'T', 'H'], ['H', 'H', 'H'], ['T', 'H', 'T'], ['T', 'H', 'T'], ['T', 'T', 'T'], ['H', 'H', 'T'], ['H', 'H', 'H'], ['H', 'H', 'H'], ['T', 'H', 'T'], ['T', 'T', 'H'], ['H', 'T', 'H'], ['H', 'H', 'H'], ['T', 'T', 'T'], ['H', 'H', 'T'], ['T', 'H', 'H'], ['H', 'H', 'T'], ['T', 'T', 'T'], ['H', 'T', 'H'], ['H', 'H', 'T'], ['H', 'H', 'H'], ['H', 'H', 'H'], ['T', 'H', 'H'], ['T', 'H', 'T'], ['H', 'H', 'T'], ['T', 'T', 'H'], ['T', 'H', 'T'], ['T', 'T', 'T'], ['T', 'H', 'T'], ['T', 'H', 'T'], ['H', 'T', 'H'], ['T', 'T', 'T'], ['T', 'H', 'H'], ['T', 'H', 'H'], ['T', 'H', 'T'], ['H', 'H', 'H'], ['H', 'T', 'T'], ['H', 'H', 'H'], ['H', 'T', 'H'], ['H', 'T', 'H'], ['T', 'H', 'T'], ['T', 'T', 'H'], ['H', 'T', 'T'], ['H', 'H', 'T'], ['H', 'T', 'H'], ['T', 'H', 'T'], ['H', 'T', 'T'], ['T', 'T', 'T'], ['T', 'T', 'T'], ['H', 'H', 'T'], ['T', 'H', 'H'], ['T', 'T', 'T'], ['H', 'T', 'T'], ['T', 'H', 'T'], ['H', 'H', 'H'], ['H', 'H', 'H'], ['H', 'H', 'H'], ['T', 'T', 'T'], ['H', 'H', 'H'], ['T', 'H', 'T'], ['T', 'T', 'T'], ['H', 'T', 'T'], ['H', 'H', 'H'], ['T', 'H', 'T'], ['T', 'T', 'T'], ['T', 'T', 'T'], ['T', 'T', 'H'], ['H', 'T', 'T'], ['H', 'T', 'T'], ['T', 'H', 'H'], ['T', 'H', 'H'], ['H', 'H', 'T'], ['H', 'H', 'H'], ['H', 'T', 'H'], ['T', 'H', 'T'], ['T', 'T', 'T'], ['H', 'H', 'H'], ['H', 'T', 'H'], ['H', 'T', 'T'], ['H', 'T', 'H'], ['H', 'H', 'H'], ['T', 'T', 'T'], ['T', 'H', 'H'], ['T', 'H', 'T'], ['H', 'T', 'H'], ['H', 'H', 'H'], ['H', 'T', 'T'], ['T', 'T', 'H'], ['H', 'H', 'H'], ['H', 'H', 'T'], ['H', 'H', 'H'], ['H', 'H', 'T'], ['H', 'T', 'T'], ['H', 'T', 'H'], ['T', 'H', 'T'], ['H', 'T', 'T'], ['H', 'H', 'H'], ['H', 'H', 'H'], ['T', 'H', 'H'], ['T', 'H', 'T'], ['T', 'H', 'H'], ['T', 'T', 'T'], ['H', 'T', 'H'], ['T', 'H', 'H'], ['H', 'T', 'T'], ['T', 'T', 'H'], ['H', 'T', 'T'], ['H', 'T', 'T'], ['T', 'T', 'T'], ['H', 'H', 'T'], ['T', 'T', 'T'], ['T', 'H', 'T'], ['T', 'H', 'T'], ['T', 'H', 'T'], ['H', 'H', 'H'], ['H', 'H', 'H'], ['H', 'T', 'H'], ['T', 'H', 'T'], ['T', 'T', 'T'], ['H', 'H', 'H'], ['T', 'H', 'H'], ['T', 'H', 'T'], ['H', 'H', 'H'], ['T', 'T', 'H'], ['T', 'T', 'T'], ['T', 'H', 'T'], ['T', 'H', 'T'], ['H', 'T', 'T'], ['T', 'T', 'T'], ['H', 'T', 'H'], ['T', 'T', 'H'], ['H', 'H', 'T'], ['H', 'T', 'H'], ['H', 'T', 'H'], ['H', 'H', 'H'], ['T', 'T', 'H'], ['T', 'T', 'T'], ['T', 'T', 'T'], ['T', 'H', 'H'], ['H', 'H', 'T'], ['H', 'H', 'T'], ['H', 'H', 'H'], ['H', 'T', 'H'], ['T', 'T', 'H'], ['H', 'T', 'T'], ['H', 'T', 'T'], ['T', 'T', 'H'], ['T', 'H', 'T'], ['H', 'T', 'H'], ['T', 'H', 'H'], ['T', 'H', 'H'], ['H', 'H', 'H'], ['T', 'T', 'T'], ['H', 'H', 'H'], ['T', 'T', 'T'], ['T', 'H', 'H'], ['T', 'H', 'H'], ['H', 'T', 'H'], ['H', 'T', 'H'], ['T', 'T', 'T'], ['T', 'T', 'T'], ['T', 'T', 'H'], ['T', 'T', 'T'], ['T', 'H', 'T'], ['T', 'T', 'T'], ['T', 'H', 'H'], ['T', 'T', 'T'], ['H', 'H', 'T'], ['H', 'H', 'T'], ['H', 'H', 'H'], ['T', 'T', 'H'], ['T', 'T', 'T'], ['H', 'T', 'T'], ['H', 'H', 'T'], ['H', 'T', 'T'], ['T', 'H', 'H'], ['T', 'H', 'T'], ['T', 'T', 'T'], ['H', 'T', 'T'], ['T', 'H', 'T'], ['T', 'T', 'H'], ['T', 'H', 'T'], ['H', 'T', 'H'], ['H', 'H', 'T'], ['T', 'T', 'T'], ['T', 'H', 'H'], ['H', 'T', 'T'], ['T', 'H', 'T'], ['T', 'T', 'H'], ['H', 'T', 'H'], ['H', 'T', 'T'], ['H', 'H', 'H'], ['T', 'T', 'H'], ['H', 'H', 'T'], ['H', 'T', 'T'], ['H', 'H', 'H'], ['H', 'T', 'H'], ['H', 'T', 'H'], ['T', 'T', 'T'], ['T', 'H', 'H'], ['T', 'H', 'H'], ['H', 'T', 'H'], ['H', 'H', 'H'], ['T', 'T', 'H'], ['H', 'H', 'T'], ['H', 'T', 'H'], ['T', 'H', 'T'], ['H', 'T', 'H'], ['T', 'H', 'H'], ['T', 'T', 'H'], ['T', 'H', 'H'], ['T', 'T', 'T'], ['H', 'T', 'H'], ['T', 'T', 'H'], ['H', 'H', 'H'], ['T', 'H', 'H'], ['T', 'T', 'T'], ['H', 'T', 'T'], ['T', 'H', 'H'], ['T', 'H', 'T'], ['H', 'H', 'H'], ['H', 'H', 'H'], ['T', 'T', 'H'], ['H', 'T', 'T'], ['T', 'T', 'H'], ['H', 'H', 'T'], ['H', 'H', 'T'], ['T', 'H', 'H'], ['H', 'H', 'T'], ['H', 'T', 'H'], ['H', 'T', 'H'], ['T', 'T', 'H'], ['H', 'T', 'T'], ['T', 'H', 'T'], ['T', 'H', 'T'], ['H', 'H', 'T'], ['T', 'T', 'T'], ['T', 'H', 'H'], ['T', 'T', 'H'], ['T', 'H', 'H'], ['H', 'T', 'H'], ['T', 'T', 'H'], ['T', 'H', 'H'], ['T', 'H', 'T'], ['T', 'T', 'H'], ['H', 'H', 'H'], ['T', 'H', 'T'], ['T', 'T', 'H'], ['T', 'T', 'H'], ['T', 'H', 'T'], ['H', 'H', 'H'], ['T', 'H', 'H'], ['H', 'H', 'T'], ['T', 'H', 'H'], ['T', 'H', 'T'], ['T', 'H', 'H'], ['T', 'T', 'T'], ['T', 'H', 'H'], ['H', 'H', 'T'], ['H', 'T', 'H'], ['H', 'T', 'T'], ['T', 'T', 'T'], ['T', 'T', 'H'], ['H', 'H', 'H'], ['H', 'H', 'H'], ['H', 'H', 'T'], ['H', 'H', 'T'], ['H', 'H', 'H'], ['H', 'H', 'T'], ['T', 'T', 'T'], ['T', 'T', 'T'], ['T', 'H', 'H'], ['H', 'T', 'T'], ['H', 'T', 'H'], ['T', 'H', 'H'], ['T', 'T', 'H'], ['T', 'H', 'H'], ['H', 'H', 'H'], ['H', 'H', 'T'], ['T', 'T', 'T'], ['H', 'H', 'H'], ['H', 'T', 'H'], ['T', 'H', 'T'], ['T', 'H', 'H'], ['H', 'H', 'H'], ['T', 'T', 'H'], ['H', 'H', 'T'], ['H', 'H', 'H'], ['T', 'H', 'H'], ['T', 'H', 'T'], ['H', 'T', 'H'], ['T', 'H', 'H'], ['H', 'H', 'T'], ['T', 'H', 'H'], ['T', 'T', 'T'], ['H', 'T', 'H'], ['H', 'H', 'T'], ['H', 'H', 'H'], ['T', 'H', 'H'], ['T', 'H', 'H'], ['H', 'T', 'T'], ['T', 'T', 'H'], ['H', 'H', 'H'], ['T', 'H', 'H'], ['T', 'T', 'H'], ['H', 'H', 'H'], ['T', 'H', 'H'], ['H', 'H', 'H'], ['H', 'H', 'H'], ['T', 'H', 'H'], ['H', 'T', 'H'], ['T', 'H', 'H'], ['H', 'T', 'T'], ['T', 'H', 'H'], ['T', 'H', 'H'], ['H', 'T', 'T'], ['H', 'T', 'H'], ['H', 'H', 'H'], ['H', 'H', 'H'], ['H', 'T', 'T'], ['T', 'H', 'H'], ['H', 'H', 'T'], ['H', 'T', 'T'], ['H', 'T', 'H'], ['T', 'T', 'H'], ['H', 'T', 'H'], ['H', 'T', 'H'], ['T', 'T', 'H'], ['H', 'T', 'T'], ['H', 'T', 'H'], ['T', 'H', 'T'], ['T', 'T', 'T'], ['T', 'H', 'T'], ['T', 'T', 'T'], ['H', 'H', 'H'], ['T', 'T', 'T'], ['T', 'H', 'T'], ['H', 'T', 'T'], ['H', 'H', 'H'], ['H', 'H', 'H'], ['H', 'T', 'H'], ['H', 'H', 'H'], ['H', 'H', 'H'], ['T', 'H', 'H'], ['H', 'T', 'T'], ['T', 'T', 'H'], ['H', 'H', 'H'], ['T', 'T', 'H'], ['H', 'H', 'H'], ['H', 'H', 'H'], ['T', 'T', 'T'], ['T', 'T', 'H'], ['T', 'T', 'T'], ['T', 'H', 'H'], ['H', 'H', 'T'], ['H', 'T', 'H'], ['T', 'T', 'H'], ['T', 'T', 'H'], ['T', 'H', 'T'], ['T', 'H', 'H'], ['H', 'T', 'H'], ['T', 'H', 'H'], ['H', 'H', 'T'], ['T', 'T', 'T'], ['H', 'H', 'T'], ['H', 'H', 'T'], ['T', 'T', 'T'], ['T', 'T', 'H'], ['H', 'H', 'H'], ['T', 'H', 'H'], ['T', 'H', 'T'], ['T', 'H', 'T'], ['H', 'H', 'H'], ['T', 'T', 'H'], ['H', 'H', 'T'], ['H', 'H', 'T'], ['T', 'T', 'T'], ['H', 'T', 'T'], ['T', 'T', 'T'], ['T', 'H', 'H'], ['H', 'H', 'T'], ['H', 'T', 'H'], ['H', 'H', 'H'], ['T', 'T', 'T'], ['H', 'T', 'H'], ['H', 'T', 'T'], ['H', 'H', 'H'], ['H', 'H', 'H'], ['H', 'T', 'T'], ['H', 'H', 'H'], ['T', 'H', 'T'], ['T', 'H', 'H'], ['H', 'H', 'T'], ['T', 'T', 'T'], ['H', 'T', 'T'], ['H', 'H', 'H'], ['T', 'T', 'H'], ['T', 'T', 'H'], ['T', 'T', 'H'], ['T', 'H', 'H'], ['H', 'H', 'H'], ['T', 'H', 'H'], ['H', 'H', 'H'], ['T', 'H', 'T'], ['H', 'T', 'T'], ['T', 'T', 'T'], ['H', 'T', 'H'], ['H', 'H', 'H'], ['T', 'T', 'T'], ['H', 'T', 'H'], ['T', 'T', 'H'], ['T', 'T', 'T'], ['H', 'H', 'T'], ['T', 'T', 'T'], ['T', 'T', 'H'], ['H', 'H', 'T'], ['H', 'T', 'T'], ['H', 'T', 'H'], ['H', 'H', 'T'], ['H', 'T', 'H'], ['H', 'H', 'T'], ['T', 'H', 'T'], ['T', 'H', 'H'], ['T', 'H', 'T'], ['H', 'T', 'H'], ['T', 'H', 'H'], ['T', 'H', 'T'], ['H', 'H', 'H'], ['T', 'H', 'H'], ['H', 'H', 'H'], ['T', 'H', 'H'], ['H', 'H', 'H'], ['T', 'H', 'H'], ['T', 'T', 'H'], ['T', 'H', 'T'], ['T', 'H', 'H'], ['T', 'H', 'H'], ['T', 'H', 'T'], ['H', 'H', 'T'], ['H', 'T', 'H'], ['H', 'H', 'H'], ['T', 'H', 'H'], ['H', 'T', 'T'], ['T', 'H', 'T'], ['T', 'T', 'T'], ['H', 'H', 'H'], ['T', 'T', 'H'], ['H', 'T', 'H'], ['H', 'T', 'H'], ['T', 'T', 'T'], ['T', 'H', 'H'], ['T', 'H', 'T'], ['H', 'H', 'T'], ['H', 'T', 'H'], ['T', 'T', 'H'], ['T', 'H', 'H'], ['T', 'T', 'T'], ['H', 'T', 'T'], ['T', 'H', 'T'], ['T', 'T', 'T'], ['H', 'H', 'H'], ['H', 'T', 'T'], ['T', 'H', 'T'], ['T', 'T', 'T'], ['H', 'T', 'T'], ['H', 'T', 'T'], ['T', 'H', 'T'], ['H', 'T', 'H'], ['H', 'H', 'H'], ['T', 'H', 'H'], ['T', 'H', 'H'], ['T', 'T', 'H'], ['T', 'H', 'T'], ['H', 'H', 'H'], ['H', 'T', 'T'], ['H', 'H', 'T'], ['T', 'H', 'H'], ['H', 'H', 'H'], ['H', 'T', 'T'], ['T', 'T', 'T'], ['H', 'H', 'H'], ['T', 'H', 'H'], ['T', 'T', 'H'], ['H', 'H', 'H'], ['H', 'H', 'H'], ['T', 'T', 'H'], ['T', 'H', 'T'], ['H', 'H', 'H'], ['H', 'T', 'T'], ['H', 'T', 'H'], ['H', 'H', 'T'], ['T', 'H', 'H'], ['H', 'T', 'T'], ['T', 'T', 'T'], ['T', 'T', 'T'], ['T', 'H', 'H'], ['H', 'T', 'T'], ['T', 'T', 'H'], ['H', 'T', 'H'], ['H', 'T', 'H'], ['T', 'T', 'H'], ['H', 'T', 'T'], ['T', 'T', 'H'], ['H', 'H', 'H'], ['T', 'H', 'T'], ['H', 'H', 'T'], ['H', 'H', 'H'], ['H', 'T', 'H'], ['H', 'H', 'H'], ['H', 'H', 'T'], ['H', 'T', 'T'], ['T', 'H', 'H'], ['T', 'H', 'T'], ['T', 'H', 'H'], ['T', 'H', 'T'], ['T', 'T', 'H'], ['T', 'T', 'T'], ['H', 'H', 'H'], ['T', 'H', 'H'], ['H', 'H', 'T'], ['H', 'T', 'T'], ['H', 'T', 'H'], ['T', 'T', 'H'], ['T', 'H', 'T'], ['H', 'H', 'H'], ['H', 'H', 'H'], ['H', 'T', 'T'], ['T', 'H', 'H'], ['T', 'T', 'H'], ['H', 'T', 'H'], ['H', 'T', 'T'], ['T', 'T', 'T'], ['H', 'T', 'T'], ['H', 'H', 'T'], ['H', 'T', 'T'], ['H', 'T', 'H'], ['T', 'T', 'H'], ['H', 'T', 'T'], ['H', 'H', 'T'], ['H', 'T', 'T'], ['H', 'H', 'T'], ['H', 'T', 'T'], ['H', 'T', 'H'], ['H', 'H', 'T'], ['H', 'T', 'H'], ['T', 'H', 'T'], ['H', 'H', 'T'], ['T', 'H', 'T'], ['T', 'H', 'H'], ['T', 'H', 'H'], ['T', 'H', 'T'], ['T', 'T', 'H'], ['H', 'H', 'H'], ['T', 'H', 'T'], ['H', 'H', 'T'], ['H', 'T', 'T'], ['T', 'H', 'T'], ['H', 'H', 'T'], ['T', 'T', 'H'], ['H', 'H', 'T'], ['T', 'T', 'H'], ['T', 'H', 'H'], ['T', 'T', 'T'], ['T', 'T', 'T'], ['H', 'H', 'T'], ['T', 'H', 'T'], ['T', 'H', 'T'], ['H', 'T', 'T'], ['H', 'T', 'H'], ['T', 'T', 'H'], ['T', 'H', 'T'], ['H', 'T', 'T'], ['T', 'T', 'T'], ['H', 'T', 'H'], ['H', 'T', 'T'], ['T', 'H', 'T'], ['T', 'T', 'H'], ['T', 'H', 'T'], ['H', 'T', 'T'], ['H', 'T', 'T'], ['H', 'H', 'T'], ['T', 'H', 'H'], ['H', 'T', 'H'], ['T', 'T', 'H'], ['T', 'T', 'H'], ['H', 'T', 'H'], ['T', 'H', 'T'], ['H', 'T', 'H'], ['T', 'T', 'T'], ['T', 'T', 'T'], ['H', 'T', 'H'], ['T', 'T', 'T'], ['T', 'H', 'H'], ['H', 'T', 'H'], ['H', 'T', 'H'], ['T', 'T', 'T'], ['H', 'H', 'H'], ['H', 'H', 'H'], ['T', 'H', 'T'], ['T', 'H', 'T'], ['T', 'T', 'H'], ['H', 'H', 'H'], ['H', 'T', 'H'], ['T', 'T', 'H'], ['T', 'T', 'H'], ['T', 'H', 'T'], ['H', 'H', 'T'], ['T', 'H', 'T'], ['H', 'H', 'H'], ['T', 'H', 'H'], ['T', 'T', 'H'], ['T', 'T', 'H'], ['H', 'H', 'T'], ['H', 'H', 'T'], ['T', 'T', 'T'], ['H', 'H', 'H'], ['H', 'H', 'T'], ['T', 'H', 'T'], ['H', 'H', 'H'], ['H', 'H', 'T'], ['T', 'T', 'T'], ['H', 'T', 'T'], ['T', 'H', 'H'], ['H', 'T', 'T'], ['H', 'T', 'H'], ['T', 'T', 'H'], ['T', 'H', 'H'], ['H', 'H', 'T'], ['T', 'H', 'H'], ['T', 'T', 'H'], ['H', 'T', 'H'], ['H', 'T', 'H'], ['T', 'H', 'H'], ['H', 'H', 'T'], ['T', 'T', 'T'], ['H', 'T', 'T'], ['T', 'H', 'T'], ['H', 'H', 'H'], ['H', 'H', 'H'], ['T', 'H', 'H'], ['H', 'H', 'T'], ['H', 'T', 'T'], ['H', 'H', 'T'], ['T', 'T', 'H'], ['T', 'T', 'T'], ['T', 'H', 'T'], ['T', 'T', 'T'], ['H', 'T', 'H'], ['H', 'H', 'T'], ['T', 'H', 'H'], ['T', 'H', 'T'], ['H', 'T', 'H'], ['H', 'T', 'H'], ['H', 'H', 'H'], ['T', 'H', 'T'], ['T', 'T', 'T'], ['H', 'H', 'H'], ['T', 'T', 'H'], ['H', 'H', 'T'], ['T', 'H', 'H'], ['H', 'H', 'H'], ['H', 'T', 'T'], ['T', 'T', 'H'], ['T', 'H', 'T'], ['T', 'T', 'H'], ['T', 'H', 'H'], ['T', 'T', 'H'], ['T', 'H', 'T'], ['T', 'T', 'H'], ['T', 'H', 'T'], ['T', 'H', 'T'], ['H', 'H', 'H'], ['T', 'H', 'H'], ['T', 'T', 'H'], ['H', 'T', 'T'], ['H', 'H', 'H'], ['H', 'T', 'H'], ['H', 'H', 'T'], ['T', 'T', 'T'], ['T', 'H', 'H'], ['T', 'H', 'T'], ['T', 'T', 'T'], ['T', 'H', 'H'], ['H', 'T', 'T'], ['H', 'H', 'T'], ['T', 'H', 'T'], ['H', 'H', 'H'], ['T', 'T', 'T'], ['H', 'H', 'T'], ['T', 'H', 'T'], ['T', 'H', 'T'], ['T', 'T', 'H'], ['H', 'H', 'H'], ['H', 'T', 'T'], ['T', 'H', 'T'], ['H', 'T', 'H'], ['T', 'H', 'T'], ['T', 'H', 'T'], ['T', 'H', 'T'], ['H', 'H', 'H'], ['T', 'H', 'T'], ['H', 'H', 'T'], ['T', 'T', 'T'], ['T', 'T', 'H'], ['T', 'T', 'T'], ['H', 'H', 'T'], ['H', 'T', 'T'], ['H', 'T', 'T'], ['H', 'T', 'H'], ['T', 'T', 'T'], ['H', 'H', 'T'], ['H', 'T', 'H'], ['T', 'H', 'H'], ['T', 'H', 'T'], ['H', 'H', 'H'], ['H', 'H', 'T'], ['H', 'T', 'T'], ['H', 'H', 'H'], ['H', 'H', 'T'], ['T', 'H', 'T'], ['T', 'H', 'H'], ['H', 'H', 'H'], ['T', 'H', 'H'], ['H', 'T', 'T'], ['T', 'T', 'H'], ['H', 'H', 'H'], ['H', 'T', 'T'], ['T', 'H', 'T'], ['T', 'T', 'H'], ['T', 'T', 'T'], ['T', 'H', 'H'], ['T', 'T', 'H'], ['T', 'T', 'T'], ['H', 'T', 'T'], ['H', 'T', 'T'], ['T', 'T', 'T'], ['T', 'H', 'T'], ['H', 'H', 'H'], ['T', 'T', 'H'], ['H', 'H', 'H'], ['T', 'H', 'H'], ['T', 'T', 'T'], ['T', 'T', 'H'], ['T', 'T', 'T'], ['H', 'T', 'H'], ['T', 'H', 'T'], ['T', 'H', 'T'], ['H', 'H', 'H'], ['T', 'H', 'T'], ['T', 'H', 'T'], ['H', 'H', 'T'], ['T', 'T', 'H'], ['H', 'H', 'T'], ['T', 'T', 'H'], ['H', 'T', 'T'], ['H', 'H', 'T'], ['T', 'H', 'T'], ['T', 'T', 'T'], ['H', 'H', 'T'], ['H', 'T', 'T'], ['T', 'H', 'H'], ['T', 'T', 'T'], ['T', 'H', 'T'], ['T', 'T', 'T'], ['H', 'H', 'T'], ['T', 'T', 'H'], ['H', 'T', 'H'], ['T', 'T', 'T'], ['T', 'T', 'H'], ['T', 'H', 'T'], ['H', 'T', 'T'], ['T', 'T', 'H'], ['T', 'H', 'H'], ['H', 'T', 'T'], ['T', 'H', 'H'], ['T', 'T', 'T'], ['H', 'H', 'T'], ['H', 'T', 'T'], ['T', 'T', 'T'], ['H', 'H', 'H'], ['T', 'H', 'T'], ['H', 'T', 'T'], ['H', 'H', 'H'], ['T', 'T', 'H'], ['H', 'T', 'T'], ['H', 'H', 'T'], ['T', 'T', 'T'], ['T', 'T', 'T'], ['T', 'T', 'H'], ['H', 'T', 'T'], ['T', 'T', 'H'], ['H', 'H', 'T'], ['H', 'T', 'T'], ['T', 'T', 'H'], ['H', 'T', 'H'], ['T', 'H', 'T'], ['H', 'H', 'T'], ['H', 'H', 'H'], ['T', 'T', 'T'], ['H', 'T', 'T'], ['H', 'T', 'H'], ['T', 'H', 'T'], ['T', 'T', 'H'], ['H', 'T', 'H'], ['H', 'T', 'T'], ['T', 'T', 'H'], ['T', 'H', 'T'], ['H', 'T', 'T'], ['T', 'T', 'H'], ['T', 'H', 'H'], ['T', 'T', 'H'], ['H', 'T', 'T'], ['H', 'H', 'T'], ['H', 'T', 'H'], ['H', 'H', 'T'], ['H', 'H', 'H'], ['T', 'H', 'H'], ['T', 'T', 'T'], ['T', 'H', 'H'], ['H', 'H', 'T'], ['H', 'H', 'H'], ['T', 'H', 'H'], ['H', 'T', 'H'], ['H', 'H', 'T'], ['T', 'T', 'T'], ['T', 'T', 'H'], ['H', 'T', 'T'], ['T', 'H', 'T'], ['H', 'H', 'H'], ['T', 'H', 'T'], ['H', 'H', 'H'], ['H', 'T', 'H'], ['H', 'T', 'H'], ['H', 'H', 'T'], ['T', 'T', 'T'], ['T', 'T', 'T'], ['H', 'T', 'H'], ['T', 'H', 'T'], ['T', 'H', 'H'], ['T', 'H', 'T'], ['H', 'H', 'T'], ['H', 'H', 'H'], ['H', 'H', 'H'], ['H', 'T', 'H'], ['T', 'T', 'T'], ['H', 'T', 'H'], ['T', 'H', 'H'], ['H', 'H', 'H'], ['T', 'T', 'T'], ['H', 'T', 'H'], ['H', 'T', 'T'], ['T', 'T', 'T'], ['H', 'H', 'H'], ['T', 'T', 'T'], ['T', 'T', 'T'], ['T', 'H', 'T'], ['H', 'H', 'H'], ['H', 'H', 'T'], ['H', 'T', 'T'], ['T', 'T', 'H'], ['H', 'T', 'H'], ['T', 'H', 'H'], ['T', 'H', 'T'], ['T', 'H', 'T'], ['H', 'T', 'T'], ['H', 'H', 'T'], ['H', 'T', 'H'], ['H', 'H', 'T'], ['H', 'H', 'T'], ['H', 'H', 'H'], ['H', 'H', 'T'], ['T', 'T', 'T'], ['T', 'T', 'H'], ['T', 'T', 'T'], ['T', 'T', 'T'], ['T', 'T', 'H'], ['H', 'H', 'H'], ['T', 'H', 'H'], ['T', 'H', 'T'], ['T', 'H', 'H'], ['H', 'H', 'H'], ['T', 'H', 'H'], ['T', 'T', 'H'], ['H', 'H', 'T'], ['T', 'T', 'T'], ['H', 'H', 'T'], ['T', 'T', 'H'], ['T', 'T', 'H'], ['H', 'H', 'H'], ['H', 'H', 'T'], ['T', 'H', 'H'], ['T', 'H', 'H'], ['H', 'H', 'H'], ['T', 'H', 'T'], ['T', 'T', 'T'], ['H', 'T', 'H'], ['T', 'H', 'T'], ['H', 'T', 'T'], ['H', 'T', 'T'], ['H', 'T', 'T'], ['H', 'T', 'H'], ['H', 'H', 'T'], ['H', 'T', 'T'], ['T', 'H', 'T'], ['H', 'T', 'H'], ['H', 'H', 'H'], ['H', 'H', 'H'], ['T', 'H', 'H'], ['T', 'H', 'H'], ['H', 'H', 'T'], ['H', 'H', 'H'], ['T', 'T', 'H'], ['H', 'T', 'T'], ['T', 'H', 'T'], ['T', 'H', 'T'], ['H', 'H', 'T'], ['T', 'H', 'H'], ['H', 'T', 'H'], ['T', 'H', 'H'], ['H', 'H', 'H'], ['H', 'H', 'H'], ['H', 'H', 'T'], ['H', 'H', 'H'], ['H', 'T', 'T'], ['T', 'T', 'H'], ['H', 'T', 'T'], ['T', 'H', 'H'], ['H', 'H', 'T'], ['H', 'T', 'T'], ['H', 'H', 'H'], ['T', 'T', 'T'], ['T', 'T', 'H'], ['H', 'T', 'T'], ['H', 'H', 'T'], ['H', 'T', 'H'], ['H', 'H', 'T'], ['H', 'T', 'T'], ['T', 'H', 'T'], ['H', 'H', 'T'], ['H', 'H', 'T'], ['H', 'T', 'T'], ['H', 'H', 'H'], ['T', 'T', 'H'], ['T', 'T', 'T'], ['H', 'H', 'H'], ['H', 'T', 'T'], ['T', 'T', 'H'], ['T', 'T', 'H'], ['H', 'H', 'H'], ['T', 'H', 'T'], ['T', 'H', 'H'], ['H', 'T', 'T'], ['H', 'H', 'T'], ['T', 'H', 'H'], ['H', 'T', 'H'], ['H', 'T', 'H'], ['H', 'T', 'T'], ['H', 'T', 'T'], ['H', 'H', 'H'], ['T', 'H', 'H'], ['T', 'T', 'T'], ['H', 'T', 'H'], ['T', 'T', 'T'], ['H', 'H', 'H'], ['T', 'T', 'T'], ['T', 'T', 'H'], ['T', 'T', 'T'], ['T', 'T', 'T'], ['H', 'H', 'H'], ['H', 'T', 'T'], ['H', 'H', 'H'], ['T', 'T', 'H'], ['H', 'T', 'H'], ['H', 'H', 'H'], ['T', 'T', 'H'], ['H', 'H', 'T'], ['T', 'H', 'T'], ['H', 'H', 'H'], ['T', 'T', 'T'], ['H', 'H', 'T'], ['T', 'H', 'H'], ['T', 'T', 'H'], ['T', 'T', 'T'], ['T', 'H', 'H'], ['T', 'T', 'T'], ['T', 'H', 'H'], ['T', 'H', 'H'], ['H', 'H', 'T'], ['T', 'T', 'T'], ['T', 'H', 'H'], ['H', 'T', 'H'], ['T', 'H', 'T'], ['H', 'T', 'T'], ['H', 'T', 'H'], ['T', 'T', 'H'], ['T', 'T', 'T'], ['H', 'T', 'H'], ['T', 'T', 'T'], ['H', 'H', 'T'], ['H', 'T', 'T'], ['H', 'H', 'H'], ['T', 'H', 'H'], ['H', 'T', 'H'], ['T', 'T', 'H'], ['T', 'H', 'H'], ['T', 'H', 'T'], ['T', 'H', 'H'], ['T', 'T', 'T'], ['H', 'T', 'H'], ['H', 'H', 'T'], ['T', 'T', 'T'], ['T', 'T', 'T'], ['T', 'H', 'H'], ['T', 'T', 'H'], ['T', 'H', 'T'], ['T', 'T', 'T'], ['H', 'T', 'H'], ['T', 'H', 'T'], ['T', 'T', 'H'], ['H', 'H', 'H'], ['H', 'T', 'H'], ['T', 'H', 'H'], ['H', 'T', 'H'], ['H', 'H', 'T'], ['H', 'T', 'H'], ['T', 'T', 'T'], ['H', 'T', 'H'], ['T', 'H', 'T'], ['H', 'T', 'H'], ['T', 'T', 'H'], ['H', 'T', 'T'], ['H', 'H', 'H'], ['H', 'T', 'H'], ['T', 'H', 'T'], ['H', 'H', 'T'], ['H', 'H', 'T'], ['H', 'T', 'H'], ['T', 'T', 'T'], ['H', 'T', 'H'], ['T', 'H', 'T'], ['T', 'T', 'T'], ['T', 'T', 'T'], ['T', 'T', 'H'], ['H', 'T', 'T'], ['H', 'T', 'T'], ['T', 'H', 'H'], ['T', 'T', 'H'], ['H', 'T', 'T'], ['H', 'T', 'H'], ['H', 'H', 'T'], ['H', 'T', 'H'], ['H', 'T', 'H'], ['T', 'H', 'H'], ['T', 'H', 'T'], ['H', 'T', 'T'], ['T', 'H', 'H'], ['H', 'H', 'H'], ['T', 'H', 'T'], ['H', 'H', 'H'], ['T', 'T', 'T'], ['T', 'H', 'H'], ['T', 'T', 'H'], ['T', 'T', 'T'], ['H', 'T', 'T'], ['T', 'T', 'T'], ['T', 'T', 'H'], ['H', 'T', 'H'], ['T', 'T', 'H'], ['T', 'T', 'T'], ['H', 'T', 'T'], ['T', 'T', 'T'], ['H', 'H', 'H'], ['T', 'H', 'H'], ['H', 'H', 'H'], ['T', 'H', 'T'], ['T', 'T', 'T'], ['H', 'T', 'H'], ['T', 'T', 'H'], ['H', 'T', 'T'], ['T', 'T', 'T'], ['T', 'T', 'T'], ['T', 'T', 'H'], ['H', 'H', 'H'], ['H', 'H', 'T'], ['H', 'H', 'H'], ['T', 'H', 'H'], ['H', 'H', 'H'], ['H', 'T', 'T'], ['H', 'H', 'H'], ['H', 'T', 'H'], ['H', 'T', 'H'], ['T', 'T', 'T'], ['T', 'H', 'T'], ['H', 'H', 'T'], ['T', 'H', 'T'], ['H', 'H', 'T'], ['T', 'T', 'T'], ['H', 'H', 'T'], ['H', 'H', 'H'], ['H', 'T', 'T'], ['T', 'T', 'H'], ['H', 'T', 'T'], ['T', 'T', 'T'], ['T', 'T', 'T'], ['T', 'H', 'T'], ['T', 'T', 'H'], ['H', 'H', 'H'], ['H', 'H', 'T'], ['H', 'T', 'T'], ['T', 'H', 'T'], ['H', 'T', 'T'], ['H', 'H', 'H'], ['T', 'H', 'H'], ['T', 'T', 'H'], ['H', 'T', 'H'], ['H', 'H', 'H'], ['H', 'T', 'H'], ['T', 'H', 'T'], ['H', 'T', 'T'], ['H', 'T', 'T'], ['H', 'H', 'H'], ['T', 'H', 'T'], ['H', 'H', 'T'], ['H', 'T', 'T'], ['T', 'H', 'T'], ['H', 'T', 'H'], ['H', 'H', 'T'], ['H', 'T', 'T'], ['H', 'T', 'T'], ['H', 'T', 'H'], ['H', 'H', 'H'], ['H', 'T', 'H'], ['H', 'T', 'H'], ['H', 'T', 'H'], ['T', 'H', 'T'], ['T', 'T', 'H'], ['H', 'T', 'T'], ['H', 'H', 'T'], ['T', 'H', 'H'], ['T', 'T', 'T'], ['T', 'T', 'T'], ['H', 'H', 'T'], ['T', 'H', 'H'], ['T', 'T', 'T'], ['H', 'T', 'T'], ['T', 'T', 'H'], ['H', 'H', 'T'], ['H', 'T', 'T'], ['H', 'T', 'T'], ['H', 'H', 'H'], ['H', 'T', 'T'], ['T', 'T', 'H'], ['H', 'T', 'T'], ['H', 'H', 'H'], ['H', 'H', 'T'], ['H', 'H', 'T'], ['T', 'H', 'T'], ['H', 'T', 'H'], ['H', 'T', 'T'], ['T', 'T', 'H'], ['H', 'H', 'T'], ['T', 'T', 'H'], ['H', 'T', 'T'], ['H', 'H', 'H'], ['H', 'T', 'T'], ['T', 'T', 'H'], ['H', 'H', 'T'], ['H', 'H', 'T'], ['H', 'T', 'H'], ['H', 'H', 'H'], ['H', 'T', 'T'], ['T', 'H', 'T'], ['H', 'H', 'T'], ['H', 'T', 'T'], ['T', 'T', 'T'], ['H', 'H', 'T'], ['T', 'T', 'H'], ['H', 'H', 'H'], ['T', 'T', 'T'], ['H', 'H', 'T'], ['H', 'H', 'T'], ['T', 'T', 'H'], ['T', 'H', 'H'], ['T', 'T', 'T'], ['H', 'H', 'T'], ['T', 'T', 'T'], ['H', 'T', 'T'], ['T', 'H', 'H'], ['T', 'T', 'T'], ['H', 'H', 'T'], ['T', 'H', 'H'], ['H', 'H', 'H'], ['H', 'H', 'T'], ['H', 'T', 'T'], ['T', 'H', 'T'], ['T', 'H', 'T'], ['H', 'T', 'H'], ['T', 'H', 'H'], ['H', 'T', 'H'], ['H', 'H', 'T'], ['T', 'H', 'T'], ['H', 'T', 'H'], ['H', 'T', 'H'], ['H', 'H', 'H'], ['T', 'H', 'H'], ['H', 'T', 'H'], ['T', 'T', 'T'], ['T', 'T', 'T'], ['T', 'H', 'T'], ['H', 'H', 'H'], ['H', 'H', 'H'], ['T', 'T', 'H'], ['H', 'H', 'T'], ['T', 'H', 'T'], ['H', 'T', 'H'], ['T', 'H', 'H'], ['H', 'H', 'T'], ['H', 'T', 'H'], ['H', 'T', 'T'], ['T', 'H', 'H'], ['T', 'T', 'H'], ['T', 'H', 'T'], ['H', 'T', 'H'], ['T', 'H', 'T'], ['T', 'H', 'H'], ['H', 'H', 'H'], ['T', 'H', 'T'], ['H', 'T', 'H'], ['H', 'H', 'T'], ['H', 'T', 'H'], ['H', 'T', 'T'], ['T', 'H', 'T'], ['H', 'H', 'H'], ['T', 'H', 'H'], ['H', 'H', 'T'], ['T', 'H', 'H'], ['H', 'T', 'H'], ['H', 'H', 'H'], ['T', 'T', 'H'], ['T', 'H', 'H'], ['T', 'H', 'H'], ['H', 'T', 'H'], ['H', 'H', 'T'], ['T', 'T', 'H'], ['H', 'T', 'H'], ['H', 'H', 'H'], ['T', 'H', 'T'], ['T', 'T', 'H'], ['H', 'H', 'H'], ['H', 'H', 'H'], ['H', 'H', 'T'], ['H', 'H', 'T'], ['H', 'H', 'H'], ['T', 'H', 'T'], ['H', 'T', 'T'], ['H', 'H', 'T'], ['H', 'H', 'T'], ['T', 'T', 'T'], ['T', 'H', 'T'], ['H', 'H', 'H'], ['T', 'H', 'H'], ['H', 'H', 'T'], ['H', 'T', 'T'], ['T', 'H', 'T'], ['T', 'H', 'T'], ['T', 'H', 'H'], ['T', 'T', 'T'], ['H', 'T', 'T'], ['T', 'H', 'H'], ['T', 'H', 'H'], ['H', 'H', 'H'], ['T', 'T', 'H'], ['T', 'T', 'T'], ['H', 'H', 'H'], ['H', 'H', 'H'], ['T', 'H', 'T'], ['H', 'H', 'H'], ['H', 'T', 'T'], ['H', 'T', 'T'], ['H', 'H', 'T'], ['T', 'H', 'H'], ['T', 'T', 'T'], ['H', 'T', 'T'], ['T', 'H', 'H'], ['H', 'H', 'H'], ['T', 'T', 'H'], ['T', 'T', 'T'], ['T', 'T', 'T'], ['T', 'H', 'H'], ['H', 'H', 'H'], ['H', 'T', 'H'], ['H', 'H', 'H'], ['H', 'T', 'T'], ['H', 'H', 'H'], ['T', 'H', 'T'], ['H', 'H', 'H'], ['H', 'H', 'H'], ['H', 'H', 'H'], ['H', 'T', 'H'], ['T', 'T', 'H'], ['H', 'H', 'H'], ['H', 'T', 'H'], ['H', 'T', 'T'], ['H', 'T', 'H'], ['T', 'H', 'H'], ['T', 'H', 'T'], ['T', 'H', 'H'], ['H', 'T', 'T'], ['H', 'H', 'H'], ['T', 'T', 'T'], ['T', 'T', 'T'], ['T', 'T', 'T'], ['H', 'T', 'H'], ['H', 'H', 'T'], ['T', 'H', 'H'], ['T', 'T', 'H'], ['T', 'H', 'H'], ['T', 'T', 'H'], ['H', 'H', 'T'], ['H', 'T', 'T'], ['H', 'T', 'T'], ['T', 'T', 'H'], ['T', 'T', 'H'], ['H', 'H', 'H'], ['T', 'T', 'H'], ['T', 'H', 'T'], ['T', 'T', 'H'], ['H', 'H', 'H'], ['H', 'H', 'H'], ['T', 'T', 'H'], ['H', 'H', 'H'], ['T', 'H', 'H'], ['H', 'T', 'T'], ['T', 'T', 'T'], ['T', 'H', 'T'], ['T', 'H', 'H'], ['H', 'H', 'T'], ['H', 'H', 'H'], ['T', 'T', 'H'], ['T', 'T', 'T'], ['H', 'H', 'T'], ['H', 'T', 'H'], ['T', 'H', 'H'], ['H', 'H', 'H'], ['H', 'H', 'H'], ['T', 'T', 'H'], ['T', 'T', 'H'], ['T', 'T', 'H'], ['T', 'H', 'H'], ['T', 'T', 'T'], ['T', 'T', 'T'], ['T', 'H', 'T'], ['H', 'H', 'H'], ['H', 'H', 'H'], ['T', 'H', 'H'], ['T', 'H', 'T'], ['H', 'H', 'T'], ['T', 'T', 'H'], ['H', 'T', 'T'], ['T', 'T', 'T'], ['H', 'H', 'H'], ['T', 'H', 'H'], ['T', 'H', 'H'], ['T', 'H', 'H'], ['H', 'T', 'T'], ['T', 'T', 'H'], ['H', 'T', 'H'], ['T', 'T', 'T'], ['T', 'H', 'H'], ['H', 'T', 'H'], ['T', 'H', 'H'], ['H', 'H', 'H'], ['H', 'T', 'H'], ['H', 'H', 'H'], ['H', 'T', 'H'], ['H', 'H', 'T'], ['T', 'T', 'T'], ['T', 'H', 'T'], ['H', 'H', 'H'], ['T', 'T', 'H'], ['T', 'H', 'H'], ['H', 'T', 'H'], ['T', 'T', 'H'], ['H', 'H', 'H'], ['H', 'T', 'H'], ['T', 'T', 'H'], ['T', 'H', 'H'], ['T', 'H', 'T'], ['H', 'T', 'T'], ['H', 'H', 'H'], ['H', 'T', 'H'], ['H', 'H', 'T'], ['T', 'H', 'H'], ['T', 'T', 'T'], ['T', 'T', 'T'], ['H', 'H', 'T'], ['H', 'T', 'H'], ['H', 'T', 'T'], ['T', 'H', 'H'], ['H', 'H', 'H'], ['T', 'H', 'H'], ['T', 'T', 'T'], ['H', 'T', 'T'], ['H', 'T', 'T'], ['H', 'H', 'H'], ['T', 'T', 'T'], ['T', 'H', 'H'], ['H', 'T', 'H'], ['T', 'T', 'H'], ['T', 'H', 'H'], ['H', 'T', 'H'], ['H', 'H', 'H'], ['H', 'H', 'H'], ['H', 'H', 'T'], ['H', 'H', 'T'], ['H', 'H', 'T'], ['H', 'T', 'H'], ['T', 'T', 'T'], ['T', 'H', 'T'], ['H', 'H', 'T'], ['T', 'T', 'H'], ['T', 'H', 'H'], ['T', 'T', 'H'], ['T', 'H', 'H'], ['H', 'T', 'H'], ['T', 'T', 'T'], ['T', 'T', 'T'], ['T', 'T', 'H'], ['H', 'T', 'H'], ['T', 'H', 'T'], ['T', 'T', 'H'], ['T', 'T', 'H'], ['T', 'H', 'T'], ['T', 'T', 'H'], ['T', 'H', 'H'], ['H', 'H', 'T'], ['H', 'T', 'T'], ['H', 'T', 'T'], ['H', 'T', 'T'], ['H', 'H', 'T'], ['T', 'H', 'H'], ['H', 'T', 'H'], ['T', 'T', 'H'], ['H', 'T', 'H'], ['H', 'T', 'T'], ['T', 'T', 'H'], ['H', 'T', 'H'], ['H', 'T', 'H'], ['H', 'T', 'H'], ['T', 'H', 'T'], ['H', 'H', 'H'], ['H', 'H', 'T'], ['H', 'H', 'H'], ['H', 'T', 'T'], ['T', 'T', 'H'], ['T', 'H', 'T'], ['H', 'H', 'T'], ['H', 'H', 'T'], ['H', 'H', 'T'], ['T', 'T', 'H'], ['H', 'T', 'T'], ['H', 'T', 'H'], ['T', 'T', 'H'], ['T', 'H', 'T'], ['T', 'H', 'H'], ['H', 'T', 'T'], ['T', 'H', 'T'], ['H', 'H', 'H'], ['H', 'T', 'H'], ['T', 'H', 'T'], ['H', 'T', 'T'], ['T', 'T', 'H'], ['T', 'H', 'T'], ['H', 'T', 'H'], ['T', 'H', 'T'], ['T', 'T', 'T'], ['T', 'T', 'H'], ['T', 'T', 'H'], ['H', 'H', 'H'], ['T', 'H', 'H'], ['T', 'H', 'T'], ['T', 'T', 'H'], ['H', 'T', 'H'], ['T', 'T', 'T'], ['H', 'H', 'T'], ['T', 'T', 'H'], ['H', 'T', 'H'], ['T', 'T', 'H'], ['T', 'H', 'T'], ['H', 'H', 'T'], ['T', 'H', 'T'], ['T', 'H', 'H'], ['T', 'T', 'T'], ['H', 'H', 'H'], ['T', 'T', 'T'], ['T', 'H', 'T'], ['H', 'T', 'H'], ['H', 'T', 'H'], ['T', 'H', 'T'], ['H', 'T', 'T'], ['T', 'T', 'H'], ['H', 'T', 'T'], ['H', 'H', 'H'], ['T', 'H', 'H'], ['H', 'T', 'H'], ['H', 'H', 'H'], ['T', 'T', 'H'], ['H', 'H', 'H'], ['T', 'T', 'T'], ['H', 'H', 'T'], ['T', 'T', 'T'], ['T', 'H', 'T'], ['H', 'H', 'T'], ['T', 'T', 'T'], ['H', 'T', 'H'], ['H', 'H', 'H'], ['H', 'H', 'T'], ['T', 'H', 'H'], ['H', 'T', 'H'], ['H', 'H', 'H'], ['T', 'H', 'H'], ['H', 'H', 'H'], ['T', 'H', 'T'], ['H', 'T', 'H'], ['H', 'T', 'T'], ['H', 'H', 'T'], ['T', 'T', 'H'], ['T', 'H', 'T'], ['H', 'H', 'H'], ['T', 'T', 'H'], ['H', 'T', 'T'], ['T', 'H', 'H'], ['T', 'T', 'T'], ['T', 'H', 'T'], ['T', 'T', 'T'], ['T', 'T', 'T'], ['T', 'T', 'H'], ['H', 'H', 'H'], ['H', 'T', 'H'], ['T', 'H', 'T'], ['T', 'H', 'H'], ['T', 'T', 'T'], ['T', 'T', 'T'], ['H', 'H', 'H'], ['H', 'H', 'T'], ['H', 'T', 'H'], ['H', 'T', 'H'], ['H', 'T', 'T'], ['T', 'H', 'H'], ['H', 'H', 'T'], ['T', 'H', 'T'], ['H', 'H', 'H'], ['H', 'H', 'T'], ['T', 'H', 'T'], ['T', 'H', 'H'], ['H', 'T', 'T'], ['T', 'T', 'T'], ['H', 'T', 'T'], ['H', 'H', 'H'], ['H', 'T', 'H'], ['H', 'T', 'H'], ['T', 'T', 'H'], ['H', 'H', 'T'], ['H', 'T', 'H'], ['T', 'H', 'H'], ['H', 'T', 'T'], ['T', 'H', 'H'], ['T', 'T', 'T'], ['T', 'T', 'T'], ['T', 'T', 'H'], ['T', 'T', 'H'], ['H', 'H', 'H'], ['T', 'T', 'T'], ['H', 'T', 'H'], ['H', 'T', 'H'], ['T', 'H', 'H'], ['H', 'H', 'T'], ['T', 'H', 'T'], ['H', 'H', 'T'], ['T', 'H', 'H'], ['H', 'H', 'T'], ['H', 'H', 'T'], ['H', 'H', 'H'], ['H', 'H', 'H'], ['T', 'H', 'H'], ['T', 'T', 'T'], ['T', 'T', 'H'], ['H', 'H', 'H'], ['H', 'T', 'T'], ['H', 'T', 'T'], ['T', 'T', 'H'], ['H', 'T', 'H'], ['T', 'H', 'T'], ['T', 'T', 'T'], ['H', 'H', 'H'], ['H', 'H', 'T'], ['T', 'T', 'H'], ['T', 'T', 'H'], ['H', 'T', 'H'], ['T', 'H', 'H'], ['H', 'H', 'T'], ['H', 'H', 'T'], ['T', 'H', 'T'], ['T', 'T', 'H'], ['H', 'H', 'H'], ['T', 'T', 'H'], ['H', 'H', 'H'], ['H', 'T', 'H'], ['T', 'H', 'T'], ['T', 'H', 'H'], ['T', 'T', 'H'], ['T', 'T', 'T'], ['T', 'T', 'H'], ['H', 'T', 'H'], ['T', 'H', 'H'], ['H', 'H', 'H'], ['H', 'T', 'T'], ['T', 'T', 'H'], ['H', 'H', 'T'], ['H', 'H', 'H'], ['T', 'H', 'H'], ['H', 'T', 'H'], ['T', 'T', 'H'], ['T', 'T', 'T'], ['H', 'H', 'T'], ['T', 'H', 'T'], ['H', 'T', 'T'], ['H', 'T', 'H'], ['T', 'H', 'H'], ['H', 'H', 'T'], ['T', 'T', 'T'], ['T', 'T', 'H'], ['T', 'H', 'H'], ['T', 'T', 'H'], ['H', 'T', 'H'], ['H', 'T', 'T'], ['T', 'T', 'H'], ['T', 'T', 'T'], ['T', 'H', 'T'], ['H', 'T', 'H'], ['T', 'H', 'H'], ['H', 'H', 'H'], ['T', 'T', 'T'], ['T', 'T', 'T'], ['H', 'T', 'H'], ['H', 'H', 'T'], ['H', 'H', 'H'], ['H', 'H', 'T'], ['T', 'T', 'T'], ['T', 'T', 'H'], ['T', 'T', 'T'], ['T', 'H', 'T'], ['T', 'T', 'T'], ['H', 'H', 'H'], ['T', 'H', 'T'], ['T', 'H', 'T'], ['H', 'T', 'H'], ['H', 'T', 'H'], ['H', 'H', 'H'], ['H', 'H', 'H'], ['H', 'H', 'H'], ['H', 'H', 'H'], ['T', 'H', 'H'], ['T', 'T', 'H'], ['H', 'T', 'H'], ['T', 'H', 'T'], ['T', 'H', 'T'], ['H', 'T', 'H'], ['T', 'T', 'H'], ['T', 'T', 'T'], ['H', 'H', 'H'], ['H', 'T', 'H'], ['H', 'T', 'T'], ['T', 'T', 'H'], ['H', 'H', 'T'], ['H', 'T', 'H'], ['T', 'T', 'H'], ['T', 'H', 'H'], ['H', 'H', 'H'], ['H', 'T', 'T'], ['H', 'T', 'T'], ['T', 'T', 'H'], ['H', 'H', 'T'], ['T', 'H', 'H'], ['H', 'T', 'T'], ['H', 'H', 'T'], ['H', 'H', 'T'], ['H', 'T', 'T'], ['H', 'T', 'H'], ['T', 'T', 'H'], ['T', 'H', 'H'], ['H', 'H', 'T'], ['H', 'H', 'T'], ['T', 'T', 'H'], ['T', 'H', 'T'], ['H', 'H', 'T'], ['H', 'H', 'T'], ['H', 'T', 'T'], ['T', 'H', 'T'], ['H', 'T', 'H'], ['T', 'T', 'T'], ['H', 'T', 'T'], ['T', 'T', 'T'], ['H', 'T', 'T'], ['T', 'T', 'H'], ['T', 'H', 'H'], ['T', 'H', 'H'], ['T', 'T', 'T'], ['T', 'H', 'H'], ['H', 'H', 'H'], ['H', 'H', 'H'], ['H', 'H', 'T'], ['H', 'T', 'H'], ['T', 'T', 'H'], ['H', 'T', 'H'], ['T', 'T', 'H'], ['H', 'T', 'T'], ['T', 'H', 'T'], ['T', 'T', 'T'], ['H', 'H', 'T'], ['H', 'H', 'T'], ['T', 'H', 'T'], ['T', 'H', 'T'], ['H', 'T', 'H'], ['T', 'T', 'H'], ['H', 'T', 'T'], ['T', 'H', 'H'], ['H', 'T', 'T'], ['T', 'T', 'H'], ['H', 'T', 'H'], ['H', 'H', 'H'], ['T', 'T', 'T'], ['T', 'H', 'H'], ['H', 'H', 'T'], ['H', 'H', 'H'], ['T', 'T', 'T'], ['T', 'H', 'T'], ['H', 'T', 'T'], ['H', 'T', 'H'], ['H', 'H', 'H'], ['T', 'H', 'H'], ['H', 'T', 'T'], ['T', 'H', 'H'], ['H', 'T', 'H'], ['T', 'H', 'T'], ['H', 'T', 'T'], ['H', 'T', 'H'], ['H', 'H', 'T'], ['H', 'H', 'T'], ['T', 'H', 'T'], ['H', 'T', 'T'], ['H', 'H', 'H'], ['T', 'H', 'H'], ['T', 'H', 'H'], ['H', 'T', 'H'], ['H', 'T', 'H'], ['H', 'H', 'H'], ['H', 'T', 'H'], ['T', 'H', 'T'], ['T', 'H', 'T'], ['T', 'H', 'T'], ['T', 'H', 'T'], ['T', 'T', 'T'], ['T', 'T', 'T'], ['H', 'H', 'T'], ['H', 'H', 'H'], ['T', 'H', 'H'], ['T', 'H', 'H'], ['T', 'H', 'H'], ['T', 'H', 'H'], ['T', 'T', 'H'], ['T', 'H', 'T'], ['H', 'T', 'H'], ['T', 'H', 'H'], ['T', 'T', 'T'], ['H', 'T', 'T'], ['T', 'H', 'T'], ['T', 'T', 'T'], ['H', 'T', 'H'], ['H', 'H', 'T'], ['H', 'T', 'T'], ['T', 'T', 'H'], ['H', 'H', 'T'], ['T', 'H', 'H'], ['H', 'T', 'H'], ['H', 'T', 'T'], ['T', 'T', 'H'], ['H', 'H', 'T'], ['H', 'H', 'H'], ['H', 'H', 'H'], ['H', 'H', 'H'], ['T', 'H', 'H'], ['T', 'H', 'T'], ['H', 'T', 'H'], ['T', 'H', 'T'], ['T', 'T', 'H'], ['T', 'T', 'T'], ['T', 'H', 'T'], ['T', 'T', 'H'], ['H', 'T', 'H'], ['H', 'H', 'H'], ['H', 'T', 'T'], ['T', 'T', 'T'], ['T', 'T', 'H'], ['T', 'T', 'H'], ['H', 'T', 'H'], ['T', 'H', 'T'], ['T', 'H', 'T'], ['T', 'H', 'H'], ['H', 'T', 'T'], ['H', 'H', 'T'], ['H', 'H', 'H'], ['T', 'H', 'T'], ['H', 'T', 'H'], ['H', 'T', 'T'], ['T', 'T', 'H'], ['H', 'T', 'T'], ['T', 'H', 'T'], ['H', 'T', 'T'], ['H', 'H', 'T'], ['H', 'H', 'H'], ['H', 'T', 'H'], ['T', 'H', 'H'], ['H', 'T', 'H'], ['H', 'H', 'T'], ['T', 'H', 'T'], ['T', 'H', 'H'], ['H', 'H', 'H'], ['H', 'H', 'T'], ['T', 'T', 'T'], ['H', 'T', 'H'], ['T', 'T', 'H'], ['H', 'H', 'T'], ['T', 'H', 'H'], ['H', 'H', 'H'], ['T', 'H', 'T'], ['T', 'H', 'T'], ['T', 'T', 'T'], ['H', 'H', 'H'], ['H', 'T', 'T'], ['T', 'T', 'H'], ['H', 'T', 'T'], ['T', 'T', 'T'], ['T', 'T', 'T'], ['H', 'H', 'H'], ['T', 'H', 'H'], ['T', 'T', 'H'], ['T', 'H', 'H'], ['H', 'H', 'H'], ['H', 'H', 'H'], ['H', 'T', 'H'], ['H', 'H', 'H'], ['H', 'T', 'H'], ['H', 'H', 'T'], ['T', 'H', 'T'], ['H', 'T', 'T'], ['T', 'H', 'H'], ['H', 'H', 'T'], ['T', 'T', 'H'], ['T', 'T', 'T'], ['H', 'T', 'H'], ['T', 'T', 'T'], ['T', 'H', 'H'], ['H', 'H', 'T'], ['H', 'T', 'H'], ['T', 'H', 'T'], ['T', 'T', 'H'], ['H', 'H', 'H'], ['T', 'T', 'T'], ['T', 'H', 'H'], ['H', 'H', 'T'], ['T', 'T', 'T'], ['T', 'T', 'T'], ['T', 'H', 'T'], ['T', 'T', 'H'], ['T', 'T', 'H'], ['T', 'H', 'T'], ['H', 'H', 'T'], ['H', 'T', 'T'], ['H', 'T', 'T'], ['H', 'T', 'T'], ['H', 'H', 'H'], ['H', 'H', 'T'], ['H', 'T', 'H'], ['H', 'T', 'H'], ['T', 'H', 'H'], ['H', 'T', 'T'], ['H', 'T', 'T'], ['T', 'H', 'H'], ['T', 'H', 'T'], ['H', 'T', 'H'], ['T', 'T', 'T'], ['T', 'T', 'T'], ['H', 'T', 'T'], ['H', 'H', 'H'], ['H', 'H', 'H'], ['T', 'H', 'T'], ['T', 'H', 'H'], ['T', 'H', 'H'], ['T', 'T', 'H'], ['T', 'T', 'H'], ['T', 'T', 'T'], ['T', 'T', 'T'], ['H', 'T', 'T'], ['T', 'T', 'T'], ['T', 'T', 'H'], ['T', 'H', 'T'], ['H', 'T', 'T'], ['H', 'T', 'H'], ['T', 'T', 'H'], ['H', 'H', 'H'], ['H', 'T', 'T'], ['H', 'H', 'H'], ['H', 'H', 'H'], ['T', 'T', 'H'], ['T', 'T', 'H'], ['H', 'T', 'H'], ['T', 'T', 'H'], ['H', 'T', 'T'], ['T', 'H', 'T'], ['T', 'H', 'T'], ['T', 'H', 'T'], ['H', 'H', 'H'], ['H', 'H', 'H'], ['H', 'H', 'T'], ['H', 'H', 'T'], ['T', 'T', 'T'], ['T', 'T', 'H'], ['T', 'H', 'T'], ['T', 'T', 'T'], ['T', 'T', 'H'], ['H', 'T', 'T'], ['T', 'T', 'T'], ['H', 'H', 'H'], ['T', 'T', 'T'], ['T', 'T', 'T'], ['T', 'T', 'T'], ['T', 'T', 'T'], ['H', 'T', 'T'], ['H', 'T', 'H'], ['H', 'T', 'H'], ['T', 'T', 'H'], ['T', 'H', 'T'], ['H', 'H', 'T'], ['H', 'T', 'T'], ['T', 'T', 'T'], ['H', 'H', 'T'], ['H', 'H', 'T'], ['H', 'H', 'T'], ['T', 'H', 'T'], ['T', 'T', 'H'], ['T', 'H', 'T'], ['T', 'H', 'H'], ['T', 'H', 'T'], ['T', 'H', 'T'], ['H', 'H', 'T'], ['T', 'T', 'H'], ['H', 'H', 'T'], ['T', 'T', 'T'], ['H', 'T', 'T'], ['T', 'H', 'H'], ['T', 'T', 'H'], ['T', 'T', 'H'], ['H', 'T', 'H'], ['H', 'T', 'T'], ['T', 'H', 'T'], ['T', 'T', 'T'], ['H', 'T', 'H'], ['H', 'H', 'T'], ['T', 'T', 'H'], ['T', 'H', 'H'], ['H', 'H', 'T'], ['H', 'T', 'T'], ['T', 'T', 'H'], ['H', 'T', 'T'], ['H', 'H', 'T'], ['H', 'H', 'H'], ['H', 'T', 'T'], ['T', 'H', 'T'], ['T', 'T', 'H'], ['T', 'T', 'T'], ['H', 'T', 'H'], ['T', 'T', 'T'], ['T', 'T', 'T'], ['T', 'H', 'H'], ['T', 'T', 'H'], ['T', 'H', 'T'], ['H', 'H', 'T'], ['H', 'H', 'T'], ['T', 'H', 'H'], ['H', 'T', 'H'], ['H', 'H', 'T'], ['T', 'H', 'T'], ['H', 'H', 'H'], ['H', 'H', 'T'], ['H', 'H', 'H'], ['H', 'T', 'T'], ['H', 'H', 'T'], ['T', 'T', 'H'], ['H', 'T', 'H'], ['H', 'T', 'H'], ['T', 'T', 'T'], ['T', 'H', 'H'], ['T', 'H', 'H'], ['T', 'T', 'T'], ['H', 'H', 'T'], ['T', 'H', 'T'], ['T', 'T', 'H'], ['H', 'T', 'T'], ['H', 'T', 'T'], ['H', 'H', 'H'], ['H', 'H', 'T'], ['H', 'H', 'T'], ['H', 'H', 'H'], ['T', 'T', 'H'], ['H', 'T', 'T'], ['T', 'T', 'T'], ['T', 'T', 'H'], ['T', 'T', 'T'], ['H', 'H', 'T'], ['T', 'H', 'H'], ['H', 'H', 'H'], ['H', 'T', 'T'], ['H', 'H', 'H'], ['T', 'H', 'T'], ['T', 'H', 'T'], ['T', 'H', 'H'], ['H', 'T', 'T'], ['T', 'T', 'T'], ['T', 'H', 'T'], ['T', 'T', 'T'], ['H', 'T', 'H'], ['H', 'T', 'H'], ['H', 'T', 'T'], ['H', 'H', 'T'], ['T', 'H', 'T'], ['T', 'T', 'T'], ['T', 'H', 'H'], ['H', 'H', 'T'], ['H', 'H', 'T'], ['H', 'H', 'T'], ['T', 'T', 'T'], ['T', 'T', 'T'], ['H', 'H', 'H'], ['H', 'H', 'H'], ['T', 'H', 'T'], ['T', 'T', 'T'], ['H', 'H', 'T'], ['H', 'T', 'H'], ['T', 'H', 'T'], ['H', 'T', 'H'], ['H', 'T', 'T'], ['H', 'H', 'T'], ['H', 'H', 'H'], ['T', 'H', 'H'], ['H', 'H', 'T'], ['T', 'T', 'T'], ['H', 'H', 'T'], ['T', 'T', 'H'], ['T', 'H', 'H'], ['T', 'T', 'T'], ['H', 'T', 'H'], ['H', 'T', 'H'], ['H', 'T', 'H'], ['H', 'T', 'T'], ['H', 'H', 'H'], ['H', 'T', 'T'], ['H', 'H', 'H'], ['T', 'T', 'T'], ['T', 'H', 'H'], ['T', 'T', 'T'], ['T', 'H', 'T'], ['H', 'T', 'T'], ['H', 'T', 'T'], ['T', 'T', 'T'], ['H', 'H', 'H'], ['T', 'T', 'T'], ['T', 'T', 'T'], ['T', 'H', 'H'], ['T', 'T', 'T'], ['H', 'H', 'T'], ['T', 'H', 'T'], ['T', 'T', 'T'], ['T', 'T', 'H'], ['T', 'T', 'H'], ['H', 'T', 'T'], ['T', 'T', 'T'], ['T', 'H', 'T'], ['T', 'H', 'T'], ['H', 'T', 'T'], ['H', 'T', 'H'], ['T', 'T', 'T'], ['H', 'H', 'T'], ['T', 'H', 'T'], ['H', 'H', 'H'], ['T', 'H', 'H'], ['T', 'H', 'H'], ['T', 'T', 'H'], ['H', 'H', 'T'], ['T', 'T', 'H'], ['T', 'T', 'H'], ['T', 'T', 'H'], ['T', 'H', 'T'], ['H', 'H', 'T'], ['T', 'H', 'T'], ['T', 'T', 'T'], ['H', 'H', 'H'], ['T', 'H', 'H'], ['T', 'T', 'H'], ['H', 'T', 'H'], ['H', 'T', 'T'], ['T', 'H', 'T'], ['H', 'T', 'H'], ['T', 'T', 'T'], ['T', 'H', 'T'], ['H', 'H', 'T'], ['T', 'H', 'H'], ['T', 'H', 'H'], ['T', 'H', 'H'], ['H', 'T', 'T'], ['T', 'H', 'H'], ['H', 'H', 'H'], ['T', 'H', 'T'], ['T', 'T', 'T'], ['T', 'H', 'T'], ['T', 'H', 'T'], ['H', 'H', 'T'], ['T', 'H', 'H'], ['T', 'T', 'H'], ['H', 'H', 'T'], ['H', 'H', 'T'], ['T', 'T', 'T'], ['H', 'H', 'T'], ['T', 'H', 'H'], ['T', 'H', 'H'], ['H', 'H', 'H'], ['T', 'H', 'T'], ['H', 'H', 'T'], ['T', 'T', 'T'], ['T', 'T', 'T'], ['H', 'T', 'T'], ['H', 'T', 'H'], ['T', 'H', 'T'], ['T', 'T', 'T'], ['T', 'T', 'T'], ['H', 'T', 'H'], ['T', 'T', 'H'], ['T', 'T', 'T'], ['T', 'T', 'T'], ['H', 'H', 'T'], ['H', 'T', 'T'], ['T', 'H', 'H'], ['H', 'T', 'T'], ['H', 'H', 'T'], ['H', 'T', 'H'], ['T', 'H', 'T'], ['T', 'T', 'H'], ['T', 'H', 'T'], ['H', 'H', 'H'], ['T', 'T', 'T'], ['H', 'H', 'H'], ['T', 'H', 'T'], ['H', 'H', 'H'], ['T', 'T', 'T'], ['H', 'T', 'T'], ['H', 'H', 'H'], ['H', 'H', 'H'], ['H', 'H', 'T'], ['T', 'H', 'H'], ['T', 'T', 'H'], ['H', 'T', 'H'], ['T', 'H', 'H'], ['T', 'T', 'H'], ['T', 'H', 'H'], ['T', 'H', 'H'], ['T', 'T', 'H'], ['H', 'H', 'H'], ['H', 'T', 'H'], ['H', 'T', 'T'], ['H', 'T', 'H'], ['T', 'H', 'T'], ['T', 'T', 'T'], ['T', 'T', 'H'], ['H', 'H', 'H'], ['T', 'H', 'H'], ['T', 'H', 'T'], ['T', 'H', 'T'], ['H', 'T', 'T'], ['H', 'T', 'T'], ['T', 'T', 'H'], ['H', 'T', 'T'], ['H', 'T', 'H'], ['T', 'H', 'H'], ['H', 'H', 'H'], ['T', 'T', 'T'], ['H', 'H', 'T'], ['T', 'H', 'H'], ['H', 'H', 'T'], ['T', 'H', 'T'], ['T', 'H', 'H'], ['T', 'H', 'H'], ['T', 'H', 'T'], ['T', 'H', 'H'], ['T', 'H', 'H'], ['H', 'T', 'T'], ['H', 'T', 'T'], ['T', 'T', 'T'], ['T', 'H', 'T'], ['H', 'H', 'T'], ['H', 'T', 'T'], ['H', 'T', 'T'], ['T', 'H', 'T'], ['T', 'T', 'H'], ['T', 'T', 'T'], ['T', 'H', 'H'], ['T', 'T', 'T'], ['T', 'T', 'H'], ['T', 'H', 'T'], ['T', 'H', 'T'], ['H', 'T', 'H'], ['H', 'T', 'H'], ['H', 'H', 'T'], ['T', 'T', 'H'], ['T', 'T', 'H'], ['T', 'T', 'T'], ['H', 'T', 'H'], ['H', 'T', 'H'], ['T', 'H', 'T'], ['T', 'T', 'H'], ['H', 'T', 'T'], ['T', 'H', 'H'], ['H', 'H', 'H'], ['H', 'T', 'H'], ['H', 'T', 'T'], ['H', 'H', 'T'], ['T', 'T', 'H'], ['T', 'T', 'T'], ['H', 'T', 'T'], ['T', 'T', 'T'], ['T', 'H', 'H'], ['H', 'T', 'T'], ['T', 'T', 'T'], ['H', 'H', 'T'], ['H', 'H', 'T'], ['T', 'T', 'H'], ['H', 'T', 'H'], ['H', 'T', 'H'], ['H', 'T', 'T'], ['T', 'H', 'H'], ['H', 'H', 'T'], ['T', 'T', 'H'], ['T', 'T', 'T'], ['T', 'H', 'H'], ['H', 'T', 'T'], ['H', 'T', 'H'], ['T', 'T', 'H'], ['H', 'H', 'T'], ['H', 'T', 'H'], ['H', 'H', 'T'], ['T', 'H', 'H'], ['T', 'T', 'T'], ['H', 'T', 'H'], ['T', 'H', 'H'], ['T', 'H', 'H'], ['H', 'T', 'H'], ['H', 'H', 'T'], ['T', 'T', 'T'], ['T', 'T', 'H'], ['T', 'T', 'H'], ['H', 'H', 'H'], ['T', 'H', 'T'], ['T', 'H', 'T'], ['H', 'H', 'T'], ['T', 'H', 'H'], ['H', 'T', 'H'], ['T', 'H', 'H'], ['H', 'H', 'T'], ['T', 'H', 'T'], ['T', 'H', 'H'], ['H', 'T', 'T'], ['T', 'H', 'T'], ['H', 'H', 'T'], ['T', 'H', 'T'], ['H', 'T', 'T'], ['H', 'T', 'H'], ['H', 'H', 'T'], ['H', 'H', 'T'], ['T', 'H', 'T'], ['H', 'H', 'H'], ['T', 'H', 'H'], ['H', 'T', 'T'], ['H', 'H', 'H'], ['T', 'H', 'T'], ['H', 'H', 'H'], ['H', 'H', 'T'], ['T', 'H', 'T'], ['H', 'T', 'T'], ['T', 'T', 'T'], ['H', 'T', 'H'], ['H', 'H', 'H'], ['T', 'T', 'H'], ['H', 'H', 'H'], ['T', 'H', 'H'], ['H', 'H', 'T'], ['T', 'T', 'T'], ['T', 'T', 'T'], ['T', 'T', 'H'], ['H', 'H', 'H'], ['T', 'H', 'H'], ['H', 'H', 'T'], ['H', 'T', 'T'], ['H', 'T', 'H'], ['H', 'T', 'T'], ['H', 'H', 'T'], ['H', 'H', 'T'], ['T', 'T', 'T'], ['H', 'H', 'T'], ['H', 'H', 'T'], ['T', 'H', 'T'], ['T', 'H', 'T'], ['H', 'T', 'H'], ['H', 'T', 'H'], ['H', 'H', 'T'], ['H', 'H', 'T'], ['H', 'H', 'T'], ['T', 'T', 'T'], ['T', 'T', 'T'], ['H', 'H', 'H'], ['T', 'T', 'T'], ['T', 'T', 'H'], ['T', 'H', 'H'], ['T', 'H', 'T'], ['T', 'T', 'T'], ['H', 'T', 'T'], ['H', 'H', 'T'], ['H', 'T', 'H'], ['H', 'T', 'H'], ['T', 'H', 'T'], ['T', 'T', 'T'], ['H', 'T', 'T'], ['H', 'T', 'H'], ['H', 'T', 'H'], ['H', 'T', 'H'], ['H', 'T', 'H'], ['T', 'T', 'H'], ['T', 'H', 'H'], ['H', 'T', 'H'], ['H', 'H', 'H'], ['T', 'T', 'H'], ['H', 'H', 'T'], ['H', 'H', 'T'], ['H', 'T', 'H'], ['T', 'T', 'T'], ['H', 'T', 'H'], ['T', 'T', 'H'], ['H', 'H', 'H'], ['T', 'H', 'T'], ['H', 'H', 'H'], ['T', 'T', 'H'], ['H', 'H', 'T'], ['T', 'T', 'H'], ['H', 'T', 'H'], ['T', 'T', 'T'], ['H', 'T', 'T'], ['H', 'H', 'T'], ['H', 'H', 'H'], ['T', 'T', 'H'], ['H', 'H', 'H'], ['H', 'H', 'T'], ['H', 'H', 'H'], ['H', 'H', 'T'], ['H', 'H', 'H'], ['T', 'H', 'H'], ['T', 'T', 'H'], ['T', 'H', 'T'], ['H', 'T', 'H'], ['H', 'T', 'T'], ['T', 'H', 'H'], ['H', 'T', 'T'], ['H', 'H', 'H'], ['H', 'T', 'H'], ['H', 'H', 'H'], ['T', 'H', 'T'], ['H', 'H', 'H'], ['T', 'H', 'H'], ['H', 'H', 'H'], ['T', 'H', 'H'], ['T', 'H', 'H'], ['H', 'H', 'H'], ['H', 'T', 'T'], ['H', 'H', 'H'], ['H', 'H', 'H'], ['H', 'T', 'T'], ['H', 'H', 'T'], ['H', 'T', 'T'], ['T', 'T', 'T'], ['T', 'H', 'H'], ['H', 'T', 'T'], ['H', 'T', 'T'], ['H', 'H', 'T'], ['H', 'T', 'T'], ['T', 'T', 'T'], ['T', 'H', 'H'], ['T', 'T', 'T'], ['T', 'H', 'H'], ['T', 'H', 'T'], ['H', 'H', 'T'], ['H', 'T', 'T'], ['T', 'T', 'T'], ['T', 'T', 'T'], ['T', 'H', 'T'], ['H', 'H', 'T'], ['H', 'H', 'T'], ['T', 'H', 'T'], ['H', 'T', 'H'], ['T', 'H', 'H'], ['H', 'H', 'T'], ['H', 'H', 'H'], ['T', 'H', 'H'], ['H', 'T', 'T'], ['H', 'T', 'H'], ['T', 'T', 'T'], ['H', 'H', 'H'], ['T', 'H', 'T'], ['H', 'T', 'T'], ['T', 'T', 'H'], ['H', 'T', 'T'], ['H', 'H', 'T'], ['T', 'H', 'H'], ['T', 'H', 'H'], ['H', 'H', 'H'], ['T', 'H', 'T'], ['H', 'T', 'T'], ['T', 'T', 'T'], ['H', 'H', 'T'], ['T', 'T', 'H'], ['H', 'T', 'H'], ['H', 'H', 'H'], ['T', 'H', 'T'], ['T', 'H', 'T'], ['T', 'H', 'T'], ['H', 'T', 'T'], ['H', 'T', 'H'], ['H', 'T', 'T'], ['H', 'H', 'H'], ['H', 'H', 'T'], ['T', 'H', 'T'], ['T', 'H', 'H'], ['H', 'H', 'T'], ['T', 'H', 'H'], ['H', 'H', 'H'], ['T', 'T', 'H'], ['H', 'T', 'T'], ['H', 'T', 'T'], ['T', 'H', 'T'], ['H', 'T', 'T'], ['H', 'H', 'H'], ['H', 'T', 'H'], ['T', 'T', 'H'], ['H', 'T', 'H'], ['T', 'T', 'H'], ['H', 'T', 'T'], ['H', 'H', 'H'], ['T', 'T', 'T'], ['H', 'T', 'T'], ['H', 'T', 'T'], ['T', 'H', 'H'], ['T', 'H', 'H'], ['H', 'H', 'T'], ['T', 'H', 'T'], ['T', 'H', 'H'], ['T', 'H', 'H'], ['T', 'T', 'T'], ['T', 'H', 'T'], ['T', 'T', 'T'], ['T', 'T', 'H'], ['H', 'H', 'H'], ['T', 'H', 'H'], ['H', 'H', 'H'], ['T', 'T', 'H'], ['T', 'T', 'H'], ['H', 'T', 'H'], ['H', 'H', 'T'], ['T', 'H', 'H'], ['T', 'T', 'H'], ['H', 'H', 'T'], ['T', 'T', 'H'], ['H', 'T', 'H'], ['T', 'T', 'H'], ['H', 'H', 'T'], ['H', 'T', 'H'], ['T', 'H', 'H'], ['H', 'H', 'T'], ['H', 'H', 'T'], ['T', 'T', 'T'], ['H', 'T', 'H'], ['H', 'H', 'H'], ['T', 'T', 'T'], ['T', 'H', 'H'], ['T', 'T', 'T'], ['T', 'T', 'T'], ['T', 'H', 'T'], ['H', 'H', 'H'], ['H', 'T', 'H'], ['H', 'H', 'H'], ['H', 'H', 'T'], ['T', 'H', 'T'], ['H', 'T', 'H'], ['T', 'H', 'T'], ['H', 'H', 'T'], ['H', 'H', 'H'], ['H', 'H', 'H'], ['H', 'T', 'H'], ['T', 'H', 'T'], ['H', 'T', 'T'], ['T', 'T', 'T'], ['H', 'T', 'H'], ['T', 'T', 'H'], ['T', 'H', 'H'], ['T', 'T', 'T'], ['H', 'T', 'T'], ['T', 'T', 'T'], ['T', 'T', 'H'], ['H', 'H', 'H'], ['T', 'T', 'H'], ['T', 'T', 'T'], ['H', 'T', 'T'], ['T', 'T', 'T'], ['H', 'H', 'H'], ['H', 'T', 'T'], ['T', 'T', 'H'], ['T', 'T', 'T'], ['H', 'T', 'H'], ['T', 'H', 'H'], ['T', 'H', 'T'], ['H', 'H', 'T'], ['T', 'H', 'H'], ['T', 'H', 'H'], ['H', 'H', 'H'], ['T', 'H', 'H'], ['H', 'H', 'T'], ['T', 'H', 'H'], ['H', 'H', 'H'], ['T', 'T', 'H'], ['T', 'T', 'H'], ['H', 'H', 'T'], ['T', 'T', 'H'], ['T', 'T', 'T'], ['H', 'H', 'T'], ['T', 'T', 'T'], ['T', 'H', 'T'], ['H', 'H', 'T'], ['T', 'T', 'T'], ['T', 'T', 'H'], ['T', 'T', 'H'], ['H', 'T', 'T'], ['H', 'T', 'T'], ['T', 'H', 'H'], ['T', 'T', 'H'], ['H', 'H', 'T'], ['H', 'H', 'T'], ['T', 'H', 'T'], ['H', 'H', 'T'], ['H', 'T', 'H'], ['H', 'T', 'T'], ['T', 'H', 'H'], ['H', 'H', 'T'], ['H', 'H', 'H'], ['T', 'T', 'T'], ['H', 'H', 'H'], ['T', 'H', 'H'], ['H', 'H', 'T'], ['H', 'T', 'H'], ['H', 'T', 'H'], ['T', 'H', 'H'], ['H', 'T', 'T'], ['T', 'H', 'T'], ['H', 'H', 'H'], ['T', 'H', 'T'], ['H', 'T', 'H'], ['H', 'H', 'T'], ['H', 'T', 'T'], ['H', 'H', 'T'], ['T', 'T', 'H'], ['T', 'H', 'H'], ['H', 'H', 'H'], ['T', 'H', 'H'], ['H', 'H', 'T'], ['H', 'H', 'H'], ['T', 'H', 'T'], ['T', 'H', 'H'], ['H', 'H', 'T'], ['H', 'H', 'T'], ['H', 'T', 'H'], ['T', 'H', 'H'], ['H', 'T', 'H'], ['T', 'H', 'T'], ['H', 'H', 'T'], ['H', 'H', 'H'], ['T', 'T', 'T'], ['H', 'H', 'H'], ['H', 'T', 'T'], ['T', 'T', 'H'], ['H', 'T', 'T'], ['T', 'H', 'H'], ['H', 'T', 'H'], ['H', 'T', 'T'], ['H', 'T', 'T'], ['H', 'H', 'H'], ['T', 'T', 'T'], ['H', 'H', 'T'], ['T', 'T', 'T'], ['T', 'H', 'H'], ['H', 'T', 'H'], ['T', 'H', 'H'], ['H', 'H', 'H'], ['H', 'H', 'T'], ['H', 'H', 'H'], ['T', 'T', 'T'], ['T', 'T', 'T'], ['T', 'T', 'T'], ['T', 'T', 'H'], ['T', 'T', 'T'], ['T', 'H', 'T'], ['T', 'H', 'T'], ['T', 'H', 'H'], ['T', 'H', 'H'], ['T', 'H', 'H'], ['T', 'T', 'H'], ['T', 'T', 'T'], ['H', 'H', 'T'], ['T', 'H', 'H'], ['T', 'H', 'H'], ['T', 'H', 'H'], ['H', 'T', 'H'], ['H', 'T', 'T'], ['H', 'H', 'H'], ['T', 'H', 'H'], ['H', 'T', 'T'], ['T', 'H', 'T'], ['H', 'H', 'H'], ['H', 'T', 'T'], ['H', 'H', 'H'], ['H', 'H', 'H'], ['T', 'T', 'T'], ['H', 'T', 'T'], ['H', 'T', 'H'], ['T', 'H', 'T'], ['T', 'T', 'H'], ['T', 'T', 'H'], ['T', 'H', 'T'], ['T', 'T', 'T'], ['H', 'H', 'T'], ['T', 'T', 'H'], ['H', 'T', 'T'], ['T', 'T', 'H'], ['T', 'H', 'H'], ['T', 'H', 'H'], ['H', 'H', 'T'], ['H', 'T', 'H'], ['T', 'T', 'H'], ['H', 'H', 'T'], ['H', 'H', 'H'], ['H', 'T', 'H'], ['T', 'H', 'H'], ['T', 'T', 'H'], ['H', 'T', 'H'], ['T', 'H', 'H'], ['H', 'T', 'T'], ['H', 'H', 'H'], ['H', 'T', 'H'], ['T', 'H', 'T'], ['T', 'H', 'H'], ['T', 'T', 'H'], ['T', 'H', 'H'], ['H', 'T', 'T'], ['H', 'H', 'H'], ['T', 'H', 'H'], ['T', 'T', 'H'], ['T', 'H', 'T'], ['T', 'H', 'H'], ['T', 'H', 'H'], ['H', 'H', 'H'], ['H', 'T', 'T'], ['T', 'H', 'H'], ['T', 'T', 'H'], ['T', 'H', 'T'], ['H', 'T', 'H'], ['T', 'H', 'H'], ['H', 'H', 'H'], ['H', 'T', 'T'], ['T', 'T', 'H'], ['T', 'T', 'H'], ['H', 'H', 'T'], ['T', 'H', 'H'], ['H', 'H', 'T'], ['H', 'H', 'H'], ['H', 'T', 'H'], ['T', 'T', 'T'], ['H', 'T', 'T'], ['T', 'T', 'H'], ['H', 'H', 'H'], ['H', 'H', 'T'], ['T', 'H', 'H'], ['H', 'H', 'H'], ['T', 'H', 'H'], ['T', 'H', 'T'], ['T', 'H', 'T'], ['H', 'T', 'H'], ['T', 'H', 'T'], ['H', 'H', 'T'], ['H', 'H', 'H'], ['H', 'T', 'H'], ['T', 'T', 'H'], ['T', 'T', 'T'], ['H', 'H', 'T'], ['H', 'T', 'H'], ['T', 'H', 'T'], ['T', 'T', 'H'], ['H', 'H', 'T'], ['H', 'T', 'T'], ['T', 'H', 'H'], ['H', 'H', 'H'], ['H', 'H', 'T'], ['T', 'T', 'H'], ['H', 'H', 'H'], ['H', 'H', 'H'], ['T', 'T', 'H'], ['H', 'H', 'H'], ['H', 'H', 'T'], ['H', 'H', 'T'], ['H', 'H', 'T'], ['H', 'H', 'H'], ['T', 'H', 'H'], ['H', 'T', 'T'], ['T', 'H', 'H'], ['H', 'H', 'T'], ['T', 'H', 'T'], ['T', 'T', 'T'], ['H', 'T', 'H'], ['T', 'T', 'H'], ['H', 'H', 'T'], ['T', 'H', 'H'], ['H', 'H', 'T'], ['H', 'H', 'H'], ['T', 'T', 'H'], ['T', 'H', 'T'], ['H', 'H', 'T'], ['T', 'H', 'H'], ['H', 'T', 'T'], ['T', 'T', 'H'], ['T', 'H', 'H'], ['H', 'H', 'H'], ['H', 'T', 'H'], ['T', 'T', 'H'], ['H', 'H', 'T'], ['T', 'T', 'H'], ['H', 'T', 'H'], ['H', 'T', 'T'], ['T', 'H', 'T'], ['H', 'H', 'T'], ['H', 'H', 'H'], ['H', 'T', 'T'], ['H', 'T', 'H'], ['H', 'T', 'H'], ['T', 'H', 'H'], ['H', 'T', 'H'], ['H', 'T', 'T'], ['T', 'T', 'T'], ['T', 'H', 'T'], ['H', 'T', 'H'], ['H', 'T', 'H'], ['T', 'H', 'T'], ['H', 'T', 'H'], ['H', 'T', 'T'], ['H', 'T', 'T'], ['H', 'T', 'H'], ['T', 'H', 'T'], ['H', 'T', 'T'], ['T', 'H', 'T'], ['T', 'H', 'H'], ['T', 'H', 'T'], ['H', 'H', 'H'], ['H', 'H', 'T'], ['H', 'T', 'T'], ['T', 'H', 'T'], ['H', 'H', 'H'], ['H', 'H', 'H'], ['T', 'T', 'T'], ['H', 'H', 'H'], ['T', 'H', 'H'], ['H', 'T', 'T'], ['H', 'T', 'H'], ['H', 'T', 'T'], ['H', 'T', 'T'], ['H', 'T', 'H'], ['H', 'H', 'T'], ['H', 'T', 'H'], ['H', 'H', 'H'], ['H', 'H', 'H'], ['T', 'T', 'T'], ['T', 'T', 'H'], ['H', 'T', 'H'], ['T', 'H', 'H'], ['T', 'T', 'T'], ['T', 'H', 'T'], ['T', 'H', 'T'], ['T', 'T', 'H'], ['H', 'T', 'T'], ['H', 'H', 'H'], ['H', 'T', 'H'], ['H', 'T', 'T'], ['H', 'T', 'T'], ['T', 'T', 'T'], ['H', 'H', 'T'], ['T', 'H', 'T'], ['H', 'H', 'T'], ['H', 'T', 'H'], ['H', 'H', 'H'], ['T', 'T', 'H'], ['T', 'H', 'H'], ['T', 'T', 'H'], ['T', 'H', 'H'], ['T', 'H', 'H'], ['H', 'T', 'T'], ['T', 'T', 'H'], ['H', 'H', 'T'], ['H', 'T', 'T'], ['H', 'T', 'H'], ['T', 'T', 'T'], ['T', 'T', 'H'], ['T', 'H', 'H'], ['H', 'H', 'T'], ['T', 'T', 'H'], ['T', 'T', 'T'], ['T', 'H', 'T'], ['H', 'H', 'T'], ['H', 'H', 'T'], ['T', 'T', 'T'], ['H', 'T', 'H'], ['H', 'H', 'H'], ['H', 'H', 'H'], ['H', 'T', 'H'], ['H', 'H', 'H'], ['T', 'T', 'T'], ['T', 'H', 'T'], ['T', 'H', 'H'], ['T', 'T', 'H'], ['T', 'T', 'T'], ['T', 'H', 'T'], ['T', 'H', 'H'], ['H', 'T', 'H'], ['T', 'H', 'T'], ['H', 'T', 'T'], ['H', 'H', 'T'], ['H', 'H', 'H'], ['H', 'T', 'T'], ['H', 'H', 'H'], ['T', 'T', 'T'], ['H', 'T', 'T'], ['H', 'H', 'H'], ['H', 'H', 'H'], ['T', 'T', 'H'], ['H', 'T', 'H'], ['T', 'T', 'T'], ['T', 'T', 'H'], ['H', 'T', 'T'], ['T', 'T', 'H'], ['H', 'H', 'T'], ['T', 'H', 'H'], ['H', 'T', 'H'], ['H', 'H', 'T'], ['T', 'T', 'H'], ['T', 'T', 'T'], ['H', 'T', 'H'], ['T', 'T', 'T'], ['T', 'T', 'H'], ['T', 'H', 'H'], ['T', 'H', 'T'], ['H', 'H', 'T'], ['T', 'H', 'H'], ['H', 'T', 'H'], ['T', 'T', 'T'], ['T', 'H', 'H'], ['H', 'T', 'T'], ['H', 'T', 'T'], ['H', 'H', 'H'], ['T', 'H', 'T'], ['T', 'T', 'H'], ['H', 'H', 'T'], ['T', 'H', 'T'], ['H', 'H', 'H'], ['T', 'T', 'T'], ['T', 'T', 'T'], ['T', 'T', 'T'], ['H', 'T', 'T'], ['H', 'T', 'T'], ['T', 'H', 'H'], ['H', 'T', 'H'], ['T', 'H', 'H'], ['H', 'H', 'T'], ['H', 'H', 'T'], ['H', 'H', 'T'], ['H', 'H', 'H'], ['T', 'T', 'H'], ['T', 'H', 'T'], ['H', 'H', 'T'], ['T', 'H', 'H'], ['H', 'T', 'H'], ['H', 'T', 'H'], ['T', 'T', 'T'], ['T', 'H', 'H'], ['H', 'H', 'T'], ['H', 'T', 'T'], ['T', 'H', 'T'], ['T', 'H', 'H'], ['H', 'H', 'T'], ['H', 'T', 'T'], ['T', 'H', 'T'], ['T', 'T', 'T'], ['T', 'T', 'T'], ['T', 'H', 'T'], ['H', 'T', 'T'], ['T', 'T', 'T'], ['H', 'T', 'H'], ['T', 'H', 'T'], ['H', 'H', 'H'], ['T', 'H', 'T'], ['H', 'T', 'H'], ['T', 'T', 'H'], ['H', 'T', 'T'], ['T', 'H', 'T'], ['H', 'H', 'T'], ['T', 'H', 'T'], ['H', 'H', 'H'], ['T', 'T', 'T'], ['H', 'T', 'T'], ['T', 'T', 'H'], ['T', 'T', 'T'], ['H', 'H', 'T'], ['T', 'H', 'T'], ['T', 'T', 'T'], ['T', 'H', 'T'], ['T', 'T', 'T'], ['H', 'H', 'T'], ['H', 'H', 'H'], ['T', 'T', 'H'], ['H', 'T', 'H'], ['H', 'H', 'T'], ['H', 'T', 'H'], ['H', 'H', 'T'], ['T', 'H', 'H'], ['H', 'H', 'T'], ['H', 'H', 'T'], ['T', 'H', 'H'], ['T', 'H', 'H'], ['T', 'H', 'T'], ['H', 'H', 'T'], ['T', 'H', 'H'], ['T', 'T', 'T'], ['H', 'H', 'H'], ['H', 'T', 'H'], ['H', 'T', 'H'], ['T', 'T', 'T'], ['T', 'T', 'T'], ['T', 'T', 'T'], ['H', 'H', 'H'], ['T', 'H', 'T'], ['T', 'H', 'T'], ['H', 'H', 'H'], ['H', 'H', 'H'], ['H', 'H', 'H'], ['T', 'T', 'T'], ['T', 'H', 'H'], ['T', 'H', 'H'], ['T', 'H', 'H'], ['H', 'T', 'T'], ['H', 'H', 'H'], ['T', 'T', 'T'], ['H', 'T', 'T'], ['T', 'H', 'H'], ['T', 'H', 'H'], ['H', 'T', 'T'], ['H', 'T', 'H'], ['T', 'H', 'T'], ['H', 'H', 'T'], ['H', 'T', 'T'], ['T', 'H', 'H'], ['H', 'T', 'H'], ['H', 'T', 'H'], ['T', 'T', 'H'], ['H', 'T', 'H'], ['H', 'T', 'H'], ['T', 'H', 'T'], ['H', 'T', 'H'], ['H', 'H', 'T'], ['H', 'H', 'H'], ['T', 'T', 'H'], ['T', 'H', 'T'], ['T', 'H', 'H'], ['H', 'T', 'H'], ['T', 'H', 'H'], ['T', 'H', 'T'], ['H', 'H', 'H'], ['T', 'T', 'H'], ['T', 'H', 'T'], ['T', 'H', 'T'], ['H', 'T', 'H'], ['T', 'H', 'H'], ['T', 'T', 'H'], ['H', 'H', 'T'], ['H', 'H', 'H'], ['T', 'H', 'T'], ['T', 'T', 'T'], ['T', 'T', 'T'], ['T', 'T', 'H'], ['H', 'H', 'T'], ['H', 'H', 'H'], ['T', 'H', 'H'], ['H', 'H', 'T'], ['T', 'H', 'H'], ['T', 'H', 'H'], ['H', 'H', 'H'], ['H', 'T', 'T'], ['T', 'T', 'H'], ['H', 'T', 'T'], ['T', 'T', 'H'], ['T', 'T', 'T'], ['T', 'T', 'T'], ['T', 'H', 'T'], ['H', 'H', 'T'], ['T', 'T', 'H'], ['T', 'H', 'H'], ['H', 'T', 'T'], ['H', 'H', 'H'], ['H', 'T', 'H'], ['H', 'T', 'H'], ['H', 'H', 'T'], ['H', 'T', 'T'], ['T', 'H', 'H'], ['T', 'H', 'H'], ['H', 'T', 'T'], ['H', 'H', 'T'], ['H', 'H', 'T'], ['H', 'H', 'H'], ['T', 'T', 'H'], ['T', 'H', 'T'], ['T', 'H', 'H'], ['T', 'H', 'T'], ['H', 'T', 'H'], ['H', 'T', 'H'], ['H', 'H', 'H'], ['H', 'T', 'T'], ['H', 'T', 'T'], ['H', 'H', 'T'], ['H', 'T', 'T'], ['H', 'H', 'H'], ['T', 'H', 'H'], ['H', 'H', 'T'], ['H', 'H', 'H'], ['H', 'T', 'H'], ['T', 'H', 'H'], ['T', 'H', 'T'], ['T', 'T', 'H'], ['H', 'T', 'T'], ['T', 'T', 'T'], ['H', 'H', 'H'], ['T', 'T', 'H'], ['H', 'H', 'H'], ['T', 'T', 'T'], ['T', 'T', 'T'], ['H', 'T', 'H'], ['H', 'H', 'T'], ['H', 'T', 'T'], ['T', 'H', 'H'], ['T', 'T', 'T'], ['T', 'H', 'H'], ['T', 'T', 'H'], ['H', 'H', 'H'], ['H', 'T', 'T'], ['T', 'H', 'T'], ['H', 'T', 'T'], ['T', 'T', 'T'], ['H', 'T', 'T'], ['H', 'T', 'H'], ['T', 'T', 'H'], ['H', 'H', 'H'], ['T', 'T', 'H'], ['T', 'T', 'T'], ['H', 'H', 'H'], ['H', 'T', 'T'], ['H', 'H', 'H'], ['T', 'T', 'H'], ['H', 'T', 'T'], ['H', 'T', 'H'], ['H', 'T', 'H'], ['H', 'T', 'T'], ['H', 'T', 'T'], ['H', 'H', 'H'], ['T', 'T', 'H'], ['T', 'T', 'T'], ['T', 'T', 'H'], ['H', 'H', 'T'], ['T', 'H', 'H'], ['H', 'T', 'T'], ['T', 'H', 'T'], ['T', 'T', 'H'], ['T', 'T', 'T'], ['H', 'T', 'T'], ['T', 'T', 'H'], ['H', 'H', 'H'], ['H', 'H', 'T'], ['T', 'T', 'H'], ['T', 'H', 'T'], ['H', 'H', 'T'], ['H', 'T', 'T'], ['H', 'H', 'H'], ['H', 'T', 'H'], ['H', 'T', 'H'], ['T', 'H', 'H'], ['T', 'T', 'H'], ['H', 'T', 'T'], ['T', 'T', 'H'], ['T', 'H', 'T'], ['T', 'H', 'H'], ['T', 'H', 'T'], ['H', 'H', 'T'], ['H', 'T', 'H'], ['H', 'T', 'T'], ['T', 'T', 'T'], ['T', 'T', 'H'], ['H', 'T', 'T'], ['T', 'H', 'H'], ['H', 'T', 'H'], ['T', 'T', 'T'], ['T', 'T', 'H'], ['H', 'H', 'H'], ['T', 'H', 'T'], ['H', 'T', 'T'], ['H', 'H', 'H'], ['T', 'H', 'T'], ['T', 'T', 'T'], ['T', 'H', 'T'], ['H', 'H', 'H'], ['H', 'T', 'T'], ['H', 'T', 'T'], ['H', 'T', 'H'], ['H', 'H', 'H'], ['H', 'H', 'H'], ['H', 'H', 'H'], ['T', 'T', 'T'], ['T', 'T', 'H'], ['T', 'T', 'H'], ['H', 'T', 'T'], ['H', 'H', 'T'], ['T', 'H', 'H'], ['T', 'H', 'H'], ['H', 'H', 'T'], ['H', 'H', 'T'], ['H', 'T', 'T'], ['H', 'T', 'H'], ['H', 'T', 'T'], ['H', 'T', 'T'], ['T', 'T', 'T'], ['T', 'T', 'H'], ['T', 'H', 'H'], ['T', 'T', 'H'], ['H', 'H', 'H'], ['H', 'H', 'H'], ['H', 'T', 'T'], ['H', 'T', 'H'], ['H', 'H', 'H'], ['T', 'T', 'H'], ['T', 'T', 'H'], ['H', 'T', 'H'], ['H', 'T', 'H'], ['H', 'H', 'T'], ['H', 'H', 'H'], ['T', 'H', 'T'], ['H', 'T', 'T'], ['H', 'H', 'T'], ['H', 'T', 'T'], ['T', 'H', 'T'], ['T', 'H', 'T'], ['H', 'T', 'T'], ['T', 'T', 'H'], ['H', 'H', 'H'], ['H', 'H', 'H'], ['H', 'H', 'H'], ['H', 'T', 'T'], ['H', 'H', 'H'], ['T', 'H', 'T'], ['H', 'H', 'T'], ['H', 'T', 'H'], ['H', 'H', 'T'], ['T', 'T', 'T'], ['T', 'T', 'H'], ['H', 'T', 'T'], ['T', 'T', 'T'], ['H', 'T', 'H'], ['T', 'H', 'H'], ['T', 'H', 'T'], ['H', 'H', 'T'], ['T', 'H', 'H'], ['H', 'H', 'H'], ['T', 'H', 'H'], ['T', 'T', 'T'], ['T', 'T', 'H'], ['H', 'T', 'H'], ['H', 'T', 'T'], ['H', 'H', 'H'], ['H', 'T', 'T'], ['H', 'T', 'H'], ['T', 'T', 'T'], ['T', 'T', 'T'], ['T', 'T', 'H'], ['H', 'H', 'T'], ['T', 'T', 'H'], ['T', 'H', 'T'], ['T', 'T', 'T'], ['H', 'H', 'H'], ['T', 'H', 'T'], ['H', 'H', 'H'], ['T', 'T', 'T'], ['T', 'T', 'T'], ['H', 'T', 'T'], ['H', 'T', 'H'], ['H', 'H', 'H'], ['T', 'T', 'T'], ['T', 'H', 'H'], ['T', 'H', 'H'], ['H', 'H', 'T'], ['H', 'H', 'T'], ['H', 'T', 'T'], ['T', 'H', 'H'], ['H', 'T', 'T'], ['T', 'H', 'T'], ['H', 'H', 'T'], ['H', 'T', 'T'], ['H', 'H', 'H'], ['H', 'T', 'H'], ['T', 'H', 'H'], ['H', 'H', 'H'], ['T', 'T', 'T'], ['T', 'T', 'H'], ['T', 'H', 'H'], ['T', 'T', 'T'], ['T', 'H', 'T'], ['T', 'H', 'H'], ['T', 'H', 'H'], ['H', 'T', 'H'], ['H', 'T', 'H'], ['H', 'H', 'T'], ['T', 'T', 'T'], ['H', 'H', 'T'], ['T', 'T', 'H'], ['T', 'H', 'T'], ['T', 'T', 'T'], ['T', 'H', 'H'], ['T', 'H', 'T'], ['H', 'H', 'T'], ['H', 'H', 'T'], ['H', 'H', 'H'], ['T', 'H', 'H'], ['H', 'T', 'H'], ['T', 'T', 'H'], ['H', 'T', 'T'], ['H', 'T', 'T'], ['H', 'T', 'T'], ['H', 'H', 'H'], ['T', 'T', 'H'], ['H', 'H', 'T'], ['T', 'T', 'H'], ['T', 'T', 'H'], ['T', 'T', 'T'], ['T', 'H', 'H'], ['H', 'H', 'T'], ['H', 'H', 'H'], ['T', 'H', 'T'], ['H', 'T', 'H'], ['T', 'H', 'H'], ['H', 'H', 'T'], ['H', 'H', 'T'], ['H', 'H', 'T'], ['H', 'H', 'T'], ['T', 'T', 'T'], ['H', 'H', 'H'], ['H', 'H', 'H'], ['T', 'H', 'T'], ['T', 'T', 'T'], ['H', 'H', 'T'], ['T', 'T', 'T'], ['H', 'T', 'H'], ['H', 'H', 'T'], ['H', 'H', 'T'], ['H', 'T', 'T'], ['H', 'T', 'T'], ['T', 'H', 'H'], ['H', 'T', 'H'], ['H', 'T', 'H'], ['H', 'H', 'T'], ['T', 'H', 'H'], ['H', 'H', 'T'], ['T', 'T', 'H'], ['T', 'T', 'H'], ['H', 'T', 'H'], ['T', 'H', 'H'], ['T', 'H', 'H'], ['T', 'H', 'H'], ['T', 'T', 'H'], ['T', 'T', 'T'], ['T', 'H', 'H'], ['H', 'T', 'H'], ['H', 'T', 'H'], ['T', 'T', 'T'], ['T', 'H', 'T'], ['H', 'H', 'T'], ['H', 'H', 'H'], ['H', 'H', 'H'], ['H', 'T', 'H'], ['T', 'T', 'H'], ['H', 'T', 'T'], ['T', 'T', 'T'], ['H', 'H', 'H'], ['T', 'T', 'H'], ['H', 'T', 'T'], ['T', 'H', 'H'], ['T', 'H', 'T'], ['H', 'H', 'T'], ['H', 'T', 'T'], ['T', 'H', 'H'], ['H', 'H', 'T'], ['T', 'H', 'T'], ['H', 'H', 'T'], ['T', 'T', 'H'], ['T', 'T', 'H'], ['T', 'T', 'H'], ['T', 'T', 'H'], ['T', 'T', 'T'], ['H', 'H', 'T'], ['T', 'T', 'H'], ['T', 'H', 'H'], ['T', 'T', 'H'], ['T', 'T', 'T'], ['T', 'H', 'T'], ['H', 'T', 'T'], ['T', 'T', 'T'], ['H', 'H', 'T'], ['H', 'H', 'T'], ['T', 'H', 'T'], ['H', 'H', 'H'], ['H', 'T', 'T'], ['H', 'H', 'H'], ['T', 'H', 'T'], ['T', 'H', 'H'], ['H', 'T', 'T'], ['H', 'T', 'H'], ['T', 'T', 'H'], ['T', 'T', 'H'], ['T', 'H', 'T'], ['H', 'T', 'T'], ['T', 'T', 'H'], ['T', 'T', 'T'], ['T', 'T', 'H'], ['H', 'T', 'T'], ['H', 'H', 'H'], ['H', 'T', 'T'], ['H', 'H', 'H'], ['H', 'T', 'H'], ['H', 'T', 'T'], ['H', 'H', 'H'], ['H', 'T', 'T'], ['H', 'H', 'H'], ['T', 'T', 'T'], ['T', 'T', 'T'], ['T', 'T', 'H'], ['T', 'H', 'T'], ['T', 'T', 'T'], ['H', 'T', 'T'], ['H', 'T', 'T'], ['H', 'H', 'H'], ['H', 'H', 'T'], ['T', 'H', 'T'], ['H', 'T', 'H'], ['H', 'H', 'T'], ['H', 'H', 'T'], ['T', 'T', 'H'], ['H', 'T', 'T'], ['H', 'H', 'H'], ['H', 'T', 'T'], ['T', 'T', 'T'], ['T', 'H', 'H'], ['H', 'T', 'T'], ['H', 'T', 'H'], ['T', 'T', 'T'], ['H', 'H', 'H'], ['T', 'T', 'T'], ['H', 'H', 'T'], ['H', 'T', 'T'], ['T', 'T', 'H'], ['T', 'T', 'H'], ['H', 'T', 'T'], ['H', 'H', 'T'], ['H', 'T', 'T'], ['T', 'T', 'H'], ['T', 'H', 'H'], ['H', 'H', 'H'], ['H', 'T', 'T'], ['H', 'H', 'T'], ['H', 'H', 'T'], ['T', 'T', 'H'], ['H', 'H', 'T'], ['T', 'T', 'T'], ['H', 'H', 'H'], ['H', 'H', 'T'], ['H', 'T', 'T'], ['T', 'T', 'H'], ['H', 'T', 'T'], ['H', 'H', 'T'], ['T', 'T', 'T'], ['T', 'T', 'T'], ['H', 'T', 'T'], ['T', 'T', 'T'], ['H', 'H', 'T'], ['T', 'T', 'H'], ['H', 'T', 'T'], ['H', 'T', 'H'], ['H', 'H', 'H'], ['H', 'T', 'H'], ['T', 'T', 'T'], ['T', 'H', 'T'], ['T', 'T', 'T'], ['T', 'T', 'T'], ['T', 'H', 'H'], ['H', 'T', 'H'], ['T', 'T', 'H'], ['H', 'H', 'T'], ['H', 'H', 'T'], ['H', 'T', 'H'], ['H', 'H', 'T'], ['H', 'T', 'T'], ['H', 'T', 'T'], ['T', 'H', 'H'], ['T', 'H', 'H'], ['H', 'H', 'T'], ['H', 'H', 'H'], ['H', 'H', 'H'], ['H', 'T', 'H'], ['H', 'T', 'H'], ['T', 'T', 'H'], ['H', 'H', 'T'], ['T', 'H', 'H'], ['T', 'T', 'H'], ['H', 'T', 'H'], ['T', 'H', 'T'], ['T', 'T', 'T'], ['T', 'T', 'T'], ['H', 'H', 'H'], ['H', 'H', 'T'], ['T', 'T', 'H'], ['T', 'H', 'H'], ['H', 'H', 'T'], ['T', 'H', 'T'], ['H', 'H', 'T'], ['T', 'T', 'T'], ['H', 'H', 'H'], ['H', 'T', 'H'], ['T', 'H', 'T'], ['H', 'T', 'T'], ['T', 'T', 'H'], ['H', 'H', 'H'], ['H', 'H', 'T'], ['H', 'T', 'T'], ['T', 'H', 'T'], ['T', 'T', 'T'], ['T', 'T', 'T'], ['H', 'H', 'H'], ['T', 'H', 'T'], ['H', 'H', 'H'], ['T', 'H', 'H'], ['H', 'H', 'H'], ['T', 'T', 'H'], ['T', 'T', 'T'], ['H', 'H', 'T'], ['H', 'H', 'H'], ['T', 'T', 'H'], ['T', 'H', 'H'], ['T', 'T', 'T'], ['T', 'T', 'T'], ['T', 'T', 'H'], ['H', 'T', 'H'], ['T', 'T', 'H'], ['H', 'T', 'H'], ['H', 'H', 'H'], ['H', 'H', 'H'], ['T', 'H', 'T'], ['H', 'H', 'H'], ['T', 'H', 'H'], ['H', 'T', 'H'], ['T', 'T', 'T'], ['T', 'T', 'T'], ['H', 'H', 'T'], ['T', 'T', 'H'], ['T', 'H', 'T'], ['H', 'H', 'T'], ['H', 'H', 'H'], ['T', 'T', 'T'], ['H', 'H', 'T'], ['H', 'H', 'H'], ['T', 'T', 'T'], ['H', 'H', 'H'], ['T', 'H', 'T'], ['H', 'H', 'H'], ['H', 'H', 'T'], ['T', 'H', 'H'], ['H', 'T', 'H'], ['H', 'T', 'H'], ['T', 'T', 'H'], ['H', 'T', 'T'], ['H', 'H', 'T'], ['H', 'T', 'H'], ['H', 'H', 'H'], ['T', 'H', 'T'], ['T', 'T', 'T'], ['T', 'T', 'H'], ['T', 'H', 'T'], ['T', 'T', 'H'], ['T', 'T', 'T'], ['T', 'H', 'T'], ['H', 'H', 'T'], ['H', 'H', 'H'], ['T', 'H', 'H'], ['H', 'H', 'T'], ['T', 'T', 'H'], ['T', 'H', 'H'], ['T', 'T', 'T'], ['H', 'T', 'T'], ['H', 'H', 'H'], ['T', 'T', 'T'], ['H', 'T', 'T'], ['H', 'T', 'T'], ['T', 'T', 'T'], ['H', 'H', 'T'], ['H', 'H', 'H'], ['H', 'H', 'T'], ['T', 'T', 'T'], ['T', 'T', 'H'], ['H', 'T', 'T'], ['H', 'H', 'T'], ['H', 'T', 'T'], ['H', 'H', 'T'], ['T', 'T', 'T'], ['H', 'H', 'T'], ['H', 'T', 'H'], ['T', 'T', 'T'], ['H', 'T', 'T'], ['T', 'H', 'H'], ['H', 'T', 'T'], ['T', 'T', 'T'], ['H', 'T', 'T'], ['H', 'H', 'H'], ['T', 'H', 'H'], ['T', 'T', 'H'], ['T', 'H', 'T'], ['T', 'T', 'T'], ['T', 'H', 'T'], ['H', 'H', 'T'], ['H', 'H', 'T'], ['H', 'H', 'T'], ['T', 'H', 'H'], ['T', 'T', 'H'], ['H', 'H', 'T'], ['H', 'H', 'H'], ['T', 'H', 'H'], ['T', 'T', 'H'], ['H', 'T', 'T'], ['T', 'H', 'T'], ['H', 'T', 'T'], ['H', 'T', 'H'], ['T', 'H', 'H'], ['T', 'T', 'T'], ['T', 'T', 'H'], ['T', 'H', 'H'], ['T', 'H', 'H'], ['H', 'H', 'T'], ['H', 'T', 'T'], ['T', 'T', 'H'], ['H', 'T', 'H'], ['T', 'T', 'T'], ['T', 'T', 'T'], ['H', 'H', 'H'], ['T', 'H', 'T'], ['H', 'T', 'H'], ['H', 'H', 'T'], ['T', 'T', 'H'], ['H', 'T', 'T'], ['T', 'T', 'H'], ['T', 'H', 'H'], ['T', 'T', 'H'], ['H', 'H', 'T'], ['T', 'T', 'T'], ['T', 'T', 'T'], ['T', 'T', 'H'], ['H', 'H', 'H'], ['H', 'H', 'T'], ['T', 'T', 'T'], ['H', 'T', 'T'], ['T', 'T', 'T'], ['H', 'T', 'T'], ['T', 'H', 'H'], ['H', 'H', 'H'], ['T', 'T', 'H'], ['T', 'H', 'H'], ['H', 'H', 'H'], ['H', 'H', 'T'], ['H', 'H', 'T'], ['T', 'H', 'T'], ['T', 'T', 'H'], ['H', 'H', 'H'], ['H', 'T', 'H'], ['H', 'H', 'T'], ['H', 'T', 'H'], ['H', 'H', 'T'], ['T', 'H', 'T'], ['H', 'T', 'H'], ['H', 'T', 'H'], ['T', 'T', 'T'], ['T', 'H', 'T'], ['T', 'T', 'T'], ['H', 'H', 'H'], ['H', 'T', 'H'], ['T', 'T', 'T'], ['T', 'H', 'H'], ['H', 'H', 'H'], ['H', 'H', 'H'], ['H', 'H', 'H'], ['H', 'H', 'H'], ['T', 'H', 'T'], ['T', 'T', 'H'], ['T', 'H', 'T'], ['T', 'T', 'H'], ['H', 'T', 'H'], ['H', 'T', 'H'], ['T', 'T', 'H'], ['H', 'H', 'H'], ['H', 'H', 'T'], ['H', 'T', 'H'], ['T', 'H', 'T'], ['T', 'T', 'T'], ['T', 'H', 'T'], ['H', 'T', 'T'], ['H', 'H', 'H'], ['T', 'H', 'H'], ['T', 'T', 'H'], ['T', 'H', 'H'], ['T', 'H', 'H'], ['T', 'T', 'H'], ['H', 'T', 'T'], ['H', 'H', 'T'], ['T', 'T', 'H'], ['T', 'H', 'T'], ['T', 'H', 'H'], ['T', 'H', 'T'], ['H', 'H', 'T'], ['T', 'H', 'T'], ['T', 'H', 'H'], ['T', 'T', 'H'], ['T', 'T', 'H'], ['T', 'H', 'H'], ['H', 'T', 'H'], ['H', 'T', 'T'], ['H', 'H', 'T'], ['T', 'T', 'H'], ['H', 'H', 'H'], ['H', 'H', 'H'], ['H', 'T', 'T'], ['T', 'H', 'H'], ['H', 'H', 'T'], ['H', 'H', 'T'], ['T', 'H', 'H'], ['H', 'T', 'T'], ['H', 'T', 'H'], ['H', 'T', 'T'], ['T', 'H', 'T'], ['T', 'T', 'H'], ['T', 'H', 'H'], ['H', 'H', 'T'], ['H', 'T', 'T'], ['T', 'H', 'T'], ['T', 'T', 'T'], ['H', 'H', 'T'], ['T', 'T', 'T'], ['H', 'T', 'T'], ['H', 'T', 'H'], ['T', 'H', 'T'], ['H', 'H', 'H'], ['H', 'T', 'T'], ['H', 'T', 'H'], ['T', 'H', 'H'], ['T', 'H', 'H'], ['T', 'T', 'H'], ['H', 'H', 'H'], ['H', 'T', 'T'], ['T', 'H', 'H'], ['T', 'T', 'T'], ['H', 'H', 'T'], ['H', 'T', 'H'], ['T', 'H', 'T'], ['H', 'H', 'T'], ['T', 'T', 'T'], ['T', 'T', 'H'], ['H', 'T', 'T'], ['H', 'T', 'H'], ['H', 'H', 'H'], ['T', 'T', 'T'], ['T', 'T', 'T'], ['T', 'H', 'H'], ['T', 'T', 'H'], ['T', 'H', 'T'], ['H', 'T', 'H'], ['T', 'H', 'H'], ['T', 'H', 'T'], ['H', 'T', 'H'], ['T', 'H', 'T'], ['T', 'T', 'T'], ['T', 'T', 'T'], ['T', 'H', 'T'], ['H', 'T', 'H'], ['T', 'T', 'T'], ['T', 'T', 'H'], ['T', 'H', 'H'], ['T', 'H', 'H'], ['H', 'T', 'T'], ['H', 'T', 'H'], ['H', 'H', 'H'], ['H', 'H', 'T'], ['T', 'H', 'T'], ['T', 'T', 'T'], ['T', 'H', 'H'], ['H', 'T', 'T'], ['H', 'H', 'H'], ['H', 'T', 'H'], ['T', 'H', 'H'], ['H', 'H', 'T'], ['T', 'T', 'H'], ['T', 'T', 'H'], ['H', 'T', 'H'], ['T', 'T', 'H'], ['H', 'H', 'H'], ['H', 'T', 'T'], ['T', 'H', 'H'], ['T', 'H', 'H'], ['H', 'T', 'T'], ['T', 'T', 'T'], ['T', 'H', 'T'], ['T', 'H', 'T'], ['H', 'H', 'H'], ['T', 'H', 'H'], ['H', 'H', 'H'], ['T', 'H', 'T'], ['T', 'T', 'H'], ['H', 'T', 'T'], ['H', 'T', 'T'], ['H', 'H', 'H'], ['T', 'T', 'T'], ['H', 'T', 'H'], ['T', 'H', 'H'], ['H', 'T', 'H'], ['H', 'H', 'H'], ['H', 'H', 'T'], ['H', 'T', 'T'], ['H', 'H', 'T'], ['H', 'T', 'T'], ['H', 'H', 'T'], ['T', 'H', 'T'], ['H', 'T', 'H'], ['T', 'H', 'H'], ['T', 'T', 'H'], ['H', 'T', 'H'], ['T', 'H', 'T'], ['H', 'H', 'H'], ['T', 'H', 'H'], ['H', 'H', 'T'], ['H', 'H', 'T'], ['T', 'T', 'H'], ['H', 'T', 'T'], ['H', 'H', 'T'], ['H', 'T', 'T'], ['H', 'H', 'T'], ['H', 'H', 'H'], ['H', 'T', 'H'], ['T', 'T', 'H'], ['T', 'T', 'T'], ['H', 'T', 'H'], ['T', 'T', 'H'], ['H', 'T', 'T'], ['T', 'H', 'T'], ['T', 'H', 'T'], ['H', 'H', 'H'], ['T', 'T', 'T'], ['H', 'H', 'H'], ['H', 'T', 'T'], ['T', 'T', 'H'], ['H', 'H', 'H'], ['T', 'T', 'H'], ['T', 'H', 'H'], ['H', 'H', 'T'], ['T', 'T', 'T'], ['T', 'T', 'T'], ['H', 'T', 'T'], ['T', 'H', 'T'], ['H', 'H', 'T'], ['T', 'T', 'T'], ['H', 'T', 'H'], ['T', 'H', 'T'], ['T', 'T', 'H'], ['H', 'T', 'T'], ['T', 'T', 'T'], ['H', 'T', 'T'], ['H', 'T', 'H'], ['H', 'H', 'T'], ['H', 'H', 'H'], ['H', 'T', 'T'], ['H', 'H', 'T'], ['T', 'H', 'H'], ['H', 'H', 'T'], ['T', 'T', 'H'], ['H', 'T', 'T'], ['T', 'T', 'H'], ['H', 'T', 'T'], ['H', 'T', 'H'], ['T', 'T', 'H'], ['H', 'T', 'H'], ['T', 'T', 'H'], ['H', 'T', 'T'], ['T', 'T', 'H'], ['T', 'H', 'T'], ['T', 'T', 'H'], ['H', 'H', 'H'], ['T', 'H', 'H'], ['H', 'T', 'H'], ['H', 'H', 'T'], ['H', 'H', 'H'], ['H', 'H', 'T'], ['T', 'H', 'T'], ['H', 'H', 'T'], ['T', 'H', 'H'], ['T', 'T', 'H'], ['T', 'T', 'T'], ['T', 'T', 'H'], ['T', 'T', 'H'], ['H', 'H', 'T'], ['H', 'T', 'H'], ['T', 'H', 'T'], ['H', 'T', 'H'], ['T', 'H', 'T'], ['T', 'T', 'H'], ['H', 'T', 'H'], ['T', 'H', 'T'], ['H', 'H', 'H'], ['T', 'T', 'T'], ['T', 'T', 'T'], ['T', 'T', 'T'], ['H', 'T', 'H'], ['H', 'H', 'H'], ['T', 'H', 'T'], ['T', 'T', 'H'], ['T', 'H', 'T'], ['T', 'H', 'H'], ['T', 'T', 'H'], ['H', 'H', 'T'], ['H', 'H', 'H'], ['T', 'H', 'H'], ['T', 'H', 'H'], ['T', 'H', 'T'], ['T', 'H', 'H'], ['T', 'H', 'T'], ['H', 'H', 'T'], ['H', 'T', 'T'], ['T', 'T', 'T'], ['T', 'H', 'H'], ['H', 'T', 'T'], ['H', 'H', 'H'], ['H', 'H', 'H'], ['H', 'H', 'T'], ['H', 'H', 'H'], ['H', 'T', 'H'], ['H', 'T', 'H'], ['H', 'H', 'H'], ['T', 'T', 'T'], ['T', 'T', 'T'], ['T', 'H', 'H'], ['T', 'T', 'T'], ['T', 'H', 'T'], ['H', 'T', 'T'], ['T', 'H', 'H'], ['H', 'T', 'T'], ['T', 'H', 'H'], ['T', 'T', 'T'], ['H', 'H', 'T'], ['T', 'H', 'H'], ['H', 'H', 'H'], ['H', 'T', 'H'], ['T', 'H', 'H'], ['H', 'H', 'H'], ['H', 'T', 'T'], ['H', 'T', 'H'], ['T', 'T', 'T'], ['H', 'H', 'T'], ['H', 'H', 'H'], ['H', 'H', 'H'], ['T', 'T', 'T'], ['H', 'H', 'H'], ['T', 'T', 'H'], ['H', 'H', 'T'], ['T', 'H', 'T'], ['H', 'T', 'H'], ['H', 'T', 'H'], ['H', 'H', 'H'], ['T', 'H', 'H'], ['T', 'T', 'T'], ['T', 'T', 'H'], ['H', 'T', 'H'], ['T', 'H', 'T'], ['H', 'T', 'H'], ['T', 'H', 'T'], ['T', 'T', 'H'], ['T', 'H', 'H'], ['T', 'H', 'T'], ['H', 'H', 'H'], ['T', 'H', 'H'], ['H', 'H', 'T'], ['T', 'T', 'H'], ['H', 'T', 'T'], ['H', 'T', 'H'], ['T', 'T', 'H'], ['H', 'H', 'T'], ['H', 'H', 'T'], ['T', 'T', 'H'], ['H', 'T', 'T'], ['H', 'T', 'T'], ['T', 'H', 'H'], ['T', 'H', 'H'], ['H', 'T', 'H'], ['H', 'T', 'H'], ['T', 'H', 'H'], ['H', 'H', 'T'], ['H', 'H', 'T'], ['T', 'H', 'H'], ['H', 'T', 'H'], ['T', 'H', 'H'], ['H', 'H', 'H'], ['T', 'T', 'T'], ['H', 'H', 'T'], ['T', 'T', 'H'], ['H', 'T', 'T'], ['H', 'T', 'T'], ['T', 'H', 'T'], ['T', 'T', 'H'], ['H', 'H', 'T'], ['T', 'H', 'T'], ['T', 'H', 'T'], ['H', 'T', 'H'], ['H', 'T', 'T'], ['H', 'T', 'T'], ['T', 'H', 'T'], ['T', 'T', 'T'], ['T', 'T', 'H'], ['H', 'H', 'H'], ['H', 'T', 'T'], ['T', 'T', 'H'], ['T', 'H', 'T'], ['H', 'H', 'H'], ['H', 'T', 'T'], ['H', 'T', 'H'], ['H', 'H', 'H'], ['H', 'H', 'T'], ['H', 'H', 'H'], ['T', 'H', 'T'], ['T', 'H', 'H'], ['H', 'H', 'H'], ['H', 'T', 'T'], ['T', 'H', 'H'], ['H', 'T', 'T'], ['H', 'H', 'H'], ['H', 'H', 'H'], ['H', 'T', 'H'], ['H', 'H', 'H'], ['T', 'H', 'T'], ['T', 'T', 'T'], ['T', 'H', 'H'], ['T', 'T', 'T'], ['T', 'H', 'H'], ['H', 'H', 'H'], ['H', 'T', 'T'], ['T', 'T', 'H'], ['H', 'H', 'H'], ['T', 'T', 'H'], ['T', 'T', 'H'], ['H', 'H', 'T'], ['H', 'H', 'H'], ['H', 'T', 'T'], ['H', 'T', 'T'], ['T', 'H', 'H'], ['T', 'T', 'T'], ['T', 'H', 'H'], ['T', 'T', 'T'], ['T', 'H', 'T'], ['T', 'T', 'H'], ['H', 'T', 'T'], ['T', 'H', 'T'], ['T', 'T', 'T'], ['T', 'T', 'T'], ['H', 'H', 'H'], ['H', 'H', 'H'], ['H', 'H', 'H'], ['H', 'T', 'H'], ['H', 'T', 'H'], ['H', 'T', 'T'], ['T', 'H', 'T'], ['T', 'H', 'T'], ['T', 'H', 'H'], ['H', 'T', 'T'], ['T', 'T', 'T'], ['H', 'H', 'H'], ['H', 'H', 'H'], ['H', 'H', 'H'], ['H', 'T', 'H'], ['H', 'H', 'T'], ['H', 'T', 'T'], ['T', 'H', 'H'], ['T', 'T', 'T'], ['H', 'T', 'H'], ['H', 'H', 'H'], ['H', 'T', 'T'], ['T', 'H', 'H'], ['T', 'H', 'H'], ['T', 'T', 'H'], ['H', 'T', 'H'], ['H', 'H', 'T'], ['H', 'T', 'H'], ['T', 'H', 'H'], ['T', 'T', 'H'], ['T', 'T', 'H'], ['H', 'T', 'T'], ['H', 'T', 'H'], ['H', 'T', 'H'], ['H', 'T', 'T'], ['H', 'T', 'H'], ['T', 'T', 'T'], ['T', 'T', 'H'], ['T', 'T', 'H'], ['T', 'T', 'T'], ['T', 'H', 'H'], ['T', 'H', 'H'], ['H', 'T', 'H'], ['T', 'T', 'T'], ['H', 'T', 'T'], ['T', 'H', 'H'], ['T', 'T', 'T'], ['H', 'T', 'T'], ['H', 'H', 'H'], ['T', 'T', 'T'], ['H', 'H', 'T'], ['H', 'T', 'H'], ['T', 'H', 'H'], ['H', 'H', 'H'], ['H', 'H', 'T'], ['T', 'H', 'H'], ['H', 'T', 'T'], ['H', 'H', 'T'], ['T', 'T', 'H'], ['H', 'T', 'T'], ['H', 'H', 'H'], ['T', 'H', 'H'], ['H', 'H', 'H'], ['T', 'T', 'T'], ['T', 'H', 'T'], ['H', 'H', 'H'], ['H', 'T', 'T'], ['T', 'H', 'T'], ['T', 'H', 'T'], ['H', 'T', 'H'], ['T', 'H', 'T'], ['H', 'H', 'T'], ['H', 'T', 'T'], ['T', 'T', 'H'], ['T', 'T', 'T'], ['H', 'T', 'H'], ['H', 'T', 'T'], ['H', 'H', 'T'], ['T', 'T', 'T'], ['H', 'H', 'H'], ['T', 'T', 'H'], ['H', 'H', 'T'], ['T', 'T', 'H'], ['T', 'H', 'H'], ['H', 'H', 'T'], ['H', 'T', 'T'], ['T', 'H', 'T'], ['T', 'T', 'H'], ['T', 'H', 'T'], ['H', 'H', 'H'], ['H', 'T', 'H'], ['T', 'H', 'H'], ['H', 'H', 'H'], ['T', 'T', 'H'], ['T', 'T', 'H'], ['H', 'T', 'H'], ['T', 'T', 'H'], ['H', 'H', 'T'], ['H', 'H', 'H'], ['T', 'T', 'H'], ['T', 'H', 'H'], ['T', 'T', 'H'], ['T', 'H', 'H'], ['T', 'H', 'T'], ['T', 'H', 'T'], ['H', 'H', 'T'], ['T', 'T', 'H'], ['T', 'T', 'T'], ['H', 'H', 'T'], ['H', 'H', 'H'], ['T', 'H', 'T'], ['H', 'H', 'T'], ['H', 'T', 'T'], ['H', 'H', 'H'], ['H', 'T', 'T'], ['T', 'T', 'H'], ['T', 'T', 'H'], ['T', 'T', 'H'], ['H', 'T', 'T'], ['T', 'H', 'H'], ['H', 'T', 'T'], ['T', 'T', 'H'], ['H', 'T', 'T'], ['T', 'T', 'T'], ['H', 'H', 'T'], ['H', 'T', 'H'], ['H', 'T', 'T'], ['H', 'H', 'T'], ['T', 'T', 'H'], ['T', 'T', 'T'], ['T', 'T', 'T'], ['T', 'T', 'H'], ['T', 'H', 'H'], ['T', 'T', 'T'], ['H', 'H', 'H'], ['T', 'T', 'T'], ['T', 'H', 'H'], ['T', 'H', 'H'], ['H', 'H', 'H'], ['T', 'T', 'T'], ['T', 'T', 'T'], ['H', 'H', 'T'], ['H', 'H', 'T'], ['T', 'H', 'H'], ['H', 'T', 'T'], ['H', 'T', 'T'], ['H', 'T', 'H'], ['H', 'H', 'T'], ['H', 'H', 'H'], ['H', 'T', 'T'], ['T', 'T', 'T'], ['T', 'H', 'T'], ['H', 'H', 'H'], ['T', 'H', 'T'], ['H', 'T', 'T'], ['T', 'H', 'T'], ['H', 'H', 'H'], ['H', 'T', 'T'], ['H', 'T', 'H'], ['T', 'H', 'T'], ['H', 'T', 'T'], ['H', 'H', 'T'], ['T', 'T', 'T'], ['H', 'H', 'T'], ['T', 'T', 'T'], ['H', 'H', 'H'], ['T', 'T', 'H'], ['T', 'T', 'T'], ['T', 'T', 'T'], ['T', 'H', 'H'], ['T', 'T', 'T'], ['T', 'H', 'H'], ['T', 'H', 'H'], ['T', 'H', 'T'], ['T', 'T', 'H'], ['H', 'H', 'H'], ['T', 'T', 'T'], ['T', 'H', 'H'], ['T', 'T', 'T'], ['H', 'H', 'H'], ['H', 'H', 'H'], ['H', 'T', 'H'], ['H', 'H', 'T'], ['H', 'H', 'T'], ['H', 'H', 'H'], ['H', 'H', 'T'], ['T', 'T', 'T'], ['T', 'T', 'H'], ['T', 'H', 'H'], ['T', 'T', 'H'], ['T', 'H', 'T'], ['T', 'H', 'H'], ['T', 'T', 'T'], ['H', 'H', 'T'], ['T', 'H', 'H'], ['H', 'T', 'T'], ['T', 'H', 'H'], ['T', 'H', 'T'], ['H', 'H', 'T'], ['T', 'T', 'T'], ['H', 'T', 'T'], ['H', 'H', 'T'], ['H', 'H', 'T'], ['H', 'H', 'T'], ['H', 'H', 'H'], ['H', 'T', 'T'], ['T', 'T', 'T'], ['H', 'H', 'H'], ['H', 'T', 'T'], ['H', 'T', 'H'], ['T', 'T', 'T'], ['H', 'T', 'T'], ['T', 'H', 'H'], ['H', 'T', 'H'], ['T', 'T', 'T'], ['H', 'H', 'H'], ['T', 'H', 'H'], ['H', 'H', 'T'], ['H', 'H', 'T'], ['T', 'H', 'H'], ['T', 'H', 'H'], ['H', 'H', 'H'], ['H', 'H', 'T'], ['H', 'H', 'T'], ['T', 'T', 'T'], ['H', 'T', 'H'], ['T', 'T', 'H'], ['T', 'H', 'H'], ['H', 'T', 'T'], ['T', 'H', 'T'], ['T', 'T', 'T'], ['H', 'H', 'H'], ['T', 'H', 'H'], ['T', 'T', 'T'], ['T', 'H', 'T'], ['H', 'T', 'T'], ['T', 'H', 'T'], ['T', 'T', 'T'], ['H', 'H', 'H'], ['H', 'T', 'H'], ['H', 'H', 'H'], ['T', 'H', 'H'], ['T', 'H', 'H'], ['T', 'H', 'H'], ['H', 'T', 'T'], ['H', 'T', 'H'], ['H', 'T', 'T'], ['T', 'T', 'H'], ['T', 'T', 'T'], ['T', 'T', 'T'], ['H', 'T', 'T'], ['H', 'H', 'H'], ['T', 'H', 'H'], ['T', 'H', 'H'], ['H', 'H', 'H'], ['T', 'H', 'T'], ['T', 'T', 'T'], ['H', 'H', 'T'], ['T', 'T', 'T'], ['H', 'T', 'H'], ['H', 'H', 'T'], ['T', 'T', 'T'], ['T', 'H', 'T'], ['H', 'T', 'H'], ['T', 'H', 'T'], ['H', 'T', 'H'], ['H', 'H', 'H'], ['H', 'T', 'H'], ['T', 'T', 'H'], ['T', 'H', 'H'], ['H', 'H', 'T'], ['H', 'T', 'T'], ['H', 'T', 'H'], ['H', 'H', 'H'], ['H', 'T', 'T'], ['H', 'T', 'T'], ['T', 'H', 'H'], ['H', 'H', 'H'], ['H', 'T', 'T'], ['H', 'H', 'T'], ['T', 'H', 'T'], ['H', 'H', 'H'], ['T', 'H', 'T'], ['H', 'T', 'H'], ['H', 'H', 'T'], ['H', 'T', 'T'], ['T', 'H', 'T'], ['H', 'T', 'T'], ['T', 'T', 'H'], ['T', 'T', 'H'], ['H', 'H', 'T'], ['H', 'H', 'T'], ['H', 'H', 'H'], ['H', 'T', 'H'], ['T', 'H', 'H'], ['T', 'H', 'H'], ['T', 'H', 'T'], ['T', 'T', 'H'], ['H', 'T', 'H'], ['T', 'T', 'H'], ['H', 'H', 'T'], ['T', 'T', 'T'], ['H', 'T', 'H'], ['H', 'T', 'T'], ['H', 'T', 'T'], ['T', 'H', 'H'], ['T', 'T', 'T'], ['H', 'T', 'T'], ['T', 'T', 'T'], ['T', 'H', 'H'], ['H', 'H', 'H'], ['T', 'T', 'H'], ['T', 'H', 'H'], ['H', 'H', 'T'], ['T', 'T', 'H'], ['H', 'T', 'T'], ['H', 'T', 'H'], ['H', 'T', 'T'], ['H', 'H', 'T'], ['T', 'T', 'H'], ['T', 'H', 'H'], ['T', 'H', 'H'], ['H', 'H', 'H'], ['H', 'T', 'T'], ['T', 'H', 'T'], ['H', 'T', 'H'], ['H', 'H', 'T'], ['T', 'H', 'T'], ['H', 'H', 'T'], ['T', 'T', 'T'], ['T', 'H', 'T'], ['H', 'T', 'H'], ['H', 'T', 'T'], ['T', 'H', 'H'], ['T', 'H', 'H'], ['H', 'H', 'H'], ['T', 'H', 'T'], ['H', 'H', 'H'], ['T', 'T', 'H'], ['H', 'H', 'H'], ['H', 'T', 'H'], ['H', 'H', 'T'], ['T', 'T', 'T'], ['H', 'H', 'H'], ['H', 'H', 'H'], ['T', 'T', 'H'], ['H', 'T', 'T'], ['H', 'H', 'T'], ['H', 'H', 'H'], ['T', 'H', 'T'], ['H', 'T', 'H'], ['H', 'H', 'T'], ['T', 'T', 'T'], ['T', 'H', 'H'], ['H', 'H', 'T'], ['H', 'T', 'T'], ['H', 'H', 'T'], ['H', 'T', 'H'], ['T', 'T', 'T'], ['H', 'T', 'H'], ['H', 'H', 'H'], ['T', 'T', 'H'], ['H', 'H', 'H'], ['T', 'H', 'H'], ['T', 'H', 'H'], ['H', 'H', 'T'], ['T', 'T', 'T'], ['H', 'H', 'T'], ['H', 'T', 'T'], ['H', 'T', 'T'], ['T', 'T', 'T'], ['T', 'T', 'T'], ['H', 'H', 'T'], ['T', 'H', 'H'], ['H', 'T', 'H'], ['H', 'T', 'T'], ['T', 'T', 'H'], ['H', 'T', 'H'], ['T', 'T', 'T'], ['T', 'H', 'H'], ['T', 'H', 'T'], ['H', 'H', 'H'], ['H', 'H', 'H'], ['H', 'T', 'H'], ['T', 'T', 'T'], ['T', 'H', 'T'], ['H', 'H', 'H'], ['H', 'H', 'T'], ['T', 'T', 'H'], ['H', 'T', 'H'], ['H', 'H', 'T'], ['H', 'T', 'H'], ['H', 'H', 'H'], ['T', 'T', 'H'], ['T', 'T', 'H'], ['H', 'T', 'H'], ['T', 'H', 'T'], ['H', 'T', 'H'], ['T', 'T', 'T'], ['H', 'H', 'H'], ['T', 'T', 'H'], ['H', 'H', 'T'], ['T', 'H', 'H'], ['H', 'T', 'T'], ['T', 'T', 'H'], ['T', 'H', 'H'], ['H', 'H', 'H'], ['H', 'H', 'T'], ['H', 'H', 'T'], ['H', 'H', 'T'], ['H', 'H', 'T'], ['H', 'T', 'T'], ['H', 'T', 'H'], ['T', 'H', 'H'], ['H', 'T', 'H'], ['T', 'T', 'T'], ['T', 'T', 'T'], ['H', 'T', 'H'], ['T', 'H', 'H'], ['H', 'H', 'T'], ['H', 'T', 'H'], ['T', 'H', 'T'], ['T', 'T', 'H'], ['H', 'H', 'T'], ['H', 'T', 'H'], ['T', 'T', 'T'], ['T', 'H', 'T'], ['H', 'T', 'T'], ['H', 'T', 'H'], ['T', 'T', 'T'], ['T', 'T', 'H'], ['H', 'T', 'T'], ['T', 'H', 'T'], ['H', 'T', 'H'], ['T', 'H', 'H'], ['H', 'H', 'T'], ['H', 'T', 'T'], ['H', 'T', 'T'], ['T', 'T', 'H'], ['H', 'H', 'T'], ['H', 'T', 'H'], ['H', 'T', 'T'], ['T', 'T', 'H'], ['T', 'H', 'H'], ['H', 'T', 'T'], ['T', 'T', 'T'], ['T', 'T', 'H'], ['T', 'T', 'T'], ['T', 'H', 'T'], ['H', 'T', 'T'], ['H', 'H', 'H'], ['H', 'T', 'T'], ['H', 'T', 'H'], ['T', 'H', 'T'], ['H', 'H', 'H'], ['T', 'H', 'H'], ['T', 'T', 'T'], ['H', 'H', 'H'], ['T', 'T', 'T'], ['H', 'T', 'T'], ['H', 'H', 'T'], ['T', 'T', 'T'], ['H', 'H', 'H'], ['H', 'T', 'T'], ['H', 'H', 'H'], ['T', 'H', 'H'], ['H', 'T', 'H'], ['H', 'H', 'H'], ['T', 'T', 'H'], ['T', 'T', 'H']]\n"
     ]
    }
   ],
   "source": [
    "import random\n",
    "\n",
    "# Count the number of 3xHeads results\n",
    "h3 = 0\n",
    "\n",
    "# Create a list of all results\n",
    "results = []\n",
    "\n",
    "# loop through 10000 trials\n",
    "trials = 10000\n",
    "trial = 0\n",
    "while trial < trials:\n",
    "    trial = trial + 1\n",
    "    # Flip three coins\n",
    "    result = ['H' if random.randint(0,1) == 1 else 'T',\n",
    "              'H' if random.randint(0,1) == 1 else 'T',\n",
    "              'H' if random.randint(0,1) == 1 else 'T']\n",
    "    results.append(result)\n",
    "    # If it's three heads, add it to the count\n",
    "    h3 = h3 + int(result == ['H','H','H'])\n",
    "    \n",
    "# What proportion of trials produced 3x heads\n",
    "print (\"%.2f%%\" % ((h3/trials)*100))\n",
    "\n",
    "# Show all the results\n",
    "print (results)\n"
   ]
  },
  {
   "cell_type": "markdown",
   "metadata": {
    "id": "URQcVq3zf-Wp"
   },
   "source": [
    "The output shows the percentage of times a trial resulted in three heads (which should be somewhere close to 12.5%). You can count the number of *['H', 'H', 'H']* entries in the full list of results to verify this if you like!"
   ]
  },
  {
   "cell_type": "markdown",
   "metadata": {
    "id": "INpmbTPDf1AP"
   },
   "source": [
    "#### Probability Trees"
   ]
  },
  {
   "cell_type": "markdown",
   "metadata": {
    "id": "KTVpdyO2Zya5"
   },
   "source": [
    "You can represent a series of events and their probabilities as a probability tree:\n",
    "\n",
    "                         ____H(0.5)  : 0.5 x 0.5 x 0.5 = 0.125\n",
    "                        /\n",
    "                   ____H(0.5)\n",
    "                  /     \\____T(0.5)  : 0.5 x 0.5 x 0.5 = 0.125\n",
    "                 /        \n",
    "              __H(0.5)   ____H(0.5)  : 0.5 x 0.5 x 0.5 = 0.125\n",
    "             /   \\      / \n",
    "            /     \\____T(0.5)\n",
    "           /            \\____T(0.5)  : 0.5 x 0.5 x 0.5 = 0.125\n",
    "          /              \n",
    "    _____/              _____H(0.5)  : 0.5 x 0.5 x 0.5 = 0.125\n",
    "         \\             / \n",
    "          \\        ___H(0.5)\n",
    "           \\      /    \\_____T(0.5)  : 0.5 x 0.5 x 0.5 = 0.125\n",
    "            \\    /       \n",
    "             \\__T(0.5)  _____H(0.5)  : 0.5 x 0.5 x 0.5 = 0.125\n",
    "                 \\     /\n",
    "                  \\___T(0.5)\n",
    "                       \\_____T(0.5)  : 0.5 x 0.5 x 0.5 = 0.125\n",
    "                                                         _____\n",
    "                                                          1.0\n",
    "                        \n",
    "Starting at the left, you can follow the branches in the tree that represent each event (in this case a coin toss result of *heads* or *tails* at each branch). Multiplying the probability of each branch of your path through the tree gives you the combined probability for an event composed of all of the events in the path. In this case, you can see from the tree that you are equally likely to get any sequence of three *heads* or *tails* results (so three *heads* is just as likely as three *tails*, which is just as likely as *head-tail-head*, *tail-head-tail*, or any other combination!)\n",
    "\n",
    "Note that the total probability for all paths through the tree adds up to 1."
   ]
  },
  {
   "cell_type": "markdown",
   "metadata": {
    "id": "2dz9AVkFkYv9"
   },
   "source": [
    "#### Combined Event Probability Notation"
   ]
  },
  {
   "cell_type": "markdown",
   "metadata": {
    "id": "tyXbbJYGkhOn"
   },
   "source": [
    "When calculating the probability of combined events, we assign a letter such as **A** or **B** to each event, and we use the *intersection* (**&cap;**) symbol to indicate that we want the combined probability of multiple events. So we could assign the letters **A**, **B**, and **C** to each independent coin toss in our sequence of three tosses, and express the combined probability like this:\n",
    "\n",
    "$$\n",
    "\\begin{equation}P(A \\cap B \\cap C) = P(A) \\times P(B) \\times P(C) \\end{equation}\n",
    "$$"
   ]
  },
  {
   "cell_type": "markdown",
   "metadata": {
    "id": "SpntWvLOk5fa"
   },
   "source": [
    "#### Combining Events with Different Probabilities"
   ]
  },
  {
   "cell_type": "markdown",
   "metadata": {
    "id": "Sn7HXdBFk2oX"
   },
   "source": [
    "Imagine you have created a new game that mixes the excitment of coin-tossing with the thrill of die-rolling! The objective of the game is to roll a die and get *6*, and toss a coin and get *heads*:\n",
    "\n",
    "<div style='text-align:center'><span style='font-size:48px;'>&#9861;</span><span style='font-size:42px;'> +</span><span style='font-size:48px;color:gold;'>&#10050;</span></div>\n",
    "\n",
    "On each turn of the game, a player rolls the die and tosses the coin.\n",
    "\n",
    "How can we calculate the probability of winning?\n",
    "\n",
    "There are two independent events required to win: a die-roll of *6* (which we'll call event **A**), and a coin-toss of *heads* (which we'll call event **B**)\n",
    "\n",
    "Our formula for combined independent events is:\n",
    "\n",
    "$$\n",
    "\\begin{equation}P(A \\cap B) = P(A) \\times P(B) \\end{equation}\n",
    "$$\n",
    "\n",
    "The probablilty of rolling a *6* on a fair die is <sup>1</sup>/<sub>6</sub> or 0.167;  and the probability of tossing a coin and getting *heads* is <sup>1</sup>/<sub>2</sub> or 0.5:\n",
    "\n",
    "$$\n",
    "\\begin{equation}P(A \\cap B) = 0.167 \\times 0.5 = 0.083 \\end{equation}\n",
    "$$\n",
    "\n",
    "So on each turn, there's an 8.3% chance to win the game."
   ]
  },
  {
   "cell_type": "markdown",
   "metadata": {
    "id": "LcbSXVjIrFY2"
   },
   "source": [
    "#### Intersections and Unions\n",
    "\n",
    "Previously you saw that we use the *intersection* (**&cap;**) symbol to represent \"and\" when combining event probabilities. This notation comes from a branch of mathematics called *set theory*, in which we work with sets of values. let's examine this in a little more detail.\n",
    "\n",
    "Here's our deck of playing cards, with the full sample space for drawing any card:\n",
    "\n",
    "<table style='font-size:18px;'>\n",
    "<tr><td style='color:red;'>A &hearts;</td><td style='color:black;'>A &spades;</td><td style='color:black;'>A &clubs;<td style='color:red;'>A &diams;</td></tr>\n",
    "<tr><td style='color:red;'>K &hearts;</td><td style='color:black;'>K &spades;</td><td style='color:black;'>K &clubs;<td style='color:red;'>K &diams;</td></tr>\n",
    "<tr><td style='color:red;'>Q &hearts;</td><td style='color:black;'>Q &spades;</td><td style='color:black;'>Q &clubs;<td style='color:red;'>Q &diams;</td></tr>\n",
    "<tr><td style='color:red;'>J &hearts;</td><td style='color:black;'>J &spades;</td><td style='color:black;'>J &clubs;<td style='color:red;'>J &diams;</td></tr>\n",
    "<tr><td style='color:red;'>10 &hearts;</td><td style='color:black;'>10 &spades;</td><td style='color:black;'>10 &clubs;<td style='color:red;'>10 &diams;</td></tr>\n",
    "<tr><td style='color:red;'>9 &hearts;</td><td style='color:black;'>9 &spades;</td><td style='color:black;'>9 &clubs;<td style='color:red;'>9 &diams;</td></tr>\n",
    "<tr><td style='color:red;'>8 &hearts;</td><td style='color:black;'>8 &spades;</td><td style='color:black;'>8 &clubs;<td style='color:red;'>8 &diams;</td></tr>\n",
    "<tr><td style='color:red;'>7 &hearts;</td><td style='color:black;'>7 &spades;</td><td style='color:black;'>7 &clubs;<td style='color:red;'>7 &diams;</td></tr>\n",
    "<tr><td style='color:red;'>6 &hearts;</td><td style='color:black;'>6 &spades;</td><td style='color:black;'>6 &clubs;<td style='color:red;'>6 &diams;</td></tr>\n",
    "<tr><td style='color:red;'>5 &hearts;</td><td style='color:black;'>5 &spades;</td><td style='color:black;'>5 &clubs;<td style='color:red;'>5 &diams;</td></tr>\n",
    "<tr><td style='color:red;'>4 &hearts;</td><td style='color:black;'>4 &spades;</td><td style='color:black;'>4 &clubs;<td style='color:red;'>4 &diams;</td></tr>\n",
    "<tr><td style='color:red;'>3 &hearts;</td><td style='color:black;'>3 &spades;</td><td style='color:black;'>3 &clubs;<td style='color:red;'>3 &diams;</td></tr>\n",
    "<tr><td style='color:red;'>2 &hearts;</td><td style='color:black;'>2 &spades;</td><td style='color:black;'>2 &clubs;<td style='color:red;'>2 &diams;</td></tr>\n",
    "</table>\n",
    "\n",
    "Now, let's look at two potential events:\n",
    "- Drawing an ace (**A**)\n",
    "- Drawing a red card (**B**)\n",
    "\n",
    "The set of sample points for event **A** (drawing an ace) is:\n",
    "\n",
    "<table style='font-size:18px;'>\n",
    "<tr><td style='color:red;'>A &hearts;</td><td style='color:black;'>A &spades;</td><td style='color:black;'>A &clubs;<td style='color:red;'>A &diams;</td></tr>\n",
    "<tr style='color:lightgrey;'><td>K &hearts;</td><td style='color:lightgrey;'>K &spades;</td><td style='color:lightgrey;'>K &clubs;<td>K &diams;</td></tr>\n",
    "<tr style='color:lightgrey;'><td>Q &hearts;</td><td>Q &spades;</td><td>Q &clubs;<td>Q &diams;</td></tr>\n",
    "<tr style='color:lightgrey;'><td>J &hearts;</td><td>J &spades;</td><td>J &clubs;<td>J &diams;</td></tr>\n",
    "<tr style='color:lightgrey;'><td>10 &hearts;</td><td>10 &spades;</td><td>10 &clubs;<td>10 &diams;</td></tr>\n",
    "<tr style='color:lightgrey;'><td>9 &hearts;</td><td>9 &spades;</td><td>9 &clubs;<td>9 &diams;</td></tr>\n",
    "<tr style='color:lightgrey;'><td>8 &hearts;</td><td>8 &spades;</td><td>8 &clubs;<td>8 &diams;</td></tr>\n",
    "<tr style='color:lightgrey;'><td>7 &hearts;</td><td>7 &spades;</td><td>7 &clubs;<td>7 &diams;</td></tr>\n",
    "<tr style='color:lightgrey;'><td>6 &hearts;</td><td>6 &spades;</td><td>6 &clubs;<td>6 &diams;</td></tr>\n",
    "<tr style='color:lightgrey;'><td>5 &hearts;</td><td>5 &spades;</td><td>5 &clubs;<td>5 &diams;</td></tr>\n",
    "<tr style='color:lightgrey;'><td>4 &hearts;</td><td>4 &spades;</td><td>4 &clubs;<td>4 &diams;</td></tr>\n",
    "<tr style='color:lightgrey;'><td>3 &hearts;</td><td>3 &spades;</td><td>3 &clubs;<td>3 &diams;</td></tr>\n",
    "<tr style='color:lightgrey;'><td>2 &hearts;</td><td>2 &spades;</td><td>2 &clubs;<td>2 &diams;</td></tr>\n",
    "</table>\n",
    "\n",
    "So the probability of drawing an ace is:\n",
    "\n",
    "$$\n",
    "\\begin{equation}P(A) = \\frac{4}{52} = \\frac{1}{13} = 0.077\\end{equation} \n",
    "$$\n",
    "\n",
    "Now let's look at the set of sample points for event **B** (drawing a red card)\n",
    "\n",
    "<table style='font-size:18px;'>\n",
    "<tr><td style='color:red;'>A &hearts;</td><td style='color:lightgrey;'>A &spades;</td><td style='color:lightgrey;'>A &clubs;<td style='color:red;'>A &diams;</td></tr>\n",
    "<tr><td style='color:red;'>K &hearts;</td><td style='color:lightgrey;'>K &spades;</td><td style='color:lightgrey;'>K &clubs;<td style='color:red;'>K &diams;</td></tr>\n",
    "<tr><td style='color:red;'>Q &hearts;</td><td style='color:lightgrey;'>Q &spades;</td><td style='color:lightgrey;'>Q &clubs;<td style='color:red;'>Q &diams;</td></tr>\n",
    "<tr><td style='color:red;'>J &hearts;</td><td style='color:lightgrey;'>J &spades;</td><td style='color:lightgrey;'>J &clubs;<td style='color:red;'>J &diams;</td></tr>\n",
    "<tr><td style='color:red;'>10 &hearts;</td><td style='color:lightgrey;'>10 &spades;</td><td style='color:lightgrey;'>10 &clubs;<td style='color:red;'>10 &diams;</td></tr>\n",
    "<tr><td style='color:red;'>9 &hearts;</td><td style='color:lightgrey;'>9 &spades;</td><td style='color:lightgrey;'>9 &clubs;<td style='color:red;'>9 &diams;</td></tr>\n",
    "<tr><td style='color:red;'>8 &hearts;</td><td style='color:lightgrey;'>8 &spades;</td><td style='color:lightgrey;'>8 &clubs;<td style='color:red;'>8 &diams;</td></tr>\n",
    "<tr><td style='color:red;'>7 &hearts;</td><td style='color:lightgrey;'>7 &spades;</td><td style='color:lightgrey;'>7 &clubs;<td style='color:red;'>7 &diams;</td></tr>\n",
    "<tr><td style='color:red;'>6 &hearts;</td><td style='color:lightgrey;'>6 &spades;</td><td style='color:lightgrey;'>6 &clubs;<td style='color:red;'>6 &diams;</td></tr>\n",
    "<tr><td style='color:red;'>5 &hearts;</td><td style='color:lightgrey;'>5 &spades;</td><td style='color:lightgrey;'>5 &clubs;<td style='color:red;'>5 &diams;</td></tr>\n",
    "<tr><td style='color:red;'>4 &hearts;</td><td style='color:lightgrey;'>4 &spades;</td><td style='color:lightgrey;'>4 &clubs;<td style='color:red;'>4 &diams;</td></tr>\n",
    "<tr><td style='color:red;'>3 &hearts;</td><td style='color:lightgrey;'>3 &spades;</td><td style='color:lightgrey;'>3 &clubs;<td style='color:red;'>3 &diams;</td></tr>\n",
    "<tr><td style='color:red;'>2 &hearts;</td><td style='color:lightgrey;'>2 &spades;</td><td style='color:lightgrey;'>2 &clubs;<td style='color:red;'>2 &diams;</td></tr>\n",
    "</table>\n",
    "\n",
    "The probability of drawing a red card is therefore:\n",
    "\n",
    "$$\n",
    "\\begin{equation}P(A) = \\frac{26}{52} = \\frac{1}{2} = 0.5\\end{equation} \n",
    "$$\n",
    "\n",
    "##### Intersections\n",
    "\n",
    "We can think of the sample spaces for these events as two sets, and we can show them as a Venn diagram:\n",
    "\n",
    "<br/>\n",
    "\n",
    "<div style='text-align:center'>Event A<span style='font-size:120px'>&#9901;</span>Event B</div>\n",
    "\n",
    "Each circle in the Venn diagram represents a set of sample points. The set on the left contains the sample points for event **A** (drawing an ace) and the set on the right contains the sample points for event **B** (drawing a red card). Note that the circles overlap, creating an intersection that contains only the sample points that apply to event **A** *and* event **B**.\n",
    "\n",
    "This intersected sample space looks like this:\n",
    "\n",
    "<table style='font-size:18px;'>\n",
    "<tr><td style='color:red;'>A &hearts;</td><td style='color:lightgrey;'>A &spades;</td><td style='color:lightgrey;'>A &clubs;<td style='color:red;'>A &diams;</td></tr>\n",
    "<tr style='color:lightgrey;'><td>K &hearts;</td><td style='color:lightgrey;'>K &spades;</td><td style='color:lightgrey;'>K &clubs;<td>K &diams;</td></tr>\n",
    "<tr style='color:lightgrey;'><td>Q &hearts;</td><td>Q &spades;</td><td>Q &clubs;<td>Q &diams;</td></tr>\n",
    "<tr style='color:lightgrey;'><td>J &hearts;</td><td>J &spades;</td><td>J &clubs;<td>J &diams;</td></tr>\n",
    "<tr style='color:lightgrey;'><td>10 &hearts;</td><td>10 &spades;</td><td>10 &clubs;<td>10 &diams;</td></tr>\n",
    "<tr style='color:lightgrey;'><td>9 &hearts;</td><td>9 &spades;</td><td>9 &clubs;<td>9 &diams;</td></tr>\n",
    "<tr style='color:lightgrey;'><td>8 &hearts;</td><td>8 &spades;</td><td>8 &clubs;<td>8 &diams;</td></tr>\n",
    "<tr style='color:lightgrey;'><td>7 &hearts;</td><td>7 &spades;</td><td>7 &clubs;<td>7 &diams;</td></tr>\n",
    "<tr style='color:lightgrey;'><td>6 &hearts;</td><td>6 &spades;</td><td>6 &clubs;<td>6 &diams;</td></tr>\n",
    "<tr style='color:lightgrey;'><td>5 &hearts;</td><td>5 &spades;</td><td>5 &clubs;<td>5 &diams;</td></tr>\n",
    "<tr style='color:lightgrey;'><td>4 &hearts;</td><td>4 &spades;</td><td>4 &clubs;<td>4 &diams;</td></tr>\n",
    "<tr style='color:lightgrey;'><td>3 &hearts;</td><td>3 &spades;</td><td>3 &clubs;<td>3 &diams;</td></tr>\n",
    "<tr style='color:lightgrey;'><td>2 &hearts;</td><td>2 &spades;</td><td>2 &clubs;<td>2 &diams;</td></tr>\n",
    "</table>\n",
    "\n",
    "As you've seen previously, we write this as **A &cap; B**, and we can calculate its probability like this:\n",
    "\n",
    "$$\n",
    "\\begin{equation}P(A \\cap B) = P(A) \\times P(B) = 0.077 \\times 0.5 = 0.0385 \\end{equation}\n",
    "$$\n",
    "\n",
    "So when you draw a single card from a full deck, there is a 3.85% chance it will be a red ace.\n",
    "\n",
    "##### Unions\n",
    "The intersection describes the sample space for  event **A** *and* event **B**; but what if we wanted to look at the probability of drawing an ace *or* a red card. In other words, any sample point that is in either of the Venn digram circles.\n",
    "\n",
    "This set of sample points looks like this:\n",
    "\n",
    "<table style='font-size:18px;'>\n",
    "<tr><td style='color:red;'>A &hearts;</td><td style='color:black;'>A &spades;</td><td style='color:black;'>A &clubs;<td style='color:red;'>A &diams;</td></tr>\n",
    "<tr><td style='color:red;'>K &hearts;</td><td style='color:lightgrey;'>K &spades;</td><td style='color:lightgrey;'>K &clubs;<td style='color:red;'>K &diams;</td></tr>\n",
    "<tr><td style='color:red;'>Q &hearts;</td><td style='color:lightgrey;'>Q &spades;</td><td style='color:lightgrey;'>Q &clubs;<td style='color:red;'>Q &diams;</td></tr>\n",
    "<tr><td style='color:red;'>J &hearts;</td><td style='color:lightgrey;'>J &spades;</td><td style='color:lightgrey;'>J &clubs;<td style='color:red;'>J &diams;</td></tr>\n",
    "<tr><td style='color:red;'>10 &hearts;</td><td style='color:lightgrey;'>10 &spades;</td><td style='color:lightgrey;'>10 &clubs;<td style='color:red;'>10 &diams;</td></tr>\n",
    "<tr><td style='color:red;'>9 &hearts;</td><td style='color:lightgrey;'>9 &spades;</td><td style='color:lightgrey;'>9 &clubs;<td style='color:red;'>9 &diams;</td></tr>\n",
    "<tr><td style='color:red;'>8 &hearts;</td><td style='color:lightgrey;'>8 &spades;</td><td style='color:lightgrey;'>8 &clubs;<td style='color:red;'>8 &diams;</td></tr>\n",
    "<tr><td style='color:red;'>7 &hearts;</td><td style='color:lightgrey;'>7 &spades;</td><td style='color:lightgrey;'>7 &clubs;<td style='color:red;'>7 &diams;</td></tr>\n",
    "<tr><td style='color:red;'>6 &hearts;</td><td style='color:lightgrey;'>6 &spades;</td><td style='color:lightgrey;'>6 &clubs;<td style='color:red;'>6 &diams;</td></tr>\n",
    "<tr><td style='color:red;'>5 &hearts;</td><td style='color:lightgrey;'>5 &spades;</td><td style='color:lightgrey;'>5 &clubs;<td style='color:red;'>5 &diams;</td></tr>\n",
    "<tr><td style='color:red;'>4 &hearts;</td><td style='color:lightgrey;'>4 &spades;</td><td style='color:lightgrey;'>4 &clubs;<td style='color:red;'>4 &diams;</td></tr>\n",
    "<tr><td style='color:red;'>3 &hearts;</td><td style='color:lightgrey;'>3 &spades;</td><td style='color:lightgrey;'>3 &clubs;<td style='color:red;'>3 &diams;</td></tr>\n",
    "<tr><td style='color:red;'>2 &hearts;</td><td style='color:lightgrey;'>2 &spades;</td><td style='color:lightgrey;'>2 &clubs;<td style='color:red;'>2 &diams;</td></tr>\n",
    "</table>\n",
    "\n",
    "We call this the *union* of the sets, and we write it as **A &cup; B**.\n",
    "\n",
    "To calculate the probability of a card being either an ace (of any color) or a red card (of any value), we can work out the probability of A, add it to the probability of B, and subtract the probability of A &cap; B (to avoid double-counting the red aces):\n",
    "\n",
    "$$\n",
    "\\begin{equation}P(A \\cup B) = P(A) + P(B) - P(A \\cap B)\\end{equation}\n",
    "$$\n",
    "\n",
    "So:\n",
    "\n",
    "$$\n",
    "\\begin{equation}P(A \\cup B) = 0.077 + 0.5 - 0.0385 = 0.5385\\end{equation}\n",
    "$$\n",
    "\n",
    "So when you draw a card from a full deck, there is a 53.85% probability that it will be either an ace or a red card."
   ]
  },
  {
   "cell_type": "markdown",
   "metadata": {
    "id": "FDVJT6pIjclE"
   },
   "source": [
    "### Dependent Events"
   ]
  },
  {
   "cell_type": "markdown",
   "metadata": {
    "id": "XmKDK3r4Zya_"
   },
   "source": [
    "Let's return to our deck of 52 cards from which we're going to draw one card. The sample space can be summarized like this:\n",
    "\n",
    "<table>\n",
    "<tr><td>13 x <span style='font-size:32px;color:red;'>&hearts;</span></td><td>13 x <span style='font-size:32px;color:black;'>&spades;</span></td><td>13 x <span style='font-size:32px;color:black;'>&clubs;</span></td><td>13 x <span style='font-size:32px;color:red;'>&diams;</span></td></tr>\n",
    "</table>\n",
    "\n",
    "There are two black suits (*spades* and *clubs*) and two red suits (*hearts* and *diamonds*); with 13 cards in each suit. So the probability of drawing a black card (event **A**) and the probability of drawing a red card (event **B**) can be calculated like this:\n",
    "\n",
    "$$\n",
    "\\begin{equation}P(A) = \\frac{13 + 13}{52} = \\frac{26}{52} = 0.5 \\;\\;\\;\\; P(B) = \\frac{13 + 13}{52} = \\frac{26}{52} = 0.5\\end{equation}\n",
    "$$\n",
    "\n",
    "Now let's draw a card from the deck:\n",
    "\n",
    "<div style ='text-align:center;'><span style='font-size:32px;color:red;'>&hearts;</span></div>\n",
    "\n",
    "We drew a heart, which is red. So, assuming we don't replace the card back into the deck, this changes the sample space as follows:\n",
    "\n",
    "<table>\n",
    "<tr><td>12 x <span style='font-size:32px;color:red;'>&hearts;</span></td><td>13 x <span style='font-size:32px;color:black;'>&spades;</span></td><td>13 x <span style='font-size:32px;color:black;'>&clubs;</span></td><td>13 x <span style='font-size:32px;color:red;'>&diams;</span></td></tr>\n",
    "</table>\n",
    "\n",
    "The probabilities for **A** and **B** are now:\n",
    "\n",
    "$$\n",
    "\\begin{equation}P(A) = \\frac{13 + 13}{51} = \\frac{26}{51} = 0.51 \\;\\;\\;\\; P(B) = \\frac{12 + 13}{51} = \\frac{25}{51} = 0.49\\end{equation}\n",
    "$$\n",
    "\n",
    "Now let's draw a second card:\n",
    "\n",
    "<div style ='text-align:center;'><span style='font-size:32px;color:red;'>&diams;</span></div>\n",
    "\n",
    "We drew a diamond, so again this changes the sample space for the next draw:\n",
    "\n",
    "<table>\n",
    "<tr><td>12 x <span style='font-size:32px;color:red;'>&hearts;</span></td><td>13 x <span style='font-size:32px;color:black;'>&spades;</span></td><td>13 x <span style='font-size:32px;color:black;'>&clubs;</span></td><td>12 x <span style='font-size:32px;color:red;'>&diams;</span></td></tr>\n",
    "</table>\n",
    "\n",
    "The probabilities for **A** and **B** are now:\n",
    "\n",
    "$$\n",
    "\\begin{equation}P(A) = \\frac{13 + 13}{50} = \\frac{26}{50} = 0.52 \\;\\;\\;\\; P(B) = \\frac{12 + 12}{50} = \\frac{24}{51} = 0.48\\end{equation}\n",
    "$$\n",
    "\n",
    "So it's clear that one event can affect another; in this case, the probability of drawing a card of a particular color on the second draw depends on the color of card drawn on the previous draw. We call these *dependent* events.\n",
    "\n",
    "Probability trees are particularly useful when looking at dependent events. Here's a probability tree for drawing red or black cards as the first three draws from a deck of cards:\n",
    "\n",
    "                         _______R(0.48) \n",
    "                        /\n",
    "                   ____R(0.49)\n",
    "                  /     \\_______B(0.52) \n",
    "                 /        \n",
    "              __R(0.50)  _______R(0.50) \n",
    "             /   \\      / \n",
    "            /     \\____B(0.51)\n",
    "           /            \\_______B(0.50) \n",
    "          /              \n",
    "    _____/              ________R(0.50) \n",
    "         \\             / \n",
    "          \\        ___R(0.51)\n",
    "           \\      /    \\________B(0.50) \n",
    "            \\    /       \n",
    "             \\__B(0.50) ________R(0.52) \n",
    "                 \\     /\n",
    "                  \\___B(0.49)\n",
    "                       \\________B(0.48) "
   ]
  },
  {
   "cell_type": "markdown",
   "metadata": {
    "id": "3-ohHTM-r5No"
   },
   "source": [
    "#### Calculating Probabilities for Dependent Events"
   ]
  },
  {
   "cell_type": "markdown",
   "metadata": {
    "id": "C-MWrCMgrlIm"
   },
   "source": [
    "Imagine a game in which you have to predict the color of the next card to be drawn. Suppose the first card drawn is a *spade*, which is black. What is the probability of the next card being red?\n",
    "\n",
    "The notation for this is:\n",
    "\n",
    "$$\n",
    "\\begin{equation}P(B|A)\\end{equation}\n",
    "$$\n",
    "\n",
    "You can interpret this as *the probability of B, given A*. In other words, given that event **A** (drawing a black card) has already happened, what is the probability of **B** (drawing a red card). This is commonly referred to as the *conditional probability* of B given A; and it's formula is:\n",
    "\n",
    "$$\n",
    "\\begin{equation}P(B|A) = \\frac{P(A \\cap B)}{P(A)}\\end{equation}\n",
    "$$\n",
    "\n",
    "So to return to our example, the probability of the second card being red given that the first card was black is:\n",
    "\n",
    "$$\n",
    "\\begin{equation}P(B|A) = \\frac{\\frac{26}{52} \\times \\frac{26}{51}}{\\frac{26}{52}}\\end{equation}\n",
    "$$\n",
    "\n",
    "Which simplifies to:\n",
    "\n",
    "$$\n",
    "\\begin{equation}P(B|A) = \\frac{0.5 \\times 0.51}{0.5}\\end{equation}\n",
    "$$\n",
    "\n",
    "So:\n",
    "\n",
    "$$\n",
    "\\begin{equation}P(B|A) = \\frac{0.255}{0.5} = 0.51\\end{equation}\n",
    "$$\n",
    "\n",
    "Which is what we calculated previously - so the formula works!\n",
    "\n",
    "Because this is an algebraic expression, we can rearrange it like this:\n",
    "\n",
    "$$\n",
    "\\begin{equation}P(A \\cap B) = P(A) \\times P(B|A)\\end{equation}\n",
    "$$\n",
    "\n",
    "We can use this form of the formula to calculate the probability that the first two cards drawn from a full deck of cards will both be jacks. In this case, event **A** is drawing a jack for the first card, and event **B** is drawing a jack for the second card.\n",
    "\n",
    "The probability that the first drawn card will be a jack is:\n",
    "\n",
    "$$\n",
    "\\begin{equation}P(A) = \\frac{4}{52} = \\frac{1}{13}\\end{equation}\n",
    "$$\n",
    "\n",
    "We draw the first card:\n",
    "\n",
    "<br/>\n",
    "<div style ='text-align:center;'><span style='font-size:32px;color:black;'>J &clubs;</span></div>\n",
    "\n",
    "Success! it's the jack of clubs. Our chances of the first two cards being jacks are looking good so far\n",
    "\n",
    "Now. we know that there are now only 3 jacks left, in a deck of 51 remaining cards; so the probability of drawing a jack as a second card, given that we drew a jack as the first card is:\n",
    "\n",
    "$$\n",
    "\\begin{equation}P(B|A) = \\frac{3}{51}\\end{equation}\n",
    "$$\n",
    "\n",
    "So we can work out the probability of drawing two jacks from a deck like this:\n",
    "\n",
    "$$\n",
    "\\begin{equation}P(A \\cap B) = \\frac{1}{13} \\times \\frac{3}{51} = \\frac{3}{663} = \\frac{1}{221}\\end{equation}\n",
    "$$\n",
    "\n",
    "So there's a 1 in 221 (0.45%)  probability that the first two cards drawn from a full deck will be jacks."
   ]
  },
  {
   "cell_type": "code",
   "execution_count": null,
   "metadata": {
    "id": "HqAa9_WFrrYd"
   },
   "outputs": [],
   "source": [
    "#Independent Events\n",
    "P(B|A) = P(B)"
   ]
  },
  {
   "cell_type": "markdown",
   "metadata": {
    "id": "zacUMNnRmbQq"
   },
   "source": [
    "### Mutually Exclusive"
   ]
  },
  {
   "cell_type": "markdown",
   "metadata": {
    "id": "Dj3h1MlAlq7k"
   },
   "source": [
    "### Mutually Exclusive Events\n",
    "We've talked about dependent and independent events, but there's a third category to be considered: mutually exclusive events.\n",
    "\n",
    "For example, when flipping a coin, what is the probability that in a single coin flip the result will be *heads* ***and*** *tails*? The answer is of course, 0; a single coin flip can only result in *heads* ***or*** *tails*; not both!\n",
    "\n",
    "For mutually exclusive event, the probability of an intersection is:\n",
    "\n",
    "$$\n",
    "\\begin{equation}P(A \\cap B) = 0\\end{equation}\n",
    "$$\n",
    "\n",
    "The probability for a union is:\n",
    "\n",
    "$$\n",
    "\\begin{equation}P(A \\cup B) = P(A) + P(B)\\end{equation}\n",
    "$$\n",
    "\n",
    "Note that we don't need to subtract the intersection (*and*) probability to calculate the union (*or*) probability like we did previously, because there's no risk of double-counting the sample points that lie in both events - there are none. (The intersection probability for mutually exclusive events is always 0, so you can subtract it if you like - you'll still get the same result!)\n",
    "\n",
    "Let's look at another two mutually exclusive events based on rolling a die:\n",
    "- Rolling a 6 (event **A**)\n",
    "- Rolling an odd number (event **B**)\n",
    "\n",
    "The probabilities for these events are:\n",
    "\n",
    "$$\n",
    "\\begin{equation}P(A) = \\frac{1}{6} \\;\\;\\;\\; P(B) = \\frac{3}{6}\\end{equation}\n",
    "$$\n",
    "\n",
    "What's the probability of rolling a 6 *and* an odd number in a single roll? These are mutually exclusive, so:\n",
    "\n",
    "$$\n",
    "\\begin{equation}P(A \\cap B) = 0\\end{equation}\n",
    "$$\n",
    "\n",
    "What's the probability of rolling a 6 *or* an odd number:\n",
    "\n",
    "$$\n",
    "\\begin{equation}P(A \\cup B) = \\frac{1}{6} + \\frac{3}{6} = \\frac{4}{6}\\end{equation}\n",
    "$$"
   ]
  },
  {
   "cell_type": "markdown",
   "metadata": {
    "id": "Nap9m6Mxl10P"
   },
   "source": [
    "## Random Variables"
   ]
  },
  {
   "cell_type": "markdown",
   "metadata": {
    "id": "ZwQJTn_im5qW"
   },
   "source": [
    "### Binomial Variables and Distributions"
   ]
  },
  {
   "cell_type": "markdown",
   "metadata": {
    "id": "iye7VmFeZybE"
   },
   "source": [
    "### Binomial Variables and Distributions\n",
    "Now that we know something about probability, let's apply that to statistics. Statistics is about inferring measures for a full population based on samples, allowing for random variation; so we're going to have to consider the idea of a *random variable*.\n",
    "\n",
    "A random variable us a number that can vary in value. For example, the temperature on a given day, or the number of students taking a class.\n",
    "\n",
    "### Binomial Variables\n",
    "One particular type of random variable that we use in statistics is a *binomial* variable. A binomial variable is used to count how frequently an event occurs in a fixed number of repeated independent experiments. The event in question must have the same probability of occurring in each experiment, and indicates the success or failure of the experiment; with a probability ***p*** of success, which has a complement of ***1 - p*** as the probability of failure (we often call this kind of experiment a *Bernoulli Trial* after Swiss mathematician Jacob Bernoulli).\n",
    "\n",
    "For example, suppose we flip a coin three times, counting *heads* as success. We can define a binomial variable to represent the number of successful coin flips (that is, the number of times we got *heads*).\n",
    "\n",
    "Let's examine this in more detail.\n",
    "\n",
    "We'll call our variable ***X***, and as stated previously it represents the number of times we flip *heads* in a series of three coin flips. Let's start by examining all the possible values for ***X***.\n",
    "\n",
    "We're flipping the coin three times, with a probability of <sup>1</sup>/<sub>2</sub> of success on each flip. The possibile results include none of the flips resulting in *heads*, all of the flips resulting in *heads*, or any combination in between. There are two possible outcomes from each flip, and there are three flips, so the total number of possible result sets is 2<sup>3</sup>, which is 8. Here they are:\n",
    "\n",
    "<div style='font-size:48px;color:gold;'>&#9854;&#9854;&#9854;</div>\n",
    "<br/>\n",
    "<div style='font-size:48px;color:gold;'>&#9854;&#10050;&#9854;</div>\n",
    "<br/>\n",
    "<div style='font-size:48px;color:gold;'>&#9854;&#9854;&#10050;</div>\n",
    "<br/>\n",
    "<div style='font-size:48px;color:gold;'>&#9854;&#10050;&#10050;</div>\n",
    "<br/>\n",
    "<div style='font-size:48px;color:gold;'>&#10050;&#9854;&#9854;</div>\n",
    "<br/>\n",
    "<div style='font-size:48px;color:gold;'>&#10050;&#10050;&#9854;</div>\n",
    "<br/>\n",
    "<div style='font-size:48px;color:gold;'>&#10050;&#9854;&#10050;</div>\n",
    "<br/>\n",
    "<div style='font-size:48px;color:gold;'>&#10050;&#10050;&#10050;</div>\n",
    "<br/>\n",
    "\n",
    "In these results, our variable ***X***, representing the number of successful events (getting *heads*), can vary from 0 to 3. We can write that like this:\n",
    "\n",
    "$$\n",
    "\\begin{equation}X=\\{0,1,2,3\\}\\end{equation}\n",
    "$$\n",
    "\n",
    "When we want to indicate a specific outcome for a random variable, we use write the variable in lower case, for example ***x*** So what's the probability that ***x*** = 0 (meaning that out of our three flips we got no *heads*)?\n",
    "\n",
    "We can easily see, that there is 1 row in our set of possible outcomes that contains no *heads*, so:\n",
    "\n",
    "$$\n",
    "\\begin{equation}P(x=0) = \\frac{1}{8}\\end{equation}\n",
    "$$\n",
    "\n",
    "OK, let's see if we can find the probability for 1 success. There are three sample points containing a single *heads* result, so:\n",
    "\n",
    "$$\n",
    "\\begin{equation}P(x=1) = \\frac{3}{8}\\end{equation}\n",
    "$$\n",
    "\n",
    "Again, we can easily see that from our results; but it's worth thinking about this in a slightly different way that will make it easier to calculate this probability more generically when there are more sample points (for example, if we had based our binomial variable on 100 coin flips, there would be many more combinations!).\n",
    "\n",
    "What we're actually saying here is that for **3** experiments (in this case coin flips), we want to *choose* **1** successful results. This is written as <sub>3</sub>C<sub>1</sub>. More generically, this is known as *n choose k*, and it's written like this:\n",
    "\n",
    "$$\n",
    "\\begin{equation}_{n}C_{k}\\end{equation}\n",
    "$$\n",
    "\n",
    "or sometimes like this:\n",
    "\n",
    "$$\n",
    "\\begin{equation}\\begin{pmatrix} n \\\\ k\\end{pmatrix}\\end{equation}\n",
    "$$\n",
    "\n",
    "The formula to calculate this is:\n",
    "\n",
    "$$\n",
    "\\begin{equation}\\begin{pmatrix} n \\\\ k\\end{pmatrix} = \\frac{n!}{k!(n-k)!}\\end{equation}\n",
    "$$\n",
    "\n",
    "The exclamation points indicate *factorials* - the product of all positive integers less than or equal to the specified integer  (with 0! having a value of 1).\n",
    "\n",
    "In the case of our <sub>3</sub>C<sub>1</sub> calculation, this means:\n",
    "\n",
    "$$\n",
    "\\begin{equation}\\begin{pmatrix} 3 \\\\ 1\\end{pmatrix} = \\frac{3!}{1!(3 - 1)!} = \\frac{3!}{1!\\times2!} =\\frac{3 \\times 2 \\times 1}{1 \\times(2 \\times 1)} = \\frac{6}{2} = 3 \\end{equation}\n",
    "$$\n",
    "\n",
    "That seems like a lot of work to find the number of successful experiments, but now that you know this general formula, you can use it to calculate the number of sample points for any value of *k* from any set of *n* cases. Let's use it to find the possibility of two successful *heads* out of 3 coin flips:\n",
    "\n",
    "$$\n",
    "\\begin{equation}P(x=2) = \\frac{_{3}C_{2}}{8}\\end{equation}\n",
    "$$\n",
    "\n",
    "Let's work out the number of combinations for <sub>3</sub>C<sub>2</sub>\n",
    "\n",
    "$$\n",
    "\\begin{equation}_{3}C_{2} = \\frac{3!}{2!(3 - 2)!} = \\frac{6}{2 \\times 1} = \\frac{6}{2} = 3\\end{equation}\n",
    "$$\n",
    "\n",
    "So:\n",
    "\n",
    "$$\n",
    "\\begin{equation}P(x=2) = \\frac{3}{8}\\end{equation}\n",
    "$$\n",
    "\n",
    "Finally, what's the probability that all three flips were *heads*?\n",
    "\n",
    "$$\n",
    "\\begin{equation}P(x=3) = \\frac{_{3}C_{3}}{8}\\end{equation}\n",
    "$$\n",
    "\n",
    "$$\n",
    "\\begin{equation}_{3}C_{3} = \\frac{3!}{3!(3 - 3)!} = \\frac{6}{6} = 1\\end{equation}\n",
    "$$\n",
    "\n",
    "So:\n",
    "\n",
    "$$\n",
    "\\begin{equation}P(x=3) = \\frac{1}{8}\\end{equation}\n",
    "$$\n",
    "\n",
    "In Python, there are a number of modules you can use to find the *n choose k* combinations, including the *scipy.special.**comb*** function. \n",
    "\n",
    "In our coin flipping experiment, there is an equal probability of success and failure; so the probability calculations are relatively simple, and you may notice that there's a symmetry to the probability for each possible value of the binomial variable, as you can see by running the following Python code. You can increase the value of the **trials** variable to verify that no matter how many times we toss the coin, the probabilities of getting *heads* (or *tails* for that matter) form a symmetrical distribution, because there's an equal probability of success and failure in each trial."
   ]
  },
  {
   "cell_type": "code",
   "execution_count": 67,
   "metadata": {
    "id": "HHXGkyVkZybG"
   },
   "outputs": [
    {
     "data": {
      "image/png": "[encoded data removed]",
      "text/plain": [
       "<Figure size 432x288 with 1 Axes>"
      ]
     },
     "metadata": {
      "needs_background": "light"
     },
     "output_type": "display_data"
    }
   ],
   "source": [
    "%matplotlib inline\n",
    "from scipy import special as sps\n",
    "from matplotlib import pyplot as plt\n",
    "import numpy as np\n",
    "\n",
    "trials = 10\n",
    "\n",
    "possibilities = 2**trials\n",
    "x = np.array(range(0, trials+1))\n",
    "\n",
    "p = np.array([sps.comb(trials, i, exact=True)/possibilities for i in x])\n",
    "\n",
    "# Set up the graph\n",
    "plt.xlabel('Successes')\n",
    "plt.ylabel('Probability')\n",
    "plt.bar(x, p)\n",
    "plt.show()"
   ]
  },
  {
   "cell_type": "code",
   "execution_count": 69,
   "metadata": {},
   "outputs": [
    {
     "data": {
      "text/plain": [
       "252"
      ]
     },
     "execution_count": 69,
     "metadata": {},
     "output_type": "execute_result"
    }
   ],
   "source": [
    "i=5\n",
    "sps.comb(trials, i, exact=True)"
   ]
  },
  {
   "cell_type": "code",
   "execution_count": 54,
   "metadata": {},
   "outputs": [
    {
     "data": {
      "text/plain": [
       "array([0.125, 0.375, 0.375, 0.125])"
      ]
     },
     "execution_count": 54,
     "metadata": {},
     "output_type": "execute_result"
    }
   ],
   "source": [
    "p"
   ]
  },
  {
   "cell_type": "markdown",
   "metadata": {
    "id": "4_T5pynzZybJ"
   },
   "source": [
    "#### Allowing for Bias\n",
    "Previously, we calculated the probability for each possible value of a random variable by simply dividing the number of combinations for that value by the total number of possible outcomes. This works if the probability of the event being tested is equal for failure and success; but of course, not all experiments have an equal chance of success or failure. Some include a bias that makes success more or less likely - so we need to be a little more thorough in our calculations to allow for this.\n",
    "\n",
    "Suppose you're flying off to some exotic destination, and you know that there's a one in four chance that the airport security scanner will trigger a random search for each passenger that goes though. If you watch five passengers go through the scanner, how many will be stopped for a random search?\n",
    "\n",
    "It's tempting to think that there's a one in four chance, so a quarter of the passengers will be stopped; but remember that the searches are triggered randomly for thousands of passengers that pass through the airport each day. It's possible that none of the next five passengers will be searched; all five of them will be searched, or some other value in between will be searched. \n",
    "\n",
    "Even though the probabilities of being searched or not searched are not the same, this is still a binomial variable. There are a fixed number of independent experiments (five passengers passing through the security scanner), the outcome of each experiment is either success (a search is triggered) or failure (no search is triggered), and the probability of being searched does not change for each passenger.\n",
    "\n",
    "There are five experiments in which a passenger goes through the security scanner, let's call this **n**.\n",
    "\n",
    "For each passenger, the probability of being searched is <sup>1</sup>/<sub>4</sub> or 0.25. We'll call this **p**. \n",
    "\n",
    "The complement of **p** (in other words, the probability of *not* being searched) is **1-p**, in this case <sup>3</sup>/<sub>4</sub> or 0.75.\n",
    "\n",
    "So, what's the probability that out of our **n** experiments, three result in a search (let's call that **k**) and the remaining ones (there will be **n**-**k** of them, which is two) don't?\n",
    "\n",
    "- The probability of three passengers being searched is 0.25 x 0.25 x 0.25 which is the same as 0.25<sup>3</sup>. Using our generic variables, this is **p<sup>k</sup>**.\n",
    "- The probability that the rest don't get searched is 0.75 x 0.75, or 0.75<sup>2</sup>. In terms of our variables, this is **1-p<sup>(n-k)</sup>**.\n",
    "- The combined probability of three searchs and two non-searches is therefore 0.25<sup>3</sup> x 0.75<sup>2</sup> (approximately 0.088). Using our variables, this is:\n",
    "\n",
    "$$\n",
    "\\begin{equation}p^{k}(1-p)^{(n-k)}\\end{equation}\n",
    "$$\n",
    "\n",
    "This formula enables us to calculate the probability for a single combination of ***n*** passengers in which ***k*** experiments had a successful outcome. In this case, it enables us to calculate that the probability of three passengers out of five being searched is approximately 0.088. However, we need to consider that there are multiple ways this can happen. The first three passengers could get searched; or the last three; or the first, third, and fifth, or any other possible combination of 3 from 5.\n",
    "\n",
    "There are two possible outcomes for each experiment; so the total number of possible combinations of five passengers being searched or not searched is 2<sup>5</sup> or 32. So within those 32 sets of possible result combinations, how many have three searches? We can use the <sub>n</sub>C<sub>k</sub> formula to calculate this:\n",
    "\n",
    "$$\n",
    "\\begin{equation}_{5}C_{3} = \\frac{5!}{3!(5 - 3)!} = \\frac{120}{6\\times 2} = \\frac{120}{24} = 5\\end{equation}\n",
    "$$\n",
    "\n",
    "So 5 out of our 32 combinations had 3 searches and 2 non-searches.\n",
    "\n",
    "To find the probability of any combination of 3 searches out of 5 passengers, we need to multiply the number of possible combinations by the probability for a single combination - in this case <sup>5</sup>/<sub>32</sub> x 0.088, which is 0.01375, or 13.75%.\n",
    "\n",
    "So our complete formula to calculate the probabilty of ***k*** events from ***n*** experiments with probability ***p*** is:\n",
    "\n",
    "$$\n",
    "\\begin{equation}P(x=k)  = \\frac{n!}{k!(n-k)!} p^{k}(1-p)^{(n-k)}\\end{equation}\n",
    "$$\n",
    "\n",
    "This is known as the *General Binomial Probability Formula*, and we use it to calculate the *probability mass function* (or *PMF*) for a binomial variable. In other words, the we can use it to calculate the probability for each possible value for the variable and use that information to determine the relative frequency of the variable values as a distribution.\n",
    "\n",
    "In Python, the *scipy.stats.**binom.pmf*** function encapsulates the general binomial probability formula, and you can use it to calculate the probability of a random variable having a specific value (***k***) for a given number of experiments (***n***) where the event being tested has a given probability (***p***), as demonstrated in the following code:"
   ]
  },
  {
   "cell_type": "code",
   "execution_count": 75,
   "metadata": {
    "id": "d2iTvedbZybK"
   },
   "outputs": [
    {
     "data": {
      "image/png": "[encoded data removed]",
      "text/plain": [
       "<Figure size 432x288 with 1 Axes>"
      ]
     },
     "metadata": {
      "needs_background": "light"
     },
     "output_type": "display_data"
    }
   ],
   "source": [
    "%matplotlib inline\n",
    "from scipy.stats import binom\n",
    "from matplotlib import pyplot as plt\n",
    "import numpy as np\n",
    "\n",
    "n = 10\n",
    "p = 0.25\n",
    "x = np.array(range(0, n+1))\n",
    "\n",
    "prob = np.array([binom.pmf(k, n, p) for k in x])\n",
    "\n",
    "# Set up the graph\n",
    "plt.xlabel('x')\n",
    "plt.ylabel('Probability')\n",
    "plt.bar(x, prob)\n",
    "plt.show()"
   ]
  },
  {
   "cell_type": "markdown",
   "metadata": {
    "id": "230JB_7aZybL"
   },
   "source": [
    "You can see from the bar chart that with this small value for ***n***, the distribution is right-skewed.\n",
    "\n",
    "Recall that in our coin flipping experiment, when the probability of failure vs success was equal, the resulting distribution was symmetrical. With an unequal probability of success in each experiment, the bias has the effect of skewing the overall probability mass.\n",
    "\n",
    "However, try increasing the value of ***n*** in the code above to 10, 20, and 50; re-running the cell each time. With more observations, the *central limit theorem* starts to take effect and the distribution starts to look more symmetrical - with enough observations it starts to look like a *normal* distribution.\n",
    "\n",
    "There is an important distinction here - the *normal* distribution applies to *continuous* variables, while the *binomial* distribution applies to *discrete* variables. However, the similarities help in a number of statistical contexts where the number of observations (experiments) is large enough for the *central limit theorem* to make the distribution of binomial variable values behave like a *normal* distribution.\n",
    "\n",
    "### Working with the Binomial Distribution\n",
    "Now that you know how to work out a binomial distribution for a repeated experiment, it's time to take a look at some statistics that will help us quantify some aspects of probability.\n",
    "\n",
    "Let's increase our ***n*** value to 100 so that we're looking at the number of searches per 100 passengers. This gives us the binomial distribution graphed by the following code:"
   ]
  },
  {
   "cell_type": "code",
   "execution_count": 74,
   "metadata": {
    "id": "DNAi4qC1ZybL"
   },
   "outputs": [
    {
     "data": {
      "image/png": "[encoded data removed]",
      "text/plain": [
       "<Figure size 432x288 with 1 Axes>"
      ]
     },
     "metadata": {
      "needs_background": "light"
     },
     "output_type": "display_data"
    }
   ],
   "source": [
    "%matplotlib inline\n",
    "from scipy.stats import binom\n",
    "from matplotlib import pyplot as plt\n",
    "import numpy as np\n",
    "\n",
    "n = 100\n",
    "p = 0.25\n",
    "x = np.array(range(0, n+1))\n",
    "\n",
    "prob = np.array([binom.pmf(k, n, p) for k in x])\n",
    "\n",
    "# Set up the graph\n",
    "plt.xlabel('x')\n",
    "plt.ylabel('Probability')\n",
    "plt.bar(x, prob)\n",
    "plt.show()"
   ]
  },
  {
   "cell_type": "markdown",
   "metadata": {
    "id": "XsuWFQJpbXk8"
   },
   "source": [
    "### Expected Value"
   ]
  },
  {
   "cell_type": "markdown",
   "metadata": {
    "id": "eKBjAVBpZybM"
   },
   "source": [
    "Expected value is the total value we can expect given probability of a value occuring and the number of trials. We can calculate the expected value of the distribution like this:\n",
    "\n",
    "$$\n",
    "\\begin{equation}\\mu  = np\\end{equation}\n",
    "$$\n",
    "\n",
    "So for our airport passengers, this is:\n",
    "\n",
    "$$\n",
    "\\begin{equation}\\mu  = 100 \\times 0.25 = 25\\end{equation}\n",
    "$$\n",
    "\n",
    "When we're talking about a probability distribution, the term expected value and *mean* commonly used interchangably. In this case, for any 100 passengers we can reasonably expect 25 of them to be searched."
   ]
  },
  {
   "cell_type": "markdown",
   "metadata": {
    "id": "Sg6w8JkIaiMy"
   },
   "source": [
    "### Variance and Standard Deviation"
   ]
  },
  {
   "cell_type": "markdown",
   "metadata": {
    "id": "li4YUS2wagvG"
   },
   "source": [
    "Obviously, we can't search a quarter of a passenger - the expected value reflects the fact that there is variation, and indicates an average value for our binomial random variable. To get an indication of how much variability there actually is in this scenario, we can can calculate the variance and standard deviation.\n",
    "\n",
    "For variance of a binomial probability distribution, we can use this formula:\n",
    "\n",
    "$$\n",
    "\\begin{equation}\\sigma^{2}  = np(1-p)\\end{equation}\n",
    "$$\n",
    "\n",
    "So for our airport passengers:\n",
    "\n",
    "$$\n",
    "\\begin{equation}\\sigma^{2}  = 100 \\times 0.25 \\times 0.75 = 18.75\\end{equation}\n",
    "$$\n",
    "\n",
    "To convert this to standard deviation we just take the square root:\n",
    "\n",
    "$$\n",
    "\\begin{equation}\\sigma  = \\sqrt{np(1-p)}\\end{equation}\n",
    "$$\n",
    "\n",
    "So:\n",
    "\n",
    "$$\n",
    "\\begin{equation}\\sigma  = \\sqrt{18.75} \\approx 4.33 \\end{equation}\n",
    "$$\n",
    "\n",
    "So for every 100 passengers, we can expect 25 searches with a standard deviation of 4.33\n",
    "\n",
    "In Python, you can use the ***mean***, ***var***, and ***std*** functions from the *scipy.stats.**binom*** package to return binomial distribution statistics for given values of *n* and *p*:"
   ]
  },
  {
   "cell_type": "code",
   "execution_count": 9,
   "metadata": {
    "id": "sD_V95bmZybM"
   },
   "outputs": [
    {
     "name": "stdout",
     "output_type": "stream",
     "text": [
      "25.0\n",
      "18.75\n",
      "4.330127018922194\n"
     ]
    }
   ],
   "source": [
    "from scipy.stats import binom\n",
    "\n",
    "n = 100\n",
    "p = 0.25\n",
    "\n",
    "print(binom.mean(n,p))\n",
    "print(binom.var(n,p))\n",
    "print(binom.std(n,p))"
   ]
  },
  {
   "cell_type": "markdown",
   "metadata": {},
   "source": [
    "# Exercises"
   ]
  },
  {
   "cell_type": "markdown",
   "metadata": {},
   "source": [
    "We know you are hungry for it, so here comes some exercies! Try to answer the questions by code (via Python) and by hand, after all it is a good exercise."
   ]
  },
  {
   "cell_type": "markdown",
   "metadata": {},
   "source": [
    "### Warming Up"
   ]
  },
  {
   "cell_type": "markdown",
   "metadata": {},
   "source": [
    "Some easy straightforward questions:\n",
    "\n",
    "1. What is the probability of taking a Jack from a deck of card if all the Spades are removed?\n",
    "2. What is the complement of tommorow we have chicken for dinner, knowing most of the time we have 20% chance of eating beef, 40% chance of fish, and the rest is chicken?\n",
    "3. What are the possible 2 letter permutations of the word 'NICE'? How many?\n",
    "4. What is the possibility of next Tuesday is raining, with probability of there is rain next week is 0.3 and the rain can only happen one day per week?\n",
    "5. With same assumption as number 4, what is the probability of next week is all sunny (no rain) and the next week after that we have a rainy day?"
   ]
  },
  {
   "cell_type": "code",
   "execution_count": null,
   "metadata": {},
   "outputs": [],
   "source": []
  },
  {
   "cell_type": "markdown",
   "metadata": {},
   "source": [
    "### Counting and Combining Events - Time to Twice!"
   ]
  },
  {
   "cell_type": "markdown",
   "metadata": {},
   "source": [
    "On a game, Momo, Sana, and Mina (MoSaMi) are asked to to take turns taking colored ball from a box. In the box, there are 3 red balls and 3 blue balls. When one of the girls take a ball she will return it before the next girl take it, thus keeping the colored balls mix stay the same throughout the trials.\n",
    "\n",
    "Answer the following question:\n",
    "1. What are the possibilities of the colors the three girls took?\n",
    "2. What is the probability of the three girls having the same color?\n",
    "3. Now, change the mix into 4 red balls and 2 blue balls, and answer question 1 and 2."
   ]
  },
  {
   "cell_type": "code",
   "execution_count": null,
   "metadata": {},
   "outputs": [],
   "source": []
  },
  {
   "cell_type": "markdown",
   "metadata": {},
   "source": [
    "Now, this is where it gets interesting. After MoSaMi get their respective colored balls, three balls are removed from the box according to their pick. The next stage of the game is for Nayeon to take a ball from the box. This time, the remaining balls in the box are only three, as previously three balls have been taken by MoSaMi group. Her objective is to get a red coloured ball to win the game.\n",
    "\n",
    "Answer the following question for 3-3 mix and 4-2 mix.:\n",
    "1. What are the possibilites of the remaining ball mix in the box?\n",
    "2. For each possibilities, what is the probability of Nayeon getting the red ball? (In some scenarios, she may have no chance of winning. Poor Nayeon)\n",
    "3. What is the overall probability of Nayeon winning this game?"
   ]
  },
  {
   "cell_type": "code",
   "execution_count": null,
   "metadata": {},
   "outputs": [],
   "source": []
  },
  {
   "cell_type": "markdown",
   "metadata": {},
   "source": [
    "### Binomial Distribution - The Executioner"
   ]
  },
  {
   "cell_type": "markdown",
   "metadata": {},
   "source": [
    "Matt Le Tissier is one of the best penalty taker the football world has ever know. Imagine a condition where in a span of 15 seasons of career, he have to take 25 penalties per season, with probability of him scoring is 0.9 (for the record, it is actually 96.2% for the Prem). \n",
    "\n",
    "Answer the following question:\n",
    "1. What is the expected number of successful penalty in a season?\n",
    "2. What is the expected number of successful penalties in all 15 seasons?\n",
    "3. Simulate and plot the number of penalties each season, and plot the distribution\n",
    "4. Repeat the trials with now we have player named Risco that penalty probability is 0.5. Compare the results between Risco and Le Tissier."
   ]
  },
  {
   "cell_type": "code",
   "execution_count": null,
   "metadata": {},
   "outputs": [],
   "source": []
  },
  {
   "cell_type": "markdown",
   "metadata": {},
   "source": [
    "No quiz is fun without a twist, so here it is. Imagine that some of the failed penalties are rebounded and the kicker have a chance to put it back into the net. Commonly, out of 10 failed penalties, 7 of them are rebounded back into the net. Now answer the previous 4 questions considering their failed penalties can be rebounded and turned to be successful penalties.\n",
    "\n",
    "For the plot, you can make different plots between successful straight penalties (without rebound) and the rebounded penalties."
   ]
  },
  {
   "cell_type": "code",
   "execution_count": null,
   "metadata": {},
   "outputs": [],
   "source": []
  }
 ],
 "metadata": {
  "colab": {
   "collapsed_sections": [],
   "name": "d1pm.ipynb",
   "provenance": []
  },
  "kernelspec": {
   "display_name": "Python 3",
   "language": "python",
   "name": "python3"
  },
  "language_info": {
   "codemirror_mode": {
    "name": "ipython",
    "version": 3
   },
   "file_extension": ".py",
   "mimetype": "text/x-python",
   "name": "python",
   "nbconvert_exporter": "python",
   "pygments_lexer": "ipython3",
   "version": "3.8.5"
  }
 },
 "nbformat": 4,
 "nbformat_minor": 1
}
