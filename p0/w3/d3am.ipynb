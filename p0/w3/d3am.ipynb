{
 "cells": [
  {
   "cell_type": "markdown",
   "metadata": {
    "id": "Er8GLVQKgRmA"
   },
   "source": [
    "# Week 3: Day 3 AM // Practical Statistics: Descriptive"
   ]
  },
  {
   "cell_type": "code",
   "execution_count": 1,
   "metadata": {
    "id": "WBt8W0k0D1K9"
   },
   "outputs": [],
   "source": [
    "import numpy as np\n",
    "import matplotlib.pyplot as plt\n",
    "import pandas as pd\n",
    "\n",
    "%matplotlib inline"
   ]
  },
  {
   "cell_type": "markdown",
   "metadata": {
    "id": "yCdBvd8pAtqP"
   },
   "source": [
    "# Relationship between Variables"
   ]
  },
  {
   "cell_type": "markdown",
   "metadata": {
    "id": "CayE0hYoA3Cb"
   },
   "source": [
    "## Covariance & Correlation"
   ]
  },
  {
   "cell_type": "markdown",
   "metadata": {
    "id": "qRobf4DLBMiu"
   },
   "source": [
    "Covariance is a measure of the joint variability of two random variables"
   ]
  },
  {
   "cell_type": "markdown",
   "metadata": {
    "id": "MJATNJDkBW4B"
   },
   "source": [
    "Correlation is a statistic that measures the degree to which two variables move in relation to each other"
   ]
  },
  {
   "cell_type": "code",
   "execution_count": 32,
   "metadata": {
    "id": "3VgQYklHEPef"
   },
   "outputs": [],
   "source": [
    "x = np.arange(0,10,0.1)\n",
    "y1 = x*0.5 + np.random.normal(scale=0.5,size=len(x))\n",
    "y2 = -x*0.5 + np.random.normal(scale=0.5,size=len(x))\n",
    "y3 = x*1e-3 + np.random.normal(scale=0.5,size=len(x))"
   ]
  },
  {
   "cell_type": "code",
   "execution_count": 33,
   "metadata": {
    "colab": {
     "base_uri": "https://localhost:8080/",
     "height": 228
    },
    "executionInfo": {
     "elapsed": 997,
     "status": "ok",
     "timestamp": 1625812531647,
     "user": {
      "displayName": "Muhammad Adi Nugroho",
      "photoUrl": "",
      "userId": "16949655937383207580"
     },
     "user_tz": -420
    },
    "id": "1xSmsuQuEnSq",
    "outputId": "5dd0f724-76fa-4fac-d715-7efc0a69f809"
   },
   "outputs": [
    {
     "data": {
      "text/plain": [
       "<matplotlib.collections.PathCollection at 0x2ac9db4a850>"
      ]
     },
     "execution_count": 33,
     "metadata": {},
     "output_type": "execute_result"
    },
    {
     "data": {
      "image/png": "[encoded data removed]",
      "text/plain": [
       "<Figure size 864x216 with 3 Axes>"
      ]
     },
     "metadata": {
      "needs_background": "light"
     },
     "output_type": "display_data"
    }
   ],
   "source": [
    "fig,ax = plt.subplots(1,3,figsize=(12,3))\n",
    "ax[0].scatter(x,y1)\n",
    "ax[1].scatter(x,y2)\n",
    "ax[2].scatter(x,y3)"
   ]
  },
  {
   "cell_type": "code",
   "execution_count": 23,
   "metadata": {},
   "outputs": [
    {
     "data": {
      "text/plain": [
       "<matplotlib.collections.PathCollection at 0x2ac9d090c10>"
      ]
     },
     "execution_count": 23,
     "metadata": {},
     "output_type": "execute_result"
    },
    {
     "data": {
      "image/png": "[encoded data removed]",
      "text/plain": [
       "<Figure size 864x216 with 1 Axes>"
      ]
     },
     "metadata": {
      "needs_background": "light"
     },
     "output_type": "display_data"
    }
   ],
   "source": [
    "fig,ax = plt.subplots(1,1,figsize=(12,3))\n",
    "ax.scatter(y1,y2)"
   ]
  },
  {
   "cell_type": "code",
   "execution_count": 29,
   "metadata": {
    "colab": {
     "base_uri": "https://localhost:8080/"
    },
    "executionInfo": {
     "elapsed": 7,
     "status": "ok",
     "timestamp": 1625812531647,
     "user": {
      "displayName": "Muhammad Adi Nugroho",
      "photoUrl": "",
      "userId": "16949655937383207580"
     },
     "user_tz": -420
    },
    "id": "TvEqmd3xzQEn",
    "outputId": "54297f28-c8cf-4889-b331-e4e1e5fd16fc"
   },
   "outputs": [
    {
     "data": {
      "text/plain": [
       "array([[ 8.33341667e+06,  4.16671214e+06, -4.16671006e+06,\n",
       "         8.34061942e+03],\n",
       "       [ 4.16671214e+06,  2.08335823e+06, -2.08335694e+06,\n",
       "         4.17031347e+03],\n",
       "       [-4.16671006e+06, -2.08335694e+06,  2.08335614e+06,\n",
       "        -4.17031125e+03],\n",
       "       [ 8.34061942e+03,  4.17031347e+03, -4.17031125e+03,\n",
       "         8.59921057e+00]])"
      ]
     },
     "execution_count": 29,
     "metadata": {},
     "output_type": "execute_result"
    }
   ],
   "source": [
    "X = np.stack((x, y1,y2,y3), axis=0)\n",
    "np.cov(X)"
   ]
  },
  {
   "cell_type": "code",
   "execution_count": 28,
   "metadata": {
    "colab": {
     "base_uri": "https://localhost:8080/"
    },
    "executionInfo": {
     "elapsed": 4,
     "status": "ok",
     "timestamp": 1625812531647,
     "user": {
      "displayName": "Muhammad Adi Nugroho",
      "photoUrl": "",
      "userId": "16949655937383207580"
     },
     "user_tz": -420
    },
    "id": "atjjGy3UwwMm",
    "outputId": "1ebc60f3-5add-4022-d520-9fd83c336966"
   },
   "outputs": [
    {
     "data": {
      "text/plain": [
       "array([[1.        , 0.99999994],\n",
       "       [0.99999994, 1.        ]])"
      ]
     },
     "execution_count": 28,
     "metadata": {},
     "output_type": "execute_result"
    }
   ],
   "source": [
    "# Pearson Correlation\n",
    "np.corrcoef(x,y1)"
   ]
  },
  {
   "cell_type": "markdown",
   "metadata": {
    "id": "T8g7v8ImzFn1"
   },
   "source": [
    "Correlation can be seen as scaled version of Covariance"
   ]
  },
  {
   "cell_type": "markdown",
   "metadata": {
    "id": "-04iHwReAyip"
   },
   "source": [
    "## Causality"
   ]
  },
  {
   "cell_type": "markdown",
   "metadata": {
    "id": "ZLM8LgUSBjQ9"
   },
   "source": [
    "Causality (also referred to as causation, or cause and effect) is influence by which one event, process, state or object (a cause) contributes to the production of another event, process, state or object (an effect) where the cause is partly responsible for the effect, and the effect is partly dependent on the cause."
   ]
  },
  {
   "cell_type": "markdown",
   "metadata": {
    "id": "QoGFpmEqFubB"
   },
   "source": [
    "### Causality Test"
   ]
  },
  {
   "cell_type": "code",
   "execution_count": 6,
   "metadata": {
    "id": "xcoQa2Cx5K3c"
   },
   "outputs": [],
   "source": [
    "import statsmodels"
   ]
  },
  {
   "cell_type": "code",
   "execution_count": 7,
   "metadata": {
    "colab": {
     "base_uri": "https://localhost:8080/"
    },
    "executionInfo": {
     "elapsed": 833,
     "status": "ok",
     "timestamp": 1625812532477,
     "user": {
      "displayName": "Muhammad Adi Nugroho",
      "photoUrl": "",
      "userId": "16949655937383207580"
     },
     "user_tz": -420
    },
    "id": "rOvocKKq6Kzs",
    "outputId": "d655ade9-c45c-4591-d2e2-32bdb4cb7df3"
   },
   "outputs": [
    {
     "name": "stdout",
     "output_type": "stream",
     "text": [
      "\n",
      "Granger Causality\n",
      "number of lags (no zero) 1\n",
      "ssr based F test:         F=54.7797 , p=0.0000  , df_denom=200, df_num=1\n",
      "ssr based chi2 test:   chi2=55.6014 , p=0.0000  , df=1\n",
      "likelihood ratio test: chi2=49.1426 , p=0.0000  , df=1\n",
      "parameter F test:         F=54.7797 , p=0.0000  , df_denom=200, df_num=1\n",
      "\n",
      "Granger Causality\n",
      "number of lags (no zero) 2\n",
      "ssr based F test:         F=162.6989, p=0.0000  , df_denom=197, df_num=2\n",
      "ssr based chi2 test:   chi2=333.6567, p=0.0000  , df=2\n",
      "likelihood ratio test: chi2=196.9956, p=0.0000  , df=2\n",
      "parameter F test:         F=162.6989, p=0.0000  , df_denom=197, df_num=2\n"
     ]
    },
    {
     "data": {
      "text/plain": [
       "{1: ({'ssr_ftest': (54.779674835573566, 3.6614258713531555e-12, 200.0, 1),\n",
       "   'ssr_chi2test': (55.60136995810717, 8.876175235021637e-14, 1),\n",
       "   'lrtest': (49.14260233004984, 2.38014300604565e-12, 1),\n",
       "   'params_ftest': (54.77967483557362, 3.6614258713530505e-12, 200.0, 1.0)},\n",
       "  [<statsmodels.regression.linear_model.RegressionResultsWrapper at 0x2ac9c6422b0>,\n",
       "   <statsmodels.regression.linear_model.RegressionResultsWrapper at 0x2ac9c642220>,\n",
       "   array([[0., 1., 0.]])]),\n",
       " 2: ({'ssr_ftest': (162.6989179987325, 1.913323508685587e-42, 197.0, 2),\n",
       "   'ssr_chi2test': (333.65666432227374, 3.5267600881275606e-73, 2),\n",
       "   'lrtest': (196.99559277182198, 1.6709003499115789e-43, 2),\n",
       "   'params_ftest': (162.69891799873255, 1.9133235086855594e-42, 197.0, 2.0)},\n",
       "  [<statsmodels.regression.linear_model.RegressionResultsWrapper at 0x2ac9c642640>,\n",
       "   <statsmodels.regression.linear_model.RegressionResultsWrapper at 0x2ac9c642580>,\n",
       "   array([[0., 0., 1., 0., 0.],\n",
       "          [0., 0., 0., 1., 0.]])])}"
      ]
     },
     "execution_count": 7,
     "metadata": {},
     "output_type": "execute_result"
    }
   ],
   "source": [
    "from statsmodels.tsa.stattools import grangercausalitytests\n",
    "df = pd.read_csv('https://raw.githubusercontent.com/selva86/datasets/master/a10.csv', parse_dates=['date'])\n",
    "df['month'] = df.date.dt.month\n",
    "grangercausalitytests(df[['value', 'month']], maxlag=2)"
   ]
  },
  {
   "cell_type": "code",
   "execution_count": 8,
   "metadata": {
    "colab": {
     "base_uri": "https://localhost:8080/",
     "height": 282
    },
    "executionInfo": {
     "elapsed": 709,
     "status": "ok",
     "timestamp": 1625812533183,
     "user": {
      "displayName": "Muhammad Adi Nugroho",
      "photoUrl": "",
      "userId": "16949655937383207580"
     },
     "user_tz": -420
    },
    "id": "O2PCJCDI5UhA",
    "outputId": "c0f9cbba-e19e-4b4c-ffdc-f1aae1b29f41"
   },
   "outputs": [
    {
     "data": {
      "text/plain": [
       "[<matplotlib.lines.Line2D at 0x2ac9caec460>]"
      ]
     },
     "execution_count": 8,
     "metadata": {},
     "output_type": "execute_result"
    },
    {
     "data": {
      "image/png": "[encoded data removed]",
      "text/plain": [
       "<Figure size 432x288 with 1 Axes>"
      ]
     },
     "metadata": {
      "needs_background": "light"
     },
     "output_type": "display_data"
    }
   ],
   "source": [
    "plt.plot(np.arange(len(df)),df['month'])\n",
    "plt.plot(np.arange(len(df)),df['value'])"
   ]
  },
  {
   "cell_type": "markdown",
   "metadata": {
    "id": "Fto7e1dMjkJd"
   },
   "source": [
    "The hypothesis is accepted (P=0), thus variable month have casuality to value"
   ]
  },
  {
   "cell_type": "code",
   "execution_count": 9,
   "metadata": {
    "colab": {
     "base_uri": "https://localhost:8080/"
    },
    "executionInfo": {
     "elapsed": 12,
     "status": "ok",
     "timestamp": 1625812533183,
     "user": {
      "displayName": "Muhammad Adi Nugroho",
      "photoUrl": "",
      "userId": "16949655937383207580"
     },
     "user_tz": -420
    },
    "id": "5UZg4QCo5hVE",
    "outputId": "14f0f269-aba4-41fd-ba46-355659827d9c"
   },
   "outputs": [
    {
     "name": "stdout",
     "output_type": "stream",
     "text": [
      "\n",
      "Granger Causality\n",
      "number of lags (no zero) 1\n",
      "ssr based F test:         F=-72.9395, p=1.0000  , df_denom=96, df_num=1\n",
      "ssr based chi2 test:   chi2=-75.2189, p=1.0000  , df=1\n",
      "likelihood ratio test: chi2=-141.1965, p=1.0000  , df=1\n",
      "parameter F test:         F=0.0578  , p=0.8105  , df_denom=96, df_num=1\n",
      "\n",
      "Granger Causality\n",
      "number of lags (no zero) 2\n",
      "ssr based F test:         F=-45.0736, p=1.0000  , df_denom=94, df_num=2\n",
      "ssr based chi2 test:   chi2=-93.9833, p=1.0000  , df=2\n",
      "likelihood ratio test: chi2=-313.0624, p=1.0000  , df=2\n",
      "parameter F test:         F=0.0590  , p=0.9428  , df_denom=94, df_num=2\n"
     ]
    },
    {
     "data": {
      "text/plain": [
       "{1: ({'ssr_ftest': (-72.93949667044734, 1.0, 96.0, 1),\n",
       "   'ssr_chi2test': (-75.21885594139883, 1.0, 1),\n",
       "   'lrtest': (-141.1964581412294, 1.0, 1),\n",
       "   'params_ftest': (0.05778668611317322, 0.8105415993738592, 96.0, 1.0)},\n",
       "  [<statsmodels.regression.linear_model.RegressionResultsWrapper at 0x2ac9cb0e790>,\n",
       "   <statsmodels.regression.linear_model.RegressionResultsWrapper at 0x2ac99cd3220>,\n",
       "   array([[0., 1., 0.]])]),\n",
       " 2: ({'ssr_ftest': (-45.073637991406756, 1.0, 94.0, 2),\n",
       "   'ssr_chi2test': (-93.98333027995452, 1.0, 2),\n",
       "   'lrtest': (-313.06240602805156, 1.0, 2),\n",
       "   'params_ftest': (0.0589904072342868, 0.9427506830568192, 94.0, 2.0)},\n",
       "  [<statsmodels.regression.linear_model.RegressionResultsWrapper at 0x2ac9cafc9a0>,\n",
       "   <statsmodels.regression.linear_model.RegressionResultsWrapper at 0x2ac9cb0e610>,\n",
       "   array([[0., 0., 1., 0., 0.],\n",
       "          [0., 0., 0., 1., 0.]])])}"
      ]
     },
     "execution_count": 9,
     "metadata": {},
     "output_type": "execute_result"
    }
   ],
   "source": [
    "grangercausalitytests(X.T, maxlag=2)"
   ]
  },
  {
   "cell_type": "markdown",
   "metadata": {
    "id": "IJ_akOCV50EC"
   },
   "source": [
    "We can see the Hypothesis is rejected, and shows high correlation does not mean high causality."
   ]
  },
  {
   "cell_type": "markdown",
   "metadata": {
    "id": "fFPMzTeKgGkz"
   },
   "source": [
    "## Nonparametric Data Summarization"
   ]
  },
  {
   "cell_type": "markdown",
   "metadata": {
    "id": "ufdv8hO-aB1r"
   },
   "source": [
    "## Generate Non-Gaussian Data"
   ]
  },
  {
   "cell_type": "markdown",
   "metadata": {
    "id": "Rd8upQOMdctK"
   },
   "source": [
    "Let's generate Weibull distributed data. This kind of distribution is quite commonly found in real world. "
   ]
  },
  {
   "cell_type": "code",
   "execution_count": 10,
   "metadata": {
    "id": "nED9HGVSaetP"
   },
   "outputs": [],
   "source": [
    "import numpy as np"
   ]
  },
  {
   "cell_type": "code",
   "execution_count": 11,
   "metadata": {
    "id": "L-02PKFzairW"
   },
   "outputs": [],
   "source": [
    "dist_data=np.random.weibull(a=1,size=1000)"
   ]
  },
  {
   "cell_type": "code",
   "execution_count": 12,
   "metadata": {
    "colab": {
     "base_uri": "https://localhost:8080/",
     "height": 335
    },
    "executionInfo": {
     "elapsed": 595,
     "status": "ok",
     "timestamp": 1625812533771,
     "user": {
      "displayName": "Muhammad Adi Nugroho",
      "photoUrl": "",
      "userId": "16949655937383207580"
     },
     "user_tz": -420
    },
    "id": "3DEU2cRPeC5G",
    "outputId": "30a17fc3-ca5e-4612-df6b-df8e052a2c09"
   },
   "outputs": [
    {
     "name": "stderr",
     "output_type": "stream",
     "text": [
      "C:\\Users\\madin\\anaconda3\\lib\\site-packages\\seaborn\\distributions.py:2551: FutureWarning: `distplot` is a deprecated function and will be removed in a future version. Please adapt your code to use either `displot` (a figure-level function with similar flexibility) or `histplot` (an axes-level function for histograms).\n",
      "  warnings.warn(msg, FutureWarning)\n"
     ]
    },
    {
     "data": {
      "text/plain": [
       "<AxesSubplot:ylabel='Density'>"
      ]
     },
     "execution_count": 12,
     "metadata": {},
     "output_type": "execute_result"
    },
    {
     "data": {
      "image/png": "[encoded data removed]",
      "text/plain": [
       "<Figure size 432x288 with 1 Axes>"
      ]
     },
     "metadata": {
      "needs_background": "light"
     },
     "output_type": "display_data"
    }
   ],
   "source": [
    "import seaborn as sns\n",
    "sns.distplot(dist_data)"
   ]
  },
  {
   "cell_type": "markdown",
   "metadata": {
    "id": "HHFi6YDOe3iE"
   },
   "source": [
    "Here we can instinctively deduct that mean is no longer a correct representative of the data centerness, and we can no longer determine the data distribution with only mean and standar deviation. Thus, we need to find another way to determine how the data distributde."
   ]
  },
  {
   "cell_type": "markdown",
   "metadata": {
    "id": "ojTpRf0Y0IaX"
   },
   "source": [
    "Data summarization techniques provide a way to describe the distribution of data using a few key measurements.\n",
    "\n",
    "The most common example of data summarization is the calculation of the mean and standard deviation for data that has a Gaussian distribution. With these two parameters alone, you can understand and re-create the distribution of the data. The data summary can compress as few as tens or as many as millions individual observations.\n",
    "\n",
    "The problem is, you cannot easily calculate the mean and standard deviation of data that does not have a Gaussian distribution. Technically, you can calculate these quantities, but they do not summarize the data distribution; in fact, they can be very misleading.\n",
    "\n",
    "In the case of data that does not have a Gaussian distribution, you can summarize the data sample using the five-number summary."
   ]
  },
  {
   "cell_type": "markdown",
   "metadata": {
    "id": "1wTFoDVZ0BTp"
   },
   "source": [
    "### Five-Number Summary"
   ]
  },
  {
   "cell_type": "markdown",
   "metadata": {
    "id": "yGuw_owu0Npf"
   },
   "source": [
    "The five-number summary, or 5-number summary for short, is a non-parametric data summarization technique.\n",
    "\n",
    "It is sometimes called the Tukey 5-number summary because it was recommended by John Tukey. It can be used to describe the distribution of data samples for data with any distribution.\n",
    "\n",
    "As a standard summary for general use, the 5-number summary provides about the right amount of detail.\n",
    "\n",
    "The five-number summary involves the calculation of 5 summary statistical quantities: namely:\n",
    "\n",
    "- Median: The middle value in the sample, also called the 50th percentile or the 2nd quartile.\n",
    "- 1st Quartile: The 25th percentile.\n",
    "- 3rd Quartile: The 75th percentile.\n",
    "- Minimum: The smallest observation in the sample.\n",
    "- Maximum: The largest observation in the sample.\n",
    "\n",
    "A quartile is an observed value at a point that aids in splitting the ordered data sample into four equally sized parts. The median, or 2nd Quartile, splits the ordered data sample into two parts, and the 1st and 3rd quartiles split each of those halves into quarters.\n",
    "\n",
    "A percentile is an observed value at a point that aids in splitting the ordered data sample into 100 equally sized portions. Quartiles are often also expressed as percentiles.\n",
    "\n",
    "Both the quartile and percentile values are examples of rank statistics that can be calculated on a data sample with any distribution. They are used to quickly summarize how much of the data in the distribution is behind or in front of a given observed value. For example, half of the observations are behind and in front of the median of a distribution.\n",
    "\n",
    "Note that quartiles are also calculated in the box and whisker plot, a nonparametric method to graphically summarize the distribution of a data sample.\n"
   ]
  },
  {
   "cell_type": "markdown",
   "metadata": {
    "id": "3MCu76GG0Y3U"
   },
   "source": [
    "### How to Calculate the Five-Number Summary"
   ]
  },
  {
   "cell_type": "markdown",
   "metadata": {
    "id": "5zSrhEnigRmC"
   },
   "source": [
    "Calculating the five-number summary involves finding the observations for each quartile as well as the minimum and maximum observed values from the data sample.\n",
    "\n",
    "If there is no specific value in the ordered data sample for the quartile, such as if there are an even number of observations and we are trying to find the median, then we can calculate the mean of the two closest values, such as the two middle values.\n",
    "\n",
    "We can calculate arbitrary percentile values in Python using the percentile() NumPy function. We can use this function to calculate the 1st, 2nd (median), and 3rd quartile values. The function takes both an array of observations and a floating point value to specify the percentile to calculate in the range of 0 to 100. It can also takes a list of percentile values to calculate multiple percentiles; for example:"
   ]
  },
  {
   "cell_type": "code",
   "execution_count": 38,
   "metadata": {
    "colab": {
     "base_uri": "https://localhost:8080/"
    },
    "executionInfo": {
     "elapsed": 14,
     "status": "ok",
     "timestamp": 1625812533771,
     "user": {
      "displayName": "Muhammad Adi Nugroho",
      "photoUrl": "",
      "userId": "16949655937383207580"
     },
     "user_tz": -420
    },
    "id": "IKybmmm6gRmE",
    "outputId": "d57b859d-5ac7-47f0-c526-6dee2eb0dc75"
   },
   "outputs": [
    {
     "name": "stdout",
     "output_type": "stream",
     "text": [
      "[0.00660717 0.30476914 0.74427426 1.46692113 4.31161892]\n"
     ]
    }
   ],
   "source": [
    "percentiles = np.percentile(dist_data, [1,25, 50, 75,99])\n",
    "print(percentiles)"
   ]
  },
  {
   "cell_type": "markdown",
   "metadata": {
    "id": "9dvt-6QLgRmE"
   },
   "source": [
    "By default, the function will calculate a linear interpolation (average) between observations if needed, such as in the case of calculating the median on a sample with an even number of values.\n",
    "\n",
    "The NumPy functions min() and max() can be used to return the smallest and largest values in the data sample; for example:"
   ]
  },
  {
   "cell_type": "code",
   "execution_count": 14,
   "metadata": {
    "colab": {
     "base_uri": "https://localhost:8080/"
    },
    "executionInfo": {
     "elapsed": 12,
     "status": "ok",
     "timestamp": 1625812533771,
     "user": {
      "displayName": "Muhammad Adi Nugroho",
      "photoUrl": "",
      "userId": "16949655937383207580"
     },
     "user_tz": -420
    },
    "id": "2i8lIAHWgRmE",
    "outputId": "697f2950-d422-46c6-ec68-07cd2fc69497"
   },
   "outputs": [
    {
     "name": "stdout",
     "output_type": "stream",
     "text": [
      "0.0008465309261169343\n",
      "6.845846952359618\n"
     ]
    }
   ],
   "source": [
    "data_min, data_max = dist_data.min(), dist_data.max()\n",
    "print(data_min)\n",
    "print(data_max)"
   ]
  },
  {
   "cell_type": "markdown",
   "metadata": {
    "id": "bgxZAsqGgRmF"
   },
   "source": [
    "We can put all of this together.\n",
    "\n",
    "The example below generates a data sample drawn from a uniform distribution between 0 and 1 and summarizes it using the five-number summary."
   ]
  },
  {
   "cell_type": "code",
   "execution_count": 39,
   "metadata": {
    "colab": {
     "base_uri": "https://localhost:8080/"
    },
    "executionInfo": {
     "elapsed": 11,
     "status": "ok",
     "timestamp": 1625812533772,
     "user": {
      "displayName": "Muhammad Adi Nugroho",
      "photoUrl": "",
      "userId": "16949655937383207580"
     },
     "user_tz": -420
    },
    "id": "pJJBoBuKgRmF",
    "outputId": "239e7035-88de-4256-ca70-c7deb2049c87"
   },
   "outputs": [
    {
     "name": "stdout",
     "output_type": "stream",
     "text": [
      "Min: 0.001\n",
      "Q1: 0.267\n",
      "Median: 0.527\n",
      "Q3: 0.743\n",
      "Max: 1.000\n"
     ]
    }
   ],
   "source": [
    "# calculate a 5-number summary\n",
    "from numpy import percentile\n",
    "from numpy.random import rand\n",
    "# generate data sample\n",
    "data = rand(1000)\n",
    "# calculate quartiles\n",
    "quartiles = percentile(data, [25, 50, 75])\n",
    "# calculate min/max\n",
    "data_min, data_max = data.min(), data.max()\n",
    "# print 5-number summary\n",
    "print('Min: %.3f' % data_min)\n",
    "print('Q1: %.3f' % quartiles[0])\n",
    "print('Median: %.3f' % quartiles[1])\n",
    "print('Q3: %.3f' % quartiles[2])\n",
    "print('Max: %.3f' % data_max)"
   ]
  },
  {
   "cell_type": "markdown",
   "metadata": {
    "id": "pZQ3ZUnXgRmF"
   },
   "source": [
    "Running the example generates the data sample and calculates the five-number summary to describe the sample distribution.\n",
    "\n",
    "We can see that the spread of observations is close to our expectations showing 0.27 for the 25th percentile 0.53 for the 50th percentile, and 0.76 for the 75th percentile, close to the idealized values of 0.25, 0.50, and 0.75 respectively."
   ]
  },
  {
   "cell_type": "markdown",
   "metadata": {
    "id": "QE-eFXQwkWc-"
   },
   "source": [
    "## Tukey's rule for Outlier Detection"
   ]
  },
  {
   "cell_type": "markdown",
   "metadata": {
    "id": "rUt0prIXyvcZ"
   },
   "source": [
    "Another famous idea by Tukey is how to use his 5-number summary for detecting outlier. The gist is that data that deviates from their quartiles above certain threshold will be flagged as outlier."
   ]
  },
  {
   "cell_type": "markdown",
   "metadata": {
    "id": "RwQivabdTe0o"
   },
   "source": [
    "The formula for Tukey outlier detection\n",
    "\n",
    "$${q_{3}+1.5*IQR}$$\n",
    "\n",
    "$${q_{1}-1.5*IQR}$$\n",
    "\n",
    "$$ IQR = Q3-Q1 $$"
   ]
  },
  {
   "cell_type": "code",
   "execution_count": null,
   "metadata": {},
   "outputs": [],
   "source": []
  },
  {
   "cell_type": "markdown",
   "metadata": {
    "id": "iXrr_dTDgVM-"
   },
   "source": [
    "## Plotting with Python"
   ]
  },
  {
   "cell_type": "markdown",
   "metadata": {
    "id": "zAB1SC6QQ4p2"
   },
   "source": [
    "5-number summary can be visualize easily with charts."
   ]
  },
  {
   "cell_type": "code",
   "execution_count": 16,
   "metadata": {
    "id": "d3L2PBiCgXAg"
   },
   "outputs": [],
   "source": [
    "import seaborn as sns"
   ]
  },
  {
   "cell_type": "code",
   "execution_count": 17,
   "metadata": {
    "colab": {
     "base_uri": "https://localhost:8080/"
    },
    "executionInfo": {
     "elapsed": 9,
     "status": "ok",
     "timestamp": 1625812533772,
     "user": {
      "displayName": "Muhammad Adi Nugroho",
      "photoUrl": "",
      "userId": "16949655937383207580"
     },
     "user_tz": -420
    },
    "id": "KfHMZtggR7F_",
    "outputId": "75090697-6a09-4cb0-9174-0a2ff7c128d5"
   },
   "outputs": [
    {
     "data": {
      "text/plain": [
       "<function seaborn.categorical.boxplot(*, x=None, y=None, hue=None, data=None, order=None, hue_order=None, orient=None, color=None, palette=None, saturation=0.75, width=0.8, dodge=True, fliersize=5, linewidth=None, whis=1.5, ax=None, **kwargs)>"
      ]
     },
     "execution_count": 17,
     "metadata": {},
     "output_type": "execute_result"
    }
   ],
   "source": [
    "sns.boxplot"
   ]
  },
  {
   "cell_type": "code",
   "execution_count": 40,
   "metadata": {
    "colab": {
     "base_uri": "https://localhost:8080/",
     "height": 335
    },
    "executionInfo": {
     "elapsed": 9,
     "status": "ok",
     "timestamp": 1625812533773,
     "user": {
      "displayName": "Muhammad Adi Nugroho",
      "photoUrl": "",
      "userId": "16949655937383207580"
     },
     "user_tz": -420
    },
    "id": "Av1rEWYxe74Z",
    "outputId": "ed82a575-8508-45e9-fc3b-6e8a7d3abe52"
   },
   "outputs": [
    {
     "name": "stderr",
     "output_type": "stream",
     "text": [
      "C:\\Users\\madin\\anaconda3\\lib\\site-packages\\seaborn\\_decorators.py:36: FutureWarning: Pass the following variable as a keyword arg: x. From version 0.12, the only valid positional argument will be `data`, and passing other arguments without an explicit keyword will result in an error or misinterpretation.\n",
      "  warnings.warn(\n"
     ]
    },
    {
     "data": {
      "text/plain": [
       "<AxesSubplot:>"
      ]
     },
     "execution_count": 40,
     "metadata": {},
     "output_type": "execute_result"
    },
    {
     "data": {
      "image/png": "[encoded data removed]",
      "text/plain": [
       "<Figure size 432x288 with 1 Axes>"
      ]
     },
     "metadata": {
      "needs_background": "light"
     },
     "output_type": "display_data"
    }
   ],
   "source": [
    "sns.boxplot(dist_data)"
   ]
  },
  {
   "cell_type": "code",
   "execution_count": 41,
   "metadata": {},
   "outputs": [
    {
     "data": {
      "text/plain": [
       "<AxesSubplot:ylabel='Density'>"
      ]
     },
     "execution_count": 41,
     "metadata": {},
     "output_type": "execute_result"
    },
    {
     "data": {
      "image/png": "[encoded data removed]",
      "text/plain": [
       "<Figure size 432x288 with 1 Axes>"
      ]
     },
     "metadata": {
      "needs_background": "light"
     },
     "output_type": "display_data"
    }
   ],
   "source": [
    "sns.kdeplot(dist_data)"
   ]
  },
  {
   "cell_type": "code",
   "execution_count": null,
   "metadata": {},
   "outputs": [],
   "source": []
  }
 ],
 "metadata": {
  "colab": {
   "collapsed_sections": [],
   "name": "d3am.ipynb",
   "provenance": []
  },
  "kernelspec": {
   "display_name": "Python 3",
   "language": "python",
   "name": "python3"
  },
  "language_info": {
   "codemirror_mode": {
    "name": "ipython",
    "version": 3
   },
   "file_extension": ".py",
   "mimetype": "text/x-python",
   "name": "python",
   "nbconvert_exporter": "python",
   "pygments_lexer": "ipython3",
   "version": "3.8.5"
  }
 },
 "nbformat": 4,
 "nbformat_minor": 1
}
