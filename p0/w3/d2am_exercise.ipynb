{
 "cells": [
  {
   "cell_type": "markdown",
   "metadata": {},
   "source": [
    "# New case, and its a business case!"
   ]
  },
  {
   "cell_type": "markdown",
   "metadata": {},
   "source": [
    "Samurai-Cell is one of the most popular cellular service company in Neo Olde Tokyo. You are helping Phoenix, their new promising Lead Data Scientist, to serve the needs from the marketing team.\n",
    "\n",
    "\n",
    "On current case you are given a dataset containing extracted probability distributions of customer average network usage in GB from 4 different group of customer. Your objective is to find the most promising group of customer to be targeted as the prime customer type of a new product."
   ]
  },
  {
   "cell_type": "markdown",
   "metadata": {},
   "source": [
    "### Distribution Fit"
   ]
  },
  {
   "cell_type": "markdown",
   "metadata": {},
   "source": [
    "Download the following dataset https://drive.google.com/file/d/1sMUeZSOOMQYv9hMuIz9SwoNiWpXTyA21/view?usp=sharing and follow the instructions below:\n",
    "\n",
    "1. Load the dataset and found 5 columns. Column 1 indicate X values, and column 2 to 5 indicate 4 different probability distributions.\n",
    "2. Find the most appropriate PDF and its parameter that fit data the probabilities on column 2 to 5.\n",
    "3. Integrate the values on column 2 to 5 manually, and compare it with the appropriate CDF from the PDF that you have found before."
   ]
  },
  {
   "cell_type": "code",
   "execution_count": null,
   "metadata": {},
   "outputs": [],
   "source": []
  },
  {
   "cell_type": "markdown",
   "metadata": {},
   "source": [
    "### Finding the best group"
   ]
  },
  {
   "cell_type": "markdown",
   "metadata": {},
   "source": [
    "Imagine the new product work best for customer with data usage above 2.5 GB. On which group will you have the most customer belong to this criteria? Explain how you get the answer with the concept of CDF and complement. Also, plot your finding for more epic answer."
   ]
  },
  {
   "cell_type": "code",
   "execution_count": null,
   "metadata": {},
   "outputs": [],
   "source": [
    "F(X)= P(-inf->x)"
   ]
  },
  {
   "cell_type": "markdown",
   "metadata": {},
   "source": [
    "### CLT to the rescue!"
   ]
  },
  {
   "cell_type": "markdown",
   "metadata": {},
   "source": [
    "Another new product is coming! This one is a super product which is designed to serve the general needs of all the customer. However, the marketing need to know the Neo Olde Tokyo population average of weekly network usage. Phoenix has come with interesting idea to use the current dataset as samples to estimate the population mean.\n",
    "\n",
    "Please follow the instructions bellow:\n",
    "1. Combine all the data into one single group.\n",
    "2. Simulate making 10 smaller group, where each group are randomly assigned 50 data points from the combined data. Think of this as another iteration of the passenger search example given in class.\n",
    "3. Calculate the mean of each groups, and use CLT to assess the distribution of sampled means.\n",
    "4. Continue your analysis to determine the standard error, and 95% confidence interval.\n",
    "5. If the marketing team give you additional 100 customers data with roughly the same mean, how will your standard error change?\n",
    "6. Instead of new 100 customers data, if the new data is group of 50 customers with average of 10 GB per week, what will the new mean, std, and 95% CL be? Compared it with the original one and analyze the robustness of your estimation."
   ]
  },
  {
   "cell_type": "code",
   "execution_count": null,
   "metadata": {},
   "outputs": [],
   "source": []
  }
 ],
 "metadata": {
  "kernelspec": {
   "display_name": "Python 3",
   "language": "python",
   "name": "python3"
  },
  "language_info": {
   "codemirror_mode": {
    "name": "ipython",
    "version": 3
   },
   "file_extension": ".py",
   "mimetype": "text/x-python",
   "name": "python",
   "nbconvert_exporter": "python",
   "pygments_lexer": "ipython3",
   "version": "3.8.5"
  }
 },
 "nbformat": 4,
 "nbformat_minor": 4
}
